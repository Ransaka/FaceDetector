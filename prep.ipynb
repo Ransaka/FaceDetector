{
  "nbformat": 4,
  "nbformat_minor": 0,
  "metadata": {
    "kernelspec": {
      "display_name": "Python 3",
      "language": "python",
      "name": "python3"
    },
    "language_info": {
      "codemirror_mode": {
        "name": "ipython",
        "version": 3
      },
      "file_extension": ".py",
      "mimetype": "text/x-python",
      "name": "python",
      "nbconvert_exporter": "python",
      "pygments_lexer": "ipython3",
      "version": "3.8.5"
    },
    "colab": {
      "name": "prep.ipynb",
      "provenance": [],
      "include_colab_link": true
    }
  },
  "cells": [
    {
      "cell_type": "markdown",
      "metadata": {
        "id": "view-in-github",
        "colab_type": "text"
      },
      "source": [
        "<a href=\"https://colab.research.google.com/github/Ransaka/FaceDetector/blob/master/prep.ipynb\" target=\"_parent\"><img src=\"https://colab.research.google.com/assets/colab-badge.svg\" alt=\"Open In Colab\"/></a>"
      ]
    },
    {
      "cell_type": "code",
      "metadata": {
        "id": "PSGvtkNbulbc"
      },
      "source": [
        "import pandas as pd\n",
        "import numpy as np\n",
        "import seaborn as sns\n",
        "import matplotlib.pyplot as plt\n",
        "plt.rcParams['figure.figsize']=[15,10]"
      ],
      "execution_count": null,
      "outputs": []
    },
    {
      "cell_type": "code",
      "metadata": {
        "id": "LDdcpouQulbi"
      },
      "source": [
        "import os\n",
        "data_path = os.path.join('F:\\Kaggle\\DataStorm\\data-storm-20\\cleaned data')"
      ],
      "execution_count": null,
      "outputs": []
    },
    {
      "cell_type": "code",
      "metadata": {
        "id": "XK0KukBmulbi",
        "outputId": "840dac71-5d14-4890-f4f6-ccc05890a4ae"
      },
      "source": [
        "os.listdir(data_path)"
      ],
      "execution_count": null,
      "outputs": [
        {
          "output_type": "execute_result",
          "data": {
            "text/plain": [
              "['cleaned datacleaned_test.csv',\n",
              " 'cleaned datacleaned_validate.csv',\n",
              " 'cleaned_test4000row.csv']"
            ]
          },
          "metadata": {
            "tags": []
          },
          "execution_count": 472
        }
      ]
    },
    {
      "cell_type": "code",
      "metadata": {
        "id": "ZR5IEIvCulbj"
      },
      "source": [
        "train = pd.read_csv(data_path+'/cleaned_test4000row.csv')"
      ],
      "execution_count": null,
      "outputs": []
    },
    {
      "cell_type": "code",
      "metadata": {
        "id": "is_kig1Gulbk",
        "outputId": "8be6d213-e16f-40d2-c34e-d853a24522b7"
      },
      "source": [
        "train.info()"
      ],
      "execution_count": null,
      "outputs": [
        {
          "output_type": "stream",
          "text": [
            "<class 'pandas.core.frame.DataFrame'>\n",
            "RangeIndex: 4318 entries, 0 to 4317\n",
            "Data columns (total 26 columns):\n",
            " #   Column                    Non-Null Count  Dtype \n",
            "---  ------                    --------------  ----- \n",
            " 0   Unnamed: 0                4318 non-null   int64 \n",
            " 1   Reservation-id            4318 non-null   int64 \n",
            " 2   Gender                    4318 non-null   object\n",
            " 3   Age                       4318 non-null   int64 \n",
            " 4   Ethnicity                 4318 non-null   object\n",
            " 5   Educational_Level         4318 non-null   object\n",
            " 6   Income                    4318 non-null   object\n",
            " 7   Country_region            4318 non-null   object\n",
            " 8   Hotel_Type                4318 non-null   object\n",
            " 9   Adults                    4318 non-null   int64 \n",
            " 10  Children                  4318 non-null   int64 \n",
            " 11  Babies                    4318 non-null   int64 \n",
            " 12  Meal_Type                 4318 non-null   object\n",
            " 13  Visted_Previously         4318 non-null   object\n",
            " 14  Previous_Cancellations    4318 non-null   object\n",
            " 15  Deposit_type              4318 non-null   object\n",
            " 16  Booking_channel           4318 non-null   object\n",
            " 17  Required_Car_Parking      4318 non-null   object\n",
            " 18  Use_Promotion             4318 non-null   object\n",
            " 19  Discount_Rate             4318 non-null   int64 \n",
            " 20  Room_Rate                 4318 non-null   int64 \n",
            " 21  Expected_checkin_Year     4318 non-null   int64 \n",
            " 22  Expected_checkin_Month    4318 non-null   int64 \n",
            " 23  expected_days_of_checkin  4318 non-null   int64 \n",
            " 24  booked_before_n_days      4318 non-null   int64 \n",
            " 25  isWeekend_trip            4318 non-null   int64 \n",
            "dtypes: int64(13), object(13)\n",
            "memory usage: 877.2+ KB\n"
          ],
          "name": "stdout"
        }
      ]
    },
    {
      "cell_type": "code",
      "metadata": {
        "id": "rw-Yevb1ulbk"
      },
      "source": [
        "# train.head()"
      ],
      "execution_count": null,
      "outputs": []
    },
    {
      "cell_type": "code",
      "metadata": {
        "id": "8G3pLtTeulbk"
      },
      "source": [
        "train.drop(['Unnamed: 0'],axis=1,inplace=True)"
      ],
      "execution_count": null,
      "outputs": []
    },
    {
      "cell_type": "code",
      "metadata": {
        "id": "Y6HdZxhiulbl"
      },
      "source": [
        "cols_to_drop = ['Educational_Level','Ethnicity','Expected_checkin_Month','Gender','Hotel_Type','Required_Car_Parking','Adults','Children','Age']"
      ],
      "execution_count": null,
      "outputs": []
    },
    {
      "cell_type": "code",
      "metadata": {
        "id": "qhhktt3zulbl"
      },
      "source": [
        "df = train.drop(cols_to_drop,1)"
      ],
      "execution_count": null,
      "outputs": []
    },
    {
      "cell_type": "code",
      "metadata": {
        "id": "hAgGg_gjulbl",
        "outputId": "ac6fbaf3-3263-4d39-d51d-ab4f081ab43d"
      },
      "source": [
        "df.dtypes"
      ],
      "execution_count": null,
      "outputs": [
        {
          "output_type": "execute_result",
          "data": {
            "text/plain": [
              "Reservation-id               int64\n",
              "Income                      object\n",
              "Country_region              object\n",
              "Babies                       int64\n",
              "Meal_Type                   object\n",
              "Visted_Previously           object\n",
              "Previous_Cancellations      object\n",
              "Deposit_type                object\n",
              "Booking_channel             object\n",
              "Use_Promotion               object\n",
              "Discount_Rate                int64\n",
              "Room_Rate                    int64\n",
              "Expected_checkin_Year        int64\n",
              "expected_days_of_checkin     int64\n",
              "booked_before_n_days         int64\n",
              "isWeekend_trip               int64\n",
              "dtype: object"
            ]
          },
          "metadata": {
            "tags": []
          },
          "execution_count": 479
        }
      ]
    },
    {
      "cell_type": "code",
      "metadata": {
        "id": "W9sTP3BSulbm"
      },
      "source": [
        "numaric_cols = ['Age','Adults','Children','Babies','Discount_Rate','Room_Rate','Expected_checkin_Year','Expected_checkin_Month','expected_days_of_checkin','booked_before_n_days','isWeekend_trip']"
      ],
      "execution_count": null,
      "outputs": []
    },
    {
      "cell_type": "code",
      "metadata": {
        "id": "DSDJepB-ulbm",
        "outputId": "1506816b-fa2e-4ed1-b55e-39c798037db5"
      },
      "source": [
        "df.hist()"
      ],
      "execution_count": null,
      "outputs": [
        {
          "output_type": "execute_result",
          "data": {
            "text/plain": [
              "array([[<AxesSubplot:title={'center':'Reservation-id'}>,\n",
              "        <AxesSubplot:title={'center':'Babies'}>,\n",
              "        <AxesSubplot:title={'center':'Discount_Rate'}>],\n",
              "       [<AxesSubplot:title={'center':'Room_Rate'}>,\n",
              "        <AxesSubplot:title={'center':'Expected_checkin_Year'}>,\n",
              "        <AxesSubplot:title={'center':'expected_days_of_checkin'}>],\n",
              "       [<AxesSubplot:title={'center':'booked_before_n_days'}>,\n",
              "        <AxesSubplot:title={'center':'isWeekend_trip'}>, <AxesSubplot:>]],\n",
              "      dtype=object)"
            ]
          },
          "metadata": {
            "tags": []
          },
          "execution_count": 481
        },
        {
          "output_type": "display_data",
          "data": {
            "image/png": "[encoded data removed]",
            "text/plain": [
              "<Figure size 1080x720 with 9 Axes>"
            ]
          },
          "metadata": {
            "tags": [],
            "needs_background": "light"
          }
        }
      ]
    },
    {
      "cell_type": "code",
      "metadata": {
        "id": "cK2i1S7kulbm",
        "outputId": "bfecc8b9-cc4c-4db8-b3bd-4c9f063b422c"
      },
      "source": [
        "df.drop(['Reservation-id'],1).boxplot()"
      ],
      "execution_count": null,
      "outputs": [
        {
          "output_type": "execute_result",
          "data": {
            "text/plain": [
              "<AxesSubplot:>"
            ]
          },
          "metadata": {
            "tags": []
          },
          "execution_count": 482
        },
        {
          "output_type": "display_data",
          "data": {
            "image/png": "[encoded data removed]",
            "text/plain": [
              "<Figure size 1080x720 with 1 Axes>"
            ]
          },
          "metadata": {
            "tags": [],
            "needs_background": "light"
          }
        }
      ]
    },
    {
      "cell_type": "code",
      "metadata": {
        "id": "ydjSbFgYulbm"
      },
      "source": [
        "from scipy.stats import boxcox,yeojohnson"
      ],
      "execution_count": null,
      "outputs": []
    },
    {
      "cell_type": "code",
      "metadata": {
        "id": "nXzMDUVlulbn"
      },
      "source": [
        "from sklearn.preprocessing import StandardScaler,MinMaxScaler,QuantileTransformer"
      ],
      "execution_count": null,
      "outputs": []
    },
    {
      "cell_type": "code",
      "metadata": {
        "id": "XFRKtjT_ulbn"
      },
      "source": [
        "# numaric_cols"
      ],
      "execution_count": null,
      "outputs": []
    },
    {
      "cell_type": "code",
      "metadata": {
        "id": "E1gDo4CNulbn"
      },
      "source": [
        "# numaric_df = train[numaric_cols]"
      ],
      "execution_count": null,
      "outputs": []
    },
    {
      "cell_type": "code",
      "metadata": {
        "id": "J626srqYulbn"
      },
      "source": [
        "std_scaler = MinMaxScaler(feature_range=(0.01,1))"
      ],
      "execution_count": null,
      "outputs": []
    },
    {
      "cell_type": "code",
      "metadata": {
        "id": "kUSTR0ytulbn"
      },
      "source": [
        "# featur_df = df['Reservation_Status']"
      ],
      "execution_count": null,
      "outputs": []
    },
    {
      "cell_type": "code",
      "metadata": {
        "id": "ZSvECqUSulbo"
      },
      "source": [
        "df_bkp = df.copy()"
      ],
      "execution_count": null,
      "outputs": []
    },
    {
      "cell_type": "code",
      "metadata": {
        "id": "YxPPU3wFulbo"
      },
      "source": [
        "# train"
      ],
      "execution_count": null,
      "outputs": []
    },
    {
      "cell_type": "code",
      "metadata": {
        "id": "NeWxeROZulbo",
        "outputId": "0e6e07dc-3505-4f6c-a804-fc85a6e446da"
      },
      "source": [
        "# df = df.backup"
      ],
      "execution_count": null,
      "outputs": [
        {
          "output_type": "execute_result",
          "data": {
            "text/html": [
              "<div>\n",
              "<style scoped>\n",
              "    .dataframe tbody tr th:only-of-type {\n",
              "        vertical-align: middle;\n",
              "    }\n",
              "\n",
              "    .dataframe tbody tr th {\n",
              "        vertical-align: top;\n",
              "    }\n",
              "\n",
              "    .dataframe thead th {\n",
              "        text-align: right;\n",
              "    }\n",
              "</style>\n",
              "<table border=\"1\" class=\"dataframe\">\n",
              "  <thead>\n",
              "    <tr style=\"text-align: right;\">\n",
              "      <th></th>\n",
              "      <th>Reservation-id</th>\n",
              "      <th>Income</th>\n",
              "      <th>Country_region</th>\n",
              "      <th>Babies</th>\n",
              "      <th>Meal_Type</th>\n",
              "      <th>Visted_Previously</th>\n",
              "      <th>Previous_Cancellations</th>\n",
              "      <th>Deposit_type</th>\n",
              "      <th>Booking_channel</th>\n",
              "      <th>Use_Promotion</th>\n",
              "      <th>Discount_Rate</th>\n",
              "      <th>Room_Rate</th>\n",
              "      <th>Expected_checkin_Year</th>\n",
              "      <th>expected_days_of_checkin</th>\n",
              "      <th>booked_before_n_days</th>\n",
              "      <th>isWeekend_trip</th>\n",
              "    </tr>\n",
              "  </thead>\n",
              "  <tbody>\n",
              "    <tr>\n",
              "      <th>0</th>\n",
              "      <td>62931593</td>\n",
              "      <td>25K --50K</td>\n",
              "      <td>South</td>\n",
              "      <td>0</td>\n",
              "      <td>HB</td>\n",
              "      <td>No</td>\n",
              "      <td>No</td>\n",
              "      <td>No Deposit</td>\n",
              "      <td>Direct</td>\n",
              "      <td>Yes</td>\n",
              "      <td>10</td>\n",
              "      <td>153</td>\n",
              "      <td>2016</td>\n",
              "      <td>1</td>\n",
              "      <td>21</td>\n",
              "      <td>1</td>\n",
              "    </tr>\n",
              "    <tr>\n",
              "      <th>1</th>\n",
              "      <td>70586099</td>\n",
              "      <td>25K --50K</td>\n",
              "      <td>East</td>\n",
              "      <td>0</td>\n",
              "      <td>FB</td>\n",
              "      <td>No</td>\n",
              "      <td>No</td>\n",
              "      <td>No Deposit</td>\n",
              "      <td>Online</td>\n",
              "      <td>No</td>\n",
              "      <td>0</td>\n",
              "      <td>210</td>\n",
              "      <td>2016</td>\n",
              "      <td>1</td>\n",
              "      <td>104</td>\n",
              "      <td>1</td>\n",
              "    </tr>\n",
              "    <tr>\n",
              "      <th>2</th>\n",
              "      <td>4230648</td>\n",
              "      <td>&lt;25K</td>\n",
              "      <td>East</td>\n",
              "      <td>0</td>\n",
              "      <td>BB</td>\n",
              "      <td>No</td>\n",
              "      <td>No</td>\n",
              "      <td>No Deposit</td>\n",
              "      <td>Agent</td>\n",
              "      <td>Yes</td>\n",
              "      <td>5</td>\n",
              "      <td>117</td>\n",
              "      <td>2017</td>\n",
              "      <td>3</td>\n",
              "      <td>20</td>\n",
              "      <td>1</td>\n",
              "    </tr>\n",
              "    <tr>\n",
              "      <th>3</th>\n",
              "      <td>25192322</td>\n",
              "      <td>25K --50K</td>\n",
              "      <td>South</td>\n",
              "      <td>2</td>\n",
              "      <td>FB</td>\n",
              "      <td>No</td>\n",
              "      <td>No</td>\n",
              "      <td>No Deposit</td>\n",
              "      <td>Online</td>\n",
              "      <td>Yes</td>\n",
              "      <td>10</td>\n",
              "      <td>107</td>\n",
              "      <td>2016</td>\n",
              "      <td>2</td>\n",
              "      <td>182</td>\n",
              "      <td>1</td>\n",
              "    </tr>\n",
              "    <tr>\n",
              "      <th>4</th>\n",
              "      <td>80931528</td>\n",
              "      <td>25K --50K</td>\n",
              "      <td>South</td>\n",
              "      <td>0</td>\n",
              "      <td>BB</td>\n",
              "      <td>No</td>\n",
              "      <td>No</td>\n",
              "      <td>Refundable</td>\n",
              "      <td>Agent</td>\n",
              "      <td>No</td>\n",
              "      <td>0</td>\n",
              "      <td>119</td>\n",
              "      <td>2016</td>\n",
              "      <td>2</td>\n",
              "      <td>18</td>\n",
              "      <td>1</td>\n",
              "    </tr>\n",
              "    <tr>\n",
              "      <th>...</th>\n",
              "      <td>...</td>\n",
              "      <td>...</td>\n",
              "      <td>...</td>\n",
              "      <td>...</td>\n",
              "      <td>...</td>\n",
              "      <td>...</td>\n",
              "      <td>...</td>\n",
              "      <td>...</td>\n",
              "      <td>...</td>\n",
              "      <td>...</td>\n",
              "      <td>...</td>\n",
              "      <td>...</td>\n",
              "      <td>...</td>\n",
              "      <td>...</td>\n",
              "      <td>...</td>\n",
              "      <td>...</td>\n",
              "    </tr>\n",
              "    <tr>\n",
              "      <th>4313</th>\n",
              "      <td>39110574</td>\n",
              "      <td>50K -- 100K</td>\n",
              "      <td>South</td>\n",
              "      <td>1</td>\n",
              "      <td>FB</td>\n",
              "      <td>Yes</td>\n",
              "      <td>No</td>\n",
              "      <td>Non-Refundable</td>\n",
              "      <td>Online</td>\n",
              "      <td>No</td>\n",
              "      <td>0</td>\n",
              "      <td>153</td>\n",
              "      <td>2017</td>\n",
              "      <td>1</td>\n",
              "      <td>199</td>\n",
              "      <td>0</td>\n",
              "    </tr>\n",
              "    <tr>\n",
              "      <th>4314</th>\n",
              "      <td>5496554</td>\n",
              "      <td>50K -- 100K</td>\n",
              "      <td>South</td>\n",
              "      <td>0</td>\n",
              "      <td>HB</td>\n",
              "      <td>No</td>\n",
              "      <td>No</td>\n",
              "      <td>Refundable</td>\n",
              "      <td>Agent</td>\n",
              "      <td>Yes</td>\n",
              "      <td>40</td>\n",
              "      <td>233</td>\n",
              "      <td>2017</td>\n",
              "      <td>3</td>\n",
              "      <td>47</td>\n",
              "      <td>0</td>\n",
              "    </tr>\n",
              "    <tr>\n",
              "      <th>4315</th>\n",
              "      <td>59004046</td>\n",
              "      <td>&lt;25K</td>\n",
              "      <td>East</td>\n",
              "      <td>0</td>\n",
              "      <td>FB</td>\n",
              "      <td>No</td>\n",
              "      <td>No</td>\n",
              "      <td>No Deposit</td>\n",
              "      <td>Direct</td>\n",
              "      <td>No</td>\n",
              "      <td>0</td>\n",
              "      <td>242</td>\n",
              "      <td>2017</td>\n",
              "      <td>1</td>\n",
              "      <td>215</td>\n",
              "      <td>0</td>\n",
              "    </tr>\n",
              "    <tr>\n",
              "      <th>4316</th>\n",
              "      <td>65838682</td>\n",
              "      <td>25K --50K</td>\n",
              "      <td>West</td>\n",
              "      <td>1</td>\n",
              "      <td>BB</td>\n",
              "      <td>No</td>\n",
              "      <td>No</td>\n",
              "      <td>No Deposit</td>\n",
              "      <td>Online</td>\n",
              "      <td>No</td>\n",
              "      <td>0</td>\n",
              "      <td>208</td>\n",
              "      <td>2017</td>\n",
              "      <td>1</td>\n",
              "      <td>25</td>\n",
              "      <td>0</td>\n",
              "    </tr>\n",
              "    <tr>\n",
              "      <th>4317</th>\n",
              "      <td>14474101</td>\n",
              "      <td>50K -- 100K</td>\n",
              "      <td>North</td>\n",
              "      <td>0</td>\n",
              "      <td>HB</td>\n",
              "      <td>Yes</td>\n",
              "      <td>No</td>\n",
              "      <td>No Deposit</td>\n",
              "      <td>Agent</td>\n",
              "      <td>Yes</td>\n",
              "      <td>20</td>\n",
              "      <td>213</td>\n",
              "      <td>2017</td>\n",
              "      <td>1</td>\n",
              "      <td>0</td>\n",
              "      <td>0</td>\n",
              "    </tr>\n",
              "  </tbody>\n",
              "</table>\n",
              "<p>4318 rows × 16 columns</p>\n",
              "</div>"
            ],
            "text/plain": [
              "      Reservation-id       Income Country_region  Babies Meal_Type  \\\n",
              "0           62931593    25K --50K          South       0        HB   \n",
              "1           70586099    25K --50K           East       0        FB   \n",
              "2            4230648         <25K           East       0        BB   \n",
              "3           25192322    25K --50K          South       2        FB   \n",
              "4           80931528    25K --50K          South       0        BB   \n",
              "...              ...          ...            ...     ...       ...   \n",
              "4313        39110574  50K -- 100K          South       1        FB   \n",
              "4314         5496554  50K -- 100K          South       0        HB   \n",
              "4315        59004046         <25K           East       0        FB   \n",
              "4316        65838682    25K --50K           West       1        BB   \n",
              "4317        14474101  50K -- 100K          North       0        HB   \n",
              "\n",
              "     Visted_Previously Previous_Cancellations    Deposit_type Booking_channel  \\\n",
              "0                   No                     No      No Deposit          Direct   \n",
              "1                   No                     No      No Deposit          Online   \n",
              "2                   No                     No      No Deposit           Agent   \n",
              "3                   No                     No      No Deposit          Online   \n",
              "4                   No                     No      Refundable           Agent   \n",
              "...                ...                    ...             ...             ...   \n",
              "4313               Yes                     No  Non-Refundable          Online   \n",
              "4314                No                     No      Refundable           Agent   \n",
              "4315                No                     No      No Deposit          Direct   \n",
              "4316                No                     No      No Deposit          Online   \n",
              "4317               Yes                     No      No Deposit           Agent   \n",
              "\n",
              "     Use_Promotion  Discount_Rate  Room_Rate  Expected_checkin_Year  \\\n",
              "0              Yes             10        153                   2016   \n",
              "1               No              0        210                   2016   \n",
              "2              Yes              5        117                   2017   \n",
              "3              Yes             10        107                   2016   \n",
              "4               No              0        119                   2016   \n",
              "...            ...            ...        ...                    ...   \n",
              "4313            No              0        153                   2017   \n",
              "4314           Yes             40        233                   2017   \n",
              "4315            No              0        242                   2017   \n",
              "4316            No              0        208                   2017   \n",
              "4317           Yes             20        213                   2017   \n",
              "\n",
              "      expected_days_of_checkin  booked_before_n_days  isWeekend_trip  \n",
              "0                            1                    21               1  \n",
              "1                            1                   104               1  \n",
              "2                            3                    20               1  \n",
              "3                            2                   182               1  \n",
              "4                            2                    18               1  \n",
              "...                        ...                   ...             ...  \n",
              "4313                         1                   199               0  \n",
              "4314                         3                    47               0  \n",
              "4315                         1                   215               0  \n",
              "4316                         1                    25               0  \n",
              "4317                         1                     0               0  \n",
              "\n",
              "[4318 rows x 16 columns]"
            ]
          },
          "metadata": {
            "tags": []
          },
          "execution_count": 430
        }
      ]
    },
    {
      "cell_type": "code",
      "metadata": {
        "id": "vmblxQtGulbo"
      },
      "source": [
        "df = pd.get_dummies(df.drop(['Reservation-id'],1))"
      ],
      "execution_count": null,
      "outputs": []
    },
    {
      "cell_type": "code",
      "metadata": {
        "id": "JjWTAdhIulbp"
      },
      "source": [
        "# df = df[df.booked_before_n_days.apply(lambda x: True if x<220 else False)]"
      ],
      "execution_count": null,
      "outputs": []
    },
    {
      "cell_type": "code",
      "metadata": {
        "id": "8ddOAn1qulbp"
      },
      "source": [
        "scaled_df = pd.DataFrame(std_scaler.fit_transform(df),columns=df.columns)"
      ],
      "execution_count": null,
      "outputs": []
    },
    {
      "cell_type": "code",
      "metadata": {
        "id": "D7W-fKO7ulbp",
        "outputId": "667f22e4-6fa3-49f6-e15b-2ee58c681d7f"
      },
      "source": [
        "scaled_df"
      ],
      "execution_count": null,
      "outputs": [
        {
          "output_type": "execute_result",
          "data": {
            "text/html": [
              "<div>\n",
              "<style scoped>\n",
              "    .dataframe tbody tr th:only-of-type {\n",
              "        vertical-align: middle;\n",
              "    }\n",
              "\n",
              "    .dataframe tbody tr th {\n",
              "        vertical-align: top;\n",
              "    }\n",
              "\n",
              "    .dataframe thead th {\n",
              "        text-align: right;\n",
              "    }\n",
              "</style>\n",
              "<table border=\"1\" class=\"dataframe\">\n",
              "  <thead>\n",
              "    <tr style=\"text-align: right;\">\n",
              "      <th></th>\n",
              "      <th>Babies</th>\n",
              "      <th>Discount_Rate</th>\n",
              "      <th>Room_Rate</th>\n",
              "      <th>Expected_checkin_Year</th>\n",
              "      <th>expected_days_of_checkin</th>\n",
              "      <th>booked_before_n_days</th>\n",
              "      <th>isWeekend_trip</th>\n",
              "      <th>Income_25K --50K</th>\n",
              "      <th>Income_50K -- 100K</th>\n",
              "      <th>Income_&lt;25K</th>\n",
              "      <th>...</th>\n",
              "      <th>Previous_Cancellations_No</th>\n",
              "      <th>Previous_Cancellations_Yes</th>\n",
              "      <th>Deposit_type_No Deposit</th>\n",
              "      <th>Deposit_type_Non-Refundable</th>\n",
              "      <th>Deposit_type_Refundable</th>\n",
              "      <th>Booking_channel_Agent</th>\n",
              "      <th>Booking_channel_Direct</th>\n",
              "      <th>Booking_channel_Online</th>\n",
              "      <th>Use_Promotion_No</th>\n",
              "      <th>Use_Promotion_Yes</th>\n",
              "    </tr>\n",
              "  </thead>\n",
              "  <tbody>\n",
              "    <tr>\n",
              "      <th>0</th>\n",
              "      <td>0.010</td>\n",
              "      <td>0.25750</td>\n",
              "      <td>0.3598</td>\n",
              "      <td>0.01</td>\n",
              "      <td>0.01</td>\n",
              "      <td>0.119513</td>\n",
              "      <td>1.00</td>\n",
              "      <td>1.00</td>\n",
              "      <td>0.01</td>\n",
              "      <td>0.01</td>\n",
              "      <td>...</td>\n",
              "      <td>1.0</td>\n",
              "      <td>0.01</td>\n",
              "      <td>1.00</td>\n",
              "      <td>0.01</td>\n",
              "      <td>0.01</td>\n",
              "      <td>0.01</td>\n",
              "      <td>1.00</td>\n",
              "      <td>0.01</td>\n",
              "      <td>0.01</td>\n",
              "      <td>1.00</td>\n",
              "    </tr>\n",
              "    <tr>\n",
              "      <th>1</th>\n",
              "      <td>0.010</td>\n",
              "      <td>0.01000</td>\n",
              "      <td>0.7360</td>\n",
              "      <td>0.01</td>\n",
              "      <td>0.01</td>\n",
              "      <td>0.483097</td>\n",
              "      <td>1.00</td>\n",
              "      <td>1.00</td>\n",
              "      <td>0.01</td>\n",
              "      <td>0.01</td>\n",
              "      <td>...</td>\n",
              "      <td>1.0</td>\n",
              "      <td>0.01</td>\n",
              "      <td>1.00</td>\n",
              "      <td>0.01</td>\n",
              "      <td>0.01</td>\n",
              "      <td>0.01</td>\n",
              "      <td>0.01</td>\n",
              "      <td>1.00</td>\n",
              "      <td>1.00</td>\n",
              "      <td>0.01</td>\n",
              "    </tr>\n",
              "    <tr>\n",
              "      <th>2</th>\n",
              "      <td>0.010</td>\n",
              "      <td>0.13375</td>\n",
              "      <td>0.1222</td>\n",
              "      <td>1.00</td>\n",
              "      <td>0.67</td>\n",
              "      <td>0.115133</td>\n",
              "      <td>1.00</td>\n",
              "      <td>0.01</td>\n",
              "      <td>0.01</td>\n",
              "      <td>1.00</td>\n",
              "      <td>...</td>\n",
              "      <td>1.0</td>\n",
              "      <td>0.01</td>\n",
              "      <td>1.00</td>\n",
              "      <td>0.01</td>\n",
              "      <td>0.01</td>\n",
              "      <td>1.00</td>\n",
              "      <td>0.01</td>\n",
              "      <td>0.01</td>\n",
              "      <td>0.01</td>\n",
              "      <td>1.00</td>\n",
              "    </tr>\n",
              "    <tr>\n",
              "      <th>3</th>\n",
              "      <td>1.000</td>\n",
              "      <td>0.25750</td>\n",
              "      <td>0.0562</td>\n",
              "      <td>0.01</td>\n",
              "      <td>0.34</td>\n",
              "      <td>0.824779</td>\n",
              "      <td>1.00</td>\n",
              "      <td>1.00</td>\n",
              "      <td>0.01</td>\n",
              "      <td>0.01</td>\n",
              "      <td>...</td>\n",
              "      <td>1.0</td>\n",
              "      <td>0.01</td>\n",
              "      <td>1.00</td>\n",
              "      <td>0.01</td>\n",
              "      <td>0.01</td>\n",
              "      <td>0.01</td>\n",
              "      <td>0.01</td>\n",
              "      <td>1.00</td>\n",
              "      <td>0.01</td>\n",
              "      <td>1.00</td>\n",
              "    </tr>\n",
              "    <tr>\n",
              "      <th>4</th>\n",
              "      <td>0.010</td>\n",
              "      <td>0.01000</td>\n",
              "      <td>0.1354</td>\n",
              "      <td>0.01</td>\n",
              "      <td>0.34</td>\n",
              "      <td>0.106372</td>\n",
              "      <td>1.00</td>\n",
              "      <td>1.00</td>\n",
              "      <td>0.01</td>\n",
              "      <td>0.01</td>\n",
              "      <td>...</td>\n",
              "      <td>1.0</td>\n",
              "      <td>0.01</td>\n",
              "      <td>0.01</td>\n",
              "      <td>0.01</td>\n",
              "      <td>1.00</td>\n",
              "      <td>1.00</td>\n",
              "      <td>0.01</td>\n",
              "      <td>0.01</td>\n",
              "      <td>1.00</td>\n",
              "      <td>0.01</td>\n",
              "    </tr>\n",
              "    <tr>\n",
              "      <th>...</th>\n",
              "      <td>...</td>\n",
              "      <td>...</td>\n",
              "      <td>...</td>\n",
              "      <td>...</td>\n",
              "      <td>...</td>\n",
              "      <td>...</td>\n",
              "      <td>...</td>\n",
              "      <td>...</td>\n",
              "      <td>...</td>\n",
              "      <td>...</td>\n",
              "      <td>...</td>\n",
              "      <td>...</td>\n",
              "      <td>...</td>\n",
              "      <td>...</td>\n",
              "      <td>...</td>\n",
              "      <td>...</td>\n",
              "      <td>...</td>\n",
              "      <td>...</td>\n",
              "      <td>...</td>\n",
              "      <td>...</td>\n",
              "      <td>...</td>\n",
              "    </tr>\n",
              "    <tr>\n",
              "      <th>4313</th>\n",
              "      <td>0.505</td>\n",
              "      <td>0.01000</td>\n",
              "      <td>0.3598</td>\n",
              "      <td>1.00</td>\n",
              "      <td>0.01</td>\n",
              "      <td>0.899248</td>\n",
              "      <td>0.01</td>\n",
              "      <td>0.01</td>\n",
              "      <td>1.00</td>\n",
              "      <td>0.01</td>\n",
              "      <td>...</td>\n",
              "      <td>1.0</td>\n",
              "      <td>0.01</td>\n",
              "      <td>0.01</td>\n",
              "      <td>1.00</td>\n",
              "      <td>0.01</td>\n",
              "      <td>0.01</td>\n",
              "      <td>0.01</td>\n",
              "      <td>1.00</td>\n",
              "      <td>1.00</td>\n",
              "      <td>0.01</td>\n",
              "    </tr>\n",
              "    <tr>\n",
              "      <th>4314</th>\n",
              "      <td>0.010</td>\n",
              "      <td>1.00000</td>\n",
              "      <td>0.8878</td>\n",
              "      <td>1.00</td>\n",
              "      <td>0.67</td>\n",
              "      <td>0.233407</td>\n",
              "      <td>0.01</td>\n",
              "      <td>0.01</td>\n",
              "      <td>1.00</td>\n",
              "      <td>0.01</td>\n",
              "      <td>...</td>\n",
              "      <td>1.0</td>\n",
              "      <td>0.01</td>\n",
              "      <td>0.01</td>\n",
              "      <td>0.01</td>\n",
              "      <td>1.00</td>\n",
              "      <td>1.00</td>\n",
              "      <td>0.01</td>\n",
              "      <td>0.01</td>\n",
              "      <td>0.01</td>\n",
              "      <td>1.00</td>\n",
              "    </tr>\n",
              "    <tr>\n",
              "      <th>4315</th>\n",
              "      <td>0.010</td>\n",
              "      <td>0.01000</td>\n",
              "      <td>0.9472</td>\n",
              "      <td>1.00</td>\n",
              "      <td>0.01</td>\n",
              "      <td>0.969336</td>\n",
              "      <td>0.01</td>\n",
              "      <td>0.01</td>\n",
              "      <td>0.01</td>\n",
              "      <td>1.00</td>\n",
              "      <td>...</td>\n",
              "      <td>1.0</td>\n",
              "      <td>0.01</td>\n",
              "      <td>1.00</td>\n",
              "      <td>0.01</td>\n",
              "      <td>0.01</td>\n",
              "      <td>0.01</td>\n",
              "      <td>1.00</td>\n",
              "      <td>0.01</td>\n",
              "      <td>1.00</td>\n",
              "      <td>0.01</td>\n",
              "    </tr>\n",
              "    <tr>\n",
              "      <th>4316</th>\n",
              "      <td>0.505</td>\n",
              "      <td>0.01000</td>\n",
              "      <td>0.7228</td>\n",
              "      <td>1.00</td>\n",
              "      <td>0.01</td>\n",
              "      <td>0.137035</td>\n",
              "      <td>0.01</td>\n",
              "      <td>1.00</td>\n",
              "      <td>0.01</td>\n",
              "      <td>0.01</td>\n",
              "      <td>...</td>\n",
              "      <td>1.0</td>\n",
              "      <td>0.01</td>\n",
              "      <td>1.00</td>\n",
              "      <td>0.01</td>\n",
              "      <td>0.01</td>\n",
              "      <td>0.01</td>\n",
              "      <td>0.01</td>\n",
              "      <td>1.00</td>\n",
              "      <td>1.00</td>\n",
              "      <td>0.01</td>\n",
              "    </tr>\n",
              "    <tr>\n",
              "      <th>4317</th>\n",
              "      <td>0.010</td>\n",
              "      <td>0.50500</td>\n",
              "      <td>0.7558</td>\n",
              "      <td>1.00</td>\n",
              "      <td>0.01</td>\n",
              "      <td>0.027522</td>\n",
              "      <td>0.01</td>\n",
              "      <td>0.01</td>\n",
              "      <td>1.00</td>\n",
              "      <td>0.01</td>\n",
              "      <td>...</td>\n",
              "      <td>1.0</td>\n",
              "      <td>0.01</td>\n",
              "      <td>1.00</td>\n",
              "      <td>0.01</td>\n",
              "      <td>0.01</td>\n",
              "      <td>1.00</td>\n",
              "      <td>0.01</td>\n",
              "      <td>0.01</td>\n",
              "      <td>0.01</td>\n",
              "      <td>1.00</td>\n",
              "    </tr>\n",
              "  </tbody>\n",
              "</table>\n",
              "<p>4318 rows × 30 columns</p>\n",
              "</div>"
            ],
            "text/plain": [
              "      Babies  Discount_Rate  Room_Rate  Expected_checkin_Year  \\\n",
              "0      0.010        0.25750     0.3598                   0.01   \n",
              "1      0.010        0.01000     0.7360                   0.01   \n",
              "2      0.010        0.13375     0.1222                   1.00   \n",
              "3      1.000        0.25750     0.0562                   0.01   \n",
              "4      0.010        0.01000     0.1354                   0.01   \n",
              "...      ...            ...        ...                    ...   \n",
              "4313   0.505        0.01000     0.3598                   1.00   \n",
              "4314   0.010        1.00000     0.8878                   1.00   \n",
              "4315   0.010        0.01000     0.9472                   1.00   \n",
              "4316   0.505        0.01000     0.7228                   1.00   \n",
              "4317   0.010        0.50500     0.7558                   1.00   \n",
              "\n",
              "      expected_days_of_checkin  booked_before_n_days  isWeekend_trip  \\\n",
              "0                         0.01              0.119513            1.00   \n",
              "1                         0.01              0.483097            1.00   \n",
              "2                         0.67              0.115133            1.00   \n",
              "3                         0.34              0.824779            1.00   \n",
              "4                         0.34              0.106372            1.00   \n",
              "...                        ...                   ...             ...   \n",
              "4313                      0.01              0.899248            0.01   \n",
              "4314                      0.67              0.233407            0.01   \n",
              "4315                      0.01              0.969336            0.01   \n",
              "4316                      0.01              0.137035            0.01   \n",
              "4317                      0.01              0.027522            0.01   \n",
              "\n",
              "      Income_25K --50K  Income_50K -- 100K  Income_<25K  ...  \\\n",
              "0                 1.00                0.01         0.01  ...   \n",
              "1                 1.00                0.01         0.01  ...   \n",
              "2                 0.01                0.01         1.00  ...   \n",
              "3                 1.00                0.01         0.01  ...   \n",
              "4                 1.00                0.01         0.01  ...   \n",
              "...                ...                 ...          ...  ...   \n",
              "4313              0.01                1.00         0.01  ...   \n",
              "4314              0.01                1.00         0.01  ...   \n",
              "4315              0.01                0.01         1.00  ...   \n",
              "4316              1.00                0.01         0.01  ...   \n",
              "4317              0.01                1.00         0.01  ...   \n",
              "\n",
              "      Previous_Cancellations_No  Previous_Cancellations_Yes  \\\n",
              "0                           1.0                        0.01   \n",
              "1                           1.0                        0.01   \n",
              "2                           1.0                        0.01   \n",
              "3                           1.0                        0.01   \n",
              "4                           1.0                        0.01   \n",
              "...                         ...                         ...   \n",
              "4313                        1.0                        0.01   \n",
              "4314                        1.0                        0.01   \n",
              "4315                        1.0                        0.01   \n",
              "4316                        1.0                        0.01   \n",
              "4317                        1.0                        0.01   \n",
              "\n",
              "      Deposit_type_No Deposit  Deposit_type_Non-Refundable  \\\n",
              "0                        1.00                         0.01   \n",
              "1                        1.00                         0.01   \n",
              "2                        1.00                         0.01   \n",
              "3                        1.00                         0.01   \n",
              "4                        0.01                         0.01   \n",
              "...                       ...                          ...   \n",
              "4313                     0.01                         1.00   \n",
              "4314                     0.01                         0.01   \n",
              "4315                     1.00                         0.01   \n",
              "4316                     1.00                         0.01   \n",
              "4317                     1.00                         0.01   \n",
              "\n",
              "      Deposit_type_Refundable  Booking_channel_Agent  Booking_channel_Direct  \\\n",
              "0                        0.01                   0.01                    1.00   \n",
              "1                        0.01                   0.01                    0.01   \n",
              "2                        0.01                   1.00                    0.01   \n",
              "3                        0.01                   0.01                    0.01   \n",
              "4                        1.00                   1.00                    0.01   \n",
              "...                       ...                    ...                     ...   \n",
              "4313                     0.01                   0.01                    0.01   \n",
              "4314                     1.00                   1.00                    0.01   \n",
              "4315                     0.01                   0.01                    1.00   \n",
              "4316                     0.01                   0.01                    0.01   \n",
              "4317                     0.01                   1.00                    0.01   \n",
              "\n",
              "      Booking_channel_Online  Use_Promotion_No  Use_Promotion_Yes  \n",
              "0                       0.01              0.01               1.00  \n",
              "1                       1.00              1.00               0.01  \n",
              "2                       0.01              0.01               1.00  \n",
              "3                       1.00              0.01               1.00  \n",
              "4                       0.01              1.00               0.01  \n",
              "...                      ...               ...                ...  \n",
              "4313                    1.00              1.00               0.01  \n",
              "4314                    0.01              0.01               1.00  \n",
              "4315                    0.01              1.00               0.01  \n",
              "4316                    1.00              1.00               0.01  \n",
              "4317                    0.01              0.01               1.00  \n",
              "\n",
              "[4318 rows x 30 columns]"
            ]
          },
          "metadata": {
            "tags": []
          },
          "execution_count": 493
        }
      ]
    },
    {
      "cell_type": "code",
      "metadata": {
        "id": "ET15N0Nfulbp"
      },
      "source": [
        "# scaled_df[scaled_df.booked_before_n_days.apply(lambda x: True if x<220 else False)]"
      ],
      "execution_count": null,
      "outputs": []
    },
    {
      "cell_type": "code",
      "metadata": {
        "id": "CftChQNrulbp",
        "outputId": "f0aed312-0c31-459c-b76f-6e28b1270d84"
      },
      "source": [
        "scaled_df.hist()"
      ],
      "execution_count": null,
      "outputs": [
        {
          "output_type": "execute_result",
          "data": {
            "text/plain": [
              "array([[<AxesSubplot:title={'center':'Babies'}>,\n",
              "        <AxesSubplot:title={'center':'Discount_Rate'}>,\n",
              "        <AxesSubplot:title={'center':'Room_Rate'}>,\n",
              "        <AxesSubplot:title={'center':'Expected_checkin_Year'}>,\n",
              "        <AxesSubplot:title={'center':'expected_days_of_checkin'}>],\n",
              "       [<AxesSubplot:title={'center':'booked_before_n_days'}>,\n",
              "        <AxesSubplot:title={'center':'isWeekend_trip'}>,\n",
              "        <AxesSubplot:title={'center':'Income_25K --50K'}>,\n",
              "        <AxesSubplot:title={'center':'Income_50K -- 100K'}>,\n",
              "        <AxesSubplot:title={'center':'Income_<25K'}>],\n",
              "       [<AxesSubplot:title={'center':'Income_>100K'}>,\n",
              "        <AxesSubplot:title={'center':'Country_region_East'}>,\n",
              "        <AxesSubplot:title={'center':'Country_region_North'}>,\n",
              "        <AxesSubplot:title={'center':'Country_region_South'}>,\n",
              "        <AxesSubplot:title={'center':'Country_region_West'}>],\n",
              "       [<AxesSubplot:title={'center':'Meal_Type_BB'}>,\n",
              "        <AxesSubplot:title={'center':'Meal_Type_FB'}>,\n",
              "        <AxesSubplot:title={'center':'Meal_Type_HB'}>,\n",
              "        <AxesSubplot:title={'center':'Visted_Previously_No'}>,\n",
              "        <AxesSubplot:title={'center':'Visted_Previously_Yes'}>],\n",
              "       [<AxesSubplot:title={'center':'Previous_Cancellations_No'}>,\n",
              "        <AxesSubplot:title={'center':'Previous_Cancellations_Yes'}>,\n",
              "        <AxesSubplot:title={'center':'Deposit_type_No Deposit'}>,\n",
              "        <AxesSubplot:title={'center':'Deposit_type_Non-Refundable'}>,\n",
              "        <AxesSubplot:title={'center':'Deposit_type_Refundable'}>],\n",
              "       [<AxesSubplot:title={'center':'Booking_channel_Agent'}>,\n",
              "        <AxesSubplot:title={'center':'Booking_channel_Direct'}>,\n",
              "        <AxesSubplot:title={'center':'Booking_channel_Online'}>,\n",
              "        <AxesSubplot:title={'center':'Use_Promotion_No'}>,\n",
              "        <AxesSubplot:title={'center':'Use_Promotion_Yes'}>]], dtype=object)"
            ]
          },
          "metadata": {
            "tags": []
          },
          "execution_count": 420
        },
        {
          "output_type": "display_data",
          "data": {
            "image/png": "[encoded data removed]",
            "text/plain": [
              "<Figure size 1080x720 with 30 Axes>"
            ]
          },
          "metadata": {
            "tags": [],
            "needs_background": "light"
          }
        }
      ]
    },
    {
      "cell_type": "code",
      "metadata": {
        "id": "vijvE86Hulbq",
        "outputId": "83916c75-f1b5-49cb-d282-fac77bffc745"
      },
      "source": [
        "scaled_df.boxplot()"
      ],
      "execution_count": null,
      "outputs": [
        {
          "output_type": "execute_result",
          "data": {
            "text/plain": [
              "<AxesSubplot:>"
            ]
          },
          "metadata": {
            "tags": []
          },
          "execution_count": 421
        },
        {
          "output_type": "display_data",
          "data": {
            "image/png": "[encoded data removed]",
            "text/plain": [
              "<Figure size 1080x720 with 1 Axes>"
            ]
          },
          "metadata": {
            "tags": [],
            "needs_background": "light"
          }
        }
      ]
    },
    {
      "cell_type": "code",
      "metadata": {
        "id": "DIFl6gJOulbq",
        "outputId": "551d5b6e-90f9-488e-ba65-0be831b86c8b"
      },
      "source": [
        "scaled_df.Discount_Rate.hist()"
      ],
      "execution_count": null,
      "outputs": [
        {
          "output_type": "execute_result",
          "data": {
            "text/plain": [
              "<AxesSubplot:>"
            ]
          },
          "metadata": {
            "tags": []
          },
          "execution_count": 175
        },
        {
          "output_type": "display_data",
          "data": {
            "image/png": "[encoded data removed]",
            "text/plain": [
              "<Figure size 1080x720 with 1 Axes>"
            ]
          },
          "metadata": {
            "tags": [],
            "needs_background": "light"
          }
        }
      ]
    },
    {
      "cell_type": "code",
      "metadata": {
        "id": "3dufhJt7ulbq"
      },
      "source": [
        "q_trans = QuantileTransformer()"
      ],
      "execution_count": null,
      "outputs": []
    },
    {
      "cell_type": "code",
      "metadata": {
        "id": "WhkJrVwRulbr"
      },
      "source": [
        "discount_data = yeojohnson(x=scaled_df.Discount_Rate,lmbda=0.2)"
      ],
      "execution_count": null,
      "outputs": []
    },
    {
      "cell_type": "code",
      "metadata": {
        "id": "rEiYcAW-ulbr",
        "outputId": "6ec058a4-721b-439d-bebd-276cfbac075d"
      },
      "source": [
        "plt.hist(scaled_df.Discount_Rate)"
      ],
      "execution_count": null,
      "outputs": [
        {
          "output_type": "execute_result",
          "data": {
            "text/plain": [
              "(array([1077.,  669.,  884.,  198.,    0.,  650.,  398.,  217.,    0.,\n",
              "         225.]),\n",
              " array([0.01 , 0.109, 0.208, 0.307, 0.406, 0.505, 0.604, 0.703, 0.802,\n",
              "        0.901, 1.   ]),\n",
              " <BarContainer object of 10 artists>)"
            ]
          },
          "metadata": {
            "tags": []
          },
          "execution_count": 496
        },
        {
          "output_type": "display_data",
          "data": {
            "image/png": "[encoded data removed]",
            "text/plain": [
              "<Figure size 1080x720 with 1 Axes>"
            ]
          },
          "metadata": {
            "tags": [],
            "needs_background": "light"
          }
        }
      ]
    },
    {
      "cell_type": "code",
      "metadata": {
        "id": "_kqPUaJ0ulbr",
        "outputId": "5a7472e6-15fc-4d1a-ca0e-a2fbb4b8da9d"
      },
      "source": [
        "scaled_df.boxplot()"
      ],
      "execution_count": null,
      "outputs": [
        {
          "output_type": "execute_result",
          "data": {
            "text/plain": [
              "<AxesSubplot:>"
            ]
          },
          "metadata": {
            "tags": []
          },
          "execution_count": 497
        },
        {
          "output_type": "display_data",
          "data": {
            "image/png": "[encoded data removed]",
            "text/plain": [
              "<Figure size 1080x720 with 1 Axes>"
            ]
          },
          "metadata": {
            "tags": [],
            "needs_background": "light"
          }
        }
      ]
    },
    {
      "cell_type": "code",
      "metadata": {
        "id": "dX_4E9n2ulbr"
      },
      "source": [
        "scaled_df = pd.DataFrame(StandardScaler().fit_transform(scaled_df),columns=scaled_df.columns)"
      ],
      "execution_count": null,
      "outputs": []
    },
    {
      "cell_type": "code",
      "metadata": {
        "id": "9ecXiZe9ulbr"
      },
      "source": [
        "# train = train[train.booked_before_n_days.apply(lambda x: True if x<220 else False)]"
      ],
      "execution_count": null,
      "outputs": []
    },
    {
      "cell_type": "code",
      "metadata": {
        "id": "s_f6plNuulbs",
        "outputId": "a66407c2-ab87-4e32-86f7-7ed64e54861e"
      },
      "source": [
        "scaled_df.shape"
      ],
      "execution_count": null,
      "outputs": [
        {
          "output_type": "execute_result",
          "data": {
            "text/plain": [
              "(4318, 30)"
            ]
          },
          "metadata": {
            "tags": []
          },
          "execution_count": 500
        }
      ]
    },
    {
      "cell_type": "code",
      "metadata": {
        "id": "Q6tw5bBkulbs",
        "outputId": "adc7af4c-3407-45b1-ddf3-66ffe2a240a5"
      },
      "source": [
        "train.shape"
      ],
      "execution_count": null,
      "outputs": [
        {
          "output_type": "execute_result",
          "data": {
            "text/plain": [
              "(4318, 25)"
            ]
          },
          "metadata": {
            "tags": []
          },
          "execution_count": 501
        }
      ]
    },
    {
      "cell_type": "code",
      "metadata": {
        "id": "YYTC3epmulbs"
      },
      "source": [
        "scaled_df['Reservation-id']=train['Reservation-id']"
      ],
      "execution_count": null,
      "outputs": []
    },
    {
      "cell_type": "code",
      "metadata": {
        "id": "Mw0vXJzVulbs"
      },
      "source": [
        "# scaled_df['Reservation_Status'] = train['Reservation_Status']"
      ],
      "execution_count": null,
      "outputs": []
    },
    {
      "cell_type": "code",
      "metadata": {
        "id": "tJMOs9qVulbs"
      },
      "source": [
        "# train.columns"
      ],
      "execution_count": null,
      "outputs": []
    },
    {
      "cell_type": "code",
      "metadata": {
        "id": "yE0RxDqwulbt",
        "outputId": "1529d240-3a5b-4ab9-af0d-b810b696c46e"
      },
      "source": [
        "train.dtypes"
      ],
      "execution_count": null,
      "outputs": [
        {
          "output_type": "execute_result",
          "data": {
            "text/plain": [
              "Reservation-id               int64\n",
              "Gender                      object\n",
              "Age                          int64\n",
              "Ethnicity                   object\n",
              "Educational_Level           object\n",
              "Income                      object\n",
              "Country_region              object\n",
              "Hotel_Type                  object\n",
              "Adults                       int64\n",
              "Children                     int64\n",
              "Babies                       int64\n",
              "Meal_Type                   object\n",
              "Visted_Previously           object\n",
              "Previous_Cancellations      object\n",
              "Deposit_type                object\n",
              "Booking_channel             object\n",
              "Required_Car_Parking        object\n",
              "Use_Promotion               object\n",
              "Discount_Rate                int64\n",
              "Room_Rate                    int64\n",
              "Expected_checkin_Year        int64\n",
              "Expected_checkin_Month       int64\n",
              "expected_days_of_checkin     int64\n",
              "booked_before_n_days         int64\n",
              "isWeekend_trip               int64\n",
              "dtype: object"
            ]
          },
          "metadata": {
            "tags": []
          },
          "execution_count": 505
        }
      ]
    },
    {
      "cell_type": "code",
      "metadata": {
        "id": "QtbGqAhtulbt",
        "outputId": "798fcccd-8465-4aa2-f295-cee8ea9ec99d"
      },
      "source": [
        "scaled_df"
      ],
      "execution_count": null,
      "outputs": [
        {
          "output_type": "execute_result",
          "data": {
            "text/html": [
              "<div>\n",
              "<style scoped>\n",
              "    .dataframe tbody tr th:only-of-type {\n",
              "        vertical-align: middle;\n",
              "    }\n",
              "\n",
              "    .dataframe tbody tr th {\n",
              "        vertical-align: top;\n",
              "    }\n",
              "\n",
              "    .dataframe thead th {\n",
              "        text-align: right;\n",
              "    }\n",
              "</style>\n",
              "<table border=\"1\" class=\"dataframe\">\n",
              "  <thead>\n",
              "    <tr style=\"text-align: right;\">\n",
              "      <th></th>\n",
              "      <th>Babies</th>\n",
              "      <th>Discount_Rate</th>\n",
              "      <th>Room_Rate</th>\n",
              "      <th>Expected_checkin_Year</th>\n",
              "      <th>expected_days_of_checkin</th>\n",
              "      <th>booked_before_n_days</th>\n",
              "      <th>isWeekend_trip</th>\n",
              "      <th>Income_25K --50K</th>\n",
              "      <th>Income_50K -- 100K</th>\n",
              "      <th>Income_&lt;25K</th>\n",
              "      <th>...</th>\n",
              "      <th>Previous_Cancellations_Yes</th>\n",
              "      <th>Deposit_type_No Deposit</th>\n",
              "      <th>Deposit_type_Non-Refundable</th>\n",
              "      <th>Deposit_type_Refundable</th>\n",
              "      <th>Booking_channel_Agent</th>\n",
              "      <th>Booking_channel_Direct</th>\n",
              "      <th>Booking_channel_Online</th>\n",
              "      <th>Use_Promotion_No</th>\n",
              "      <th>Use_Promotion_Yes</th>\n",
              "      <th>Reservation-id</th>\n",
              "    </tr>\n",
              "  </thead>\n",
              "  <tbody>\n",
              "    <tr>\n",
              "      <th>0</th>\n",
              "      <td>-0.61056</td>\n",
              "      <td>-0.214515</td>\n",
              "      <td>-0.525703</td>\n",
              "      <td>-1.559626</td>\n",
              "      <td>-0.841740</td>\n",
              "      <td>-1.379968</td>\n",
              "      <td>1.058198</td>\n",
              "      <td>1.571961</td>\n",
              "      <td>-0.625386</td>\n",
              "      <td>-0.630405</td>\n",
              "      <td>...</td>\n",
              "      <td>-0.339391</td>\n",
              "      <td>0.709565</td>\n",
              "      <td>-0.307490</td>\n",
              "      <td>-0.575033</td>\n",
              "      <td>-0.410232</td>\n",
              "      <td>1.598096</td>\n",
              "      <td>-1.162141</td>\n",
              "      <td>-0.576459</td>\n",
              "      <td>0.576459</td>\n",
              "      <td>62931593</td>\n",
              "    </tr>\n",
              "    <tr>\n",
              "      <th>1</th>\n",
              "      <td>-0.61056</td>\n",
              "      <td>-1.102178</td>\n",
              "      <td>0.801829</td>\n",
              "      <td>-1.559626</td>\n",
              "      <td>-0.841740</td>\n",
              "      <td>-0.090048</td>\n",
              "      <td>1.058198</td>\n",
              "      <td>1.571961</td>\n",
              "      <td>-0.625386</td>\n",
              "      <td>-0.630405</td>\n",
              "      <td>...</td>\n",
              "      <td>-0.339391</td>\n",
              "      <td>0.709565</td>\n",
              "      <td>-0.307490</td>\n",
              "      <td>-0.575033</td>\n",
              "      <td>-0.410232</td>\n",
              "      <td>-0.625745</td>\n",
              "      <td>0.860481</td>\n",
              "      <td>1.734729</td>\n",
              "      <td>-1.734729</td>\n",
              "      <td>70586099</td>\n",
              "    </tr>\n",
              "    <tr>\n",
              "      <th>2</th>\n",
              "      <td>-0.61056</td>\n",
              "      <td>-0.658347</td>\n",
              "      <td>-1.364145</td>\n",
              "      <td>0.641179</td>\n",
              "      <td>1.208250</td>\n",
              "      <td>-1.395509</td>\n",
              "      <td>1.058198</td>\n",
              "      <td>-0.636148</td>\n",
              "      <td>-0.625386</td>\n",
              "      <td>1.586281</td>\n",
              "      <td>...</td>\n",
              "      <td>-0.339391</td>\n",
              "      <td>0.709565</td>\n",
              "      <td>-0.307490</td>\n",
              "      <td>-0.575033</td>\n",
              "      <td>2.437647</td>\n",
              "      <td>-0.625745</td>\n",
              "      <td>-1.162141</td>\n",
              "      <td>-0.576459</td>\n",
              "      <td>0.576459</td>\n",
              "      <td>4230648</td>\n",
              "    </tr>\n",
              "    <tr>\n",
              "      <th>3</th>\n",
              "      <td>2.92112</td>\n",
              "      <td>-0.214515</td>\n",
              "      <td>-1.597045</td>\n",
              "      <td>-1.559626</td>\n",
              "      <td>0.183255</td>\n",
              "      <td>1.122167</td>\n",
              "      <td>1.058198</td>\n",
              "      <td>1.571961</td>\n",
              "      <td>-0.625386</td>\n",
              "      <td>-0.630405</td>\n",
              "      <td>...</td>\n",
              "      <td>-0.339391</td>\n",
              "      <td>0.709565</td>\n",
              "      <td>-0.307490</td>\n",
              "      <td>-0.575033</td>\n",
              "      <td>-0.410232</td>\n",
              "      <td>-0.625745</td>\n",
              "      <td>0.860481</td>\n",
              "      <td>-0.576459</td>\n",
              "      <td>0.576459</td>\n",
              "      <td>25192322</td>\n",
              "    </tr>\n",
              "    <tr>\n",
              "      <th>4</th>\n",
              "      <td>-0.61056</td>\n",
              "      <td>-1.102178</td>\n",
              "      <td>-1.317565</td>\n",
              "      <td>-1.559626</td>\n",
              "      <td>0.183255</td>\n",
              "      <td>-1.426592</td>\n",
              "      <td>1.058198</td>\n",
              "      <td>1.571961</td>\n",
              "      <td>-0.625386</td>\n",
              "      <td>-0.630405</td>\n",
              "      <td>...</td>\n",
              "      <td>-0.339391</td>\n",
              "      <td>-1.409315</td>\n",
              "      <td>-0.307490</td>\n",
              "      <td>1.739032</td>\n",
              "      <td>2.437647</td>\n",
              "      <td>-0.625745</td>\n",
              "      <td>-1.162141</td>\n",
              "      <td>1.734729</td>\n",
              "      <td>-1.734729</td>\n",
              "      <td>80931528</td>\n",
              "    </tr>\n",
              "    <tr>\n",
              "      <th>...</th>\n",
              "      <td>...</td>\n",
              "      <td>...</td>\n",
              "      <td>...</td>\n",
              "      <td>...</td>\n",
              "      <td>...</td>\n",
              "      <td>...</td>\n",
              "      <td>...</td>\n",
              "      <td>...</td>\n",
              "      <td>...</td>\n",
              "      <td>...</td>\n",
              "      <td>...</td>\n",
              "      <td>...</td>\n",
              "      <td>...</td>\n",
              "      <td>...</td>\n",
              "      <td>...</td>\n",
              "      <td>...</td>\n",
              "      <td>...</td>\n",
              "      <td>...</td>\n",
              "      <td>...</td>\n",
              "      <td>...</td>\n",
              "      <td>...</td>\n",
              "    </tr>\n",
              "    <tr>\n",
              "      <th>4313</th>\n",
              "      <td>1.15528</td>\n",
              "      <td>-1.102178</td>\n",
              "      <td>-0.525703</td>\n",
              "      <td>0.641179</td>\n",
              "      <td>-0.841740</td>\n",
              "      <td>1.386367</td>\n",
              "      <td>-0.945002</td>\n",
              "      <td>-0.636148</td>\n",
              "      <td>1.599011</td>\n",
              "      <td>-0.630405</td>\n",
              "      <td>...</td>\n",
              "      <td>-0.339391</td>\n",
              "      <td>-1.409315</td>\n",
              "      <td>3.252139</td>\n",
              "      <td>-0.575033</td>\n",
              "      <td>-0.410232</td>\n",
              "      <td>-0.625745</td>\n",
              "      <td>0.860481</td>\n",
              "      <td>1.734729</td>\n",
              "      <td>-1.734729</td>\n",
              "      <td>39110574</td>\n",
              "    </tr>\n",
              "    <tr>\n",
              "      <th>4314</th>\n",
              "      <td>-0.61056</td>\n",
              "      <td>2.448474</td>\n",
              "      <td>1.337500</td>\n",
              "      <td>0.641179</td>\n",
              "      <td>1.208250</td>\n",
              "      <td>-0.975897</td>\n",
              "      <td>-0.945002</td>\n",
              "      <td>-0.636148</td>\n",
              "      <td>1.599011</td>\n",
              "      <td>-0.630405</td>\n",
              "      <td>...</td>\n",
              "      <td>-0.339391</td>\n",
              "      <td>-1.409315</td>\n",
              "      <td>-0.307490</td>\n",
              "      <td>1.739032</td>\n",
              "      <td>2.437647</td>\n",
              "      <td>-0.625745</td>\n",
              "      <td>-1.162141</td>\n",
              "      <td>-0.576459</td>\n",
              "      <td>0.576459</td>\n",
              "      <td>5496554</td>\n",
              "    </tr>\n",
              "    <tr>\n",
              "      <th>4315</th>\n",
              "      <td>-0.61056</td>\n",
              "      <td>-1.102178</td>\n",
              "      <td>1.547110</td>\n",
              "      <td>0.641179</td>\n",
              "      <td>-0.841740</td>\n",
              "      <td>1.635027</td>\n",
              "      <td>-0.945002</td>\n",
              "      <td>-0.636148</td>\n",
              "      <td>-0.625386</td>\n",
              "      <td>1.586281</td>\n",
              "      <td>...</td>\n",
              "      <td>-0.339391</td>\n",
              "      <td>0.709565</td>\n",
              "      <td>-0.307490</td>\n",
              "      <td>-0.575033</td>\n",
              "      <td>-0.410232</td>\n",
              "      <td>1.598096</td>\n",
              "      <td>-1.162141</td>\n",
              "      <td>1.734729</td>\n",
              "      <td>-1.734729</td>\n",
              "      <td>59004046</td>\n",
              "    </tr>\n",
              "    <tr>\n",
              "      <th>4316</th>\n",
              "      <td>1.15528</td>\n",
              "      <td>-1.102178</td>\n",
              "      <td>0.755249</td>\n",
              "      <td>0.641179</td>\n",
              "      <td>-0.841740</td>\n",
              "      <td>-1.317803</td>\n",
              "      <td>-0.945002</td>\n",
              "      <td>1.571961</td>\n",
              "      <td>-0.625386</td>\n",
              "      <td>-0.630405</td>\n",
              "      <td>...</td>\n",
              "      <td>-0.339391</td>\n",
              "      <td>0.709565</td>\n",
              "      <td>-0.307490</td>\n",
              "      <td>-0.575033</td>\n",
              "      <td>-0.410232</td>\n",
              "      <td>-0.625745</td>\n",
              "      <td>0.860481</td>\n",
              "      <td>1.734729</td>\n",
              "      <td>-1.734729</td>\n",
              "      <td>65838682</td>\n",
              "    </tr>\n",
              "    <tr>\n",
              "      <th>4317</th>\n",
              "      <td>-0.61056</td>\n",
              "      <td>0.673148</td>\n",
              "      <td>0.871699</td>\n",
              "      <td>0.641179</td>\n",
              "      <td>-0.841740</td>\n",
              "      <td>-1.706333</td>\n",
              "      <td>-0.945002</td>\n",
              "      <td>-0.636148</td>\n",
              "      <td>1.599011</td>\n",
              "      <td>-0.630405</td>\n",
              "      <td>...</td>\n",
              "      <td>-0.339391</td>\n",
              "      <td>0.709565</td>\n",
              "      <td>-0.307490</td>\n",
              "      <td>-0.575033</td>\n",
              "      <td>2.437647</td>\n",
              "      <td>-0.625745</td>\n",
              "      <td>-1.162141</td>\n",
              "      <td>-0.576459</td>\n",
              "      <td>0.576459</td>\n",
              "      <td>14474101</td>\n",
              "    </tr>\n",
              "  </tbody>\n",
              "</table>\n",
              "<p>4318 rows × 31 columns</p>\n",
              "</div>"
            ],
            "text/plain": [
              "       Babies  Discount_Rate  Room_Rate  Expected_checkin_Year  \\\n",
              "0    -0.61056      -0.214515  -0.525703              -1.559626   \n",
              "1    -0.61056      -1.102178   0.801829              -1.559626   \n",
              "2    -0.61056      -0.658347  -1.364145               0.641179   \n",
              "3     2.92112      -0.214515  -1.597045              -1.559626   \n",
              "4    -0.61056      -1.102178  -1.317565              -1.559626   \n",
              "...       ...            ...        ...                    ...   \n",
              "4313  1.15528      -1.102178  -0.525703               0.641179   \n",
              "4314 -0.61056       2.448474   1.337500               0.641179   \n",
              "4315 -0.61056      -1.102178   1.547110               0.641179   \n",
              "4316  1.15528      -1.102178   0.755249               0.641179   \n",
              "4317 -0.61056       0.673148   0.871699               0.641179   \n",
              "\n",
              "      expected_days_of_checkin  booked_before_n_days  isWeekend_trip  \\\n",
              "0                    -0.841740             -1.379968        1.058198   \n",
              "1                    -0.841740             -0.090048        1.058198   \n",
              "2                     1.208250             -1.395509        1.058198   \n",
              "3                     0.183255              1.122167        1.058198   \n",
              "4                     0.183255             -1.426592        1.058198   \n",
              "...                        ...                   ...             ...   \n",
              "4313                 -0.841740              1.386367       -0.945002   \n",
              "4314                  1.208250             -0.975897       -0.945002   \n",
              "4315                 -0.841740              1.635027       -0.945002   \n",
              "4316                 -0.841740             -1.317803       -0.945002   \n",
              "4317                 -0.841740             -1.706333       -0.945002   \n",
              "\n",
              "      Income_25K --50K  Income_50K -- 100K  Income_<25K  ...  \\\n",
              "0             1.571961           -0.625386    -0.630405  ...   \n",
              "1             1.571961           -0.625386    -0.630405  ...   \n",
              "2            -0.636148           -0.625386     1.586281  ...   \n",
              "3             1.571961           -0.625386    -0.630405  ...   \n",
              "4             1.571961           -0.625386    -0.630405  ...   \n",
              "...                ...                 ...          ...  ...   \n",
              "4313         -0.636148            1.599011    -0.630405  ...   \n",
              "4314         -0.636148            1.599011    -0.630405  ...   \n",
              "4315         -0.636148           -0.625386     1.586281  ...   \n",
              "4316          1.571961           -0.625386    -0.630405  ...   \n",
              "4317         -0.636148            1.599011    -0.630405  ...   \n",
              "\n",
              "      Previous_Cancellations_Yes  Deposit_type_No Deposit  \\\n",
              "0                      -0.339391                 0.709565   \n",
              "1                      -0.339391                 0.709565   \n",
              "2                      -0.339391                 0.709565   \n",
              "3                      -0.339391                 0.709565   \n",
              "4                      -0.339391                -1.409315   \n",
              "...                          ...                      ...   \n",
              "4313                   -0.339391                -1.409315   \n",
              "4314                   -0.339391                -1.409315   \n",
              "4315                   -0.339391                 0.709565   \n",
              "4316                   -0.339391                 0.709565   \n",
              "4317                   -0.339391                 0.709565   \n",
              "\n",
              "      Deposit_type_Non-Refundable  Deposit_type_Refundable  \\\n",
              "0                       -0.307490                -0.575033   \n",
              "1                       -0.307490                -0.575033   \n",
              "2                       -0.307490                -0.575033   \n",
              "3                       -0.307490                -0.575033   \n",
              "4                       -0.307490                 1.739032   \n",
              "...                           ...                      ...   \n",
              "4313                     3.252139                -0.575033   \n",
              "4314                    -0.307490                 1.739032   \n",
              "4315                    -0.307490                -0.575033   \n",
              "4316                    -0.307490                -0.575033   \n",
              "4317                    -0.307490                -0.575033   \n",
              "\n",
              "      Booking_channel_Agent  Booking_channel_Direct  Booking_channel_Online  \\\n",
              "0                 -0.410232                1.598096               -1.162141   \n",
              "1                 -0.410232               -0.625745                0.860481   \n",
              "2                  2.437647               -0.625745               -1.162141   \n",
              "3                 -0.410232               -0.625745                0.860481   \n",
              "4                  2.437647               -0.625745               -1.162141   \n",
              "...                     ...                     ...                     ...   \n",
              "4313              -0.410232               -0.625745                0.860481   \n",
              "4314               2.437647               -0.625745               -1.162141   \n",
              "4315              -0.410232                1.598096               -1.162141   \n",
              "4316              -0.410232               -0.625745                0.860481   \n",
              "4317               2.437647               -0.625745               -1.162141   \n",
              "\n",
              "      Use_Promotion_No  Use_Promotion_Yes  Reservation-id  \n",
              "0            -0.576459           0.576459        62931593  \n",
              "1             1.734729          -1.734729        70586099  \n",
              "2            -0.576459           0.576459         4230648  \n",
              "3            -0.576459           0.576459        25192322  \n",
              "4             1.734729          -1.734729        80931528  \n",
              "...                ...                ...             ...  \n",
              "4313          1.734729          -1.734729        39110574  \n",
              "4314         -0.576459           0.576459         5496554  \n",
              "4315          1.734729          -1.734729        59004046  \n",
              "4316          1.734729          -1.734729        65838682  \n",
              "4317         -0.576459           0.576459        14474101  \n",
              "\n",
              "[4318 rows x 31 columns]"
            ]
          },
          "metadata": {
            "tags": []
          },
          "execution_count": 506
        }
      ]
    },
    {
      "cell_type": "code",
      "metadata": {
        "id": "Djpk3wOrulbt",
        "outputId": "440c9cf8-9198-4bd3-ab5e-d3727dbda849"
      },
      "source": [
        "scaled_df.head()"
      ],
      "execution_count": null,
      "outputs": [
        {
          "output_type": "execute_result",
          "data": {
            "text/html": [
              "<div>\n",
              "<style scoped>\n",
              "    .dataframe tbody tr th:only-of-type {\n",
              "        vertical-align: middle;\n",
              "    }\n",
              "\n",
              "    .dataframe tbody tr th {\n",
              "        vertical-align: top;\n",
              "    }\n",
              "\n",
              "    .dataframe thead th {\n",
              "        text-align: right;\n",
              "    }\n",
              "</style>\n",
              "<table border=\"1\" class=\"dataframe\">\n",
              "  <thead>\n",
              "    <tr style=\"text-align: right;\">\n",
              "      <th></th>\n",
              "      <th>Babies</th>\n",
              "      <th>Discount_Rate</th>\n",
              "      <th>Room_Rate</th>\n",
              "      <th>Expected_checkin_Year</th>\n",
              "      <th>expected_days_of_checkin</th>\n",
              "      <th>booked_before_n_days</th>\n",
              "      <th>isWeekend_trip</th>\n",
              "      <th>Income_25K --50K</th>\n",
              "      <th>Income_50K -- 100K</th>\n",
              "      <th>Income_&lt;25K</th>\n",
              "      <th>...</th>\n",
              "      <th>Previous_Cancellations_Yes</th>\n",
              "      <th>Deposit_type_No Deposit</th>\n",
              "      <th>Deposit_type_Non-Refundable</th>\n",
              "      <th>Deposit_type_Refundable</th>\n",
              "      <th>Booking_channel_Agent</th>\n",
              "      <th>Booking_channel_Direct</th>\n",
              "      <th>Booking_channel_Online</th>\n",
              "      <th>Use_Promotion_No</th>\n",
              "      <th>Use_Promotion_Yes</th>\n",
              "      <th>Reservation-id</th>\n",
              "    </tr>\n",
              "  </thead>\n",
              "  <tbody>\n",
              "    <tr>\n",
              "      <th>0</th>\n",
              "      <td>-0.61056</td>\n",
              "      <td>-0.214515</td>\n",
              "      <td>-0.525703</td>\n",
              "      <td>-1.559626</td>\n",
              "      <td>-0.841740</td>\n",
              "      <td>-1.379968</td>\n",
              "      <td>1.058198</td>\n",
              "      <td>1.571961</td>\n",
              "      <td>-0.625386</td>\n",
              "      <td>-0.630405</td>\n",
              "      <td>...</td>\n",
              "      <td>-0.339391</td>\n",
              "      <td>0.709565</td>\n",
              "      <td>-0.30749</td>\n",
              "      <td>-0.575033</td>\n",
              "      <td>-0.410232</td>\n",
              "      <td>1.598096</td>\n",
              "      <td>-1.162141</td>\n",
              "      <td>-0.576459</td>\n",
              "      <td>0.576459</td>\n",
              "      <td>62931593</td>\n",
              "    </tr>\n",
              "    <tr>\n",
              "      <th>1</th>\n",
              "      <td>-0.61056</td>\n",
              "      <td>-1.102178</td>\n",
              "      <td>0.801829</td>\n",
              "      <td>-1.559626</td>\n",
              "      <td>-0.841740</td>\n",
              "      <td>-0.090048</td>\n",
              "      <td>1.058198</td>\n",
              "      <td>1.571961</td>\n",
              "      <td>-0.625386</td>\n",
              "      <td>-0.630405</td>\n",
              "      <td>...</td>\n",
              "      <td>-0.339391</td>\n",
              "      <td>0.709565</td>\n",
              "      <td>-0.30749</td>\n",
              "      <td>-0.575033</td>\n",
              "      <td>-0.410232</td>\n",
              "      <td>-0.625745</td>\n",
              "      <td>0.860481</td>\n",
              "      <td>1.734729</td>\n",
              "      <td>-1.734729</td>\n",
              "      <td>70586099</td>\n",
              "    </tr>\n",
              "    <tr>\n",
              "      <th>2</th>\n",
              "      <td>-0.61056</td>\n",
              "      <td>-0.658347</td>\n",
              "      <td>-1.364145</td>\n",
              "      <td>0.641179</td>\n",
              "      <td>1.208250</td>\n",
              "      <td>-1.395509</td>\n",
              "      <td>1.058198</td>\n",
              "      <td>-0.636148</td>\n",
              "      <td>-0.625386</td>\n",
              "      <td>1.586281</td>\n",
              "      <td>...</td>\n",
              "      <td>-0.339391</td>\n",
              "      <td>0.709565</td>\n",
              "      <td>-0.30749</td>\n",
              "      <td>-0.575033</td>\n",
              "      <td>2.437647</td>\n",
              "      <td>-0.625745</td>\n",
              "      <td>-1.162141</td>\n",
              "      <td>-0.576459</td>\n",
              "      <td>0.576459</td>\n",
              "      <td>4230648</td>\n",
              "    </tr>\n",
              "    <tr>\n",
              "      <th>3</th>\n",
              "      <td>2.92112</td>\n",
              "      <td>-0.214515</td>\n",
              "      <td>-1.597045</td>\n",
              "      <td>-1.559626</td>\n",
              "      <td>0.183255</td>\n",
              "      <td>1.122167</td>\n",
              "      <td>1.058198</td>\n",
              "      <td>1.571961</td>\n",
              "      <td>-0.625386</td>\n",
              "      <td>-0.630405</td>\n",
              "      <td>...</td>\n",
              "      <td>-0.339391</td>\n",
              "      <td>0.709565</td>\n",
              "      <td>-0.30749</td>\n",
              "      <td>-0.575033</td>\n",
              "      <td>-0.410232</td>\n",
              "      <td>-0.625745</td>\n",
              "      <td>0.860481</td>\n",
              "      <td>-0.576459</td>\n",
              "      <td>0.576459</td>\n",
              "      <td>25192322</td>\n",
              "    </tr>\n",
              "    <tr>\n",
              "      <th>4</th>\n",
              "      <td>-0.61056</td>\n",
              "      <td>-1.102178</td>\n",
              "      <td>-1.317565</td>\n",
              "      <td>-1.559626</td>\n",
              "      <td>0.183255</td>\n",
              "      <td>-1.426592</td>\n",
              "      <td>1.058198</td>\n",
              "      <td>1.571961</td>\n",
              "      <td>-0.625386</td>\n",
              "      <td>-0.630405</td>\n",
              "      <td>...</td>\n",
              "      <td>-0.339391</td>\n",
              "      <td>-1.409315</td>\n",
              "      <td>-0.30749</td>\n",
              "      <td>1.739032</td>\n",
              "      <td>2.437647</td>\n",
              "      <td>-0.625745</td>\n",
              "      <td>-1.162141</td>\n",
              "      <td>1.734729</td>\n",
              "      <td>-1.734729</td>\n",
              "      <td>80931528</td>\n",
              "    </tr>\n",
              "  </tbody>\n",
              "</table>\n",
              "<p>5 rows × 31 columns</p>\n",
              "</div>"
            ],
            "text/plain": [
              "    Babies  Discount_Rate  Room_Rate  Expected_checkin_Year  \\\n",
              "0 -0.61056      -0.214515  -0.525703              -1.559626   \n",
              "1 -0.61056      -1.102178   0.801829              -1.559626   \n",
              "2 -0.61056      -0.658347  -1.364145               0.641179   \n",
              "3  2.92112      -0.214515  -1.597045              -1.559626   \n",
              "4 -0.61056      -1.102178  -1.317565              -1.559626   \n",
              "\n",
              "   expected_days_of_checkin  booked_before_n_days  isWeekend_trip  \\\n",
              "0                 -0.841740             -1.379968        1.058198   \n",
              "1                 -0.841740             -0.090048        1.058198   \n",
              "2                  1.208250             -1.395509        1.058198   \n",
              "3                  0.183255              1.122167        1.058198   \n",
              "4                  0.183255             -1.426592        1.058198   \n",
              "\n",
              "   Income_25K --50K  Income_50K -- 100K  Income_<25K  ...  \\\n",
              "0          1.571961           -0.625386    -0.630405  ...   \n",
              "1          1.571961           -0.625386    -0.630405  ...   \n",
              "2         -0.636148           -0.625386     1.586281  ...   \n",
              "3          1.571961           -0.625386    -0.630405  ...   \n",
              "4          1.571961           -0.625386    -0.630405  ...   \n",
              "\n",
              "   Previous_Cancellations_Yes  Deposit_type_No Deposit  \\\n",
              "0                   -0.339391                 0.709565   \n",
              "1                   -0.339391                 0.709565   \n",
              "2                   -0.339391                 0.709565   \n",
              "3                   -0.339391                 0.709565   \n",
              "4                   -0.339391                -1.409315   \n",
              "\n",
              "   Deposit_type_Non-Refundable  Deposit_type_Refundable  \\\n",
              "0                     -0.30749                -0.575033   \n",
              "1                     -0.30749                -0.575033   \n",
              "2                     -0.30749                -0.575033   \n",
              "3                     -0.30749                -0.575033   \n",
              "4                     -0.30749                 1.739032   \n",
              "\n",
              "   Booking_channel_Agent  Booking_channel_Direct  Booking_channel_Online  \\\n",
              "0              -0.410232                1.598096               -1.162141   \n",
              "1              -0.410232               -0.625745                0.860481   \n",
              "2               2.437647               -0.625745               -1.162141   \n",
              "3              -0.410232               -0.625745                0.860481   \n",
              "4               2.437647               -0.625745               -1.162141   \n",
              "\n",
              "   Use_Promotion_No  Use_Promotion_Yes  Reservation-id  \n",
              "0         -0.576459           0.576459        62931593  \n",
              "1          1.734729          -1.734729        70586099  \n",
              "2         -0.576459           0.576459         4230648  \n",
              "3         -0.576459           0.576459        25192322  \n",
              "4          1.734729          -1.734729        80931528  \n",
              "\n",
              "[5 rows x 31 columns]"
            ]
          },
          "metadata": {
            "tags": []
          },
          "execution_count": 507
        }
      ]
    },
    {
      "cell_type": "code",
      "metadata": {
        "id": "rPrLoFWHulbt"
      },
      "source": [
        "scaled_df.to_csv('scaled_and_selected_features_test.csv')"
      ],
      "execution_count": null,
      "outputs": []
    },
    {
      "cell_type": "markdown",
      "metadata": {
        "id": "3_JfP9XIulbu"
      },
      "source": [
        "## End"
      ]
    },
    {
      "cell_type": "code",
      "metadata": {
        "id": "-O7ws8G2ulbu"
      },
      "source": [
        "df = scaled_df.copy()"
      ],
      "execution_count": null,
      "outputs": []
    },
    {
      "cell_type": "code",
      "metadata": {
        "id": "9jZ7nsg0ulbu"
      },
      "source": [
        "df = pd.read_csv('scaled_and_selected_features_train.csv')"
      ],
      "execution_count": null,
      "outputs": []
    },
    {
      "cell_type": "code",
      "metadata": {
        "id": "FUrgNzNsulbu",
        "outputId": "746f6788-db9d-46e1-9844-8c32cf9babf9"
      },
      "source": [
        "X.columns"
      ],
      "execution_count": null,
      "outputs": [
        {
          "output_type": "execute_result",
          "data": {
            "text/plain": [
              "Index(['Babies', 'Discount_Rate', 'Room_Rate', 'Expected_checkin_Year',\n",
              "       'expected_days_of_checkin', 'booked_before_n_days', 'isWeekend_trip',\n",
              "       'Income_25K --50K', 'Income_50K -- 100K', 'Income__25K', 'Income_>100K',\n",
              "       'Country_region_East', 'Country_region_North', 'Country_region_South',\n",
              "       'Country_region_West', 'Meal_Type_BB', 'Meal_Type_FB', 'Meal_Type_HB',\n",
              "       'Visted_Previously_No', 'Visted_Previously_Yes',\n",
              "       'Previous_Cancellations_No', 'Previous_Cancellations_Yes',\n",
              "       'Deposit_type_No Deposit', 'Deposit_type_Non-Refundable',\n",
              "       'Deposit_type_Refundable', 'Booking_channel_Agent',\n",
              "       'Booking_channel_Direct', 'Booking_channel_Online', 'Use_Promotion_No',\n",
              "       'Use_Promotion_Yes'],\n",
              "      dtype='object')"
            ]
          },
          "metadata": {
            "tags": []
          },
          "execution_count": 345
        }
      ]
    },
    {
      "cell_type": "code",
      "metadata": {
        "id": "zU62I1I6ulbu"
      },
      "source": [
        "y =df['Reservation_Status']"
      ],
      "execution_count": null,
      "outputs": []
    },
    {
      "cell_type": "code",
      "metadata": {
        "id": "M_0llDygulbu"
      },
      "source": [
        "X = df.drop(['Reservation_Status','Reservation-id','Unnamed: 0','isWeekend_trip'],axis=1)"
      ],
      "execution_count": null,
      "outputs": []
    },
    {
      "cell_type": "code",
      "metadata": {
        "id": "8u-GfmEeulbv"
      },
      "source": [
        "regex = re.compile(r\"\\[|\\]|<\", re.IGNORECASE)"
      ],
      "execution_count": null,
      "outputs": []
    },
    {
      "cell_type": "code",
      "metadata": {
        "id": "-ZeXydXHulbv"
      },
      "source": [
        "X.columns = [regex.sub(\"_\", col) if any(x in str(col) for x in set(('[', ']', '<'))) else col for col in X.columns.values]"
      ],
      "execution_count": null,
      "outputs": []
    },
    {
      "cell_type": "code",
      "metadata": {
        "id": "eYObiH2uulbv"
      },
      "source": [
        "from sklearn.preprocessing import LabelEncoder"
      ],
      "execution_count": null,
      "outputs": []
    },
    {
      "cell_type": "code",
      "metadata": {
        "id": "YWpFhOx2ulbv"
      },
      "source": [
        "lblEncoder = LabelEncoder()"
      ],
      "execution_count": null,
      "outputs": []
    },
    {
      "cell_type": "code",
      "metadata": {
        "id": "528mhEdhulbv"
      },
      "source": [
        "y = lblEncoder.fit_transform(y)"
      ],
      "execution_count": null,
      "outputs": []
    },
    {
      "cell_type": "code",
      "metadata": {
        "id": "0D-HUetOulbv"
      },
      "source": [
        "from sklearn.model_selection import train_test_split"
      ],
      "execution_count": null,
      "outputs": []
    },
    {
      "cell_type": "code",
      "metadata": {
        "id": "DF1Ot3bOulbw"
      },
      "source": [
        "X_train, X_test, y_train, y_test = train_test_split(X , y, test_size = 0.2, random_state = 42)"
      ],
      "execution_count": null,
      "outputs": []
    },
    {
      "cell_type": "code",
      "metadata": {
        "id": "WsqbG0BCulbw"
      },
      "source": [
        "from sklearn.ensemble import RandomForestClassifier\n",
        "from sklearn.tree import DecisionTreeClassifier"
      ],
      "execution_count": null,
      "outputs": []
    },
    {
      "cell_type": "code",
      "metadata": {
        "id": "9a13bFKXulbw"
      },
      "source": [
        "clf = RandomForestClassifier(max_depth=10, random_state=0,n_estimators=100,n_jobs=3,verbose=1)"
      ],
      "execution_count": null,
      "outputs": []
    },
    {
      "cell_type": "code",
      "metadata": {
        "id": "Vvp-_eapulbw",
        "outputId": "f6ae15e0-5308-45e6-c714-93d8e9defb54"
      },
      "source": [
        "clf.fit(X_train, y_train)"
      ],
      "execution_count": null,
      "outputs": [
        {
          "output_type": "stream",
          "text": [
            "[Parallel(n_jobs=3)]: Using backend ThreadingBackend with 3 concurrent workers.\n",
            "[Parallel(n_jobs=3)]: Done  44 tasks      | elapsed:    0.1s\n",
            "[Parallel(n_jobs=3)]: Done 100 out of 100 | elapsed:    0.4s finished\n"
          ],
          "name": "stderr"
        },
        {
          "output_type": "execute_result",
          "data": {
            "text/plain": [
              "RandomForestClassifier(max_depth=10, n_jobs=3, random_state=0, verbose=1)"
            ]
          },
          "metadata": {
            "tags": []
          },
          "execution_count": 356
        }
      ]
    },
    {
      "cell_type": "code",
      "metadata": {
        "id": "AfufuwrQulbw",
        "outputId": "57b45f80-c81b-435a-9e3b-457c086ce341"
      },
      "source": [
        "clf.score(X_test,y_test)"
      ],
      "execution_count": null,
      "outputs": [
        {
          "output_type": "stream",
          "text": [
            "[Parallel(n_jobs=3)]: Using backend ThreadingBackend with 3 concurrent workers.\n",
            "[Parallel(n_jobs=3)]: Done  44 tasks      | elapsed:    0.0s\n",
            "[Parallel(n_jobs=3)]: Done 100 out of 100 | elapsed:    0.0s finished\n"
          ],
          "name": "stderr"
        },
        {
          "output_type": "execute_result",
          "data": {
            "text/plain": [
              "0.7915139826422373"
            ]
          },
          "metadata": {
            "tags": []
          },
          "execution_count": 357
        }
      ]
    },
    {
      "cell_type": "code",
      "metadata": {
        "id": "PJkCumQmulbx"
      },
      "source": [
        ""
      ],
      "execution_count": null,
      "outputs": []
    },
    {
      "cell_type": "markdown",
      "metadata": {
        "id": "8RMICXDzulbx"
      },
      "source": [
        "## Test"
      ]
    },
    {
      "cell_type": "code",
      "metadata": {
        "id": "Y93FTYO1ulbx"
      },
      "source": [
        "import numpy as np\n",
        "import pandas as pd\n",
        "\n",
        "from scipy.stats import uniform, randint\n",
        "from sklearn.metrics import auc, accuracy_score, confusion_matrix, mean_squared_error\n",
        "from sklearn.model_selection import cross_val_score, GridSearchCV, KFold, RandomizedSearchCV, train_test_split\n",
        "from sklearn.ensemble import RandomForestClassifier, RandomForestRegressor\n",
        "import xgboost as xgb\n",
        "from sklearn.metrics import classification_report, confusion_matrix, accuracy_score\n",
        "from sklearn.metrics import f1_score\n",
        "import re\n",
        "from numpy import mean\n",
        "from numpy import std\n",
        "from sklearn.ensemble import GradientBoostingClassifier\n",
        "from sklearn.model_selection import cross_val_score\n",
        "from sklearn.model_selection import RepeatedStratifiedKFold\n",
        "import matplotlib.pyplot as plt\n",
        "from sklearn.model_selection import KFold, train_test_split, GridSearchCV\n",
        "from sklearn.ensemble import RandomForestClassifier\n",
        "from sklearn.neighbors import KNeighborsClassifier\n",
        "from xgboost.sklearn import XGBClassifier\n",
        "import pickle"
      ],
      "execution_count": null,
      "outputs": []
    },
    {
      "cell_type": "code",
      "metadata": {
        "id": "gYpReE86ulbx"
      },
      "source": [
        "model_gb = GradientBoostingClassifier(learning_rate=0.01,n_estimators=500,max_depth=5).fit(X_train,y_train)"
      ],
      "execution_count": null,
      "outputs": []
    },
    {
      "cell_type": "code",
      "metadata": {
        "id": "hFDMvlA-ulbx",
        "outputId": "a0c78d3c-5f9b-42f6-bc5d-37608c904919"
      },
      "source": [
        "model_gb.score(X_test,y_test)"
      ],
      "execution_count": null,
      "outputs": [
        {
          "output_type": "execute_result",
          "data": {
            "text/plain": [
              "0.7907425265188043"
            ]
          },
          "metadata": {
            "tags": []
          },
          "execution_count": 359
        }
      ]
    },
    {
      "cell_type": "code",
      "metadata": {
        "id": "MJgcDEddulby",
        "outputId": "65a5b578-4e2f-4f06-84c7-1233976bedc2"
      },
      "source": [
        "y_pred = model_gb.predict(X_test)\n",
        "print(confusion_matrix(y_test,y_pred))\n",
        "print(classification_report(y_test,y_pred))\n",
        "print(accuracy_score(y_test, y_pred))"
      ],
      "execution_count": null,
      "outputs": [
        {
          "output_type": "stream",
          "text": [
            "[[   1  698    0]\n",
            " [   5 4099    0]\n",
            " [   0  382    0]]\n",
            "              precision    recall  f1-score   support\n",
            "\n",
            "           0       0.17      0.00      0.00       699\n",
            "           1       0.79      1.00      0.88      4104\n",
            "           2       0.00      0.00      0.00       382\n",
            "\n",
            "    accuracy                           0.79      5185\n",
            "   macro avg       0.32      0.33      0.30      5185\n",
            "weighted avg       0.65      0.79      0.70      5185\n",
            "\n",
            "0.7907425265188043\n"
          ],
          "name": "stdout"
        },
        {
          "output_type": "stream",
          "text": [
            "C:\\Users\\ransa\\anaconda3\\lib\\site-packages\\sklearn\\metrics\\_classification.py:1221: UndefinedMetricWarning: Precision and F-score are ill-defined and being set to 0.0 in labels with no predicted samples. Use `zero_division` parameter to control this behavior.\n",
            "  _warn_prf(average, modifier, msg_start, len(result))\n"
          ],
          "name": "stderr"
        }
      ]
    },
    {
      "cell_type": "code",
      "metadata": {
        "id": "Xp9XV1X1ulby",
        "outputId": "a779f31d-2278-4c75-a871-1df77ef2d1ee"
      },
      "source": [
        "classifiers = [\n",
        "    KNeighborsClassifier(n_jobs = 4,n_neighbors=3),\n",
        "    RandomForestClassifier(n_jobs = 4),\n",
        "    XGBClassifier(n_jobs = 4,importance_type='weight')\n",
        "]\n",
        "\n",
        "# iterate over classifiers\n",
        "for item in classifiers:\n",
        "    classifier_name = ((str(item)[:(str(item).find(\"(\"))]))\n",
        "    print (classifier_name)\n",
        "    \n",
        "    # Create classifier, train it and test it.\n",
        "    clf = item\n",
        "    clf.fit(X_train, y_train)\n",
        "    pred = clf.predict(X_test)\n",
        "    score = clf.score(X_test, y_test)\n",
        "    print (\"Score: \", round(score,3),\"\\nF1 score: \", round(f1_score(y_test, pred,average='macro'), 3), \"\\n- - - - - \", \"\\n\")"
      ],
      "execution_count": null,
      "outputs": [
        {
          "output_type": "stream",
          "text": [
            "KNeighborsClassifier\n",
            "Score:  0.713 \n",
            "F1 score:  0.349 \n",
            "- - - - -  \n",
            "\n",
            "RandomForestClassifier\n",
            "Score:  0.786 \n",
            "F1 score:  0.311 \n",
            "- - - - -  \n",
            "\n",
            "XGBClassifier\n",
            "[08:37:17] WARNING: C:/Users/Administrator/workspace/xgboost-win64_release_1.3.0/src/learner.cc:1061: Starting in XGBoost 1.3.0, the default evaluation metric used with the objective 'multi:softprob' was changed from 'merror' to 'mlogloss'. Explicitly set eval_metric if you'd like to restore the old behavior.\n"
          ],
          "name": "stdout"
        },
        {
          "output_type": "stream",
          "text": [
            "C:\\Users\\ransa\\anaconda3\\lib\\site-packages\\xgboost\\sklearn.py:888: UserWarning: The use of label encoder in XGBClassifier is deprecated and will be removed in a future release. To remove this warning, do the following: 1) Pass option use_label_encoder=False when constructing XGBClassifier object; and 2) Encode your labels (y) as integers starting with 0, i.e. 0, 1, 2, ..., [num_class - 1].\n",
            "  warnings.warn(label_encoder_deprecation_msg, UserWarning)\n"
          ],
          "name": "stderr"
        },
        {
          "output_type": "stream",
          "text": [
            "Score:  0.782 \n",
            "F1 score:  0.31 \n",
            "- - - - -  \n",
            "\n"
          ],
          "name": "stdout"
        }
      ]
    },
    {
      "cell_type": "code",
      "metadata": {
        "id": "8BAA4nNVulby",
        "outputId": "d2a8d186-4825-45b2-fe84-074092e642b4"
      },
      "source": [
        "for i,j in enumerate([x for x in range(1,20)],start=1):\n",
        "    knn = KNeighborsClassifier(n_jobs = i,n_neighbors=j).fit(X_train,y_train)\n",
        "    print(i,j,f1_score(y_test, knn.predict(X_test),average='macro'))"
      ],
      "execution_count": null,
      "outputs": [
        {
          "output_type": "stream",
          "text": [
            "1 1 0.35571749750619036\n",
            "2 2 0.3347061249056233\n",
            "3 3 0.34786169748853063\n",
            "4 4 0.34965017364978723\n",
            "5 5 0.3339265335566757\n",
            "6 6 0.3343707550176347\n",
            "7 7 0.33040876171424616\n",
            "8 8 0.3248737959752519\n",
            "9 9 0.32143223817977606\n",
            "10 10 0.31325858061408707\n",
            "11 11 0.30869189733050456\n",
            "12 12 0.3028862302433909\n",
            "13 13 0.3047455123122644\n",
            "14 14 0.30526241518736535\n",
            "15 15 0.3049833667665885\n",
            "16 16 0.30237918384297524\n",
            "17 17 0.3054287747136001\n",
            "18 18 0.30085039198492197\n",
            "19 19 0.30197692589394975\n"
          ],
          "name": "stdout"
        }
      ]
    },
    {
      "cell_type": "code",
      "metadata": {
        "id": "Pb2CnmFnulby"
      },
      "source": [
        "knn = KNeighborsClassifier(n_jobs = 4,n_neighbors=4).fit(X_train,y_train)"
      ],
      "execution_count": null,
      "outputs": []
    },
    {
      "cell_type": "code",
      "metadata": {
        "id": "VLwl24vwulbz",
        "outputId": "a35b7009-cbd1-46d8-af9c-8e8fbdee791f"
      },
      "source": [
        "y_pred = knn.predict(X_test)\n",
        "print(confusion_matrix(y_test,y_pred,labels=[0,1,2]))\n",
        "print(classification_report(y_test,y_pred))\n",
        "print(accuracy_score(y_test, y_pred))"
      ],
      "execution_count": null,
      "outputs": [
        {
          "output_type": "stream",
          "text": [
            "[[ 104  586    9]\n",
            " [ 431 3633   40]\n",
            " [  52  322    8]]\n",
            "              precision    recall  f1-score   support\n",
            "\n",
            "           0       0.18      0.15      0.16       699\n",
            "           1       0.80      0.89      0.84      4104\n",
            "           2       0.14      0.02      0.04       382\n",
            "\n",
            "    accuracy                           0.72      5185\n",
            "   macro avg       0.37      0.35      0.35      5185\n",
            "weighted avg       0.67      0.72      0.69      5185\n",
            "\n",
            "0.7222757955641272\n"
          ],
          "name": "stdout"
        }
      ]
    },
    {
      "cell_type": "code",
      "metadata": {
        "id": "0DGW5xQWulbz",
        "outputId": "da68d72f-24e9-4cc0-bb28-44725eb64958"
      },
      "source": [
        "knn.score(X_train,y_train)"
      ],
      "execution_count": null,
      "outputs": [
        {
          "output_type": "execute_result",
          "data": {
            "text/plain": [
              "0.8034715525554484"
            ]
          },
          "metadata": {
            "tags": []
          },
          "execution_count": 364
        }
      ]
    },
    {
      "cell_type": "code",
      "metadata": {
        "id": "olwhdsvtulbz"
      },
      "source": [
        "knn = KNeighborsClassifier(n_jobs = 4,n_neighbors=4).fit(X,y)"
      ],
      "execution_count": null,
      "outputs": []
    },
    {
      "cell_type": "code",
      "metadata": {
        "id": "nBCkzTYVulbz"
      },
      "source": [
        "saved_model = pickle.dumps(knn) "
      ],
      "execution_count": null,
      "outputs": []
    },
    {
      "cell_type": "code",
      "metadata": {
        "id": "vbh_vwdsulbz"
      },
      "source": [
        "pickle.dump(knn,open('model', 'wb'))"
      ],
      "execution_count": null,
      "outputs": []
    },
    {
      "cell_type": "code",
      "metadata": {
        "id": "dSENVMaXulb0"
      },
      "source": [
        "loaded_model = pickle.load(open('model', 'rb'))"
      ],
      "execution_count": null,
      "outputs": []
    },
    {
      "cell_type": "code",
      "metadata": {
        "id": "FaLceSIGulb1",
        "outputId": "a53c50da-85c4-4070-e0e5-cedb6549e768"
      },
      "source": [
        "loaded_model.score(X_train,y_train)"
      ],
      "execution_count": null,
      "outputs": [
        {
          "output_type": "execute_result",
          "data": {
            "text/plain": [
              "0.8043876567020251"
            ]
          },
          "metadata": {
            "tags": []
          },
          "execution_count": 369
        }
      ]
    },
    {
      "cell_type": "markdown",
      "metadata": {
        "id": "DSvmLrtwulb1"
      },
      "source": [
        "## Xgb"
      ]
    },
    {
      "cell_type": "code",
      "metadata": {
        "id": "4UKA8wPEulb1"
      },
      "source": [
        "xgb = XGBClassifier(n_jobs = 4,objective='multi:softmax',n_estimators=200,max_depth=7)"
      ],
      "execution_count": null,
      "outputs": []
    },
    {
      "cell_type": "code",
      "metadata": {
        "id": "Nu_rNT_4ulb1",
        "outputId": "abbd2342-616e-4b29-b8d6-99c8ef11ab5d"
      },
      "source": [
        "xgbclf = xgb.fit(X_train,y_train)"
      ],
      "execution_count": null,
      "outputs": [
        {
          "output_type": "stream",
          "text": [
            "C:\\Users\\ransa\\anaconda3\\lib\\site-packages\\xgboost\\sklearn.py:888: UserWarning: The use of label encoder in XGBClassifier is deprecated and will be removed in a future release. To remove this warning, do the following: 1) Pass option use_label_encoder=False when constructing XGBClassifier object; and 2) Encode your labels (y) as integers starting with 0, i.e. 0, 1, 2, ..., [num_class - 1].\n",
            "  warnings.warn(label_encoder_deprecation_msg, UserWarning)\n"
          ],
          "name": "stderr"
        },
        {
          "output_type": "stream",
          "text": [
            "[08:38:17] WARNING: C:/Users/Administrator/workspace/xgboost-win64_release_1.3.0/src/learner.cc:1061: Starting in XGBoost 1.3.0, the default evaluation metric used with the objective 'multi:softprob' was changed from 'merror' to 'mlogloss'. Explicitly set eval_metric if you'd like to restore the old behavior.\n"
          ],
          "name": "stdout"
        }
      ]
    },
    {
      "cell_type": "code",
      "metadata": {
        "id": "oHFxruOoulb1",
        "outputId": "2b318196-c720-4c02-f82b-f3e62f83be9c"
      },
      "source": [
        "xgbclf.score(X_test,y_test)"
      ],
      "execution_count": null,
      "outputs": [
        {
          "output_type": "execute_result",
          "data": {
            "text/plain": [
              "0.7741562198649952"
            ]
          },
          "metadata": {
            "tags": []
          },
          "execution_count": 372
        }
      ]
    },
    {
      "cell_type": "code",
      "metadata": {
        "id": "3QOjxT2dulb2",
        "outputId": "b62916c5-7425-4b6a-8343-15bc1dc50b78"
      },
      "source": [
        "y_pred = xgbclf.predict(X_test)\n",
        "print(confusion_matrix(y_test,y_pred,labels=[0,1,2]))\n",
        "print(classification_report(y_test,y_pred))\n",
        "print(accuracy_score(y_test, y_pred))"
      ],
      "execution_count": null,
      "outputs": [
        {
          "output_type": "stream",
          "text": [
            "[[  50  644    5]\n",
            " [ 133 3957   14]\n",
            " [  16  359    7]]\n",
            "              precision    recall  f1-score   support\n",
            "\n",
            "           0       0.25      0.07      0.11       699\n",
            "           1       0.80      0.96      0.87      4104\n",
            "           2       0.27      0.02      0.03       382\n",
            "\n",
            "    accuracy                           0.77      5185\n",
            "   macro avg       0.44      0.35      0.34      5185\n",
            "weighted avg       0.69      0.77      0.71      5185\n",
            "\n",
            "0.7741562198649952\n"
          ],
          "name": "stdout"
        }
      ]
    },
    {
      "cell_type": "code",
      "metadata": {
        "id": "IdKAJD_yulb2"
      },
      "source": [
        ""
      ],
      "execution_count": null,
      "outputs": []
    },
    {
      "cell_type": "code",
      "metadata": {
        "id": "HqjRT19Xulb2",
        "outputId": "5117f003-eabd-4023-f49f-ab3710c004d1"
      },
      "source": [
        "param_test1 = {\n",
        " 'max_depth':range(3,10,2),\n",
        " 'min_child_weight':range(1,6,2)\n",
        "}\n",
        "gsearch1 = GridSearchCV(estimator = XGBClassifier( learning_rate =0.1, n_estimators=140, max_depth=5,min_child_weight=1, gamma=0, subsample=0.8, colsample_bytree=0.8,objective= 'multi:softmax', nthread=4, scale_pos_weight=1, seed=27), \n",
        "param_grid = param_test1,n_jobs=4,iid=False, cv=5)\n",
        "gsearch1.fit(X_train,y_train)\n",
        "gsearch1.grid_scores_, gsearch1.best_params_, gsearch1.best_score_"
      ],
      "execution_count": null,
      "outputs": [
        {
          "output_type": "stream",
          "text": [
            "C:\\Users\\ransa\\anaconda3\\lib\\site-packages\\sklearn\\model_selection\\_search.py:847: FutureWarning: The parameter 'iid' is deprecated in 0.22 and will be removed in 0.24.\n",
            "  warnings.warn(\n",
            "C:\\Users\\ransa\\anaconda3\\lib\\site-packages\\xgboost\\sklearn.py:888: UserWarning: The use of label encoder in XGBClassifier is deprecated and will be removed in a future release. To remove this warning, do the following: 1) Pass option use_label_encoder=False when constructing XGBClassifier object; and 2) Encode your labels (y) as integers starting with 0, i.e. 0, 1, 2, ..., [num_class - 1].\n",
            "  warnings.warn(label_encoder_deprecation_msg, UserWarning)\n"
          ],
          "name": "stderr"
        },
        {
          "output_type": "stream",
          "text": [
            "[07:25:18] WARNING: C:/Users/Administrator/workspace/xgboost-win64_release_1.3.0/src/learner.cc:541: \n",
            "Parameters: { scale_pos_weight } might not be used.\n",
            "\n",
            "  This may not be accurate due to some parameters are only used in language bindings but\n",
            "  passed down to XGBoost core.  Or some parameters are not used but slip through this\n",
            "  verification. Please open an issue if you find above cases.\n",
            "\n",
            "\n",
            "[07:25:19] WARNING: C:/Users/Administrator/workspace/xgboost-win64_release_1.3.0/src/learner.cc:1061: Starting in XGBoost 1.3.0, the default evaluation metric used with the objective 'multi:softprob' was changed from 'merror' to 'mlogloss'. Explicitly set eval_metric if you'd like to restore the old behavior.\n"
          ],
          "name": "stdout"
        },
        {
          "output_type": "error",
          "ename": "AttributeError",
          "evalue": "'GridSearchCV' object has no attribute 'grid_scores_'",
          "traceback": [
            "\u001b[1;31m---------------------------------------------------------------------------\u001b[0m",
            "\u001b[1;31mAttributeError\u001b[0m                            Traceback (most recent call last)",
            "\u001b[1;32m<ipython-input-225-40b7422d7cf7>\u001b[0m in \u001b[0;36m<module>\u001b[1;34m\u001b[0m\n\u001b[0;32m      6\u001b[0m param_grid = param_test1,n_jobs=4,iid=False, cv=5)\n\u001b[0;32m      7\u001b[0m \u001b[0mgsearch1\u001b[0m\u001b[1;33m.\u001b[0m\u001b[0mfit\u001b[0m\u001b[1;33m(\u001b[0m\u001b[0mX_train\u001b[0m\u001b[1;33m,\u001b[0m\u001b[0my_train\u001b[0m\u001b[1;33m)\u001b[0m\u001b[1;33m\u001b[0m\u001b[1;33m\u001b[0m\u001b[0m\n\u001b[1;32m----> 8\u001b[1;33m \u001b[0mgsearch1\u001b[0m\u001b[1;33m.\u001b[0m\u001b[0mgrid_scores_\u001b[0m\u001b[1;33m,\u001b[0m \u001b[0mgsearch1\u001b[0m\u001b[1;33m.\u001b[0m\u001b[0mbest_params_\u001b[0m\u001b[1;33m,\u001b[0m \u001b[0mgsearch1\u001b[0m\u001b[1;33m.\u001b[0m\u001b[0mbest_score_\u001b[0m\u001b[1;33m\u001b[0m\u001b[1;33m\u001b[0m\u001b[0m\n\u001b[0m",
            "\u001b[1;31mAttributeError\u001b[0m: 'GridSearchCV' object has no attribute 'grid_scores_'"
          ]
        }
      ]
    },
    {
      "cell_type": "code",
      "metadata": {
        "id": "t2UPddQQulb2",
        "outputId": "343a2ead-cffb-46a1-9915-6bf07191128c"
      },
      "source": [
        "gsearch1.cv_results_"
      ],
      "execution_count": null,
      "outputs": [
        {
          "output_type": "execute_result",
          "data": {
            "text/plain": [
              "{'mean_fit_time': array([ 5.25161099,  4.03470902,  4.50659294,  8.58086357,  8.9068243 ,\n",
              "         8.82845964, 16.56539097, 13.4695529 , 12.86002865, 17.40419602,\n",
              "        15.82542319, 13.97052894]),\n",
              " 'std_fit_time': array([0.61621864, 0.18219557, 0.19554782, 0.1103972 , 0.21002595,\n",
              "        0.4768157 , 0.54167013, 0.98639759, 0.2331389 , 0.851301  ,\n",
              "        0.18634766, 1.34514568]),\n",
              " 'mean_score_time': array([0.01679993, 0.018397  , 0.01980338, 0.02855291, 0.02727051,\n",
              "        0.0336925 , 0.04639883, 0.03719959, 0.03744946, 0.04122148,\n",
              "        0.04354968, 0.03504291]),\n",
              " 'std_score_time': array([0.00222563, 0.00120116, 0.00618104, 0.00332477, 0.00605361,\n",
              "        0.0059988 , 0.0112517 , 0.00591168, 0.00799817, 0.00531016,\n",
              "        0.00339109, 0.00816139]),\n",
              " 'param_max_depth': masked_array(data=[3, 3, 3, 5, 5, 5, 7, 7, 7, 9, 9, 9],\n",
              "              mask=[False, False, False, False, False, False, False, False,\n",
              "                    False, False, False, False],\n",
              "        fill_value='?',\n",
              "             dtype=object),\n",
              " 'param_min_child_weight': masked_array(data=[1, 3, 5, 1, 3, 5, 1, 3, 5, 1, 3, 5],\n",
              "              mask=[False, False, False, False, False, False, False, False,\n",
              "                    False, False, False, False],\n",
              "        fill_value='?',\n",
              "             dtype=object),\n",
              " 'params': [{'max_depth': 3, 'min_child_weight': 1},\n",
              "  {'max_depth': 3, 'min_child_weight': 3},\n",
              "  {'max_depth': 3, 'min_child_weight': 5},\n",
              "  {'max_depth': 5, 'min_child_weight': 1},\n",
              "  {'max_depth': 5, 'min_child_weight': 3},\n",
              "  {'max_depth': 5, 'min_child_weight': 5},\n",
              "  {'max_depth': 7, 'min_child_weight': 1},\n",
              "  {'max_depth': 7, 'min_child_weight': 3},\n",
              "  {'max_depth': 7, 'min_child_weight': 5},\n",
              "  {'max_depth': 9, 'min_child_weight': 1},\n",
              "  {'max_depth': 9, 'min_child_weight': 3},\n",
              "  {'max_depth': 9, 'min_child_weight': 5}],\n",
              " 'split0_test_score': array([0.78326905, 0.78326905, 0.78326905, 0.78278689, 0.78278689,\n",
              "        0.78351013, 0.78109932, 0.780135  , 0.78037608, 0.77507232,\n",
              "        0.77555448, 0.77844744]),\n",
              " 'split1_test_score': array([0.78326905, 0.78351013, 0.78326905, 0.78254581, 0.78278689,\n",
              "        0.78254581, 0.780135  , 0.78158149, 0.78061716, 0.77965284,\n",
              "        0.7789296 , 0.77844744]),\n",
              " 'split2_test_score': array([0.78254581, 0.78254581, 0.78230473, 0.78158149, 0.78061716,\n",
              "        0.78085824, 0.7789296 , 0.78061716, 0.77989392, 0.77579556,\n",
              "        0.77675988, 0.7765188 ]),\n",
              " 'split3_test_score': array([0.78326905, 0.78302797, 0.78302797, 0.78158149, 0.78061716,\n",
              "        0.78326905, 0.7777242 , 0.77820636, 0.77868852, 0.77844744,\n",
              "        0.77724204, 0.77748312]),\n",
              " 'split4_test_score': array([0.78302797, 0.78302797, 0.78302797, 0.78302797, 0.78302797,\n",
              "        0.78230473, 0.7789296 , 0.78061716, 0.780135  , 0.77555448,\n",
              "        0.77675988, 0.77748312]),\n",
              " 'mean_test_score': array([0.78307618, 0.78307618, 0.78297975, 0.78230473, 0.78196721,\n",
              "        0.78249759, 0.77936355, 0.78023144, 0.77994214, 0.77690453,\n",
              "        0.77704918, 0.77767599]),\n",
              " 'std_test_score': array([0.00028115, 0.00031983, 0.00035431, 0.00060989, 0.00110582,\n",
              "        0.00093245, 0.00115517, 0.00111628, 0.00067157, 0.00180794,\n",
              "        0.00109313, 0.00072163]),\n",
              " 'rank_test_score': array([ 1,  2,  3,  5,  6,  4,  9,  7,  8, 12, 11, 10])}"
            ]
          },
          "metadata": {
            "tags": []
          },
          "execution_count": 232
        }
      ]
    },
    {
      "cell_type": "code",
      "metadata": {
        "id": "dEjINVIFulb3",
        "outputId": "59b81529-9978-4272-8ea6-087eb4c5a75a"
      },
      "source": [
        "param_test2 = {\n",
        " 'max_depth':[3,5,7,9],\n",
        " 'min_child_weight':[1,3,5]\n",
        "}\n",
        "gsearch2 = GridSearchCV(estimator = XGBClassifier( learning_rate =0.1, n_estimators=140, max_depth=5,min_child_weight=1, gamma=0, subsample=0.8, colsample_bytree=0.8,objective= 'multi:softmax', nthread=4, scale_pos_weight=1, seed=27), \n",
        "param_grid = param_test2,n_jobs=4,iid=False, cv=5)\n",
        "gsearch2.fit(X_train,y_train)"
      ],
      "execution_count": null,
      "outputs": [
        {
          "output_type": "stream",
          "text": [
            "C:\\Users\\ransa\\anaconda3\\lib\\site-packages\\sklearn\\model_selection\\_search.py:847: FutureWarning: The parameter 'iid' is deprecated in 0.22 and will be removed in 0.24.\n",
            "  warnings.warn(\n",
            "C:\\Users\\ransa\\anaconda3\\lib\\site-packages\\xgboost\\sklearn.py:888: UserWarning: The use of label encoder in XGBClassifier is deprecated and will be removed in a future release. To remove this warning, do the following: 1) Pass option use_label_encoder=False when constructing XGBClassifier object; and 2) Encode your labels (y) as integers starting with 0, i.e. 0, 1, 2, ..., [num_class - 1].\n",
            "  warnings.warn(label_encoder_deprecation_msg, UserWarning)\n"
          ],
          "name": "stderr"
        },
        {
          "output_type": "stream",
          "text": [
            "[07:37:46] WARNING: C:/Users/Administrator/workspace/xgboost-win64_release_1.3.0/src/learner.cc:541: \n",
            "Parameters: { scale_pos_weight } might not be used.\n",
            "\n",
            "  This may not be accurate due to some parameters are only used in language bindings but\n",
            "  passed down to XGBoost core.  Or some parameters are not used but slip through this\n",
            "  verification. Please open an issue if you find above cases.\n",
            "\n",
            "\n",
            "[07:37:46] WARNING: C:/Users/Administrator/workspace/xgboost-win64_release_1.3.0/src/learner.cc:1061: Starting in XGBoost 1.3.0, the default evaluation metric used with the objective 'multi:softprob' was changed from 'merror' to 'mlogloss'. Explicitly set eval_metric if you'd like to restore the old behavior.\n"
          ],
          "name": "stdout"
        },
        {
          "output_type": "execute_result",
          "data": {
            "text/plain": [
              "GridSearchCV(cv=5,\n",
              "             estimator=XGBClassifier(base_score=None, booster=None,\n",
              "                                     colsample_bylevel=None,\n",
              "                                     colsample_bynode=None,\n",
              "                                     colsample_bytree=0.8, gamma=0, gpu_id=None,\n",
              "                                     importance_type='gain',\n",
              "                                     interaction_constraints=None,\n",
              "                                     learning_rate=0.1, max_delta_step=None,\n",
              "                                     max_depth=5, min_child_weight=1,\n",
              "                                     missing=nan, monotone_constraints=None,\n",
              "                                     n_estimators=140, n_jobs=None, nthread=4,\n",
              "                                     num_parallel_tree=None,\n",
              "                                     objective='multi:softmax',\n",
              "                                     random_state=None, reg_alpha=None,\n",
              "                                     reg_lambda=None, scale_pos_weight=1,\n",
              "                                     seed=27, subsample=0.8, tree_method=None,\n",
              "                                     validate_parameters=None, verbosity=None),\n",
              "             iid=False, n_jobs=4,\n",
              "             param_grid={'max_depth': [3, 5, 7, 9],\n",
              "                         'min_child_weight': [1, 3, 5]})"
            ]
          },
          "metadata": {
            "tags": []
          },
          "execution_count": 233
        }
      ]
    },
    {
      "cell_type": "code",
      "metadata": {
        "id": "S_iVzdmjulb3",
        "outputId": "8b662741-046a-4334-8952-3e83788fb91a"
      },
      "source": [
        "param_test3 = {\n",
        " 'gamma':[i/10.0 for i in range(0,5)]\n",
        "}\n",
        "gsearch3 = (GridSearchCV(estimator = XGBClassifier( learning_rate =0.1, n_estimators=140, max_depth=3,\n",
        " min_child_weight=5, gamma=0, subsample=0.8, colsample_bytree=0.8,\n",
        " objective= 'multi:softmax', nthread=4, scale_pos_weight=1,seed=27), \n",
        " param_grid = param_test3,n_jobs=4,iid=False, cv=5))\n",
        "gsearch3.fit(X_train,y_train)"
      ],
      "execution_count": null,
      "outputs": [
        {
          "output_type": "stream",
          "text": [
            "C:\\Users\\ransa\\anaconda3\\lib\\site-packages\\sklearn\\model_selection\\_search.py:847: FutureWarning: The parameter 'iid' is deprecated in 0.22 and will be removed in 0.24.\n",
            "  warnings.warn(\n",
            "C:\\Users\\ransa\\anaconda3\\lib\\site-packages\\xgboost\\sklearn.py:888: UserWarning: The use of label encoder in XGBClassifier is deprecated and will be removed in a future release. To remove this warning, do the following: 1) Pass option use_label_encoder=False when constructing XGBClassifier object; and 2) Encode your labels (y) as integers starting with 0, i.e. 0, 1, 2, ..., [num_class - 1].\n",
            "  warnings.warn(label_encoder_deprecation_msg, UserWarning)\n"
          ],
          "name": "stderr"
        },
        {
          "output_type": "stream",
          "text": [
            "[07:42:25] WARNING: C:/Users/Administrator/workspace/xgboost-win64_release_1.3.0/src/learner.cc:541: \n",
            "Parameters: { scale_pos_weight } might not be used.\n",
            "\n",
            "  This may not be accurate due to some parameters are only used in language bindings but\n",
            "  passed down to XGBoost core.  Or some parameters are not used but slip through this\n",
            "  verification. Please open an issue if you find above cases.\n",
            "\n",
            "\n",
            "[07:42:25] WARNING: C:/Users/Administrator/workspace/xgboost-win64_release_1.3.0/src/learner.cc:1061: Starting in XGBoost 1.3.0, the default evaluation metric used with the objective 'multi:softprob' was changed from 'merror' to 'mlogloss'. Explicitly set eval_metric if you'd like to restore the old behavior.\n"
          ],
          "name": "stdout"
        },
        {
          "output_type": "execute_result",
          "data": {
            "text/plain": [
              "GridSearchCV(cv=5,\n",
              "             estimator=XGBClassifier(base_score=None, booster=None,\n",
              "                                     colsample_bylevel=None,\n",
              "                                     colsample_bynode=None,\n",
              "                                     colsample_bytree=0.8, gamma=0, gpu_id=None,\n",
              "                                     importance_type='gain',\n",
              "                                     interaction_constraints=None,\n",
              "                                     learning_rate=0.1, max_delta_step=None,\n",
              "                                     max_depth=3, min_child_weight=5,\n",
              "                                     missing=nan, monotone_constraints=None,\n",
              "                                     n_estimators=140, n_jobs=None, nthread=4,\n",
              "                                     num_parallel_tree=None,\n",
              "                                     objective='multi:softmax',\n",
              "                                     random_state=None, reg_alpha=None,\n",
              "                                     reg_lambda=None, scale_pos_weight=1,\n",
              "                                     seed=27, subsample=0.8, tree_method=None,\n",
              "                                     validate_parameters=None, verbosity=None),\n",
              "             iid=False, n_jobs=4,\n",
              "             param_grid={'gamma': [0.0, 0.1, 0.2, 0.3, 0.4]})"
            ]
          },
          "metadata": {
            "tags": []
          },
          "execution_count": 239
        }
      ]
    },
    {
      "cell_type": "code",
      "metadata": {
        "id": "8CkS6617ulb3",
        "outputId": "a101276a-9814-4936-8c14-090a50adb952"
      },
      "source": [
        "gsearch3.best_params_"
      ],
      "execution_count": null,
      "outputs": [
        {
          "output_type": "execute_result",
          "data": {
            "text/plain": [
              "{'gamma': 0.2}"
            ]
          },
          "metadata": {
            "tags": []
          },
          "execution_count": 241
        }
      ]
    },
    {
      "cell_type": "code",
      "metadata": {
        "id": "FfLuQWKnulb3",
        "outputId": "536554a7-7711-4d1c-c761-c7393595e554"
      },
      "source": [
        "# X.drop(['Unnamed: 0'],axis=1,inplace=True)"
      ],
      "execution_count": null,
      "outputs": [
        {
          "output_type": "error",
          "ename": "KeyError",
          "evalue": "\"['Unnamed: 0'] not found in axis\"",
          "traceback": [
            "\u001b[1;31m---------------------------------------------------------------------------\u001b[0m",
            "\u001b[1;31mKeyError\u001b[0m                                  Traceback (most recent call last)",
            "\u001b[1;32m<ipython-input-374-bb6fdfcecf5a>\u001b[0m in \u001b[0;36m<module>\u001b[1;34m\u001b[0m\n\u001b[1;32m----> 1\u001b[1;33m \u001b[0mX\u001b[0m\u001b[1;33m.\u001b[0m\u001b[0mdrop\u001b[0m\u001b[1;33m(\u001b[0m\u001b[1;33m[\u001b[0m\u001b[1;34m'Unnamed: 0'\u001b[0m\u001b[1;33m]\u001b[0m\u001b[1;33m,\u001b[0m\u001b[0maxis\u001b[0m\u001b[1;33m=\u001b[0m\u001b[1;36m1\u001b[0m\u001b[1;33m,\u001b[0m\u001b[0minplace\u001b[0m\u001b[1;33m=\u001b[0m\u001b[1;32mTrue\u001b[0m\u001b[1;33m)\u001b[0m\u001b[1;33m\u001b[0m\u001b[1;33m\u001b[0m\u001b[0m\n\u001b[0m",
            "\u001b[1;32m~\\anaconda3\\lib\\site-packages\\pandas\\core\\frame.py\u001b[0m in \u001b[0;36mdrop\u001b[1;34m(self, labels, axis, index, columns, level, inplace, errors)\u001b[0m\n\u001b[0;32m   4161\u001b[0m                 \u001b[0mweight\u001b[0m  \u001b[1;36m1.0\u001b[0m     \u001b[1;36m0.8\u001b[0m\u001b[1;33m\u001b[0m\u001b[1;33m\u001b[0m\u001b[0m\n\u001b[0;32m   4162\u001b[0m         \"\"\"\n\u001b[1;32m-> 4163\u001b[1;33m         return super().drop(\n\u001b[0m\u001b[0;32m   4164\u001b[0m             \u001b[0mlabels\u001b[0m\u001b[1;33m=\u001b[0m\u001b[0mlabels\u001b[0m\u001b[1;33m,\u001b[0m\u001b[1;33m\u001b[0m\u001b[1;33m\u001b[0m\u001b[0m\n\u001b[0;32m   4165\u001b[0m             \u001b[0maxis\u001b[0m\u001b[1;33m=\u001b[0m\u001b[0maxis\u001b[0m\u001b[1;33m,\u001b[0m\u001b[1;33m\u001b[0m\u001b[1;33m\u001b[0m\u001b[0m\n",
            "\u001b[1;32m~\\anaconda3\\lib\\site-packages\\pandas\\core\\generic.py\u001b[0m in \u001b[0;36mdrop\u001b[1;34m(self, labels, axis, index, columns, level, inplace, errors)\u001b[0m\n\u001b[0;32m   3885\u001b[0m         \u001b[1;32mfor\u001b[0m \u001b[0maxis\u001b[0m\u001b[1;33m,\u001b[0m \u001b[0mlabels\u001b[0m \u001b[1;32min\u001b[0m \u001b[0maxes\u001b[0m\u001b[1;33m.\u001b[0m\u001b[0mitems\u001b[0m\u001b[1;33m(\u001b[0m\u001b[1;33m)\u001b[0m\u001b[1;33m:\u001b[0m\u001b[1;33m\u001b[0m\u001b[1;33m\u001b[0m\u001b[0m\n\u001b[0;32m   3886\u001b[0m             \u001b[1;32mif\u001b[0m \u001b[0mlabels\u001b[0m \u001b[1;32mis\u001b[0m \u001b[1;32mnot\u001b[0m \u001b[1;32mNone\u001b[0m\u001b[1;33m:\u001b[0m\u001b[1;33m\u001b[0m\u001b[1;33m\u001b[0m\u001b[0m\n\u001b[1;32m-> 3887\u001b[1;33m                 \u001b[0mobj\u001b[0m \u001b[1;33m=\u001b[0m \u001b[0mobj\u001b[0m\u001b[1;33m.\u001b[0m\u001b[0m_drop_axis\u001b[0m\u001b[1;33m(\u001b[0m\u001b[0mlabels\u001b[0m\u001b[1;33m,\u001b[0m \u001b[0maxis\u001b[0m\u001b[1;33m,\u001b[0m \u001b[0mlevel\u001b[0m\u001b[1;33m=\u001b[0m\u001b[0mlevel\u001b[0m\u001b[1;33m,\u001b[0m \u001b[0merrors\u001b[0m\u001b[1;33m=\u001b[0m\u001b[0merrors\u001b[0m\u001b[1;33m)\u001b[0m\u001b[1;33m\u001b[0m\u001b[1;33m\u001b[0m\u001b[0m\n\u001b[0m\u001b[0;32m   3888\u001b[0m \u001b[1;33m\u001b[0m\u001b[0m\n\u001b[0;32m   3889\u001b[0m         \u001b[1;32mif\u001b[0m \u001b[0minplace\u001b[0m\u001b[1;33m:\u001b[0m\u001b[1;33m\u001b[0m\u001b[1;33m\u001b[0m\u001b[0m\n",
            "\u001b[1;32m~\\anaconda3\\lib\\site-packages\\pandas\\core\\generic.py\u001b[0m in \u001b[0;36m_drop_axis\u001b[1;34m(self, labels, axis, level, errors)\u001b[0m\n\u001b[0;32m   3919\u001b[0m                 \u001b[0mnew_axis\u001b[0m \u001b[1;33m=\u001b[0m \u001b[0maxis\u001b[0m\u001b[1;33m.\u001b[0m\u001b[0mdrop\u001b[0m\u001b[1;33m(\u001b[0m\u001b[0mlabels\u001b[0m\u001b[1;33m,\u001b[0m \u001b[0mlevel\u001b[0m\u001b[1;33m=\u001b[0m\u001b[0mlevel\u001b[0m\u001b[1;33m,\u001b[0m \u001b[0merrors\u001b[0m\u001b[1;33m=\u001b[0m\u001b[0merrors\u001b[0m\u001b[1;33m)\u001b[0m\u001b[1;33m\u001b[0m\u001b[1;33m\u001b[0m\u001b[0m\n\u001b[0;32m   3920\u001b[0m             \u001b[1;32melse\u001b[0m\u001b[1;33m:\u001b[0m\u001b[1;33m\u001b[0m\u001b[1;33m\u001b[0m\u001b[0m\n\u001b[1;32m-> 3921\u001b[1;33m                 \u001b[0mnew_axis\u001b[0m \u001b[1;33m=\u001b[0m \u001b[0maxis\u001b[0m\u001b[1;33m.\u001b[0m\u001b[0mdrop\u001b[0m\u001b[1;33m(\u001b[0m\u001b[0mlabels\u001b[0m\u001b[1;33m,\u001b[0m \u001b[0merrors\u001b[0m\u001b[1;33m=\u001b[0m\u001b[0merrors\u001b[0m\u001b[1;33m)\u001b[0m\u001b[1;33m\u001b[0m\u001b[1;33m\u001b[0m\u001b[0m\n\u001b[0m\u001b[0;32m   3922\u001b[0m             \u001b[0mresult\u001b[0m \u001b[1;33m=\u001b[0m \u001b[0mself\u001b[0m\u001b[1;33m.\u001b[0m\u001b[0mreindex\u001b[0m\u001b[1;33m(\u001b[0m\u001b[1;33m**\u001b[0m\u001b[1;33m{\u001b[0m\u001b[0maxis_name\u001b[0m\u001b[1;33m:\u001b[0m \u001b[0mnew_axis\u001b[0m\u001b[1;33m}\u001b[0m\u001b[1;33m)\u001b[0m\u001b[1;33m\u001b[0m\u001b[1;33m\u001b[0m\u001b[0m\n\u001b[0;32m   3923\u001b[0m \u001b[1;33m\u001b[0m\u001b[0m\n",
            "\u001b[1;32m~\\anaconda3\\lib\\site-packages\\pandas\\core\\indexes\\base.py\u001b[0m in \u001b[0;36mdrop\u001b[1;34m(self, labels, errors)\u001b[0m\n\u001b[0;32m   5280\u001b[0m         \u001b[1;32mif\u001b[0m \u001b[0mmask\u001b[0m\u001b[1;33m.\u001b[0m\u001b[0many\u001b[0m\u001b[1;33m(\u001b[0m\u001b[1;33m)\u001b[0m\u001b[1;33m:\u001b[0m\u001b[1;33m\u001b[0m\u001b[1;33m\u001b[0m\u001b[0m\n\u001b[0;32m   5281\u001b[0m             \u001b[1;32mif\u001b[0m \u001b[0merrors\u001b[0m \u001b[1;33m!=\u001b[0m \u001b[1;34m\"ignore\"\u001b[0m\u001b[1;33m:\u001b[0m\u001b[1;33m\u001b[0m\u001b[1;33m\u001b[0m\u001b[0m\n\u001b[1;32m-> 5282\u001b[1;33m                 \u001b[1;32mraise\u001b[0m \u001b[0mKeyError\u001b[0m\u001b[1;33m(\u001b[0m\u001b[1;34mf\"{labels[mask]} not found in axis\"\u001b[0m\u001b[1;33m)\u001b[0m\u001b[1;33m\u001b[0m\u001b[1;33m\u001b[0m\u001b[0m\n\u001b[0m\u001b[0;32m   5283\u001b[0m             \u001b[0mindexer\u001b[0m \u001b[1;33m=\u001b[0m \u001b[0mindexer\u001b[0m\u001b[1;33m[\u001b[0m\u001b[1;33m~\u001b[0m\u001b[0mmask\u001b[0m\u001b[1;33m]\u001b[0m\u001b[1;33m\u001b[0m\u001b[1;33m\u001b[0m\u001b[0m\n\u001b[0;32m   5284\u001b[0m         \u001b[1;32mreturn\u001b[0m \u001b[0mself\u001b[0m\u001b[1;33m.\u001b[0m\u001b[0mdelete\u001b[0m\u001b[1;33m(\u001b[0m\u001b[0mindexer\u001b[0m\u001b[1;33m)\u001b[0m\u001b[1;33m\u001b[0m\u001b[1;33m\u001b[0m\u001b[0m\n",
            "\u001b[1;31mKeyError\u001b[0m: \"['Unnamed: 0'] not found in axis\""
          ]
        }
      ]
    },
    {
      "cell_type": "code",
      "metadata": {
        "id": "lmKVU6cBulb4",
        "outputId": "12bfcfcd-c88a-4c11-9711-c7d50c704cff"
      },
      "source": [
        "X.columns"
      ],
      "execution_count": null,
      "outputs": [
        {
          "output_type": "execute_result",
          "data": {
            "text/plain": [
              "Index(['Babies', 'Discount_Rate', 'Room_Rate', 'Expected_checkin_Year',\n",
              "       'expected_days_of_checkin', 'booked_before_n_days', 'Income_25K --50K',\n",
              "       'Income_50K -- 100K', 'Income__25K', 'Income_>100K',\n",
              "       'Country_region_East', 'Country_region_North', 'Country_region_South',\n",
              "       'Country_region_West', 'Meal_Type_BB', 'Meal_Type_FB', 'Meal_Type_HB',\n",
              "       'Visted_Previously_No', 'Visted_Previously_Yes',\n",
              "       'Previous_Cancellations_No', 'Previous_Cancellations_Yes',\n",
              "       'Deposit_type_No Deposit', 'Deposit_type_Non-Refundable',\n",
              "       'Deposit_type_Refundable', 'Booking_channel_Agent',\n",
              "       'Booking_channel_Direct', 'Booking_channel_Online', 'Use_Promotion_No',\n",
              "       'Use_Promotion_Yes'],\n",
              "      dtype='object')"
            ]
          },
          "metadata": {
            "tags": []
          },
          "execution_count": 375
        }
      ]
    },
    {
      "cell_type": "code",
      "metadata": {
        "id": "DxeHvJ7Hulb4",
        "outputId": "75c44ca6-f89a-454b-fcc6-821d7aec2afd"
      },
      "source": [
        "X.shape"
      ],
      "execution_count": null,
      "outputs": [
        {
          "output_type": "execute_result",
          "data": {
            "text/plain": [
              "(25925, 29)"
            ]
          },
          "metadata": {
            "tags": []
          },
          "execution_count": 377
        }
      ]
    },
    {
      "cell_type": "code",
      "metadata": {
        "id": "wCZufcejulb4",
        "outputId": "c20f71ca-5e31-42cf-97fe-0a5a0a08ce52"
      },
      "source": [
        "xgb_new = XGBClassifier(min_child_weight=5,n_estimators=140,gamma=0.2,max_depth=3,subsample=0.8, colsample_bytree=0.8,\n",
        " objective= 'multi:softmax', nthread=4, scale_pos_weight=1,seed=27).fit(X,y)"
      ],
      "execution_count": null,
      "outputs": [
        {
          "output_type": "stream",
          "text": [
            "C:\\Users\\ransa\\anaconda3\\lib\\site-packages\\xgboost\\sklearn.py:888: UserWarning: The use of label encoder in XGBClassifier is deprecated and will be removed in a future release. To remove this warning, do the following: 1) Pass option use_label_encoder=False when constructing XGBClassifier object; and 2) Encode your labels (y) as integers starting with 0, i.e. 0, 1, 2, ..., [num_class - 1].\n",
            "  warnings.warn(label_encoder_deprecation_msg, UserWarning)\n"
          ],
          "name": "stderr"
        },
        {
          "output_type": "stream",
          "text": [
            "[08:39:22] WARNING: C:/Users/Administrator/workspace/xgboost-win64_release_1.3.0/src/learner.cc:541: \n",
            "Parameters: { scale_pos_weight } might not be used.\n",
            "\n",
            "  This may not be accurate due to some parameters are only used in language bindings but\n",
            "  passed down to XGBoost core.  Or some parameters are not used but slip through this\n",
            "  verification. Please open an issue if you find above cases.\n",
            "\n",
            "\n",
            "[08:39:22] WARNING: C:/Users/Administrator/workspace/xgboost-win64_release_1.3.0/src/learner.cc:1061: Starting in XGBoost 1.3.0, the default evaluation metric used with the objective 'multi:softprob' was changed from 'merror' to 'mlogloss'. Explicitly set eval_metric if you'd like to restore the old behavior.\n"
          ],
          "name": "stdout"
        }
      ]
    },
    {
      "cell_type": "code",
      "metadata": {
        "id": "VATq16Sjulb4",
        "outputId": "e467ea62-c56e-4ada-8a95-695488c97b22"
      },
      "source": [
        "xgb_new.score(X_train,y_train)"
      ],
      "execution_count": null,
      "outputs": [
        {
          "output_type": "execute_result",
          "data": {
            "text/plain": [
              "0.7849566055930569"
            ]
          },
          "metadata": {
            "tags": []
          },
          "execution_count": 380
        }
      ]
    },
    {
      "cell_type": "code",
      "metadata": {
        "id": "cSk6qHlculb5",
        "outputId": "0b190f2e-3669-49c9-b50c-ee1d9895a95d"
      },
      "source": [
        "xgb_new.feature_importances_"
      ],
      "execution_count": null,
      "outputs": [
        {
          "output_type": "execute_result",
          "data": {
            "text/plain": [
              "array([0.02023495, 0.02180051, 0.02170718, 0.1314893 , 0.01952272,\n",
              "       0.02666789, 0.01938676, 0.02144738, 0.02176075, 0.0216551 ,\n",
              "       0.02229334, 0.02106519, 0.02053435, 0.02378578, 0.16945148,\n",
              "       0.10031578, 0.03305004, 0.01704822, 0.02422798, 0.02054626,\n",
              "       0.02896471, 0.02717916, 0.02326705, 0.02531207, 0.01874927,\n",
              "       0.02275252, 0.02487777, 0.02542208, 0.02548443], dtype=float32)"
            ]
          },
          "metadata": {
            "tags": []
          },
          "execution_count": 381
        }
      ]
    },
    {
      "cell_type": "code",
      "metadata": {
        "id": "eE1yYkqSulb5"
      },
      "source": [
        "pickle.dump(xgb_new,open('xgb_new', 'wb'))"
      ],
      "execution_count": null,
      "outputs": []
    },
    {
      "cell_type": "code",
      "metadata": {
        "id": "fWZWLWSwulb5"
      },
      "source": [
        "loaded_model_xgb = pickle.load(open('xgb_new', 'rb'))"
      ],
      "execution_count": null,
      "outputs": []
    },
    {
      "cell_type": "code",
      "metadata": {
        "id": "4c72lz9Bulb5",
        "outputId": "a4a69ebd-56bb-4488-ffdb-3426689bf32f"
      },
      "source": [
        "loaded_model_xgb.score(X_test,y_test)"
      ],
      "execution_count": null,
      "outputs": [
        {
          "output_type": "execute_result",
          "data": {
            "text/plain": [
              "0.792864030858245"
            ]
          },
          "metadata": {
            "tags": []
          },
          "execution_count": 384
        }
      ]
    },
    {
      "cell_type": "markdown",
      "metadata": {
        "id": "gNQEd7hbulb5"
      },
      "source": [
        "## Validate"
      ]
    },
    {
      "cell_type": "code",
      "metadata": {
        "id": "AJ6xDaJsulb5"
      },
      "source": [
        "validate = pd.read_csv('scaled_and_selected_features_validate.csv')"
      ],
      "execution_count": null,
      "outputs": []
    },
    {
      "cell_type": "code",
      "metadata": {
        "id": "FtOr7tBuulb6"
      },
      "source": [
        "validate.columns = [regex.sub(\"_\", col) if any(x in str(col) for x in set(('[', ']', '<'))) else col for col in validate.columns.values]"
      ],
      "execution_count": null,
      "outputs": []
    },
    {
      "cell_type": "code",
      "metadata": {
        "id": "RyGHJIu4ulb6"
      },
      "source": [
        "X_val = validate.drop(['Reservation-id','Reservation_Status','Unnamed: 0','isWeekend_trip'],axis=1)"
      ],
      "execution_count": null,
      "outputs": []
    },
    {
      "cell_type": "code",
      "metadata": {
        "id": "qpBtiLYVulb6"
      },
      "source": [
        "y = validate['Reservation_Status']"
      ],
      "execution_count": null,
      "outputs": []
    },
    {
      "cell_type": "code",
      "metadata": {
        "id": "7_BYw07Hulb6"
      },
      "source": [
        "y_val =lblEncoder.fit_transform(y)"
      ],
      "execution_count": null,
      "outputs": []
    },
    {
      "cell_type": "code",
      "metadata": {
        "id": "tJxMljejulb6"
      },
      "source": [
        "knn_predicted = loaded_model.predict(X_val)"
      ],
      "execution_count": null,
      "outputs": []
    },
    {
      "cell_type": "code",
      "metadata": {
        "id": "X8qfiUAVulb6",
        "outputId": "3c83ae5e-f1f0-490a-8a2e-34947c4b8ad3"
      },
      "source": [
        "f1_score(y_val, knn_predicted,average='macro')"
      ],
      "execution_count": null,
      "outputs": [
        {
          "output_type": "execute_result",
          "data": {
            "text/plain": [
              "0.3007151050149402"
            ]
          },
          "metadata": {
            "tags": []
          },
          "execution_count": 391
        }
      ]
    },
    {
      "cell_type": "code",
      "metadata": {
        "id": "7b-uXYFjulb7",
        "outputId": "838e1acc-ae50-4abb-f763-0e6d063389a9"
      },
      "source": [
        "y_val.reshape(-1,1)"
      ],
      "execution_count": null,
      "outputs": [
        {
          "output_type": "execute_result",
          "data": {
            "text/plain": [
              "array([[2],\n",
              "       [0],\n",
              "       [0],\n",
              "       ...,\n",
              "       [2],\n",
              "       [0],\n",
              "       [1]])"
            ]
          },
          "metadata": {
            "tags": []
          },
          "execution_count": 392
        }
      ]
    },
    {
      "cell_type": "code",
      "metadata": {
        "id": "AxoHAXc3ulb7",
        "outputId": "17ff5c8e-7dc1-49c5-9832-359177b99311"
      },
      "source": [
        "knn_predicted.reshape(-1,1)"
      ],
      "execution_count": null,
      "outputs": [
        {
          "output_type": "execute_result",
          "data": {
            "text/plain": [
              "array([[1],\n",
              "       [1],\n",
              "       [1],\n",
              "       ...,\n",
              "       [1],\n",
              "       [1],\n",
              "       [0]], dtype=int64)"
            ]
          },
          "metadata": {
            "tags": []
          },
          "execution_count": 393
        }
      ]
    },
    {
      "cell_type": "code",
      "metadata": {
        "id": "-bKfU8DCulb7",
        "outputId": "4dc69a54-f28c-4c42-e9d0-18efb33e8930"
      },
      "source": [
        "y_pred = knn_predicted\n",
        "print(confusion_matrix(y_val,y_pred,labels=[0,1,2]))\n",
        "print(classification_report(y_val,y_pred))\n",
        "print(accuracy_score(y_val, y_pred))"
      ],
      "execution_count": null,
      "outputs": [
        {
          "output_type": "stream",
          "text": [
            "[[ 106  611   17]\n",
            " [ 237 1334   27]\n",
            " [  53  337    6]]\n",
            "              precision    recall  f1-score   support\n",
            "\n",
            "           0       0.27      0.14      0.19       734\n",
            "           1       0.58      0.83      0.69      1598\n",
            "           2       0.12      0.02      0.03       396\n",
            "\n",
            "    accuracy                           0.53      2728\n",
            "   macro avg       0.32      0.33      0.30      2728\n",
            "weighted avg       0.43      0.53      0.46      2728\n",
            "\n",
            "0.5300586510263929\n"
          ],
          "name": "stdout"
        }
      ]
    },
    {
      "cell_type": "code",
      "metadata": {
        "id": "oBmM4_wIulb7"
      },
      "source": [
        "predic = xgb_new.predict(X_val)"
      ],
      "execution_count": null,
      "outputs": []
    },
    {
      "cell_type": "code",
      "metadata": {
        "id": "MucHehFJulb8",
        "outputId": "1cebd4bf-33dd-447f-a5f9-04d3bc92fc35"
      },
      "source": [
        "y_pred = predic\n",
        "print(confusion_matrix(y_val,y_pred,labels=[0,1,2]))\n",
        "print(classification_report(y_val,y_pred))\n",
        "print(accuracy_score(y_val, y_pred))"
      ],
      "execution_count": null,
      "outputs": [
        {
          "output_type": "stream",
          "text": [
            "[[   7  727    0]\n",
            " [  10 1588    0]\n",
            " [   5  391    0]]\n",
            "              precision    recall  f1-score   support\n",
            "\n",
            "           0       0.32      0.01      0.02       734\n",
            "           1       0.59      0.99      0.74      1598\n",
            "           2       0.00      0.00      0.00       396\n",
            "\n",
            "    accuracy                           0.58      2728\n",
            "   macro avg       0.30      0.33      0.25      2728\n",
            "weighted avg       0.43      0.58      0.44      2728\n",
            "\n",
            "0.5846774193548387\n"
          ],
          "name": "stdout"
        },
        {
          "output_type": "stream",
          "text": [
            "C:\\Users\\ransa\\anaconda3\\lib\\site-packages\\sklearn\\metrics\\_classification.py:1221: UndefinedMetricWarning: Precision and F-score are ill-defined and being set to 0.0 in labels with no predicted samples. Use `zero_division` parameter to control this behavior.\n",
            "  _warn_prf(average, modifier, msg_start, len(result))\n"
          ],
          "name": "stderr"
        }
      ]
    },
    {
      "cell_type": "markdown",
      "metadata": {
        "id": "ZL_DYaJaulb8"
      },
      "source": [
        "## Test"
      ]
    },
    {
      "cell_type": "code",
      "metadata": {
        "id": "1AKXPToZulb8"
      },
      "source": [
        "xxxx = loaded_model.predict(scaled_df.drop(['Reservation-id','isWeekend_trip'],axis=1))"
      ],
      "execution_count": null,
      "outputs": []
    },
    {
      "cell_type": "code",
      "metadata": {
        "id": "nZ3uR8aFulb8",
        "outputId": "de0454be-e9b7-43ba-99f7-475cc9237c7e"
      },
      "source": [
        "xxxx[:200]"
      ],
      "execution_count": null,
      "outputs": [
        {
          "output_type": "execute_result",
          "data": {
            "text/plain": [
              "array([1, 1, 1, 1, 1, 1, 1, 1, 2, 1, 1, 1, 1, 1, 0, 1, 1, 1, 1, 1, 1, 2,\n",
              "       1, 1, 1, 1, 1, 1, 1, 1, 1, 1, 1, 1, 1, 1, 1, 1, 1, 1, 1, 1, 1, 1,\n",
              "       1, 1, 1, 1, 1, 1, 1, 1, 1, 1, 1, 1, 1, 1, 1, 1, 1, 1, 1, 1, 1, 1,\n",
              "       1, 1, 1, 1, 0, 1, 1, 1, 1, 1, 0, 1, 1, 0, 1, 1, 1, 1, 1, 1, 1, 1,\n",
              "       1, 1, 1, 1, 1, 0, 1, 1, 1, 1, 1, 1, 1, 1, 1, 1, 0, 0, 1, 1, 1, 1,\n",
              "       1, 1, 1, 1, 1, 1, 1, 1, 1, 1, 1, 1, 1, 1, 1, 1, 1, 1, 1, 1, 1, 1,\n",
              "       1, 1, 1, 1, 1, 1, 1, 1, 0, 1, 1, 1, 1, 2, 1, 1, 1, 0, 0, 1, 1, 1,\n",
              "       1, 0, 1, 1, 1, 1, 1, 1, 1, 1, 1, 1, 1, 1, 1, 1, 1, 1, 1, 1, 1, 1,\n",
              "       0, 1, 1, 1, 1, 0, 1, 1, 1, 0, 1, 1, 1, 1, 0, 1, 1, 1, 1, 1, 1, 1,\n",
              "       1, 1], dtype=int64)"
            ]
          },
          "metadata": {
            "tags": []
          },
          "execution_count": 510
        }
      ]
    },
    {
      "cell_type": "code",
      "metadata": {
        "id": "bn4qSAC-ulb9"
      },
      "source": [
        "inverse = lblEncoder.inverse_transform(xxxx)"
      ],
      "execution_count": null,
      "outputs": []
    },
    {
      "cell_type": "code",
      "metadata": {
        "id": "-bsimVKdulb9",
        "outputId": "f0ba005a-0a26-4205-9558-01d27c766215"
      },
      "source": [
        "inverse[200:600]"
      ],
      "execution_count": null,
      "outputs": [
        {
          "output_type": "execute_result",
          "data": {
            "text/plain": [
              "array(['Check-In', 'Check-In', 'Check-In', 'No-Show', 'Canceled',\n",
              "       'Check-In', 'Check-In', 'Check-In', 'Check-In', 'Check-In',\n",
              "       'Check-In', 'Check-In', 'Check-In', 'Canceled', 'Check-In',\n",
              "       'Canceled', 'Canceled', 'Check-In', 'Check-In', 'Check-In',\n",
              "       'Check-In', 'Check-In', 'Check-In', 'Check-In', 'Check-In',\n",
              "       'Check-In', 'Check-In', 'Check-In', 'Check-In', 'Canceled',\n",
              "       'Check-In', 'Canceled', 'Canceled', 'Check-In', 'Check-In',\n",
              "       'Check-In', 'Check-In', 'Check-In', 'Check-In', 'Check-In',\n",
              "       'Canceled', 'Check-In', 'Canceled', 'Canceled', 'Check-In',\n",
              "       'Check-In', 'Check-In', 'Canceled', 'Check-In', 'Check-In',\n",
              "       'Check-In', 'Canceled', 'Check-In', 'Check-In', 'Check-In',\n",
              "       'Check-In', 'Check-In', 'Canceled', 'Check-In', 'Check-In',\n",
              "       'Check-In', 'Check-In', 'Check-In', 'Check-In', 'Check-In',\n",
              "       'Check-In', 'Check-In', 'Check-In', 'Check-In', 'Check-In',\n",
              "       'Check-In', 'Check-In', 'Check-In', 'Check-In', 'Check-In',\n",
              "       'Canceled', 'Check-In', 'Canceled', 'Check-In', 'Check-In',\n",
              "       'Check-In', 'Check-In', 'Check-In', 'Check-In', 'Check-In',\n",
              "       'Check-In', 'Check-In', 'Check-In', 'Check-In', 'Check-In',\n",
              "       'Check-In', 'Check-In', 'Check-In', 'Check-In', 'Check-In',\n",
              "       'Check-In', 'Check-In', 'Check-In', 'Check-In', 'Check-In',\n",
              "       'Canceled', 'Check-In', 'Check-In', 'Check-In', 'Check-In',\n",
              "       'Check-In', 'Canceled', 'Check-In', 'Check-In', 'Check-In',\n",
              "       'Check-In', 'Check-In', 'Check-In', 'Canceled', 'Check-In',\n",
              "       'Check-In', 'Check-In', 'Check-In', 'Check-In', 'Check-In',\n",
              "       'Check-In', 'Check-In', 'Check-In', 'Check-In', 'Check-In',\n",
              "       'Canceled', 'Check-In', 'Canceled', 'Check-In', 'Check-In',\n",
              "       'Check-In', 'Check-In', 'Check-In', 'Check-In', 'Check-In',\n",
              "       'Check-In', 'Check-In', 'Canceled', 'Check-In', 'Check-In',\n",
              "       'Check-In', 'Check-In', 'Check-In', 'Check-In', 'Check-In',\n",
              "       'Check-In', 'Check-In', 'Check-In', 'Check-In', 'Check-In',\n",
              "       'Check-In', 'Check-In', 'Check-In', 'Check-In', 'Check-In',\n",
              "       'Check-In', 'Check-In', 'Check-In', 'Check-In', 'Check-In',\n",
              "       'Check-In', 'Check-In', 'Check-In', 'Check-In', 'Check-In',\n",
              "       'Check-In', 'Canceled', 'Check-In', 'Check-In', 'Check-In',\n",
              "       'Check-In', 'Check-In', 'Check-In', 'Check-In', 'Check-In',\n",
              "       'Check-In', 'Canceled', 'Check-In', 'Check-In', 'Check-In',\n",
              "       'Check-In', 'Check-In', 'Check-In', 'Canceled', 'No-Show',\n",
              "       'Check-In', 'Check-In', 'Check-In', 'Check-In', 'Check-In',\n",
              "       'Check-In', 'Check-In', 'Check-In', 'Check-In', 'Check-In',\n",
              "       'Check-In', 'Check-In', 'Check-In', 'Check-In', 'Check-In',\n",
              "       'Check-In', 'Check-In', 'Canceled', 'Canceled', 'Check-In',\n",
              "       'Check-In', 'Check-In', 'Check-In', 'Check-In', 'Check-In',\n",
              "       'Check-In', 'Check-In', 'Check-In', 'Canceled', 'Check-In',\n",
              "       'Check-In', 'Check-In', 'Check-In', 'Check-In', 'Check-In',\n",
              "       'Check-In', 'Check-In', 'Check-In', 'Check-In', 'Canceled',\n",
              "       'Check-In', 'Check-In', 'Canceled', 'Check-In', 'Check-In',\n",
              "       'Check-In', 'Check-In', 'Check-In', 'Check-In', 'Check-In',\n",
              "       'Check-In', 'Check-In', 'Check-In', 'Check-In', 'Check-In',\n",
              "       'Check-In', 'Check-In', 'Canceled', 'Check-In', 'Check-In',\n",
              "       'Check-In', 'Check-In', 'Check-In', 'Canceled', 'Canceled',\n",
              "       'Canceled', 'Check-In', 'Check-In', 'Check-In', 'Check-In',\n",
              "       'Check-In', 'Check-In', 'Check-In', 'Check-In', 'Check-In',\n",
              "       'Check-In', 'Check-In', 'Canceled', 'Check-In', 'Check-In',\n",
              "       'Check-In', 'Check-In', 'Check-In', 'Canceled', 'Check-In',\n",
              "       'Check-In', 'Check-In', 'Check-In', 'Check-In', 'Canceled',\n",
              "       'Check-In', 'Check-In', 'Check-In', 'Canceled', 'Check-In',\n",
              "       'Check-In', 'Check-In', 'Check-In', 'Check-In', 'Check-In',\n",
              "       'Check-In', 'Check-In', 'Check-In', 'Canceled', 'Canceled',\n",
              "       'Check-In', 'Check-In', 'Check-In', 'Check-In', 'Canceled',\n",
              "       'Check-In', 'Check-In', 'Check-In', 'Check-In', 'Check-In',\n",
              "       'Canceled', 'Check-In', 'Check-In', 'Check-In', 'Check-In',\n",
              "       'Check-In', 'Check-In', 'Check-In', 'Check-In', 'Check-In',\n",
              "       'Check-In', 'Check-In', 'Canceled', 'Check-In', 'Canceled',\n",
              "       'Check-In', 'Check-In', 'Check-In', 'Check-In', 'Check-In',\n",
              "       'Check-In', 'Check-In', 'Check-In', 'Check-In', 'Canceled',\n",
              "       'Check-In', 'Check-In', 'Check-In', 'Check-In', 'Canceled',\n",
              "       'Check-In', 'Canceled', 'Check-In', 'Check-In', 'Check-In',\n",
              "       'Check-In', 'Check-In', 'Check-In', 'Check-In', 'Check-In',\n",
              "       'Check-In', 'Check-In', 'Check-In', 'Check-In', 'Check-In',\n",
              "       'Check-In', 'Check-In', 'Check-In', 'Check-In', 'Check-In',\n",
              "       'Check-In', 'Check-In', 'Canceled', 'Check-In', 'Check-In',\n",
              "       'Check-In', 'Canceled', 'Check-In', 'Canceled', 'Check-In',\n",
              "       'Check-In', 'Canceled', 'Check-In', 'Check-In', 'Canceled',\n",
              "       'Canceled', 'Check-In', 'Canceled', 'Canceled', 'Check-In',\n",
              "       'Check-In', 'Check-In', 'Canceled', 'Check-In', 'Check-In',\n",
              "       'Canceled', 'Check-In', 'Canceled', 'Check-In', 'Check-In',\n",
              "       'Check-In', 'Check-In', 'Check-In', 'Check-In', 'Check-In',\n",
              "       'Check-In', 'Check-In', 'Check-In', 'Check-In', 'Check-In',\n",
              "       'Check-In', 'Check-In', 'Check-In', 'Check-In', 'Check-In',\n",
              "       'Check-In', 'Check-In', 'Check-In', 'Canceled', 'Canceled'],\n",
              "      dtype=object)"
            ]
          },
          "metadata": {
            "tags": []
          },
          "execution_count": 512
        }
      ]
    },
    {
      "cell_type": "code",
      "metadata": {
        "id": "0q3CD7dCulb9",
        "outputId": "e0d1a46f-3d53-495a-af57-b845326ebdbf"
      },
      "source": [
        "inverse.shape"
      ],
      "execution_count": null,
      "outputs": [
        {
          "output_type": "execute_result",
          "data": {
            "text/plain": [
              "(4318,)"
            ]
          },
          "metadata": {
            "tags": []
          },
          "execution_count": 513
        }
      ]
    },
    {
      "cell_type": "code",
      "metadata": {
        "id": "zKbXoe8qulb9"
      },
      "source": [
        "df = pd.DataFrame({\"Reservation-id\":scaled_df['Reservation-id'],\"Reservation_status\":inverse})"
      ],
      "execution_count": null,
      "outputs": []
    },
    {
      "cell_type": "code",
      "metadata": {
        "id": "HuCSCY4Zulb-"
      },
      "source": [
        "df.Reservation_status = df.Reservation_status.map({\"Check-In\":1,\"Canceled\":2,\"No-Show\":3})"
      ],
      "execution_count": null,
      "outputs": []
    },
    {
      "cell_type": "code",
      "metadata": {
        "id": "R4oMZoeculb-",
        "outputId": "64eb13f2-e254-4004-aebd-61468910ef91"
      },
      "source": [
        "df.sample(30)"
      ],
      "execution_count": null,
      "outputs": [
        {
          "output_type": "execute_result",
          "data": {
            "text/html": [
              "<div>\n",
              "<style scoped>\n",
              "    .dataframe tbody tr th:only-of-type {\n",
              "        vertical-align: middle;\n",
              "    }\n",
              "\n",
              "    .dataframe tbody tr th {\n",
              "        vertical-align: top;\n",
              "    }\n",
              "\n",
              "    .dataframe thead th {\n",
              "        text-align: right;\n",
              "    }\n",
              "</style>\n",
              "<table border=\"1\" class=\"dataframe\">\n",
              "  <thead>\n",
              "    <tr style=\"text-align: right;\">\n",
              "      <th></th>\n",
              "      <th>Reservation-id</th>\n",
              "      <th>Reservation_status</th>\n",
              "    </tr>\n",
              "  </thead>\n",
              "  <tbody>\n",
              "    <tr>\n",
              "      <th>1340</th>\n",
              "      <td>85207721</td>\n",
              "      <td>1</td>\n",
              "    </tr>\n",
              "    <tr>\n",
              "      <th>2259</th>\n",
              "      <td>64336892</td>\n",
              "      <td>1</td>\n",
              "    </tr>\n",
              "    <tr>\n",
              "      <th>2664</th>\n",
              "      <td>52596495</td>\n",
              "      <td>1</td>\n",
              "    </tr>\n",
              "    <tr>\n",
              "      <th>912</th>\n",
              "      <td>19595191</td>\n",
              "      <td>1</td>\n",
              "    </tr>\n",
              "    <tr>\n",
              "      <th>2322</th>\n",
              "      <td>94435519</td>\n",
              "      <td>1</td>\n",
              "    </tr>\n",
              "    <tr>\n",
              "      <th>2589</th>\n",
              "      <td>88510220</td>\n",
              "      <td>1</td>\n",
              "    </tr>\n",
              "    <tr>\n",
              "      <th>762</th>\n",
              "      <td>10668465</td>\n",
              "      <td>2</td>\n",
              "    </tr>\n",
              "    <tr>\n",
              "      <th>3291</th>\n",
              "      <td>11556825</td>\n",
              "      <td>1</td>\n",
              "    </tr>\n",
              "    <tr>\n",
              "      <th>1610</th>\n",
              "      <td>5207284</td>\n",
              "      <td>1</td>\n",
              "    </tr>\n",
              "    <tr>\n",
              "      <th>548</th>\n",
              "      <td>54828270</td>\n",
              "      <td>1</td>\n",
              "    </tr>\n",
              "    <tr>\n",
              "      <th>3278</th>\n",
              "      <td>94535097</td>\n",
              "      <td>2</td>\n",
              "    </tr>\n",
              "    <tr>\n",
              "      <th>2985</th>\n",
              "      <td>24176439</td>\n",
              "      <td>1</td>\n",
              "    </tr>\n",
              "    <tr>\n",
              "      <th>3304</th>\n",
              "      <td>99780059</td>\n",
              "      <td>1</td>\n",
              "    </tr>\n",
              "    <tr>\n",
              "      <th>3151</th>\n",
              "      <td>89483523</td>\n",
              "      <td>1</td>\n",
              "    </tr>\n",
              "    <tr>\n",
              "      <th>3833</th>\n",
              "      <td>30118505</td>\n",
              "      <td>2</td>\n",
              "    </tr>\n",
              "    <tr>\n",
              "      <th>1681</th>\n",
              "      <td>21543690</td>\n",
              "      <td>1</td>\n",
              "    </tr>\n",
              "    <tr>\n",
              "      <th>1885</th>\n",
              "      <td>48230750</td>\n",
              "      <td>1</td>\n",
              "    </tr>\n",
              "    <tr>\n",
              "      <th>3162</th>\n",
              "      <td>33847831</td>\n",
              "      <td>1</td>\n",
              "    </tr>\n",
              "    <tr>\n",
              "      <th>18</th>\n",
              "      <td>21821230</td>\n",
              "      <td>1</td>\n",
              "    </tr>\n",
              "    <tr>\n",
              "      <th>3017</th>\n",
              "      <td>49052791</td>\n",
              "      <td>1</td>\n",
              "    </tr>\n",
              "    <tr>\n",
              "      <th>674</th>\n",
              "      <td>13468858</td>\n",
              "      <td>1</td>\n",
              "    </tr>\n",
              "    <tr>\n",
              "      <th>1923</th>\n",
              "      <td>56720001</td>\n",
              "      <td>1</td>\n",
              "    </tr>\n",
              "    <tr>\n",
              "      <th>2150</th>\n",
              "      <td>55548773</td>\n",
              "      <td>1</td>\n",
              "    </tr>\n",
              "    <tr>\n",
              "      <th>57</th>\n",
              "      <td>33332229</td>\n",
              "      <td>1</td>\n",
              "    </tr>\n",
              "    <tr>\n",
              "      <th>4259</th>\n",
              "      <td>17483904</td>\n",
              "      <td>1</td>\n",
              "    </tr>\n",
              "    <tr>\n",
              "      <th>2080</th>\n",
              "      <td>52287951</td>\n",
              "      <td>1</td>\n",
              "    </tr>\n",
              "    <tr>\n",
              "      <th>2772</th>\n",
              "      <td>15119942</td>\n",
              "      <td>1</td>\n",
              "    </tr>\n",
              "    <tr>\n",
              "      <th>3821</th>\n",
              "      <td>82834834</td>\n",
              "      <td>1</td>\n",
              "    </tr>\n",
              "    <tr>\n",
              "      <th>1246</th>\n",
              "      <td>57078122</td>\n",
              "      <td>3</td>\n",
              "    </tr>\n",
              "    <tr>\n",
              "      <th>3604</th>\n",
              "      <td>14236935</td>\n",
              "      <td>1</td>\n",
              "    </tr>\n",
              "  </tbody>\n",
              "</table>\n",
              "</div>"
            ],
            "text/plain": [
              "      Reservation-id  Reservation_status\n",
              "1340        85207721                   1\n",
              "2259        64336892                   1\n",
              "2664        52596495                   1\n",
              "912         19595191                   1\n",
              "2322        94435519                   1\n",
              "2589        88510220                   1\n",
              "762         10668465                   2\n",
              "3291        11556825                   1\n",
              "1610         5207284                   1\n",
              "548         54828270                   1\n",
              "3278        94535097                   2\n",
              "2985        24176439                   1\n",
              "3304        99780059                   1\n",
              "3151        89483523                   1\n",
              "3833        30118505                   2\n",
              "1681        21543690                   1\n",
              "1885        48230750                   1\n",
              "3162        33847831                   1\n",
              "18          21821230                   1\n",
              "3017        49052791                   1\n",
              "674         13468858                   1\n",
              "1923        56720001                   1\n",
              "2150        55548773                   1\n",
              "57          33332229                   1\n",
              "4259        17483904                   1\n",
              "2080        52287951                   1\n",
              "2772        15119942                   1\n",
              "3821        82834834                   1\n",
              "1246        57078122                   3\n",
              "3604        14236935                   1"
            ]
          },
          "metadata": {
            "tags": []
          },
          "execution_count": 517
        }
      ]
    },
    {
      "cell_type": "code",
      "metadata": {
        "id": "MurZrzc1ulb-"
      },
      "source": [
        "df.to_csv('submission1.csv')"
      ],
      "execution_count": null,
      "outputs": []
    },
    {
      "cell_type": "code",
      "metadata": {
        "id": "XBDbtI8wulb-",
        "outputId": "d2bae76f-9f0a-405b-b325-2097a19ef4e7"
      },
      "source": [
        "scaled_df.info()"
      ],
      "execution_count": null,
      "outputs": [
        {
          "output_type": "stream",
          "text": [
            "<class 'pandas.core.frame.DataFrame'>\n",
            "RangeIndex: 4318 entries, 0 to 4317\n",
            "Data columns (total 31 columns):\n",
            " #   Column                       Non-Null Count  Dtype  \n",
            "---  ------                       --------------  -----  \n",
            " 0   Babies                       4318 non-null   float64\n",
            " 1   Discount_Rate                4318 non-null   float64\n",
            " 2   Room_Rate                    4318 non-null   float64\n",
            " 3   Expected_checkin_Year        4318 non-null   float64\n",
            " 4   expected_days_of_checkin     4318 non-null   float64\n",
            " 5   booked_before_n_days         4318 non-null   float64\n",
            " 6   isWeekend_trip               4318 non-null   float64\n",
            " 7   Income_25K --50K             4318 non-null   float64\n",
            " 8   Income_50K -- 100K           4318 non-null   float64\n",
            " 9   Income_<25K                  4318 non-null   float64\n",
            " 10  Income_>100K                 4318 non-null   float64\n",
            " 11  Country_region_East          4318 non-null   float64\n",
            " 12  Country_region_North         4318 non-null   float64\n",
            " 13  Country_region_South         4318 non-null   float64\n",
            " 14  Country_region_West          4318 non-null   float64\n",
            " 15  Meal_Type_BB                 4318 non-null   float64\n",
            " 16  Meal_Type_FB                 4318 non-null   float64\n",
            " 17  Meal_Type_HB                 4318 non-null   float64\n",
            " 18  Visted_Previously_No         4318 non-null   float64\n",
            " 19  Visted_Previously_Yes        4318 non-null   float64\n",
            " 20  Previous_Cancellations_No    4318 non-null   float64\n",
            " 21  Previous_Cancellations_Yes   4318 non-null   float64\n",
            " 22  Deposit_type_No Deposit      4318 non-null   float64\n",
            " 23  Deposit_type_Non-Refundable  4318 non-null   float64\n",
            " 24  Deposit_type_Refundable      4318 non-null   float64\n",
            " 25  Booking_channel_Agent        4318 non-null   float64\n",
            " 26  Booking_channel_Direct       4318 non-null   float64\n",
            " 27  Booking_channel_Online       4318 non-null   float64\n",
            " 28  Use_Promotion_No             4318 non-null   float64\n",
            " 29  Use_Promotion_Yes            4318 non-null   float64\n",
            " 30  Reservation-id               4318 non-null   int64  \n",
            "dtypes: float64(30), int64(1)\n",
            "memory usage: 1.0 MB\n"
          ],
          "name": "stdout"
        }
      ]
    },
    {
      "cell_type": "code",
      "metadata": {
        "id": "IQeJMMRBulb-",
        "outputId": "5528b32c-458f-4a18-d683-554c415d3690"
      },
      "source": [
        "train"
      ],
      "execution_count": null,
      "outputs": [
        {
          "output_type": "execute_result",
          "data": {
            "text/html": [
              "<div>\n",
              "<style scoped>\n",
              "    .dataframe tbody tr th:only-of-type {\n",
              "        vertical-align: middle;\n",
              "    }\n",
              "\n",
              "    .dataframe tbody tr th {\n",
              "        vertical-align: top;\n",
              "    }\n",
              "\n",
              "    .dataframe thead th {\n",
              "        text-align: right;\n",
              "    }\n",
              "</style>\n",
              "<table border=\"1\" class=\"dataframe\">\n",
              "  <thead>\n",
              "    <tr style=\"text-align: right;\">\n",
              "      <th></th>\n",
              "      <th>Unnamed: 0</th>\n",
              "      <th>Reservation-id</th>\n",
              "      <th>Gender</th>\n",
              "      <th>Age</th>\n",
              "      <th>Ethnicity</th>\n",
              "      <th>Educational_Level</th>\n",
              "      <th>Income</th>\n",
              "      <th>Country_region</th>\n",
              "      <th>Hotel_Type</th>\n",
              "      <th>Adults</th>\n",
              "      <th>...</th>\n",
              "      <th>Booking_channel</th>\n",
              "      <th>Required_Car_Parking</th>\n",
              "      <th>Use_Promotion</th>\n",
              "      <th>Discount_Rate</th>\n",
              "      <th>Room_Rate</th>\n",
              "      <th>Expected_checkin_Year</th>\n",
              "      <th>Expected_checkin_Month</th>\n",
              "      <th>expected_days_of_checkin</th>\n",
              "      <th>booked_before_n_days</th>\n",
              "      <th>isWeekend_trip</th>\n",
              "    </tr>\n",
              "  </thead>\n",
              "  <tbody>\n",
              "    <tr>\n",
              "      <th>0</th>\n",
              "      <td>0</td>\n",
              "      <td>62931593</td>\n",
              "      <td>F</td>\n",
              "      <td>52</td>\n",
              "      <td>Latino</td>\n",
              "      <td>Grad</td>\n",
              "      <td>25K --50K</td>\n",
              "      <td>South</td>\n",
              "      <td>City Hotel</td>\n",
              "      <td>3</td>\n",
              "      <td>...</td>\n",
              "      <td>Direct</td>\n",
              "      <td>Yes</td>\n",
              "      <td>Yes</td>\n",
              "      <td>10</td>\n",
              "      <td>153</td>\n",
              "      <td>2016</td>\n",
              "      <td>11</td>\n",
              "      <td>1</td>\n",
              "      <td>21</td>\n",
              "      <td>1</td>\n",
              "    </tr>\n",
              "    <tr>\n",
              "      <th>1</th>\n",
              "      <td>1</td>\n",
              "      <td>70586099</td>\n",
              "      <td>F</td>\n",
              "      <td>47</td>\n",
              "      <td>Latino</td>\n",
              "      <td>Grad</td>\n",
              "      <td>25K --50K</td>\n",
              "      <td>East</td>\n",
              "      <td>Airport Hotels</td>\n",
              "      <td>2</td>\n",
              "      <td>...</td>\n",
              "      <td>Online</td>\n",
              "      <td>No</td>\n",
              "      <td>No</td>\n",
              "      <td>0</td>\n",
              "      <td>210</td>\n",
              "      <td>2016</td>\n",
              "      <td>11</td>\n",
              "      <td>1</td>\n",
              "      <td>104</td>\n",
              "      <td>1</td>\n",
              "    </tr>\n",
              "    <tr>\n",
              "      <th>2</th>\n",
              "      <td>2</td>\n",
              "      <td>4230648</td>\n",
              "      <td>F</td>\n",
              "      <td>28</td>\n",
              "      <td>Asian American</td>\n",
              "      <td>Grad</td>\n",
              "      <td>&lt;25K</td>\n",
              "      <td>East</td>\n",
              "      <td>City Hotel</td>\n",
              "      <td>2</td>\n",
              "      <td>...</td>\n",
              "      <td>Agent</td>\n",
              "      <td>No</td>\n",
              "      <td>Yes</td>\n",
              "      <td>5</td>\n",
              "      <td>117</td>\n",
              "      <td>2017</td>\n",
              "      <td>4</td>\n",
              "      <td>3</td>\n",
              "      <td>20</td>\n",
              "      <td>1</td>\n",
              "    </tr>\n",
              "    <tr>\n",
              "      <th>3</th>\n",
              "      <td>3</td>\n",
              "      <td>25192322</td>\n",
              "      <td>F</td>\n",
              "      <td>65</td>\n",
              "      <td>caucasian</td>\n",
              "      <td>High-School</td>\n",
              "      <td>25K --50K</td>\n",
              "      <td>South</td>\n",
              "      <td>Airport Hotels</td>\n",
              "      <td>1</td>\n",
              "      <td>...</td>\n",
              "      <td>Online</td>\n",
              "      <td>Yes</td>\n",
              "      <td>Yes</td>\n",
              "      <td>10</td>\n",
              "      <td>107</td>\n",
              "      <td>2016</td>\n",
              "      <td>11</td>\n",
              "      <td>2</td>\n",
              "      <td>182</td>\n",
              "      <td>1</td>\n",
              "    </tr>\n",
              "    <tr>\n",
              "      <th>4</th>\n",
              "      <td>4</td>\n",
              "      <td>80931528</td>\n",
              "      <td>M</td>\n",
              "      <td>45</td>\n",
              "      <td>African American</td>\n",
              "      <td>College</td>\n",
              "      <td>25K --50K</td>\n",
              "      <td>South</td>\n",
              "      <td>City Hotel</td>\n",
              "      <td>3</td>\n",
              "      <td>...</td>\n",
              "      <td>Agent</td>\n",
              "      <td>No</td>\n",
              "      <td>No</td>\n",
              "      <td>0</td>\n",
              "      <td>119</td>\n",
              "      <td>2016</td>\n",
              "      <td>11</td>\n",
              "      <td>2</td>\n",
              "      <td>18</td>\n",
              "      <td>1</td>\n",
              "    </tr>\n",
              "    <tr>\n",
              "      <th>...</th>\n",
              "      <td>...</td>\n",
              "      <td>...</td>\n",
              "      <td>...</td>\n",
              "      <td>...</td>\n",
              "      <td>...</td>\n",
              "      <td>...</td>\n",
              "      <td>...</td>\n",
              "      <td>...</td>\n",
              "      <td>...</td>\n",
              "      <td>...</td>\n",
              "      <td>...</td>\n",
              "      <td>...</td>\n",
              "      <td>...</td>\n",
              "      <td>...</td>\n",
              "      <td>...</td>\n",
              "      <td>...</td>\n",
              "      <td>...</td>\n",
              "      <td>...</td>\n",
              "      <td>...</td>\n",
              "      <td>...</td>\n",
              "      <td>...</td>\n",
              "    </tr>\n",
              "    <tr>\n",
              "      <th>4313</th>\n",
              "      <td>4313</td>\n",
              "      <td>39110574</td>\n",
              "      <td>M</td>\n",
              "      <td>53</td>\n",
              "      <td>Latino</td>\n",
              "      <td>College</td>\n",
              "      <td>50K -- 100K</td>\n",
              "      <td>South</td>\n",
              "      <td>Resort</td>\n",
              "      <td>3</td>\n",
              "      <td>...</td>\n",
              "      <td>Online</td>\n",
              "      <td>Yes</td>\n",
              "      <td>No</td>\n",
              "      <td>0</td>\n",
              "      <td>153</td>\n",
              "      <td>2017</td>\n",
              "      <td>3</td>\n",
              "      <td>1</td>\n",
              "      <td>199</td>\n",
              "      <td>0</td>\n",
              "    </tr>\n",
              "    <tr>\n",
              "      <th>4314</th>\n",
              "      <td>4314</td>\n",
              "      <td>5496554</td>\n",
              "      <td>F</td>\n",
              "      <td>63</td>\n",
              "      <td>caucasian</td>\n",
              "      <td>College</td>\n",
              "      <td>50K -- 100K</td>\n",
              "      <td>South</td>\n",
              "      <td>Resort</td>\n",
              "      <td>3</td>\n",
              "      <td>...</td>\n",
              "      <td>Agent</td>\n",
              "      <td>Yes</td>\n",
              "      <td>Yes</td>\n",
              "      <td>40</td>\n",
              "      <td>233</td>\n",
              "      <td>2017</td>\n",
              "      <td>3</td>\n",
              "      <td>3</td>\n",
              "      <td>47</td>\n",
              "      <td>0</td>\n",
              "    </tr>\n",
              "    <tr>\n",
              "      <th>4315</th>\n",
              "      <td>4315</td>\n",
              "      <td>59004046</td>\n",
              "      <td>F</td>\n",
              "      <td>59</td>\n",
              "      <td>caucasian</td>\n",
              "      <td>Grad</td>\n",
              "      <td>&lt;25K</td>\n",
              "      <td>East</td>\n",
              "      <td>Airport Hotels</td>\n",
              "      <td>2</td>\n",
              "      <td>...</td>\n",
              "      <td>Direct</td>\n",
              "      <td>Yes</td>\n",
              "      <td>No</td>\n",
              "      <td>0</td>\n",
              "      <td>242</td>\n",
              "      <td>2017</td>\n",
              "      <td>3</td>\n",
              "      <td>1</td>\n",
              "      <td>215</td>\n",
              "      <td>0</td>\n",
              "    </tr>\n",
              "    <tr>\n",
              "      <th>4316</th>\n",
              "      <td>4316</td>\n",
              "      <td>65838682</td>\n",
              "      <td>M</td>\n",
              "      <td>43</td>\n",
              "      <td>African American</td>\n",
              "      <td>College</td>\n",
              "      <td>25K --50K</td>\n",
              "      <td>West</td>\n",
              "      <td>Resort</td>\n",
              "      <td>4</td>\n",
              "      <td>...</td>\n",
              "      <td>Online</td>\n",
              "      <td>Yes</td>\n",
              "      <td>No</td>\n",
              "      <td>0</td>\n",
              "      <td>208</td>\n",
              "      <td>2017</td>\n",
              "      <td>3</td>\n",
              "      <td>1</td>\n",
              "      <td>25</td>\n",
              "      <td>0</td>\n",
              "    </tr>\n",
              "    <tr>\n",
              "      <th>4317</th>\n",
              "      <td>4317</td>\n",
              "      <td>14474101</td>\n",
              "      <td>F</td>\n",
              "      <td>33</td>\n",
              "      <td>African American</td>\n",
              "      <td>Mid-School</td>\n",
              "      <td>50K -- 100K</td>\n",
              "      <td>North</td>\n",
              "      <td>City Hotel</td>\n",
              "      <td>2</td>\n",
              "      <td>...</td>\n",
              "      <td>Agent</td>\n",
              "      <td>Yes</td>\n",
              "      <td>Yes</td>\n",
              "      <td>20</td>\n",
              "      <td>213</td>\n",
              "      <td>2017</td>\n",
              "      <td>3</td>\n",
              "      <td>1</td>\n",
              "      <td>0</td>\n",
              "      <td>0</td>\n",
              "    </tr>\n",
              "  </tbody>\n",
              "</table>\n",
              "<p>4318 rows × 26 columns</p>\n",
              "</div>"
            ],
            "text/plain": [
              "      Unnamed: 0  Reservation-id Gender  Age         Ethnicity  \\\n",
              "0              0        62931593      F   52            Latino   \n",
              "1              1        70586099      F   47            Latino   \n",
              "2              2         4230648      F   28    Asian American   \n",
              "3              3        25192322      F   65         caucasian   \n",
              "4              4        80931528      M   45  African American   \n",
              "...          ...             ...    ...  ...               ...   \n",
              "4313        4313        39110574      M   53            Latino   \n",
              "4314        4314         5496554      F   63         caucasian   \n",
              "4315        4315        59004046      F   59         caucasian   \n",
              "4316        4316        65838682      M   43  African American   \n",
              "4317        4317        14474101      F   33  African American   \n",
              "\n",
              "     Educational_Level       Income Country_region      Hotel_Type  Adults  \\\n",
              "0                 Grad    25K --50K          South      City Hotel       3   \n",
              "1                 Grad    25K --50K           East  Airport Hotels       2   \n",
              "2                 Grad         <25K           East      City Hotel       2   \n",
              "3          High-School    25K --50K          South  Airport Hotels       1   \n",
              "4              College    25K --50K          South      City Hotel       3   \n",
              "...                ...          ...            ...             ...     ...   \n",
              "4313           College  50K -- 100K          South          Resort       3   \n",
              "4314           College  50K -- 100K          South          Resort       3   \n",
              "4315              Grad         <25K           East  Airport Hotels       2   \n",
              "4316           College    25K --50K           West          Resort       4   \n",
              "4317        Mid-School  50K -- 100K          North      City Hotel       2   \n",
              "\n",
              "      ...  Booking_channel  Required_Car_Parking Use_Promotion Discount_Rate  \\\n",
              "0     ...           Direct                   Yes           Yes            10   \n",
              "1     ...           Online                    No            No             0   \n",
              "2     ...            Agent                    No           Yes             5   \n",
              "3     ...           Online                   Yes           Yes            10   \n",
              "4     ...            Agent                    No            No             0   \n",
              "...   ...              ...                   ...           ...           ...   \n",
              "4313  ...           Online                   Yes            No             0   \n",
              "4314  ...            Agent                   Yes           Yes            40   \n",
              "4315  ...           Direct                   Yes            No             0   \n",
              "4316  ...           Online                   Yes            No             0   \n",
              "4317  ...            Agent                   Yes           Yes            20   \n",
              "\n",
              "     Room_Rate Expected_checkin_Year Expected_checkin_Month  \\\n",
              "0          153                  2016                     11   \n",
              "1          210                  2016                     11   \n",
              "2          117                  2017                      4   \n",
              "3          107                  2016                     11   \n",
              "4          119                  2016                     11   \n",
              "...        ...                   ...                    ...   \n",
              "4313       153                  2017                      3   \n",
              "4314       233                  2017                      3   \n",
              "4315       242                  2017                      3   \n",
              "4316       208                  2017                      3   \n",
              "4317       213                  2017                      3   \n",
              "\n",
              "     expected_days_of_checkin booked_before_n_days  isWeekend_trip  \n",
              "0                           1                   21               1  \n",
              "1                           1                  104               1  \n",
              "2                           3                   20               1  \n",
              "3                           2                  182               1  \n",
              "4                           2                   18               1  \n",
              "...                       ...                  ...             ...  \n",
              "4313                        1                  199               0  \n",
              "4314                        3                   47               0  \n",
              "4315                        1                  215               0  \n",
              "4316                        1                   25               0  \n",
              "4317                        1                    0               0  \n",
              "\n",
              "[4318 rows x 26 columns]"
            ]
          },
          "metadata": {
            "tags": []
          },
          "execution_count": 471
        }
      ]
    },
    {
      "cell_type": "code",
      "metadata": {
        "id": "5ZUmgasIulb_"
      },
      "source": [
        ""
      ],
      "execution_count": null,
      "outputs": []
    }
  ]
}