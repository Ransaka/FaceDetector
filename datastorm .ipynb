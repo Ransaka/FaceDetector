{
  "nbformat": 4,
  "nbformat_minor": 0,
  "metadata": {
    "colab": {
      "name": "Untitled42.ipynb",
      "provenance": [],
      "collapsed_sections": [],
      "authorship_tag": "ABX9TyNBHz7firpN9QGF5M/218YX",
      "include_colab_link": true
    },
    "kernelspec": {
      "name": "python3",
      "display_name": "Python 3"
    },
    "accelerator": "GPU"
  },
  "cells": [
    {
      "cell_type": "markdown",
      "metadata": {
        "id": "view-in-github",
        "colab_type": "text"
      },
      "source": [
        "<a href=\"https://colab.research.google.com/github/Ransaka/FaceDetector/blob/master/datastorm%20.ipynb\" target=\"_parent\"><img src=\"https://colab.research.google.com/assets/colab-badge.svg\" alt=\"Open In Colab\"/></a>"
      ]
    },
    {
      "cell_type": "code",
      "metadata": {
        "id": "p4r_gFtIsMvC"
      },
      "source": [
        "import pandas as pd\r\n",
        "import numpy as np\r\n",
        "from numpy import mean\r\n",
        "from numpy import std\r\n",
        "from sklearn.datasets import make_classification\r\n",
        "from sklearn.model_selection import cross_val_score,train_test_split,GridSearchCV\r\n",
        "from sklearn.model_selection import RepeatedStratifiedKFold\r\n",
        "from sklearn.linear_model import LogisticRegression\r\n",
        "from sklearn.neighbors import KNeighborsClassifier\r\n",
        "from sklearn.tree import DecisionTreeClassifier\r\n",
        "from sklearn.svm import SVC\r\n",
        "from sklearn.naive_bayes import GaussianNB\r\n",
        "import matplotlib.pyplot as plt\r\n",
        "from sklearn.metrics import classification_report\r\n",
        "import seaborn as sns"
      ],
      "execution_count": 3,
      "outputs": []
    },
    {
      "cell_type": "code",
      "metadata": {
        "id": "nMIoZB1nyhXA"
      },
      "source": [
        "train = pd.read_csv('/content/train_cleaned_and_encoded.csv')"
      ],
      "execution_count": 3,
      "outputs": []
    },
    {
      "cell_type": "code",
      "metadata": {
        "id": "oAPzRTIxr-84"
      },
      "source": [
        "validation = pd.read_csv('/content/validation_scaled_cleaned.csv')"
      ],
      "execution_count": 6,
      "outputs": []
    },
    {
      "cell_type": "code",
      "metadata": {
        "id": "XhqWCCLaSDVw"
      },
      "source": [
        "test = pd.read_csv('/content/test_cleaned_scaled.csv')"
      ],
      "execution_count": 5,
      "outputs": []
    },
    {
      "cell_type": "code",
      "metadata": {
        "colab": {
          "base_uri": "https://localhost:8080/"
        },
        "id": "gKMEiNteSMDa",
        "outputId": "dd7af122-b06f-470c-e287-d16c122c24ba"
      },
      "source": [
        "test.shape"
      ],
      "execution_count": 7,
      "outputs": [
        {
          "output_type": "execute_result",
          "data": {
            "text/plain": [
              "(4318, 26)"
            ]
          },
          "metadata": {
            "tags": []
          },
          "execution_count": 7
        }
      ]
    },
    {
      "cell_type": "code",
      "metadata": {
        "colab": {
          "base_uri": "https://localhost:8080/"
        },
        "id": "v4kfoseAstiU",
        "outputId": "c1d7497f-e79a-4b50-b636-db794204a400"
      },
      "source": [
        "train.shape"
      ],
      "execution_count": 8,
      "outputs": [
        {
          "output_type": "execute_result",
          "data": {
            "text/plain": [
              "(4318, 26)"
            ]
          },
          "metadata": {
            "tags": []
          },
          "execution_count": 8
        }
      ]
    },
    {
      "cell_type": "code",
      "metadata": {
        "colab": {
          "base_uri": "https://localhost:8080/"
        },
        "id": "9UqTqJMtstwO",
        "outputId": "a9db0346-202e-44dc-8726-7ae90e5d5fd7"
      },
      "source": [
        "validation.shape"
      ],
      "execution_count": 9,
      "outputs": [
        {
          "output_type": "execute_result",
          "data": {
            "text/plain": [
              "(2749, 27)"
            ]
          },
          "metadata": {
            "tags": []
          },
          "execution_count": 9
        }
      ]
    },
    {
      "cell_type": "code",
      "metadata": {
        "colab": {
          "base_uri": "https://localhost:8080/"
        },
        "id": "K93wn05nSQvG",
        "outputId": "a75c3697-4afe-488a-a0f5-d82247369477"
      },
      "source": [
        "train.columns"
      ],
      "execution_count": 10,
      "outputs": [
        {
          "output_type": "execute_result",
          "data": {
            "text/plain": [
              "Index(['Unnamed: 0', 'Reservation-id', 'Gender', 'Age', 'Ethnicity',\n",
              "       'Educational_Level', 'Income', 'Country_region', 'Hotel_Type', 'Adults',\n",
              "       'Children', 'Babies', 'Meal_Type', 'Visted_Previously',\n",
              "       'Previous_Cancellations', 'Deposit_type', 'Booking_channel',\n",
              "       'Required_Car_Parking', 'Use_Promotion', 'Discount_Rate', 'Room_Rate',\n",
              "       'Expected_checkin_Year', 'Expected_checkin_Month',\n",
              "       'expected_days_of_checkin', 'booked_before_n_days', 'isWeekend_trip'],\n",
              "      dtype='object')"
            ]
          },
          "metadata": {
            "tags": []
          },
          "execution_count": 10
        }
      ]
    },
    {
      "cell_type": "code",
      "metadata": {
        "colab": {
          "base_uri": "https://localhost:8080/"
        },
        "id": "PMP2rmWiywrF",
        "outputId": "5a8c2d11-de76-4779-bb5d-2ae3587967fe"
      },
      "source": [
        "validation.columns"
      ],
      "execution_count": 11,
      "outputs": [
        {
          "output_type": "execute_result",
          "data": {
            "text/plain": [
              "Index(['Unnamed: 0', 'Reservation-id', 'Gender', 'Age', 'Ethnicity',\n",
              "       'Educational_Level', 'Income', 'Country_region', 'Hotel_Type', 'Adults',\n",
              "       'Children', 'Babies', 'Meal_Type', 'Visted_Previously',\n",
              "       'Previous_Cancellations', 'Deposit_type', 'Booking_channel',\n",
              "       'Required_Car_Parking', 'Reservation_Status', 'Use_Promotion',\n",
              "       'Discount_Rate', 'Room_Rate', 'Expected_checkin_Year',\n",
              "       'Expected_checkin_Month', 'expected_days_of_checkin',\n",
              "       'booked_before_n_days', 'isWeekend_trip'],\n",
              "      dtype='object')"
            ]
          },
          "metadata": {
            "tags": []
          },
          "execution_count": 11
        }
      ]
    },
    {
      "cell_type": "code",
      "metadata": {
        "colab": {
          "base_uri": "https://localhost:8080/"
        },
        "id": "--uOYldptDnK",
        "outputId": "498ca2be-0242-4a68-e748-2e05effec594"
      },
      "source": [
        "test.columns"
      ],
      "execution_count": null,
      "outputs": [
        {
          "output_type": "execute_result",
          "data": {
            "text/plain": [
              "Index(['Unnamed: 0', 'Reservation-id', 'Gender', 'Age', 'Ethnicity',\n",
              "       'Educational_Level', 'Income', 'Country_region', 'Hotel_Type', 'Adults',\n",
              "       'Children', 'Babies', 'Meal_Type', 'Visted_Previously',\n",
              "       'Previous_Cancellations', 'Deposit_type', 'Booking_channel',\n",
              "       'Required_Car_Parking', 'Use_Promotion', 'Discount_Rate', 'Room_Rate',\n",
              "       'Expected_checkin_Year', 'Expected_checkin_Month',\n",
              "       'expected_days_of_checkin', 'booked_before_n_days', 'isWeekend_trip'],\n",
              "      dtype='object')"
            ]
          },
          "metadata": {
            "tags": []
          },
          "execution_count": 11
        }
      ]
    },
    {
      "cell_type": "code",
      "metadata": {
        "id": "UFHeYrJGyyEd"
      },
      "source": [
        "del train['Unnamed: 0']"
      ],
      "execution_count": null,
      "outputs": []
    },
    {
      "cell_type": "code",
      "metadata": {
        "id": "u1VKfB1XSWTx"
      },
      "source": [
        "del test['Unnamed: 0']"
      ],
      "execution_count": null,
      "outputs": []
    },
    {
      "cell_type": "code",
      "metadata": {
        "id": "PMDbuGMmtCMF"
      },
      "source": [
        "del validation['Unnamed: 0']"
      ],
      "execution_count": null,
      "outputs": []
    },
    {
      "cell_type": "code",
      "metadata": {
        "colab": {
          "base_uri": "https://localhost:8080/",
          "height": 531
        },
        "id": "Qwk-ZzWXzFse",
        "outputId": "c3eb9861-a8ac-430e-fbd3-9b577e0d30e1"
      },
      "source": [
        "train.sample(10)"
      ],
      "execution_count": null,
      "outputs": [
        {
          "output_type": "execute_result",
          "data": {
            "text/html": [
              "<div>\n",
              "<style scoped>\n",
              "    .dataframe tbody tr th:only-of-type {\n",
              "        vertical-align: middle;\n",
              "    }\n",
              "\n",
              "    .dataframe tbody tr th {\n",
              "        vertical-align: top;\n",
              "    }\n",
              "\n",
              "    .dataframe thead th {\n",
              "        text-align: right;\n",
              "    }\n",
              "</style>\n",
              "<table border=\"1\" class=\"dataframe\">\n",
              "  <thead>\n",
              "    <tr style=\"text-align: right;\">\n",
              "      <th></th>\n",
              "      <th>Reservation-id</th>\n",
              "      <th>Gender</th>\n",
              "      <th>Age</th>\n",
              "      <th>Ethnicity</th>\n",
              "      <th>Educational_Level</th>\n",
              "      <th>Income</th>\n",
              "      <th>Country_region</th>\n",
              "      <th>Hotel_Type</th>\n",
              "      <th>Adults</th>\n",
              "      <th>Children</th>\n",
              "      <th>Babies</th>\n",
              "      <th>Meal_Type</th>\n",
              "      <th>Visted_Previously</th>\n",
              "      <th>Previous_Cancellations</th>\n",
              "      <th>Deposit_type</th>\n",
              "      <th>Booking_channel</th>\n",
              "      <th>Required_Car_Parking</th>\n",
              "      <th>Reservation_Status</th>\n",
              "      <th>Use_Promotion</th>\n",
              "      <th>Discount_Rate</th>\n",
              "      <th>Room_Rate</th>\n",
              "      <th>Expected_checkin_Year</th>\n",
              "      <th>Expected_checkin_Month</th>\n",
              "      <th>expected_days_of_checkin</th>\n",
              "      <th>booked_before_n_days</th>\n",
              "      <th>isWeekend_trip</th>\n",
              "    </tr>\n",
              "  </thead>\n",
              "  <tbody>\n",
              "    <tr>\n",
              "      <th>27448</th>\n",
              "      <td>37360847</td>\n",
              "      <td>M</td>\n",
              "      <td>54</td>\n",
              "      <td>caucasian</td>\n",
              "      <td>Mid-School</td>\n",
              "      <td>&gt;100K</td>\n",
              "      <td>North</td>\n",
              "      <td>Resort</td>\n",
              "      <td>2</td>\n",
              "      <td>2</td>\n",
              "      <td>1</td>\n",
              "      <td>BB</td>\n",
              "      <td>Yes</td>\n",
              "      <td>Yes</td>\n",
              "      <td>No Deposit</td>\n",
              "      <td>Online</td>\n",
              "      <td>Yes</td>\n",
              "      <td>No-Show</td>\n",
              "      <td>No</td>\n",
              "      <td>0</td>\n",
              "      <td>156</td>\n",
              "      <td>2016</td>\n",
              "      <td>8</td>\n",
              "      <td>1</td>\n",
              "      <td>107</td>\n",
              "      <td>0</td>\n",
              "    </tr>\n",
              "    <tr>\n",
              "      <th>14374</th>\n",
              "      <td>72694947</td>\n",
              "      <td>M</td>\n",
              "      <td>49</td>\n",
              "      <td>Asian American</td>\n",
              "      <td>High-School</td>\n",
              "      <td>50K -- 100K</td>\n",
              "      <td>West</td>\n",
              "      <td>Airport Hotels</td>\n",
              "      <td>2</td>\n",
              "      <td>2</td>\n",
              "      <td>1</td>\n",
              "      <td>HB</td>\n",
              "      <td>No</td>\n",
              "      <td>No</td>\n",
              "      <td>No Deposit</td>\n",
              "      <td>Online</td>\n",
              "      <td>Yes</td>\n",
              "      <td>Check-In</td>\n",
              "      <td>Yes</td>\n",
              "      <td>40</td>\n",
              "      <td>219</td>\n",
              "      <td>2017</td>\n",
              "      <td>7</td>\n",
              "      <td>1</td>\n",
              "      <td>174</td>\n",
              "      <td>0</td>\n",
              "    </tr>\n",
              "    <tr>\n",
              "      <th>2524</th>\n",
              "      <td>50619149</td>\n",
              "      <td>F</td>\n",
              "      <td>47</td>\n",
              "      <td>Asian American</td>\n",
              "      <td>Grad</td>\n",
              "      <td>50K -- 100K</td>\n",
              "      <td>North</td>\n",
              "      <td>Airport Hotels</td>\n",
              "      <td>5</td>\n",
              "      <td>1</td>\n",
              "      <td>0</td>\n",
              "      <td>BB</td>\n",
              "      <td>Yes</td>\n",
              "      <td>Yes</td>\n",
              "      <td>No Deposit</td>\n",
              "      <td>Direct</td>\n",
              "      <td>Yes</td>\n",
              "      <td>Check-In</td>\n",
              "      <td>No</td>\n",
              "      <td>0</td>\n",
              "      <td>137</td>\n",
              "      <td>2015</td>\n",
              "      <td>10</td>\n",
              "      <td>2</td>\n",
              "      <td>104</td>\n",
              "      <td>0</td>\n",
              "    </tr>\n",
              "    <tr>\n",
              "      <th>4254</th>\n",
              "      <td>56309079</td>\n",
              "      <td>F</td>\n",
              "      <td>46</td>\n",
              "      <td>Asian American</td>\n",
              "      <td>Mid-School</td>\n",
              "      <td>&gt;100K</td>\n",
              "      <td>East</td>\n",
              "      <td>Airport Hotels</td>\n",
              "      <td>2</td>\n",
              "      <td>2</td>\n",
              "      <td>2</td>\n",
              "      <td>BB</td>\n",
              "      <td>No</td>\n",
              "      <td>No</td>\n",
              "      <td>Refundable</td>\n",
              "      <td>Direct</td>\n",
              "      <td>No</td>\n",
              "      <td>Check-In</td>\n",
              "      <td>Yes</td>\n",
              "      <td>15</td>\n",
              "      <td>140</td>\n",
              "      <td>2016</td>\n",
              "      <td>2</td>\n",
              "      <td>2</td>\n",
              "      <td>42</td>\n",
              "      <td>0</td>\n",
              "    </tr>\n",
              "    <tr>\n",
              "      <th>25359</th>\n",
              "      <td>33997981</td>\n",
              "      <td>F</td>\n",
              "      <td>69</td>\n",
              "      <td>Asian American</td>\n",
              "      <td>Grad</td>\n",
              "      <td>&gt;100K</td>\n",
              "      <td>North</td>\n",
              "      <td>Airport Hotels</td>\n",
              "      <td>3</td>\n",
              "      <td>2</td>\n",
              "      <td>0</td>\n",
              "      <td>BB</td>\n",
              "      <td>No</td>\n",
              "      <td>No</td>\n",
              "      <td>Refundable</td>\n",
              "      <td>Online</td>\n",
              "      <td>No</td>\n",
              "      <td>Canceled</td>\n",
              "      <td>Yes</td>\n",
              "      <td>10</td>\n",
              "      <td>224</td>\n",
              "      <td>2016</td>\n",
              "      <td>6</td>\n",
              "      <td>1</td>\n",
              "      <td>77</td>\n",
              "      <td>0</td>\n",
              "    </tr>\n",
              "    <tr>\n",
              "      <th>23652</th>\n",
              "      <td>43899279</td>\n",
              "      <td>F</td>\n",
              "      <td>25</td>\n",
              "      <td>African American</td>\n",
              "      <td>Mid-School</td>\n",
              "      <td>25K --50K</td>\n",
              "      <td>West</td>\n",
              "      <td>Resort</td>\n",
              "      <td>2</td>\n",
              "      <td>2</td>\n",
              "      <td>0</td>\n",
              "      <td>FB</td>\n",
              "      <td>No</td>\n",
              "      <td>No</td>\n",
              "      <td>No Deposit</td>\n",
              "      <td>Online</td>\n",
              "      <td>Yes</td>\n",
              "      <td>Check-In</td>\n",
              "      <td>Yes</td>\n",
              "      <td>5</td>\n",
              "      <td>190</td>\n",
              "      <td>2016</td>\n",
              "      <td>4</td>\n",
              "      <td>1</td>\n",
              "      <td>135</td>\n",
              "      <td>1</td>\n",
              "    </tr>\n",
              "    <tr>\n",
              "      <th>18968</th>\n",
              "      <td>55824126</td>\n",
              "      <td>M</td>\n",
              "      <td>42</td>\n",
              "      <td>Latino</td>\n",
              "      <td>High-School</td>\n",
              "      <td>25K --50K</td>\n",
              "      <td>East</td>\n",
              "      <td>Airport Hotels</td>\n",
              "      <td>2</td>\n",
              "      <td>2</td>\n",
              "      <td>0</td>\n",
              "      <td>FB</td>\n",
              "      <td>Yes</td>\n",
              "      <td>Yes</td>\n",
              "      <td>No Deposit</td>\n",
              "      <td>Online</td>\n",
              "      <td>Yes</td>\n",
              "      <td>No-Show</td>\n",
              "      <td>No</td>\n",
              "      <td>0</td>\n",
              "      <td>188</td>\n",
              "      <td>2017</td>\n",
              "      <td>1</td>\n",
              "      <td>1</td>\n",
              "      <td>213</td>\n",
              "      <td>0</td>\n",
              "    </tr>\n",
              "    <tr>\n",
              "      <th>15659</th>\n",
              "      <td>77837648</td>\n",
              "      <td>M</td>\n",
              "      <td>22</td>\n",
              "      <td>African American</td>\n",
              "      <td>Mid-School</td>\n",
              "      <td>50K -- 100K</td>\n",
              "      <td>West</td>\n",
              "      <td>Resort</td>\n",
              "      <td>3</td>\n",
              "      <td>1</td>\n",
              "      <td>1</td>\n",
              "      <td>FB</td>\n",
              "      <td>No</td>\n",
              "      <td>No</td>\n",
              "      <td>No Deposit</td>\n",
              "      <td>Direct</td>\n",
              "      <td>No</td>\n",
              "      <td>No-Show</td>\n",
              "      <td>Yes</td>\n",
              "      <td>5</td>\n",
              "      <td>231</td>\n",
              "      <td>2015</td>\n",
              "      <td>7</td>\n",
              "      <td>1</td>\n",
              "      <td>103</td>\n",
              "      <td>0</td>\n",
              "    </tr>\n",
              "    <tr>\n",
              "      <th>19640</th>\n",
              "      <td>47580126</td>\n",
              "      <td>M</td>\n",
              "      <td>45</td>\n",
              "      <td>caucasian</td>\n",
              "      <td>College</td>\n",
              "      <td>&lt;25K</td>\n",
              "      <td>South</td>\n",
              "      <td>Airport Hotels</td>\n",
              "      <td>1</td>\n",
              "      <td>3</td>\n",
              "      <td>0</td>\n",
              "      <td>BB</td>\n",
              "      <td>No</td>\n",
              "      <td>No</td>\n",
              "      <td>Refundable</td>\n",
              "      <td>Online</td>\n",
              "      <td>Yes</td>\n",
              "      <td>Canceled</td>\n",
              "      <td>Yes</td>\n",
              "      <td>25</td>\n",
              "      <td>183</td>\n",
              "      <td>2015</td>\n",
              "      <td>12</td>\n",
              "      <td>3</td>\n",
              "      <td>180</td>\n",
              "      <td>0</td>\n",
              "    </tr>\n",
              "    <tr>\n",
              "      <th>21696</th>\n",
              "      <td>75383463</td>\n",
              "      <td>M</td>\n",
              "      <td>56</td>\n",
              "      <td>Asian American</td>\n",
              "      <td>High-School</td>\n",
              "      <td>25K --50K</td>\n",
              "      <td>East</td>\n",
              "      <td>Resort</td>\n",
              "      <td>3</td>\n",
              "      <td>2</td>\n",
              "      <td>2</td>\n",
              "      <td>HB</td>\n",
              "      <td>No</td>\n",
              "      <td>No</td>\n",
              "      <td>No Deposit</td>\n",
              "      <td>Agent</td>\n",
              "      <td>Yes</td>\n",
              "      <td>Check-In</td>\n",
              "      <td>No</td>\n",
              "      <td>0</td>\n",
              "      <td>236</td>\n",
              "      <td>2016</td>\n",
              "      <td>5</td>\n",
              "      <td>1</td>\n",
              "      <td>145</td>\n",
              "      <td>0</td>\n",
              "    </tr>\n",
              "  </tbody>\n",
              "</table>\n",
              "</div>"
            ],
            "text/plain": [
              "       Reservation-id Gender  ...  booked_before_n_days isWeekend_trip\n",
              "27448        37360847      M  ...                   107              0\n",
              "14374        72694947      M  ...                   174              0\n",
              "2524         50619149      F  ...                   104              0\n",
              "4254         56309079      F  ...                    42              0\n",
              "25359        33997981      F  ...                    77              0\n",
              "23652        43899279      F  ...                   135              1\n",
              "18968        55824126      M  ...                   213              0\n",
              "15659        77837648      M  ...                   103              0\n",
              "19640        47580126      M  ...                   180              0\n",
              "21696        75383463      M  ...                   145              0\n",
              "\n",
              "[10 rows x 26 columns]"
            ]
          },
          "metadata": {
            "tags": []
          },
          "execution_count": 71
        }
      ]
    },
    {
      "cell_type": "code",
      "metadata": {
        "colab": {
          "base_uri": "https://localhost:8080/",
          "height": 531
        },
        "id": "P0x78gPPtTe4",
        "outputId": "f32af389-c07c-4066-94f6-3aab91db4d5a"
      },
      "source": [
        "test.sample(10)"
      ],
      "execution_count": null,
      "outputs": [
        {
          "output_type": "execute_result",
          "data": {
            "text/html": [
              "<div>\n",
              "<style scoped>\n",
              "    .dataframe tbody tr th:only-of-type {\n",
              "        vertical-align: middle;\n",
              "    }\n",
              "\n",
              "    .dataframe tbody tr th {\n",
              "        vertical-align: top;\n",
              "    }\n",
              "\n",
              "    .dataframe thead th {\n",
              "        text-align: right;\n",
              "    }\n",
              "</style>\n",
              "<table border=\"1\" class=\"dataframe\">\n",
              "  <thead>\n",
              "    <tr style=\"text-align: right;\">\n",
              "      <th></th>\n",
              "      <th>Reservation-id</th>\n",
              "      <th>Gender</th>\n",
              "      <th>Age</th>\n",
              "      <th>Ethnicity</th>\n",
              "      <th>Educational_Level</th>\n",
              "      <th>Income</th>\n",
              "      <th>Country_region</th>\n",
              "      <th>Hotel_Type</th>\n",
              "      <th>Adults</th>\n",
              "      <th>Children</th>\n",
              "      <th>Babies</th>\n",
              "      <th>Meal_Type</th>\n",
              "      <th>Visted_Previously</th>\n",
              "      <th>Previous_Cancellations</th>\n",
              "      <th>Deposit_type</th>\n",
              "      <th>Booking_channel</th>\n",
              "      <th>Required_Car_Parking</th>\n",
              "      <th>Use_Promotion</th>\n",
              "      <th>Discount_Rate</th>\n",
              "      <th>Room_Rate</th>\n",
              "      <th>Expected_checkin_Year</th>\n",
              "      <th>Expected_checkin_Month</th>\n",
              "      <th>expected_days_of_checkin</th>\n",
              "      <th>booked_before_n_days</th>\n",
              "      <th>isWeekend_trip</th>\n",
              "    </tr>\n",
              "  </thead>\n",
              "  <tbody>\n",
              "    <tr>\n",
              "      <th>2830</th>\n",
              "      <td>71707402</td>\n",
              "      <td>F</td>\n",
              "      <td>41</td>\n",
              "      <td>caucasian</td>\n",
              "      <td>Grad</td>\n",
              "      <td>&lt;25K</td>\n",
              "      <td>North</td>\n",
              "      <td>City Hotel</td>\n",
              "      <td>2</td>\n",
              "      <td>2</td>\n",
              "      <td>1</td>\n",
              "      <td>HB</td>\n",
              "      <td>No</td>\n",
              "      <td>No</td>\n",
              "      <td>Refundable</td>\n",
              "      <td>Direct</td>\n",
              "      <td>Yes</td>\n",
              "      <td>Yes</td>\n",
              "      <td>5</td>\n",
              "      <td>166</td>\n",
              "      <td>2017</td>\n",
              "      <td>2</td>\n",
              "      <td>1</td>\n",
              "      <td>71</td>\n",
              "      <td>0</td>\n",
              "    </tr>\n",
              "    <tr>\n",
              "      <th>4045</th>\n",
              "      <td>99656767</td>\n",
              "      <td>M</td>\n",
              "      <td>68</td>\n",
              "      <td>caucasian</td>\n",
              "      <td>Mid-School</td>\n",
              "      <td>25K --50K</td>\n",
              "      <td>South</td>\n",
              "      <td>Resort</td>\n",
              "      <td>4</td>\n",
              "      <td>1</td>\n",
              "      <td>1</td>\n",
              "      <td>BB</td>\n",
              "      <td>Yes</td>\n",
              "      <td>No</td>\n",
              "      <td>No Deposit</td>\n",
              "      <td>Agent</td>\n",
              "      <td>No</td>\n",
              "      <td>No</td>\n",
              "      <td>0</td>\n",
              "      <td>207</td>\n",
              "      <td>2017</td>\n",
              "      <td>3</td>\n",
              "      <td>3</td>\n",
              "      <td>145</td>\n",
              "      <td>1</td>\n",
              "    </tr>\n",
              "    <tr>\n",
              "      <th>87</th>\n",
              "      <td>84281735</td>\n",
              "      <td>M</td>\n",
              "      <td>54</td>\n",
              "      <td>Latino</td>\n",
              "      <td>Mid-School</td>\n",
              "      <td>50K -- 100K</td>\n",
              "      <td>West</td>\n",
              "      <td>City Hotel</td>\n",
              "      <td>3</td>\n",
              "      <td>2</td>\n",
              "      <td>0</td>\n",
              "      <td>BB</td>\n",
              "      <td>Yes</td>\n",
              "      <td>Yes</td>\n",
              "      <td>No Deposit</td>\n",
              "      <td>Online</td>\n",
              "      <td>Yes</td>\n",
              "      <td>No</td>\n",
              "      <td>0</td>\n",
              "      <td>183</td>\n",
              "      <td>2016</td>\n",
              "      <td>11</td>\n",
              "      <td>1</td>\n",
              "      <td>4</td>\n",
              "      <td>1</td>\n",
              "    </tr>\n",
              "    <tr>\n",
              "      <th>3862</th>\n",
              "      <td>81120471</td>\n",
              "      <td>M</td>\n",
              "      <td>30</td>\n",
              "      <td>Latino</td>\n",
              "      <td>College</td>\n",
              "      <td>50K -- 100K</td>\n",
              "      <td>West</td>\n",
              "      <td>Airport Hotels</td>\n",
              "      <td>5</td>\n",
              "      <td>2</td>\n",
              "      <td>0</td>\n",
              "      <td>BB</td>\n",
              "      <td>No</td>\n",
              "      <td>No</td>\n",
              "      <td>No Deposit</td>\n",
              "      <td>Online</td>\n",
              "      <td>Yes</td>\n",
              "      <td>Yes</td>\n",
              "      <td>30</td>\n",
              "      <td>124</td>\n",
              "      <td>2017</td>\n",
              "      <td>3</td>\n",
              "      <td>3</td>\n",
              "      <td>98</td>\n",
              "      <td>0</td>\n",
              "    </tr>\n",
              "    <tr>\n",
              "      <th>1793</th>\n",
              "      <td>21551504</td>\n",
              "      <td>M</td>\n",
              "      <td>33</td>\n",
              "      <td>African American</td>\n",
              "      <td>College</td>\n",
              "      <td>25K --50K</td>\n",
              "      <td>West</td>\n",
              "      <td>Airport Hotels</td>\n",
              "      <td>1</td>\n",
              "      <td>2</td>\n",
              "      <td>0</td>\n",
              "      <td>HB</td>\n",
              "      <td>Yes</td>\n",
              "      <td>No</td>\n",
              "      <td>Refundable</td>\n",
              "      <td>Online</td>\n",
              "      <td>Yes</td>\n",
              "      <td>No</td>\n",
              "      <td>0</td>\n",
              "      <td>138</td>\n",
              "      <td>2017</td>\n",
              "      <td>1</td>\n",
              "      <td>1</td>\n",
              "      <td>72</td>\n",
              "      <td>1</td>\n",
              "    </tr>\n",
              "    <tr>\n",
              "      <th>30</th>\n",
              "      <td>55378041</td>\n",
              "      <td>F</td>\n",
              "      <td>21</td>\n",
              "      <td>African American</td>\n",
              "      <td>College</td>\n",
              "      <td>&lt;25K</td>\n",
              "      <td>West</td>\n",
              "      <td>City Hotel</td>\n",
              "      <td>3</td>\n",
              "      <td>1</td>\n",
              "      <td>1</td>\n",
              "      <td>HB</td>\n",
              "      <td>No</td>\n",
              "      <td>No</td>\n",
              "      <td>No Deposit</td>\n",
              "      <td>Online</td>\n",
              "      <td>No</td>\n",
              "      <td>Yes</td>\n",
              "      <td>25</td>\n",
              "      <td>196</td>\n",
              "      <td>2016</td>\n",
              "      <td>11</td>\n",
              "      <td>2</td>\n",
              "      <td>144</td>\n",
              "      <td>1</td>\n",
              "    </tr>\n",
              "    <tr>\n",
              "      <th>294</th>\n",
              "      <td>61708136</td>\n",
              "      <td>F</td>\n",
              "      <td>42</td>\n",
              "      <td>African American</td>\n",
              "      <td>Mid-School</td>\n",
              "      <td>&gt;100K</td>\n",
              "      <td>South</td>\n",
              "      <td>Resort</td>\n",
              "      <td>5</td>\n",
              "      <td>2</td>\n",
              "      <td>0</td>\n",
              "      <td>BB</td>\n",
              "      <td>Yes</td>\n",
              "      <td>Yes</td>\n",
              "      <td>No Deposit</td>\n",
              "      <td>Direct</td>\n",
              "      <td>Yes</td>\n",
              "      <td>Yes</td>\n",
              "      <td>5</td>\n",
              "      <td>193</td>\n",
              "      <td>2016</td>\n",
              "      <td>11</td>\n",
              "      <td>1</td>\n",
              "      <td>159</td>\n",
              "      <td>1</td>\n",
              "    </tr>\n",
              "    <tr>\n",
              "      <th>2141</th>\n",
              "      <td>68580741</td>\n",
              "      <td>F</td>\n",
              "      <td>37</td>\n",
              "      <td>African American</td>\n",
              "      <td>Mid-School</td>\n",
              "      <td>&gt;100K</td>\n",
              "      <td>West</td>\n",
              "      <td>City Hotel</td>\n",
              "      <td>2</td>\n",
              "      <td>2</td>\n",
              "      <td>0</td>\n",
              "      <td>HB</td>\n",
              "      <td>Yes</td>\n",
              "      <td>Yes</td>\n",
              "      <td>No Deposit</td>\n",
              "      <td>Online</td>\n",
              "      <td>No</td>\n",
              "      <td>No</td>\n",
              "      <td>0</td>\n",
              "      <td>232</td>\n",
              "      <td>2017</td>\n",
              "      <td>1</td>\n",
              "      <td>1</td>\n",
              "      <td>206</td>\n",
              "      <td>0</td>\n",
              "    </tr>\n",
              "    <tr>\n",
              "      <th>4135</th>\n",
              "      <td>85338934</td>\n",
              "      <td>F</td>\n",
              "      <td>68</td>\n",
              "      <td>caucasian</td>\n",
              "      <td>College</td>\n",
              "      <td>&gt;100K</td>\n",
              "      <td>North</td>\n",
              "      <td>Airport Hotels</td>\n",
              "      <td>3</td>\n",
              "      <td>1</td>\n",
              "      <td>1</td>\n",
              "      <td>HB</td>\n",
              "      <td>No</td>\n",
              "      <td>No</td>\n",
              "      <td>No Deposit</td>\n",
              "      <td>Online</td>\n",
              "      <td>Yes</td>\n",
              "      <td>Yes</td>\n",
              "      <td>10</td>\n",
              "      <td>161</td>\n",
              "      <td>2017</td>\n",
              "      <td>3</td>\n",
              "      <td>1</td>\n",
              "      <td>64</td>\n",
              "      <td>0</td>\n",
              "    </tr>\n",
              "    <tr>\n",
              "      <th>128</th>\n",
              "      <td>11357536</td>\n",
              "      <td>F</td>\n",
              "      <td>21</td>\n",
              "      <td>Asian American</td>\n",
              "      <td>Grad</td>\n",
              "      <td>25K --50K</td>\n",
              "      <td>North</td>\n",
              "      <td>Airport Hotels</td>\n",
              "      <td>5</td>\n",
              "      <td>1</td>\n",
              "      <td>1</td>\n",
              "      <td>HB</td>\n",
              "      <td>No</td>\n",
              "      <td>No</td>\n",
              "      <td>No Deposit</td>\n",
              "      <td>Online</td>\n",
              "      <td>No</td>\n",
              "      <td>Yes</td>\n",
              "      <td>30</td>\n",
              "      <td>138</td>\n",
              "      <td>2016</td>\n",
              "      <td>11</td>\n",
              "      <td>1</td>\n",
              "      <td>140</td>\n",
              "      <td>0</td>\n",
              "    </tr>\n",
              "  </tbody>\n",
              "</table>\n",
              "</div>"
            ],
            "text/plain": [
              "      Reservation-id Gender  ...  booked_before_n_days isWeekend_trip\n",
              "2830        71707402      F  ...                    71              0\n",
              "4045        99656767      M  ...                   145              1\n",
              "87          84281735      M  ...                     4              1\n",
              "3862        81120471      M  ...                    98              0\n",
              "1793        21551504      M  ...                    72              1\n",
              "30          55378041      F  ...                   144              1\n",
              "294         61708136      F  ...                   159              1\n",
              "2141        68580741      F  ...                   206              0\n",
              "4135        85338934      F  ...                    64              0\n",
              "128         11357536      F  ...                   140              0\n",
              "\n",
              "[10 rows x 25 columns]"
            ]
          },
          "metadata": {
            "tags": []
          },
          "execution_count": 16
        }
      ]
    },
    {
      "cell_type": "code",
      "metadata": {
        "colab": {
          "base_uri": "https://localhost:8080/",
          "height": 531
        },
        "id": "481VGYUItTqd",
        "outputId": "b56597da-9c12-488a-f885-781b64dec43e"
      },
      "source": [
        "validation.sample(10)"
      ],
      "execution_count": null,
      "outputs": [
        {
          "output_type": "execute_result",
          "data": {
            "text/html": [
              "<div>\n",
              "<style scoped>\n",
              "    .dataframe tbody tr th:only-of-type {\n",
              "        vertical-align: middle;\n",
              "    }\n",
              "\n",
              "    .dataframe tbody tr th {\n",
              "        vertical-align: top;\n",
              "    }\n",
              "\n",
              "    .dataframe thead th {\n",
              "        text-align: right;\n",
              "    }\n",
              "</style>\n",
              "<table border=\"1\" class=\"dataframe\">\n",
              "  <thead>\n",
              "    <tr style=\"text-align: right;\">\n",
              "      <th></th>\n",
              "      <th>Reservation-id</th>\n",
              "      <th>Gender</th>\n",
              "      <th>Age</th>\n",
              "      <th>Ethnicity</th>\n",
              "      <th>Educational_Level</th>\n",
              "      <th>Income</th>\n",
              "      <th>Country_region</th>\n",
              "      <th>Hotel_Type</th>\n",
              "      <th>Adults</th>\n",
              "      <th>Children</th>\n",
              "      <th>Babies</th>\n",
              "      <th>Meal_Type</th>\n",
              "      <th>Visted_Previously</th>\n",
              "      <th>Previous_Cancellations</th>\n",
              "      <th>Deposit_type</th>\n",
              "      <th>Booking_channel</th>\n",
              "      <th>Required_Car_Parking</th>\n",
              "      <th>Reservation_Status</th>\n",
              "      <th>Use_Promotion</th>\n",
              "      <th>Discount_Rate</th>\n",
              "      <th>Room_Rate</th>\n",
              "      <th>Expected_checkin_Year</th>\n",
              "      <th>Expected_checkin_Month</th>\n",
              "      <th>expected_days_of_checkin</th>\n",
              "      <th>booked_before_n_days</th>\n",
              "      <th>isWeekend_trip</th>\n",
              "    </tr>\n",
              "  </thead>\n",
              "  <tbody>\n",
              "    <tr>\n",
              "      <th>2745</th>\n",
              "      <td>52215692</td>\n",
              "      <td>F</td>\n",
              "      <td>35</td>\n",
              "      <td>caucasian</td>\n",
              "      <td>College</td>\n",
              "      <td>25K --50K</td>\n",
              "      <td>South</td>\n",
              "      <td>Airport Hotels</td>\n",
              "      <td>3</td>\n",
              "      <td>2</td>\n",
              "      <td>0</td>\n",
              "      <td>FB</td>\n",
              "      <td>No</td>\n",
              "      <td>No</td>\n",
              "      <td>Non-Refundable</td>\n",
              "      <td>Direct</td>\n",
              "      <td>Yes</td>\n",
              "      <td>Canceled</td>\n",
              "      <td>Yes</td>\n",
              "      <td>5</td>\n",
              "      <td>106</td>\n",
              "      <td>2016</td>\n",
              "      <td>12</td>\n",
              "      <td>1</td>\n",
              "      <td>154</td>\n",
              "      <td>1</td>\n",
              "    </tr>\n",
              "    <tr>\n",
              "      <th>436</th>\n",
              "      <td>78728613</td>\n",
              "      <td>M</td>\n",
              "      <td>33</td>\n",
              "      <td>Latino</td>\n",
              "      <td>Mid-School</td>\n",
              "      <td>&lt;25K</td>\n",
              "      <td>South</td>\n",
              "      <td>Airport Hotels</td>\n",
              "      <td>2</td>\n",
              "      <td>1</td>\n",
              "      <td>0</td>\n",
              "      <td>HB</td>\n",
              "      <td>Yes</td>\n",
              "      <td>No</td>\n",
              "      <td>No Deposit</td>\n",
              "      <td>Direct</td>\n",
              "      <td>No</td>\n",
              "      <td>Check-In</td>\n",
              "      <td>No</td>\n",
              "      <td>0</td>\n",
              "      <td>112</td>\n",
              "      <td>2016</td>\n",
              "      <td>9</td>\n",
              "      <td>2</td>\n",
              "      <td>154</td>\n",
              "      <td>0</td>\n",
              "    </tr>\n",
              "    <tr>\n",
              "      <th>235</th>\n",
              "      <td>18650261</td>\n",
              "      <td>M</td>\n",
              "      <td>67</td>\n",
              "      <td>Latino</td>\n",
              "      <td>College</td>\n",
              "      <td>25K --50K</td>\n",
              "      <td>East</td>\n",
              "      <td>Airport Hotels</td>\n",
              "      <td>3</td>\n",
              "      <td>1</td>\n",
              "      <td>1</td>\n",
              "      <td>FB</td>\n",
              "      <td>Yes</td>\n",
              "      <td>Yes</td>\n",
              "      <td>Non-Refundable</td>\n",
              "      <td>Direct</td>\n",
              "      <td>Yes</td>\n",
              "      <td>No-Show</td>\n",
              "      <td>Yes</td>\n",
              "      <td>20</td>\n",
              "      <td>226</td>\n",
              "      <td>2016</td>\n",
              "      <td>9</td>\n",
              "      <td>1</td>\n",
              "      <td>158</td>\n",
              "      <td>1</td>\n",
              "    </tr>\n",
              "    <tr>\n",
              "      <th>958</th>\n",
              "      <td>42555399</td>\n",
              "      <td>M</td>\n",
              "      <td>59</td>\n",
              "      <td>Latino</td>\n",
              "      <td>Mid-School</td>\n",
              "      <td>25K --50K</td>\n",
              "      <td>South</td>\n",
              "      <td>Airport Hotels</td>\n",
              "      <td>1</td>\n",
              "      <td>2</td>\n",
              "      <td>0</td>\n",
              "      <td>HB</td>\n",
              "      <td>No</td>\n",
              "      <td>No</td>\n",
              "      <td>No Deposit</td>\n",
              "      <td>Direct</td>\n",
              "      <td>No</td>\n",
              "      <td>Check-In</td>\n",
              "      <td>Yes</td>\n",
              "      <td>10</td>\n",
              "      <td>131</td>\n",
              "      <td>2016</td>\n",
              "      <td>10</td>\n",
              "      <td>2</td>\n",
              "      <td>17</td>\n",
              "      <td>0</td>\n",
              "    </tr>\n",
              "    <tr>\n",
              "      <th>2348</th>\n",
              "      <td>96104273</td>\n",
              "      <td>M</td>\n",
              "      <td>53</td>\n",
              "      <td>caucasian</td>\n",
              "      <td>College</td>\n",
              "      <td>&gt;100K</td>\n",
              "      <td>East</td>\n",
              "      <td>Resort</td>\n",
              "      <td>1</td>\n",
              "      <td>1</td>\n",
              "      <td>0</td>\n",
              "      <td>FB</td>\n",
              "      <td>No</td>\n",
              "      <td>No</td>\n",
              "      <td>Refundable</td>\n",
              "      <td>Direct</td>\n",
              "      <td>Yes</td>\n",
              "      <td>No-Show</td>\n",
              "      <td>Yes</td>\n",
              "      <td>10</td>\n",
              "      <td>131</td>\n",
              "      <td>2016</td>\n",
              "      <td>11</td>\n",
              "      <td>2</td>\n",
              "      <td>195</td>\n",
              "      <td>0</td>\n",
              "    </tr>\n",
              "    <tr>\n",
              "      <th>2563</th>\n",
              "      <td>15421508</td>\n",
              "      <td>F</td>\n",
              "      <td>28</td>\n",
              "      <td>caucasian</td>\n",
              "      <td>High-School</td>\n",
              "      <td>&lt;25K</td>\n",
              "      <td>South</td>\n",
              "      <td>Airport Hotels</td>\n",
              "      <td>5</td>\n",
              "      <td>2</td>\n",
              "      <td>0</td>\n",
              "      <td>FB</td>\n",
              "      <td>No</td>\n",
              "      <td>No</td>\n",
              "      <td>Non-Refundable</td>\n",
              "      <td>Online</td>\n",
              "      <td>Yes</td>\n",
              "      <td>Canceled</td>\n",
              "      <td>Yes</td>\n",
              "      <td>10</td>\n",
              "      <td>160</td>\n",
              "      <td>2016</td>\n",
              "      <td>11</td>\n",
              "      <td>3</td>\n",
              "      <td>175</td>\n",
              "      <td>1</td>\n",
              "    </tr>\n",
              "    <tr>\n",
              "      <th>1811</th>\n",
              "      <td>41361554</td>\n",
              "      <td>F</td>\n",
              "      <td>26</td>\n",
              "      <td>caucasian</td>\n",
              "      <td>Mid-School</td>\n",
              "      <td>50K -- 100K</td>\n",
              "      <td>East</td>\n",
              "      <td>Resort</td>\n",
              "      <td>4</td>\n",
              "      <td>3</td>\n",
              "      <td>1</td>\n",
              "      <td>FB</td>\n",
              "      <td>Yes</td>\n",
              "      <td>Yes</td>\n",
              "      <td>Non-Refundable</td>\n",
              "      <td>Direct</td>\n",
              "      <td>Yes</td>\n",
              "      <td>Canceled</td>\n",
              "      <td>Yes</td>\n",
              "      <td>25</td>\n",
              "      <td>209</td>\n",
              "      <td>2016</td>\n",
              "      <td>10</td>\n",
              "      <td>1</td>\n",
              "      <td>203</td>\n",
              "      <td>0</td>\n",
              "    </tr>\n",
              "    <tr>\n",
              "      <th>1776</th>\n",
              "      <td>63405628</td>\n",
              "      <td>F</td>\n",
              "      <td>39</td>\n",
              "      <td>caucasian</td>\n",
              "      <td>Mid-School</td>\n",
              "      <td>&lt;25K</td>\n",
              "      <td>South</td>\n",
              "      <td>Airport Hotels</td>\n",
              "      <td>4</td>\n",
              "      <td>1</td>\n",
              "      <td>0</td>\n",
              "      <td>FB</td>\n",
              "      <td>No</td>\n",
              "      <td>No</td>\n",
              "      <td>Non-Refundable</td>\n",
              "      <td>Online</td>\n",
              "      <td>No</td>\n",
              "      <td>Canceled</td>\n",
              "      <td>No</td>\n",
              "      <td>0</td>\n",
              "      <td>225</td>\n",
              "      <td>2016</td>\n",
              "      <td>10</td>\n",
              "      <td>2</td>\n",
              "      <td>187</td>\n",
              "      <td>0</td>\n",
              "    </tr>\n",
              "    <tr>\n",
              "      <th>507</th>\n",
              "      <td>53063540</td>\n",
              "      <td>F</td>\n",
              "      <td>62</td>\n",
              "      <td>African American</td>\n",
              "      <td>Mid-School</td>\n",
              "      <td>50K -- 100K</td>\n",
              "      <td>North</td>\n",
              "      <td>Resort</td>\n",
              "      <td>1</td>\n",
              "      <td>1</td>\n",
              "      <td>0</td>\n",
              "      <td>BB</td>\n",
              "      <td>No</td>\n",
              "      <td>No</td>\n",
              "      <td>Refundable</td>\n",
              "      <td>Agent</td>\n",
              "      <td>Yes</td>\n",
              "      <td>Canceled</td>\n",
              "      <td>No</td>\n",
              "      <td>0</td>\n",
              "      <td>207</td>\n",
              "      <td>2016</td>\n",
              "      <td>9</td>\n",
              "      <td>4</td>\n",
              "      <td>115</td>\n",
              "      <td>1</td>\n",
              "    </tr>\n",
              "    <tr>\n",
              "      <th>1879</th>\n",
              "      <td>70985111</td>\n",
              "      <td>M</td>\n",
              "      <td>56</td>\n",
              "      <td>Asian American</td>\n",
              "      <td>College</td>\n",
              "      <td>&gt;100K</td>\n",
              "      <td>North</td>\n",
              "      <td>Airport Hotels</td>\n",
              "      <td>2</td>\n",
              "      <td>1</td>\n",
              "      <td>0</td>\n",
              "      <td>FB</td>\n",
              "      <td>Yes</td>\n",
              "      <td>No</td>\n",
              "      <td>No Deposit</td>\n",
              "      <td>Agent</td>\n",
              "      <td>Yes</td>\n",
              "      <td>No-Show</td>\n",
              "      <td>Yes</td>\n",
              "      <td>10</td>\n",
              "      <td>160</td>\n",
              "      <td>2016</td>\n",
              "      <td>10</td>\n",
              "      <td>1</td>\n",
              "      <td>97</td>\n",
              "      <td>0</td>\n",
              "    </tr>\n",
              "  </tbody>\n",
              "</table>\n",
              "</div>"
            ],
            "text/plain": [
              "      Reservation-id Gender  ...  booked_before_n_days isWeekend_trip\n",
              "2745        52215692      F  ...                   154              1\n",
              "436         78728613      M  ...                   154              0\n",
              "235         18650261      M  ...                   158              1\n",
              "958         42555399      M  ...                    17              0\n",
              "2348        96104273      M  ...                   195              0\n",
              "2563        15421508      F  ...                   175              1\n",
              "1811        41361554      F  ...                   203              0\n",
              "1776        63405628      F  ...                   187              0\n",
              "507         53063540      F  ...                   115              1\n",
              "1879        70985111      M  ...                    97              0\n",
              "\n",
              "[10 rows x 26 columns]"
            ]
          },
          "metadata": {
            "tags": []
          },
          "execution_count": 18
        }
      ]
    },
    {
      "cell_type": "code",
      "metadata": {
        "id": "kNN_hHXnzKj_"
      },
      "source": [
        "cat_cols = [x for x in train.columns if train[x].dtype==\"O\"]"
      ],
      "execution_count": null,
      "outputs": []
    },
    {
      "cell_type": "code",
      "metadata": {
        "colab": {
          "base_uri": "https://localhost:8080/",
          "height": 35
        },
        "id": "YTGzoOMIzkhE",
        "outputId": "d1dc339d-2646-4784-bb20-0b915d99bf2a"
      },
      "source": [
        "cat_cols.pop(-2)"
      ],
      "execution_count": null,
      "outputs": [
        {
          "output_type": "execute_result",
          "data": {
            "application/vnd.google.colaboratory.intrinsic+json": {
              "type": "string"
            },
            "text/plain": [
              "'Reservation_Status'"
            ]
          },
          "metadata": {
            "tags": []
          },
          "execution_count": 20
        }
      ]
    },
    {
      "cell_type": "code",
      "metadata": {
        "colab": {
          "base_uri": "https://localhost:8080/"
        },
        "id": "IzQHzY020m7l",
        "outputId": "7cda64e3-ed7b-4e9a-dd77-3496094c18ca"
      },
      "source": [
        "cat_cols"
      ],
      "execution_count": null,
      "outputs": [
        {
          "output_type": "execute_result",
          "data": {
            "text/plain": [
              "['Gender',\n",
              " 'Ethnicity',\n",
              " 'Educational_Level',\n",
              " 'Income',\n",
              " 'Country_region',\n",
              " 'Hotel_Type',\n",
              " 'Meal_Type',\n",
              " 'Visted_Previously',\n",
              " 'Previous_Cancellations',\n",
              " 'Deposit_type',\n",
              " 'Booking_channel',\n",
              " 'Required_Car_Parking',\n",
              " 'Use_Promotion']"
            ]
          },
          "metadata": {
            "tags": []
          },
          "execution_count": 21
        }
      ]
    },
    {
      "cell_type": "code",
      "metadata": {
        "id": "802ZxUXnxfMx"
      },
      "source": [
        "meta = {}\r\n",
        "for col in cat_cols:\r\n",
        "    meta[col] = list(train[col].unique())"
      ],
      "execution_count": null,
      "outputs": []
    },
    {
      "cell_type": "code",
      "metadata": {
        "id": "rVQOQywJxfJ9"
      },
      "source": [
        "for key in meta.keys():\r\n",
        "    cats = meta[key]\r\n",
        "    codes = [x for x in range(len(cats))]\r\n",
        "    d = {n:code for n,code in zip(cats,codes)}\r\n",
        "    test[key] = test[key].map(d)"
      ],
      "execution_count": null,
      "outputs": []
    },
    {
      "cell_type": "code",
      "metadata": {
        "id": "gWsMJEoRt2nf"
      },
      "source": [
        "for key in meta.keys():\r\n",
        "    cats = meta[key]\r\n",
        "    codes = [x for x in range(len(cats))]\r\n",
        "    d = {n:code for n,code in zip(cats,codes)}\r\n",
        "    train[key] = train[key].map(d)"
      ],
      "execution_count": null,
      "outputs": []
    },
    {
      "cell_type": "code",
      "metadata": {
        "id": "oWonAc-Yt9Ec"
      },
      "source": [
        "for key in meta.keys():\r\n",
        "    cats = meta[key]\r\n",
        "    codes = [x for x in range(len(cats))]\r\n",
        "    d = {n:code for n,code in zip(cats,codes)}\r\n",
        "    validation[key] = validation[key].map(d)"
      ],
      "execution_count": null,
      "outputs": []
    },
    {
      "cell_type": "code",
      "metadata": {
        "colab": {
          "base_uri": "https://localhost:8080/",
          "height": 232
        },
        "id": "oz1Ix6BnxfHo",
        "outputId": "85a15b86-6a94-434c-a7f5-7cdd29a06140"
      },
      "source": [
        "test.head()"
      ],
      "execution_count": null,
      "outputs": [
        {
          "output_type": "execute_result",
          "data": {
            "text/html": [
              "<div>\n",
              "<style scoped>\n",
              "    .dataframe tbody tr th:only-of-type {\n",
              "        vertical-align: middle;\n",
              "    }\n",
              "\n",
              "    .dataframe tbody tr th {\n",
              "        vertical-align: top;\n",
              "    }\n",
              "\n",
              "    .dataframe thead th {\n",
              "        text-align: right;\n",
              "    }\n",
              "</style>\n",
              "<table border=\"1\" class=\"dataframe\">\n",
              "  <thead>\n",
              "    <tr style=\"text-align: right;\">\n",
              "      <th></th>\n",
              "      <th>Reservation-id</th>\n",
              "      <th>Gender</th>\n",
              "      <th>Age</th>\n",
              "      <th>Ethnicity</th>\n",
              "      <th>Educational_Level</th>\n",
              "      <th>Income</th>\n",
              "      <th>Country_region</th>\n",
              "      <th>Hotel_Type</th>\n",
              "      <th>Adults</th>\n",
              "      <th>Children</th>\n",
              "      <th>Babies</th>\n",
              "      <th>Meal_Type</th>\n",
              "      <th>Visted_Previously</th>\n",
              "      <th>Previous_Cancellations</th>\n",
              "      <th>Deposit_type</th>\n",
              "      <th>Booking_channel</th>\n",
              "      <th>Required_Car_Parking</th>\n",
              "      <th>Use_Promotion</th>\n",
              "      <th>Discount_Rate</th>\n",
              "      <th>Room_Rate</th>\n",
              "      <th>Expected_checkin_Year</th>\n",
              "      <th>Expected_checkin_Month</th>\n",
              "      <th>expected_days_of_checkin</th>\n",
              "      <th>booked_before_n_days</th>\n",
              "      <th>isWeekend_trip</th>\n",
              "    </tr>\n",
              "  </thead>\n",
              "  <tbody>\n",
              "    <tr>\n",
              "      <th>0</th>\n",
              "      <td>62931593</td>\n",
              "      <td>0</td>\n",
              "      <td>52</td>\n",
              "      <td>0</td>\n",
              "      <td>0</td>\n",
              "      <td>3</td>\n",
              "      <td>2</td>\n",
              "      <td>0</td>\n",
              "      <td>3</td>\n",
              "      <td>3</td>\n",
              "      <td>0</td>\n",
              "      <td>2</td>\n",
              "      <td>0</td>\n",
              "      <td>0</td>\n",
              "      <td>0</td>\n",
              "      <td>2</td>\n",
              "      <td>0</td>\n",
              "      <td>0</td>\n",
              "      <td>10</td>\n",
              "      <td>153</td>\n",
              "      <td>2016</td>\n",
              "      <td>11</td>\n",
              "      <td>1</td>\n",
              "      <td>21</td>\n",
              "      <td>1</td>\n",
              "    </tr>\n",
              "    <tr>\n",
              "      <th>1</th>\n",
              "      <td>70586099</td>\n",
              "      <td>0</td>\n",
              "      <td>47</td>\n",
              "      <td>0</td>\n",
              "      <td>0</td>\n",
              "      <td>3</td>\n",
              "      <td>1</td>\n",
              "      <td>1</td>\n",
              "      <td>2</td>\n",
              "      <td>1</td>\n",
              "      <td>0</td>\n",
              "      <td>1</td>\n",
              "      <td>0</td>\n",
              "      <td>0</td>\n",
              "      <td>0</td>\n",
              "      <td>0</td>\n",
              "      <td>1</td>\n",
              "      <td>1</td>\n",
              "      <td>0</td>\n",
              "      <td>210</td>\n",
              "      <td>2016</td>\n",
              "      <td>11</td>\n",
              "      <td>1</td>\n",
              "      <td>104</td>\n",
              "      <td>1</td>\n",
              "    </tr>\n",
              "    <tr>\n",
              "      <th>2</th>\n",
              "      <td>4230648</td>\n",
              "      <td>0</td>\n",
              "      <td>28</td>\n",
              "      <td>3</td>\n",
              "      <td>0</td>\n",
              "      <td>0</td>\n",
              "      <td>1</td>\n",
              "      <td>0</td>\n",
              "      <td>2</td>\n",
              "      <td>2</td>\n",
              "      <td>0</td>\n",
              "      <td>0</td>\n",
              "      <td>0</td>\n",
              "      <td>0</td>\n",
              "      <td>0</td>\n",
              "      <td>1</td>\n",
              "      <td>1</td>\n",
              "      <td>0</td>\n",
              "      <td>5</td>\n",
              "      <td>117</td>\n",
              "      <td>2017</td>\n",
              "      <td>4</td>\n",
              "      <td>3</td>\n",
              "      <td>20</td>\n",
              "      <td>1</td>\n",
              "    </tr>\n",
              "    <tr>\n",
              "      <th>3</th>\n",
              "      <td>25192322</td>\n",
              "      <td>0</td>\n",
              "      <td>65</td>\n",
              "      <td>1</td>\n",
              "      <td>3</td>\n",
              "      <td>3</td>\n",
              "      <td>2</td>\n",
              "      <td>1</td>\n",
              "      <td>1</td>\n",
              "      <td>3</td>\n",
              "      <td>2</td>\n",
              "      <td>1</td>\n",
              "      <td>0</td>\n",
              "      <td>0</td>\n",
              "      <td>0</td>\n",
              "      <td>0</td>\n",
              "      <td>0</td>\n",
              "      <td>0</td>\n",
              "      <td>10</td>\n",
              "      <td>107</td>\n",
              "      <td>2016</td>\n",
              "      <td>11</td>\n",
              "      <td>2</td>\n",
              "      <td>182</td>\n",
              "      <td>1</td>\n",
              "    </tr>\n",
              "    <tr>\n",
              "      <th>4</th>\n",
              "      <td>80931528</td>\n",
              "      <td>1</td>\n",
              "      <td>45</td>\n",
              "      <td>2</td>\n",
              "      <td>2</td>\n",
              "      <td>3</td>\n",
              "      <td>2</td>\n",
              "      <td>0</td>\n",
              "      <td>3</td>\n",
              "      <td>1</td>\n",
              "      <td>0</td>\n",
              "      <td>0</td>\n",
              "      <td>0</td>\n",
              "      <td>0</td>\n",
              "      <td>1</td>\n",
              "      <td>1</td>\n",
              "      <td>1</td>\n",
              "      <td>1</td>\n",
              "      <td>0</td>\n",
              "      <td>119</td>\n",
              "      <td>2016</td>\n",
              "      <td>11</td>\n",
              "      <td>2</td>\n",
              "      <td>18</td>\n",
              "      <td>1</td>\n",
              "    </tr>\n",
              "  </tbody>\n",
              "</table>\n",
              "</div>"
            ],
            "text/plain": [
              "   Reservation-id  Gender  ...  booked_before_n_days  isWeekend_trip\n",
              "0        62931593       0  ...                    21               1\n",
              "1        70586099       0  ...                   104               1\n",
              "2         4230648       0  ...                    20               1\n",
              "3        25192322       0  ...                   182               1\n",
              "4        80931528       1  ...                    18               1\n",
              "\n",
              "[5 rows x 25 columns]"
            ]
          },
          "metadata": {
            "tags": []
          },
          "execution_count": 26
        }
      ]
    },
    {
      "cell_type": "code",
      "metadata": {
        "colab": {
          "base_uri": "https://localhost:8080/",
          "height": 232
        },
        "id": "39El3bCkuLUT",
        "outputId": "434cad7a-090d-4900-8722-23eb44c78988"
      },
      "source": [
        "train.head()"
      ],
      "execution_count": null,
      "outputs": [
        {
          "output_type": "execute_result",
          "data": {
            "text/html": [
              "<div>\n",
              "<style scoped>\n",
              "    .dataframe tbody tr th:only-of-type {\n",
              "        vertical-align: middle;\n",
              "    }\n",
              "\n",
              "    .dataframe tbody tr th {\n",
              "        vertical-align: top;\n",
              "    }\n",
              "\n",
              "    .dataframe thead th {\n",
              "        text-align: right;\n",
              "    }\n",
              "</style>\n",
              "<table border=\"1\" class=\"dataframe\">\n",
              "  <thead>\n",
              "    <tr style=\"text-align: right;\">\n",
              "      <th></th>\n",
              "      <th>Reservation-id</th>\n",
              "      <th>Gender</th>\n",
              "      <th>Age</th>\n",
              "      <th>Ethnicity</th>\n",
              "      <th>Educational_Level</th>\n",
              "      <th>Income</th>\n",
              "      <th>Country_region</th>\n",
              "      <th>Hotel_Type</th>\n",
              "      <th>Adults</th>\n",
              "      <th>Children</th>\n",
              "      <th>Babies</th>\n",
              "      <th>Meal_Type</th>\n",
              "      <th>Visted_Previously</th>\n",
              "      <th>Previous_Cancellations</th>\n",
              "      <th>Deposit_type</th>\n",
              "      <th>Booking_channel</th>\n",
              "      <th>Required_Car_Parking</th>\n",
              "      <th>Reservation_Status</th>\n",
              "      <th>Use_Promotion</th>\n",
              "      <th>Discount_Rate</th>\n",
              "      <th>Room_Rate</th>\n",
              "      <th>Expected_checkin_Year</th>\n",
              "      <th>Expected_checkin_Month</th>\n",
              "      <th>expected_days_of_checkin</th>\n",
              "      <th>booked_before_n_days</th>\n",
              "      <th>isWeekend_trip</th>\n",
              "    </tr>\n",
              "  </thead>\n",
              "  <tbody>\n",
              "    <tr>\n",
              "      <th>0</th>\n",
              "      <td>39428300</td>\n",
              "      <td>0</td>\n",
              "      <td>40</td>\n",
              "      <td>0</td>\n",
              "      <td>0</td>\n",
              "      <td>0</td>\n",
              "      <td>0</td>\n",
              "      <td>0</td>\n",
              "      <td>2</td>\n",
              "      <td>2</td>\n",
              "      <td>0</td>\n",
              "      <td>0</td>\n",
              "      <td>0</td>\n",
              "      <td>0</td>\n",
              "      <td>0</td>\n",
              "      <td>0</td>\n",
              "      <td>0</td>\n",
              "      <td>Check-In</td>\n",
              "      <td>0</td>\n",
              "      <td>10</td>\n",
              "      <td>218</td>\n",
              "      <td>2015</td>\n",
              "      <td>7</td>\n",
              "      <td>1</td>\n",
              "      <td>41</td>\n",
              "      <td>0</td>\n",
              "    </tr>\n",
              "    <tr>\n",
              "      <th>1</th>\n",
              "      <td>77491756</td>\n",
              "      <td>0</td>\n",
              "      <td>49</td>\n",
              "      <td>0</td>\n",
              "      <td>1</td>\n",
              "      <td>1</td>\n",
              "      <td>1</td>\n",
              "      <td>0</td>\n",
              "      <td>3</td>\n",
              "      <td>3</td>\n",
              "      <td>0</td>\n",
              "      <td>0</td>\n",
              "      <td>0</td>\n",
              "      <td>0</td>\n",
              "      <td>1</td>\n",
              "      <td>0</td>\n",
              "      <td>0</td>\n",
              "      <td>Check-In</td>\n",
              "      <td>1</td>\n",
              "      <td>0</td>\n",
              "      <td>185</td>\n",
              "      <td>2015</td>\n",
              "      <td>7</td>\n",
              "      <td>1</td>\n",
              "      <td>36</td>\n",
              "      <td>0</td>\n",
              "    </tr>\n",
              "    <tr>\n",
              "      <th>2</th>\n",
              "      <td>73747291</td>\n",
              "      <td>0</td>\n",
              "      <td>42</td>\n",
              "      <td>1</td>\n",
              "      <td>0</td>\n",
              "      <td>0</td>\n",
              "      <td>1</td>\n",
              "      <td>0</td>\n",
              "      <td>3</td>\n",
              "      <td>3</td>\n",
              "      <td>0</td>\n",
              "      <td>0</td>\n",
              "      <td>0</td>\n",
              "      <td>0</td>\n",
              "      <td>0</td>\n",
              "      <td>0</td>\n",
              "      <td>0</td>\n",
              "      <td>Check-In</td>\n",
              "      <td>1</td>\n",
              "      <td>0</td>\n",
              "      <td>119</td>\n",
              "      <td>2015</td>\n",
              "      <td>7</td>\n",
              "      <td>4</td>\n",
              "      <td>3</td>\n",
              "      <td>0</td>\n",
              "    </tr>\n",
              "    <tr>\n",
              "      <th>3</th>\n",
              "      <td>67301739</td>\n",
              "      <td>1</td>\n",
              "      <td>25</td>\n",
              "      <td>2</td>\n",
              "      <td>2</td>\n",
              "      <td>2</td>\n",
              "      <td>2</td>\n",
              "      <td>1</td>\n",
              "      <td>4</td>\n",
              "      <td>3</td>\n",
              "      <td>0</td>\n",
              "      <td>0</td>\n",
              "      <td>0</td>\n",
              "      <td>0</td>\n",
              "      <td>1</td>\n",
              "      <td>1</td>\n",
              "      <td>0</td>\n",
              "      <td>Check-In</td>\n",
              "      <td>0</td>\n",
              "      <td>5</td>\n",
              "      <td>144</td>\n",
              "      <td>2015</td>\n",
              "      <td>7</td>\n",
              "      <td>1</td>\n",
              "      <td>12</td>\n",
              "      <td>0</td>\n",
              "    </tr>\n",
              "    <tr>\n",
              "      <th>4</th>\n",
              "      <td>77222321</td>\n",
              "      <td>0</td>\n",
              "      <td>62</td>\n",
              "      <td>0</td>\n",
              "      <td>3</td>\n",
              "      <td>3</td>\n",
              "      <td>1</td>\n",
              "      <td>2</td>\n",
              "      <td>1</td>\n",
              "      <td>1</td>\n",
              "      <td>0</td>\n",
              "      <td>0</td>\n",
              "      <td>0</td>\n",
              "      <td>0</td>\n",
              "      <td>0</td>\n",
              "      <td>2</td>\n",
              "      <td>1</td>\n",
              "      <td>Check-In</td>\n",
              "      <td>0</td>\n",
              "      <td>10</td>\n",
              "      <td>242</td>\n",
              "      <td>2015</td>\n",
              "      <td>7</td>\n",
              "      <td>1</td>\n",
              "      <td>13</td>\n",
              "      <td>1</td>\n",
              "    </tr>\n",
              "  </tbody>\n",
              "</table>\n",
              "</div>"
            ],
            "text/plain": [
              "   Reservation-id  Gender  ...  booked_before_n_days  isWeekend_trip\n",
              "0        39428300       0  ...                    41               0\n",
              "1        77491756       0  ...                    36               0\n",
              "2        73747291       0  ...                     3               0\n",
              "3        67301739       1  ...                    12               0\n",
              "4        77222321       0  ...                    13               1\n",
              "\n",
              "[5 rows x 26 columns]"
            ]
          },
          "metadata": {
            "tags": []
          },
          "execution_count": 73
        }
      ]
    },
    {
      "cell_type": "code",
      "metadata": {
        "colab": {
          "base_uri": "https://localhost:8080/",
          "height": 232
        },
        "id": "h6e1HgTJuLIv",
        "outputId": "2d0c2ca2-8248-45fe-9bda-4a0e90a303eb"
      },
      "source": [
        "validation.head()"
      ],
      "execution_count": null,
      "outputs": [
        {
          "output_type": "execute_result",
          "data": {
            "text/html": [
              "<div>\n",
              "<style scoped>\n",
              "    .dataframe tbody tr th:only-of-type {\n",
              "        vertical-align: middle;\n",
              "    }\n",
              "\n",
              "    .dataframe tbody tr th {\n",
              "        vertical-align: top;\n",
              "    }\n",
              "\n",
              "    .dataframe thead th {\n",
              "        text-align: right;\n",
              "    }\n",
              "</style>\n",
              "<table border=\"1\" class=\"dataframe\">\n",
              "  <thead>\n",
              "    <tr style=\"text-align: right;\">\n",
              "      <th></th>\n",
              "      <th>Reservation-id</th>\n",
              "      <th>Gender</th>\n",
              "      <th>Age</th>\n",
              "      <th>Ethnicity</th>\n",
              "      <th>Educational_Level</th>\n",
              "      <th>Income</th>\n",
              "      <th>Country_region</th>\n",
              "      <th>Hotel_Type</th>\n",
              "      <th>Adults</th>\n",
              "      <th>Children</th>\n",
              "      <th>Babies</th>\n",
              "      <th>Meal_Type</th>\n",
              "      <th>Visted_Previously</th>\n",
              "      <th>Previous_Cancellations</th>\n",
              "      <th>Deposit_type</th>\n",
              "      <th>Booking_channel</th>\n",
              "      <th>Required_Car_Parking</th>\n",
              "      <th>Reservation_Status</th>\n",
              "      <th>Use_Promotion</th>\n",
              "      <th>Discount_Rate</th>\n",
              "      <th>Room_Rate</th>\n",
              "      <th>Expected_checkin_Year</th>\n",
              "      <th>Expected_checkin_Month</th>\n",
              "      <th>expected_days_of_checkin</th>\n",
              "      <th>booked_before_n_days</th>\n",
              "      <th>isWeekend_trip</th>\n",
              "    </tr>\n",
              "  </thead>\n",
              "  <tbody>\n",
              "    <tr>\n",
              "      <th>0</th>\n",
              "      <td>45716350</td>\n",
              "      <td>1</td>\n",
              "      <td>56</td>\n",
              "      <td>1</td>\n",
              "      <td>0</td>\n",
              "      <td>0</td>\n",
              "      <td>3</td>\n",
              "      <td>2</td>\n",
              "      <td>2</td>\n",
              "      <td>2</td>\n",
              "      <td>0</td>\n",
              "      <td>2</td>\n",
              "      <td>0</td>\n",
              "      <td>0</td>\n",
              "      <td>0</td>\n",
              "      <td>1</td>\n",
              "      <td>1</td>\n",
              "      <td>No-Show</td>\n",
              "      <td>0</td>\n",
              "      <td>15</td>\n",
              "      <td>192</td>\n",
              "      <td>2016</td>\n",
              "      <td>8</td>\n",
              "      <td>2</td>\n",
              "      <td>195</td>\n",
              "      <td>0</td>\n",
              "    </tr>\n",
              "    <tr>\n",
              "      <th>1</th>\n",
              "      <td>88857401</td>\n",
              "      <td>1</td>\n",
              "      <td>60</td>\n",
              "      <td>0</td>\n",
              "      <td>2</td>\n",
              "      <td>3</td>\n",
              "      <td>3</td>\n",
              "      <td>2</td>\n",
              "      <td>2</td>\n",
              "      <td>2</td>\n",
              "      <td>0</td>\n",
              "      <td>1</td>\n",
              "      <td>1</td>\n",
              "      <td>0</td>\n",
              "      <td>0</td>\n",
              "      <td>0</td>\n",
              "      <td>0</td>\n",
              "      <td>Canceled</td>\n",
              "      <td>1</td>\n",
              "      <td>0</td>\n",
              "      <td>187</td>\n",
              "      <td>2016</td>\n",
              "      <td>8</td>\n",
              "      <td>4</td>\n",
              "      <td>175</td>\n",
              "      <td>0</td>\n",
              "    </tr>\n",
              "    <tr>\n",
              "      <th>2</th>\n",
              "      <td>16074440</td>\n",
              "      <td>0</td>\n",
              "      <td>58</td>\n",
              "      <td>3</td>\n",
              "      <td>2</td>\n",
              "      <td>0</td>\n",
              "      <td>0</td>\n",
              "      <td>1</td>\n",
              "      <td>3</td>\n",
              "      <td>1</td>\n",
              "      <td>0</td>\n",
              "      <td>1</td>\n",
              "      <td>0</td>\n",
              "      <td>0</td>\n",
              "      <td>0</td>\n",
              "      <td>2</td>\n",
              "      <td>1</td>\n",
              "      <td>Canceled</td>\n",
              "      <td>0</td>\n",
              "      <td>10</td>\n",
              "      <td>227</td>\n",
              "      <td>2016</td>\n",
              "      <td>9</td>\n",
              "      <td>1</td>\n",
              "      <td>193</td>\n",
              "      <td>0</td>\n",
              "    </tr>\n",
              "    <tr>\n",
              "      <th>3</th>\n",
              "      <td>10992124</td>\n",
              "      <td>0</td>\n",
              "      <td>23</td>\n",
              "      <td>0</td>\n",
              "      <td>2</td>\n",
              "      <td>3</td>\n",
              "      <td>1</td>\n",
              "      <td>1</td>\n",
              "      <td>1</td>\n",
              "      <td>2</td>\n",
              "      <td>0</td>\n",
              "      <td>1</td>\n",
              "      <td>1</td>\n",
              "      <td>0</td>\n",
              "      <td>1</td>\n",
              "      <td>2</td>\n",
              "      <td>1</td>\n",
              "      <td>Check-In</td>\n",
              "      <td>0</td>\n",
              "      <td>25</td>\n",
              "      <td>189</td>\n",
              "      <td>2016</td>\n",
              "      <td>8</td>\n",
              "      <td>2</td>\n",
              "      <td>103</td>\n",
              "      <td>0</td>\n",
              "    </tr>\n",
              "    <tr>\n",
              "      <th>4</th>\n",
              "      <td>15934351</td>\n",
              "      <td>0</td>\n",
              "      <td>47</td>\n",
              "      <td>3</td>\n",
              "      <td>2</td>\n",
              "      <td>3</td>\n",
              "      <td>2</td>\n",
              "      <td>0</td>\n",
              "      <td>1</td>\n",
              "      <td>1</td>\n",
              "      <td>0</td>\n",
              "      <td>2</td>\n",
              "      <td>1</td>\n",
              "      <td>0</td>\n",
              "      <td>0</td>\n",
              "      <td>0</td>\n",
              "      <td>0</td>\n",
              "      <td>Check-In</td>\n",
              "      <td>0</td>\n",
              "      <td>10</td>\n",
              "      <td>218</td>\n",
              "      <td>2016</td>\n",
              "      <td>8</td>\n",
              "      <td>1</td>\n",
              "      <td>92</td>\n",
              "      <td>0</td>\n",
              "    </tr>\n",
              "  </tbody>\n",
              "</table>\n",
              "</div>"
            ],
            "text/plain": [
              "   Reservation-id  Gender  ...  booked_before_n_days  isWeekend_trip\n",
              "0        45716350       1  ...                   195               0\n",
              "1        88857401       1  ...                   175               0\n",
              "2        16074440       0  ...                   193               0\n",
              "3        10992124       0  ...                   103               0\n",
              "4        15934351       0  ...                    92               0\n",
              "\n",
              "[5 rows x 26 columns]"
            ]
          },
          "metadata": {
            "tags": []
          },
          "execution_count": 29
        }
      ]
    },
    {
      "cell_type": "code",
      "metadata": {
        "id": "HsTSnGDCSlQv"
      },
      "source": [
        "test.to_csv('test_cleaned_and_encoded.csv')"
      ],
      "execution_count": null,
      "outputs": []
    },
    {
      "cell_type": "code",
      "metadata": {
        "colab": {
          "base_uri": "https://localhost:8080/",
          "height": 399
        },
        "id": "PB3hUiPjxe40",
        "outputId": "12d6fda8-1d6b-4bcc-fb59-3ec9f1056423"
      },
      "source": [
        "plt.boxplot(train['booked_before_n_days'])"
      ],
      "execution_count": null,
      "outputs": [
        {
          "output_type": "execute_result",
          "data": {
            "text/plain": [
              "{'boxes': [<matplotlib.lines.Line2D at 0x7f0beea97fd0>],\n",
              " 'caps': [<matplotlib.lines.Line2D at 0x7f0bee900d10>,\n",
              "  <matplotlib.lines.Line2D at 0x7f0bee83c5d0>],\n",
              " 'fliers': [<matplotlib.lines.Line2D at 0x7f0bee843150>],\n",
              " 'means': [],\n",
              " 'medians': [<matplotlib.lines.Line2D at 0x7f0bee83c350>],\n",
              " 'whiskers': [<matplotlib.lines.Line2D at 0x7f0bee8a9e90>,\n",
              "  <matplotlib.lines.Line2D at 0x7f0bee900a10>]}"
            ]
          },
          "metadata": {
            "tags": []
          },
          "execution_count": 30
        },
        {
          "output_type": "display_data",
          "data": {
            "image/png": "[encoded data removed]",
            "text/plain": [
              "<Figure size 432x288 with 1 Axes>"
            ]
          },
          "metadata": {
            "tags": [],
            "needs_background": "light"
          }
        }
      ]
    },
    {
      "cell_type": "code",
      "metadata": {
        "id": "5_BGe-wVxe0e"
      },
      "source": [
        "train_df = train[train.booked_before_n_days.apply(lambda x:True if x<220 else False)]"
      ],
      "execution_count": null,
      "outputs": []
    },
    {
      "cell_type": "code",
      "metadata": {
        "colab": {
          "base_uri": "https://localhost:8080/",
          "height": 399
        },
        "id": "Q_XPYqIkxeyG",
        "outputId": "c38b90b9-4f09-4add-a3f0-0bf9e84afd53"
      },
      "source": [
        "plt.boxplot(train_df['booked_before_n_days'])"
      ],
      "execution_count": null,
      "outputs": [
        {
          "output_type": "execute_result",
          "data": {
            "text/plain": [
              "{'boxes': [<matplotlib.lines.Line2D at 0x7f0bee771c10>],\n",
              " 'caps': [<matplotlib.lines.Line2D at 0x7f0bee778c50>,\n",
              "  <matplotlib.lines.Line2D at 0x7f0bee77c210>],\n",
              " 'fliers': [<matplotlib.lines.Line2D at 0x7f0bee77ccd0>],\n",
              " 'means': [],\n",
              " 'medians': [<matplotlib.lines.Line2D at 0x7f0bee77c790>],\n",
              " 'whiskers': [<matplotlib.lines.Line2D at 0x7f0bee7781d0>,\n",
              "  <matplotlib.lines.Line2D at 0x7f0bee778710>]}"
            ]
          },
          "metadata": {
            "tags": []
          },
          "execution_count": 32
        },
        {
          "output_type": "display_data",
          "data": {
            "image/png": "[encoded data removed]",
            "text/plain": [
              "<Figure size 432x288 with 1 Axes>"
            ]
          },
          "metadata": {
            "tags": [],
            "needs_background": "light"
          }
        }
      ]
    },
    {
      "cell_type": "code",
      "metadata": {
        "colab": {
          "base_uri": "https://localhost:8080/",
          "height": 399
        },
        "id": "Jrg7UZIPuvjQ",
        "outputId": "2cc5f68f-8a39-450a-aae1-9b495813efa7"
      },
      "source": [
        "plt.boxplot(train_df['Room_Rate'])"
      ],
      "execution_count": null,
      "outputs": [
        {
          "output_type": "execute_result",
          "data": {
            "text/plain": [
              "{'boxes': [<matplotlib.lines.Line2D at 0x7f0be9af7810>],\n",
              " 'caps': [<matplotlib.lines.Line2D at 0x7f0be9afb890>,\n",
              "  <matplotlib.lines.Line2D at 0x7f0be9afbe10>],\n",
              " 'fliers': [<matplotlib.lines.Line2D at 0x7f0be9ae8e10>],\n",
              " 'means': [],\n",
              " 'medians': [<matplotlib.lines.Line2D at 0x7f0be9b003d0>],\n",
              " 'whiskers': [<matplotlib.lines.Line2D at 0x7f0be9af7dd0>,\n",
              "  <matplotlib.lines.Line2D at 0x7f0be9afb350>]}"
            ]
          },
          "metadata": {
            "tags": []
          },
          "execution_count": 33
        },
        {
          "output_type": "display_data",
          "data": {
            "image/png": "[encoded data removed]",
            "text/plain": [
              "<Figure size 432x288 with 1 Axes>"
            ]
          },
          "metadata": {
            "tags": [],
            "needs_background": "light"
          }
        }
      ]
    },
    {
      "cell_type": "code",
      "metadata": {
        "colab": {
          "base_uri": "https://localhost:8080/",
          "height": 399
        },
        "id": "69P1VW0VvYHs",
        "outputId": "9551a66b-e805-48c5-e6b0-a3e78012f3c2"
      },
      "source": [
        "plt.boxplot(train_df['Discount_Rate'])"
      ],
      "execution_count": null,
      "outputs": [
        {
          "output_type": "execute_result",
          "data": {
            "text/plain": [
              "{'boxes': [<matplotlib.lines.Line2D at 0x7f0be9645210>],\n",
              " 'caps': [<matplotlib.lines.Line2D at 0x7f0be964e210>,\n",
              "  <matplotlib.lines.Line2D at 0x7f0be964e790>],\n",
              " 'fliers': [<matplotlib.lines.Line2D at 0x7f0be9654290>],\n",
              " 'means': [],\n",
              " 'medians': [<matplotlib.lines.Line2D at 0x7f0be964ed10>],\n",
              " 'whiskers': [<matplotlib.lines.Line2D at 0x7f0be96c9d90>,\n",
              "  <matplotlib.lines.Line2D at 0x7f0be9645c90>]}"
            ]
          },
          "metadata": {
            "tags": []
          },
          "execution_count": 34
        },
        {
          "output_type": "display_data",
          "data": {
            "image/png": "[encoded data removed]",
            "text/plain": [
              "<Figure size 432x288 with 1 Axes>"
            ]
          },
          "metadata": {
            "tags": [],
            "needs_background": "light"
          }
        }
      ]
    },
    {
      "cell_type": "code",
      "metadata": {
        "colab": {
          "base_uri": "https://localhost:8080/",
          "height": 297
        },
        "id": "SRPYHCQNv1S8",
        "outputId": "ca4a33f8-6555-4503-b931-fed4e400dfcc"
      },
      "source": [
        "sns.histplot(train_df['Discount_Rate'])"
      ],
      "execution_count": null,
      "outputs": [
        {
          "output_type": "execute_result",
          "data": {
            "text/plain": [
              "<matplotlib.axes._subplots.AxesSubplot at 0x7f0be8bd4490>"
            ]
          },
          "metadata": {
            "tags": []
          },
          "execution_count": 75
        },
        {
          "output_type": "display_data",
          "data": {
            "image/png": "[encoded data removed]",
            "text/plain": [
              "<Figure size 432x288 with 1 Axes>"
            ]
          },
          "metadata": {
            "tags": [],
            "needs_background": "light"
          }
        }
      ]
    },
    {
      "cell_type": "code",
      "metadata": {
        "id": "XG6mhe7HxewP"
      },
      "source": [
        "from sklearn.preprocessing import StandardScaler,MinMaxScaler"
      ],
      "execution_count": null,
      "outputs": []
    },
    {
      "cell_type": "code",
      "metadata": {
        "id": "Zn9-YdNFxeue"
      },
      "source": [
        "scaler = MinMaxScaler()"
      ],
      "execution_count": null,
      "outputs": []
    },
    {
      "cell_type": "code",
      "metadata": {
        "colab": {
          "base_uri": "https://localhost:8080/"
        },
        "id": "iNO3v7grxeqF",
        "outputId": "d512c99b-d687-4926-cfd6-4213fda589ce"
      },
      "source": [
        "scaler.fit_transform(np.array(train_df.Expected_checkin_Year).reshape(-1,1))"
      ],
      "execution_count": null,
      "outputs": [
        {
          "output_type": "execute_result",
          "data": {
            "text/plain": [
              "array([[0. ],\n",
              "       [0. ],\n",
              "       [0. ],\n",
              "       ...,\n",
              "       [0.5],\n",
              "       [0.5],\n",
              "       [0.5]])"
            ]
          },
          "metadata": {
            "tags": []
          },
          "execution_count": 43
        }
      ]
    },
    {
      "cell_type": "code",
      "metadata": {
        "colab": {
          "base_uri": "https://localhost:8080/",
          "height": 282
        },
        "id": "tfXfNtFXxeHb",
        "outputId": "4d821d70-7528-4ccd-df88-1149ab407d75"
      },
      "source": [
        "sns.histplot(scaler.fit_transform(np.array(train_df.Expected_checkin_Year).reshape(-1,1)))"
      ],
      "execution_count": null,
      "outputs": [
        {
          "output_type": "execute_result",
          "data": {
            "text/plain": [
              "<matplotlib.axes._subplots.AxesSubplot at 0x7f0be7fdd110>"
            ]
          },
          "metadata": {
            "tags": []
          },
          "execution_count": 45
        },
        {
          "output_type": "display_data",
          "data": {
            "image/png": "[encoded data removed]",
            "text/plain": [
              "<Figure size 432x288 with 1 Axes>"
            ]
          },
          "metadata": {
            "tags": [],
            "needs_background": "light"
          }
        }
      ]
    },
    {
      "cell_type": "code",
      "metadata": {
        "id": "I9dlZyLj13LW"
      },
      "source": [
        "train_df_bkp = train_df.copy()"
      ],
      "execution_count": null,
      "outputs": []
    },
    {
      "cell_type": "code",
      "metadata": {
        "id": "0v8iehCtzH8X"
      },
      "source": [
        "train_df_bkp[train_df_bkp.drop(['Reservation_Status','Reservation-id'],1).columns] = scaler.fit_transform(train_df[train_df.drop(['Reservation_Status','Reservation-id'],1).columns])"
      ],
      "execution_count": null,
      "outputs": []
    },
    {
      "cell_type": "code",
      "metadata": {
        "colab": {
          "base_uri": "https://localhost:8080/",
          "height": 438
        },
        "id": "TIGyyfIgxybF",
        "outputId": "7a6eb262-4b37-4314-d923-246e4b723e93"
      },
      "source": [
        "train_df_bkp"
      ],
      "execution_count": null,
      "outputs": [
        {
          "output_type": "execute_result",
          "data": {
            "text/html": [
              "<div>\n",
              "<style scoped>\n",
              "    .dataframe tbody tr th:only-of-type {\n",
              "        vertical-align: middle;\n",
              "    }\n",
              "\n",
              "    .dataframe tbody tr th {\n",
              "        vertical-align: top;\n",
              "    }\n",
              "\n",
              "    .dataframe thead th {\n",
              "        text-align: right;\n",
              "    }\n",
              "</style>\n",
              "<table border=\"1\" class=\"dataframe\">\n",
              "  <thead>\n",
              "    <tr style=\"text-align: right;\">\n",
              "      <th></th>\n",
              "      <th>Reservation-id</th>\n",
              "      <th>Gender</th>\n",
              "      <th>Age</th>\n",
              "      <th>Ethnicity</th>\n",
              "      <th>Educational_Level</th>\n",
              "      <th>Income</th>\n",
              "      <th>Country_region</th>\n",
              "      <th>Hotel_Type</th>\n",
              "      <th>Adults</th>\n",
              "      <th>Children</th>\n",
              "      <th>Babies</th>\n",
              "      <th>Meal_Type</th>\n",
              "      <th>Visted_Previously</th>\n",
              "      <th>Previous_Cancellations</th>\n",
              "      <th>Deposit_type</th>\n",
              "      <th>Booking_channel</th>\n",
              "      <th>Required_Car_Parking</th>\n",
              "      <th>Reservation_Status</th>\n",
              "      <th>Use_Promotion</th>\n",
              "      <th>Discount_Rate</th>\n",
              "      <th>Room_Rate</th>\n",
              "      <th>Expected_checkin_Year</th>\n",
              "      <th>Expected_checkin_Month</th>\n",
              "      <th>expected_days_of_checkin</th>\n",
              "      <th>booked_before_n_days</th>\n",
              "      <th>isWeekend_trip</th>\n",
              "    </tr>\n",
              "  </thead>\n",
              "  <tbody>\n",
              "    <tr>\n",
              "      <th>0</th>\n",
              "      <td>39428300</td>\n",
              "      <td>0.0</td>\n",
              "      <td>0.423077</td>\n",
              "      <td>0.000000</td>\n",
              "      <td>0.000000</td>\n",
              "      <td>0.000000</td>\n",
              "      <td>0.000000</td>\n",
              "      <td>0.0</td>\n",
              "      <td>0.25</td>\n",
              "      <td>0.5</td>\n",
              "      <td>0.0</td>\n",
              "      <td>0.0</td>\n",
              "      <td>0.0</td>\n",
              "      <td>0.0</td>\n",
              "      <td>0.0</td>\n",
              "      <td>0.0</td>\n",
              "      <td>0.0</td>\n",
              "      <td>Check-In</td>\n",
              "      <td>0.0</td>\n",
              "      <td>0.250</td>\n",
              "      <td>0.786667</td>\n",
              "      <td>0.0</td>\n",
              "      <td>0.545455</td>\n",
              "      <td>0.0</td>\n",
              "      <td>0.201794</td>\n",
              "      <td>0.0</td>\n",
              "    </tr>\n",
              "    <tr>\n",
              "      <th>1</th>\n",
              "      <td>77491756</td>\n",
              "      <td>0.0</td>\n",
              "      <td>0.596154</td>\n",
              "      <td>0.000000</td>\n",
              "      <td>0.333333</td>\n",
              "      <td>0.333333</td>\n",
              "      <td>0.333333</td>\n",
              "      <td>0.0</td>\n",
              "      <td>0.50</td>\n",
              "      <td>1.0</td>\n",
              "      <td>0.0</td>\n",
              "      <td>0.0</td>\n",
              "      <td>0.0</td>\n",
              "      <td>0.0</td>\n",
              "      <td>0.5</td>\n",
              "      <td>0.0</td>\n",
              "      <td>0.0</td>\n",
              "      <td>Check-In</td>\n",
              "      <td>1.0</td>\n",
              "      <td>0.000</td>\n",
              "      <td>0.566667</td>\n",
              "      <td>0.0</td>\n",
              "      <td>0.545455</td>\n",
              "      <td>0.0</td>\n",
              "      <td>0.179372</td>\n",
              "      <td>0.0</td>\n",
              "    </tr>\n",
              "    <tr>\n",
              "      <th>2</th>\n",
              "      <td>73747291</td>\n",
              "      <td>0.0</td>\n",
              "      <td>0.461538</td>\n",
              "      <td>0.333333</td>\n",
              "      <td>0.000000</td>\n",
              "      <td>0.000000</td>\n",
              "      <td>0.333333</td>\n",
              "      <td>0.0</td>\n",
              "      <td>0.50</td>\n",
              "      <td>1.0</td>\n",
              "      <td>0.0</td>\n",
              "      <td>0.0</td>\n",
              "      <td>0.0</td>\n",
              "      <td>0.0</td>\n",
              "      <td>0.0</td>\n",
              "      <td>0.0</td>\n",
              "      <td>0.0</td>\n",
              "      <td>Check-In</td>\n",
              "      <td>1.0</td>\n",
              "      <td>0.000</td>\n",
              "      <td>0.126667</td>\n",
              "      <td>0.0</td>\n",
              "      <td>0.545455</td>\n",
              "      <td>1.0</td>\n",
              "      <td>0.031390</td>\n",
              "      <td>0.0</td>\n",
              "    </tr>\n",
              "    <tr>\n",
              "      <th>3</th>\n",
              "      <td>67301739</td>\n",
              "      <td>1.0</td>\n",
              "      <td>0.134615</td>\n",
              "      <td>0.666667</td>\n",
              "      <td>0.666667</td>\n",
              "      <td>0.666667</td>\n",
              "      <td>0.666667</td>\n",
              "      <td>0.5</td>\n",
              "      <td>0.75</td>\n",
              "      <td>1.0</td>\n",
              "      <td>0.0</td>\n",
              "      <td>0.0</td>\n",
              "      <td>0.0</td>\n",
              "      <td>0.0</td>\n",
              "      <td>0.5</td>\n",
              "      <td>0.5</td>\n",
              "      <td>0.0</td>\n",
              "      <td>Check-In</td>\n",
              "      <td>0.0</td>\n",
              "      <td>0.125</td>\n",
              "      <td>0.293333</td>\n",
              "      <td>0.0</td>\n",
              "      <td>0.545455</td>\n",
              "      <td>0.0</td>\n",
              "      <td>0.071749</td>\n",
              "      <td>0.0</td>\n",
              "    </tr>\n",
              "    <tr>\n",
              "      <th>4</th>\n",
              "      <td>77222321</td>\n",
              "      <td>0.0</td>\n",
              "      <td>0.846154</td>\n",
              "      <td>0.000000</td>\n",
              "      <td>1.000000</td>\n",
              "      <td>1.000000</td>\n",
              "      <td>0.333333</td>\n",
              "      <td>1.0</td>\n",
              "      <td>0.00</td>\n",
              "      <td>0.0</td>\n",
              "      <td>0.0</td>\n",
              "      <td>0.0</td>\n",
              "      <td>0.0</td>\n",
              "      <td>0.0</td>\n",
              "      <td>0.0</td>\n",
              "      <td>1.0</td>\n",
              "      <td>1.0</td>\n",
              "      <td>Check-In</td>\n",
              "      <td>0.0</td>\n",
              "      <td>0.250</td>\n",
              "      <td>0.946667</td>\n",
              "      <td>0.0</td>\n",
              "      <td>0.545455</td>\n",
              "      <td>0.0</td>\n",
              "      <td>0.076233</td>\n",
              "      <td>1.0</td>\n",
              "    </tr>\n",
              "    <tr>\n",
              "      <th>...</th>\n",
              "      <td>...</td>\n",
              "      <td>...</td>\n",
              "      <td>...</td>\n",
              "      <td>...</td>\n",
              "      <td>...</td>\n",
              "      <td>...</td>\n",
              "      <td>...</td>\n",
              "      <td>...</td>\n",
              "      <td>...</td>\n",
              "      <td>...</td>\n",
              "      <td>...</td>\n",
              "      <td>...</td>\n",
              "      <td>...</td>\n",
              "      <td>...</td>\n",
              "      <td>...</td>\n",
              "      <td>...</td>\n",
              "      <td>...</td>\n",
              "      <td>...</td>\n",
              "      <td>...</td>\n",
              "      <td>...</td>\n",
              "      <td>...</td>\n",
              "      <td>...</td>\n",
              "      <td>...</td>\n",
              "      <td>...</td>\n",
              "      <td>...</td>\n",
              "      <td>...</td>\n",
              "    </tr>\n",
              "    <tr>\n",
              "      <th>27494</th>\n",
              "      <td>15645505</td>\n",
              "      <td>0.0</td>\n",
              "      <td>0.596154</td>\n",
              "      <td>0.666667</td>\n",
              "      <td>0.333333</td>\n",
              "      <td>0.000000</td>\n",
              "      <td>1.000000</td>\n",
              "      <td>0.0</td>\n",
              "      <td>0.00</td>\n",
              "      <td>0.5</td>\n",
              "      <td>0.5</td>\n",
              "      <td>1.0</td>\n",
              "      <td>1.0</td>\n",
              "      <td>1.0</td>\n",
              "      <td>0.0</td>\n",
              "      <td>0.0</td>\n",
              "      <td>0.0</td>\n",
              "      <td>Check-In</td>\n",
              "      <td>0.0</td>\n",
              "      <td>0.250</td>\n",
              "      <td>0.000000</td>\n",
              "      <td>0.5</td>\n",
              "      <td>0.636364</td>\n",
              "      <td>0.0</td>\n",
              "      <td>0.183857</td>\n",
              "      <td>0.0</td>\n",
              "    </tr>\n",
              "    <tr>\n",
              "      <th>27495</th>\n",
              "      <td>56414525</td>\n",
              "      <td>0.0</td>\n",
              "      <td>0.596154</td>\n",
              "      <td>1.000000</td>\n",
              "      <td>0.666667</td>\n",
              "      <td>1.000000</td>\n",
              "      <td>0.666667</td>\n",
              "      <td>0.5</td>\n",
              "      <td>0.25</td>\n",
              "      <td>0.0</td>\n",
              "      <td>0.0</td>\n",
              "      <td>0.0</td>\n",
              "      <td>0.0</td>\n",
              "      <td>0.0</td>\n",
              "      <td>0.5</td>\n",
              "      <td>0.5</td>\n",
              "      <td>0.0</td>\n",
              "      <td>No-Show</td>\n",
              "      <td>0.0</td>\n",
              "      <td>1.000</td>\n",
              "      <td>0.626667</td>\n",
              "      <td>0.5</td>\n",
              "      <td>0.636364</td>\n",
              "      <td>0.0</td>\n",
              "      <td>0.587444</td>\n",
              "      <td>0.0</td>\n",
              "    </tr>\n",
              "    <tr>\n",
              "      <th>27496</th>\n",
              "      <td>52023375</td>\n",
              "      <td>0.0</td>\n",
              "      <td>0.596154</td>\n",
              "      <td>0.000000</td>\n",
              "      <td>1.000000</td>\n",
              "      <td>0.333333</td>\n",
              "      <td>0.666667</td>\n",
              "      <td>0.5</td>\n",
              "      <td>0.25</td>\n",
              "      <td>0.0</td>\n",
              "      <td>0.5</td>\n",
              "      <td>1.0</td>\n",
              "      <td>0.0</td>\n",
              "      <td>0.0</td>\n",
              "      <td>0.0</td>\n",
              "      <td>1.0</td>\n",
              "      <td>0.0</td>\n",
              "      <td>Check-In</td>\n",
              "      <td>0.0</td>\n",
              "      <td>0.125</td>\n",
              "      <td>0.680000</td>\n",
              "      <td>0.5</td>\n",
              "      <td>0.727273</td>\n",
              "      <td>0.0</td>\n",
              "      <td>0.058296</td>\n",
              "      <td>0.0</td>\n",
              "    </tr>\n",
              "    <tr>\n",
              "      <th>27497</th>\n",
              "      <td>98041387</td>\n",
              "      <td>1.0</td>\n",
              "      <td>0.903846</td>\n",
              "      <td>0.666667</td>\n",
              "      <td>0.666667</td>\n",
              "      <td>1.000000</td>\n",
              "      <td>0.666667</td>\n",
              "      <td>0.5</td>\n",
              "      <td>0.50</td>\n",
              "      <td>0.5</td>\n",
              "      <td>0.0</td>\n",
              "      <td>0.5</td>\n",
              "      <td>0.0</td>\n",
              "      <td>0.0</td>\n",
              "      <td>0.0</td>\n",
              "      <td>0.0</td>\n",
              "      <td>1.0</td>\n",
              "      <td>Canceled</td>\n",
              "      <td>0.0</td>\n",
              "      <td>0.500</td>\n",
              "      <td>0.380000</td>\n",
              "      <td>0.5</td>\n",
              "      <td>0.636364</td>\n",
              "      <td>0.0</td>\n",
              "      <td>0.457399</td>\n",
              "      <td>0.0</td>\n",
              "    </tr>\n",
              "    <tr>\n",
              "      <th>27498</th>\n",
              "      <td>55243988</td>\n",
              "      <td>0.0</td>\n",
              "      <td>0.576923</td>\n",
              "      <td>0.333333</td>\n",
              "      <td>0.666667</td>\n",
              "      <td>1.000000</td>\n",
              "      <td>0.000000</td>\n",
              "      <td>1.0</td>\n",
              "      <td>0.50</td>\n",
              "      <td>0.0</td>\n",
              "      <td>0.0</td>\n",
              "      <td>1.0</td>\n",
              "      <td>0.0</td>\n",
              "      <td>0.0</td>\n",
              "      <td>0.0</td>\n",
              "      <td>0.0</td>\n",
              "      <td>1.0</td>\n",
              "      <td>No-Show</td>\n",
              "      <td>1.0</td>\n",
              "      <td>0.000</td>\n",
              "      <td>0.733333</td>\n",
              "      <td>0.5</td>\n",
              "      <td>0.636364</td>\n",
              "      <td>0.0</td>\n",
              "      <td>0.309417</td>\n",
              "      <td>0.0</td>\n",
              "    </tr>\n",
              "  </tbody>\n",
              "</table>\n",
              "<p>25925 rows × 26 columns</p>\n",
              "</div>"
            ],
            "text/plain": [
              "       Reservation-id  Gender  ...  booked_before_n_days  isWeekend_trip\n",
              "0            39428300     0.0  ...              0.201794             0.0\n",
              "1            77491756     0.0  ...              0.179372             0.0\n",
              "2            73747291     0.0  ...              0.031390             0.0\n",
              "3            67301739     1.0  ...              0.071749             0.0\n",
              "4            77222321     0.0  ...              0.076233             1.0\n",
              "...               ...     ...  ...                   ...             ...\n",
              "27494        15645505     0.0  ...              0.183857             0.0\n",
              "27495        56414525     0.0  ...              0.587444             0.0\n",
              "27496        52023375     0.0  ...              0.058296             0.0\n",
              "27497        98041387     1.0  ...              0.457399             0.0\n",
              "27498        55243988     0.0  ...              0.309417             0.0\n",
              "\n",
              "[25925 rows x 26 columns]"
            ]
          },
          "metadata": {
            "tags": []
          },
          "execution_count": 78
        }
      ]
    },
    {
      "cell_type": "code",
      "metadata": {
        "id": "szlbO6V7xesp"
      },
      "source": [
        "# train_df['Expected_checkin_Year'] = scaler.fit_transform(np.array(train_df.Expected_checkin_Year).reshape(-1,1))"
      ],
      "execution_count": null,
      "outputs": []
    },
    {
      "cell_type": "code",
      "metadata": {
        "colab": {
          "base_uri": "https://localhost:8080/"
        },
        "id": "YJoumRooxen4",
        "outputId": "0c58e512-0d26-4b96-a90d-cb509ca7bebc"
      },
      "source": [
        "train_df_bkp.shape"
      ],
      "execution_count": null,
      "outputs": [
        {
          "output_type": "execute_result",
          "data": {
            "text/plain": [
              "(25925, 26)"
            ]
          },
          "metadata": {
            "tags": []
          },
          "execution_count": 81
        }
      ]
    },
    {
      "cell_type": "code",
      "metadata": {
        "id": "iCiSNy6Sxeld"
      },
      "source": [
        "train_df_bkp.to_csv('train_cleaned_and_encoded.csv')"
      ],
      "execution_count": null,
      "outputs": []
    },
    {
      "cell_type": "code",
      "metadata": {
        "id": "aE5r2IiSxefN"
      },
      "source": [
        "validation_bkp = validation.copy()"
      ],
      "execution_count": null,
      "outputs": []
    },
    {
      "cell_type": "code",
      "metadata": {
        "id": "KN9DRZ9WxebX"
      },
      "source": [
        "validation_bkp[validation_bkp.drop(['Reservation_Status','Reservation-id'],1).columns] = scaler.fit_transform(validation_bkp[validation_bkp.drop(['Reservation_Status','Reservation-id'],1).columns])"
      ],
      "execution_count": null,
      "outputs": []
    },
    {
      "cell_type": "code",
      "metadata": {
        "id": "Kk5jU8sfxeZi",
        "colab": {
          "base_uri": "https://localhost:8080/",
          "height": 438
        },
        "outputId": "044c12fb-0e9a-47e5-f96c-0beddab74a02"
      },
      "source": [
        "validation_bkp"
      ],
      "execution_count": null,
      "outputs": [
        {
          "output_type": "execute_result",
          "data": {
            "text/html": [
              "<div>\n",
              "<style scoped>\n",
              "    .dataframe tbody tr th:only-of-type {\n",
              "        vertical-align: middle;\n",
              "    }\n",
              "\n",
              "    .dataframe tbody tr th {\n",
              "        vertical-align: top;\n",
              "    }\n",
              "\n",
              "    .dataframe thead th {\n",
              "        text-align: right;\n",
              "    }\n",
              "</style>\n",
              "<table border=\"1\" class=\"dataframe\">\n",
              "  <thead>\n",
              "    <tr style=\"text-align: right;\">\n",
              "      <th></th>\n",
              "      <th>Reservation-id</th>\n",
              "      <th>Gender</th>\n",
              "      <th>Age</th>\n",
              "      <th>Ethnicity</th>\n",
              "      <th>Educational_Level</th>\n",
              "      <th>Income</th>\n",
              "      <th>Country_region</th>\n",
              "      <th>Hotel_Type</th>\n",
              "      <th>Adults</th>\n",
              "      <th>Children</th>\n",
              "      <th>Babies</th>\n",
              "      <th>Meal_Type</th>\n",
              "      <th>Visted_Previously</th>\n",
              "      <th>Previous_Cancellations</th>\n",
              "      <th>Deposit_type</th>\n",
              "      <th>Booking_channel</th>\n",
              "      <th>Required_Car_Parking</th>\n",
              "      <th>Reservation_Status</th>\n",
              "      <th>Use_Promotion</th>\n",
              "      <th>Discount_Rate</th>\n",
              "      <th>Room_Rate</th>\n",
              "      <th>Expected_checkin_Year</th>\n",
              "      <th>Expected_checkin_Month</th>\n",
              "      <th>expected_days_of_checkin</th>\n",
              "      <th>booked_before_n_days</th>\n",
              "      <th>isWeekend_trip</th>\n",
              "    </tr>\n",
              "  </thead>\n",
              "  <tbody>\n",
              "    <tr>\n",
              "      <th>0</th>\n",
              "      <td>45716350</td>\n",
              "      <td>1.0</td>\n",
              "      <td>0.730769</td>\n",
              "      <td>0.333333</td>\n",
              "      <td>0.000000</td>\n",
              "      <td>0.000000</td>\n",
              "      <td>1.000000</td>\n",
              "      <td>1.0</td>\n",
              "      <td>0.25</td>\n",
              "      <td>0.5</td>\n",
              "      <td>0.0</td>\n",
              "      <td>1.0</td>\n",
              "      <td>0.0</td>\n",
              "      <td>0.0</td>\n",
              "      <td>0.0</td>\n",
              "      <td>0.5</td>\n",
              "      <td>1.0</td>\n",
              "      <td>No-Show</td>\n",
              "      <td>0.0</td>\n",
              "      <td>0.375</td>\n",
              "      <td>0.613333</td>\n",
              "      <td>0.0</td>\n",
              "      <td>0.636364</td>\n",
              "      <td>0.333333</td>\n",
              "      <td>0.880531</td>\n",
              "      <td>0.0</td>\n",
              "    </tr>\n",
              "    <tr>\n",
              "      <th>1</th>\n",
              "      <td>88857401</td>\n",
              "      <td>1.0</td>\n",
              "      <td>0.807692</td>\n",
              "      <td>0.000000</td>\n",
              "      <td>0.666667</td>\n",
              "      <td>1.000000</td>\n",
              "      <td>1.000000</td>\n",
              "      <td>1.0</td>\n",
              "      <td>0.25</td>\n",
              "      <td>0.5</td>\n",
              "      <td>0.0</td>\n",
              "      <td>0.5</td>\n",
              "      <td>1.0</td>\n",
              "      <td>0.0</td>\n",
              "      <td>0.0</td>\n",
              "      <td>0.0</td>\n",
              "      <td>0.0</td>\n",
              "      <td>Canceled</td>\n",
              "      <td>1.0</td>\n",
              "      <td>0.000</td>\n",
              "      <td>0.580000</td>\n",
              "      <td>0.0</td>\n",
              "      <td>0.636364</td>\n",
              "      <td>1.000000</td>\n",
              "      <td>0.792035</td>\n",
              "      <td>0.0</td>\n",
              "    </tr>\n",
              "    <tr>\n",
              "      <th>2</th>\n",
              "      <td>16074440</td>\n",
              "      <td>0.0</td>\n",
              "      <td>0.769231</td>\n",
              "      <td>1.000000</td>\n",
              "      <td>0.666667</td>\n",
              "      <td>0.000000</td>\n",
              "      <td>0.000000</td>\n",
              "      <td>0.5</td>\n",
              "      <td>0.50</td>\n",
              "      <td>0.0</td>\n",
              "      <td>0.0</td>\n",
              "      <td>0.5</td>\n",
              "      <td>0.0</td>\n",
              "      <td>0.0</td>\n",
              "      <td>0.0</td>\n",
              "      <td>1.0</td>\n",
              "      <td>1.0</td>\n",
              "      <td>Canceled</td>\n",
              "      <td>0.0</td>\n",
              "      <td>0.250</td>\n",
              "      <td>0.846667</td>\n",
              "      <td>0.0</td>\n",
              "      <td>0.727273</td>\n",
              "      <td>0.000000</td>\n",
              "      <td>0.871681</td>\n",
              "      <td>0.0</td>\n",
              "    </tr>\n",
              "    <tr>\n",
              "      <th>3</th>\n",
              "      <td>10992124</td>\n",
              "      <td>0.0</td>\n",
              "      <td>0.096154</td>\n",
              "      <td>0.000000</td>\n",
              "      <td>0.666667</td>\n",
              "      <td>1.000000</td>\n",
              "      <td>0.333333</td>\n",
              "      <td>0.5</td>\n",
              "      <td>0.00</td>\n",
              "      <td>0.5</td>\n",
              "      <td>0.0</td>\n",
              "      <td>0.5</td>\n",
              "      <td>1.0</td>\n",
              "      <td>0.0</td>\n",
              "      <td>0.5</td>\n",
              "      <td>1.0</td>\n",
              "      <td>1.0</td>\n",
              "      <td>Check-In</td>\n",
              "      <td>0.0</td>\n",
              "      <td>0.625</td>\n",
              "      <td>0.593333</td>\n",
              "      <td>0.0</td>\n",
              "      <td>0.636364</td>\n",
              "      <td>0.333333</td>\n",
              "      <td>0.473451</td>\n",
              "      <td>0.0</td>\n",
              "    </tr>\n",
              "    <tr>\n",
              "      <th>4</th>\n",
              "      <td>15934351</td>\n",
              "      <td>0.0</td>\n",
              "      <td>0.557692</td>\n",
              "      <td>1.000000</td>\n",
              "      <td>0.666667</td>\n",
              "      <td>1.000000</td>\n",
              "      <td>0.666667</td>\n",
              "      <td>0.0</td>\n",
              "      <td>0.00</td>\n",
              "      <td>0.0</td>\n",
              "      <td>0.0</td>\n",
              "      <td>1.0</td>\n",
              "      <td>1.0</td>\n",
              "      <td>0.0</td>\n",
              "      <td>0.0</td>\n",
              "      <td>0.0</td>\n",
              "      <td>0.0</td>\n",
              "      <td>Check-In</td>\n",
              "      <td>0.0</td>\n",
              "      <td>0.250</td>\n",
              "      <td>0.786667</td>\n",
              "      <td>0.0</td>\n",
              "      <td>0.636364</td>\n",
              "      <td>0.000000</td>\n",
              "      <td>0.424779</td>\n",
              "      <td>0.0</td>\n",
              "    </tr>\n",
              "    <tr>\n",
              "      <th>...</th>\n",
              "      <td>...</td>\n",
              "      <td>...</td>\n",
              "      <td>...</td>\n",
              "      <td>...</td>\n",
              "      <td>...</td>\n",
              "      <td>...</td>\n",
              "      <td>...</td>\n",
              "      <td>...</td>\n",
              "      <td>...</td>\n",
              "      <td>...</td>\n",
              "      <td>...</td>\n",
              "      <td>...</td>\n",
              "      <td>...</td>\n",
              "      <td>...</td>\n",
              "      <td>...</td>\n",
              "      <td>...</td>\n",
              "      <td>...</td>\n",
              "      <td>...</td>\n",
              "      <td>...</td>\n",
              "      <td>...</td>\n",
              "      <td>...</td>\n",
              "      <td>...</td>\n",
              "      <td>...</td>\n",
              "      <td>...</td>\n",
              "      <td>...</td>\n",
              "      <td>...</td>\n",
              "    </tr>\n",
              "    <tr>\n",
              "      <th>2744</th>\n",
              "      <td>32194836</td>\n",
              "      <td>0.0</td>\n",
              "      <td>0.076923</td>\n",
              "      <td>0.333333</td>\n",
              "      <td>0.666667</td>\n",
              "      <td>0.333333</td>\n",
              "      <td>0.666667</td>\n",
              "      <td>1.0</td>\n",
              "      <td>1.00</td>\n",
              "      <td>0.0</td>\n",
              "      <td>0.5</td>\n",
              "      <td>0.0</td>\n",
              "      <td>1.0</td>\n",
              "      <td>0.0</td>\n",
              "      <td>0.5</td>\n",
              "      <td>0.0</td>\n",
              "      <td>1.0</td>\n",
              "      <td>Check-In</td>\n",
              "      <td>0.0</td>\n",
              "      <td>0.250</td>\n",
              "      <td>0.660000</td>\n",
              "      <td>0.0</td>\n",
              "      <td>0.909091</td>\n",
              "      <td>0.666667</td>\n",
              "      <td>0.181416</td>\n",
              "      <td>1.0</td>\n",
              "    </tr>\n",
              "    <tr>\n",
              "      <th>2745</th>\n",
              "      <td>52215692</td>\n",
              "      <td>0.0</td>\n",
              "      <td>0.326923</td>\n",
              "      <td>0.333333</td>\n",
              "      <td>0.666667</td>\n",
              "      <td>1.000000</td>\n",
              "      <td>0.666667</td>\n",
              "      <td>0.5</td>\n",
              "      <td>0.50</td>\n",
              "      <td>0.5</td>\n",
              "      <td>0.0</td>\n",
              "      <td>0.5</td>\n",
              "      <td>0.0</td>\n",
              "      <td>0.0</td>\n",
              "      <td>1.0</td>\n",
              "      <td>1.0</td>\n",
              "      <td>0.0</td>\n",
              "      <td>Canceled</td>\n",
              "      <td>0.0</td>\n",
              "      <td>0.125</td>\n",
              "      <td>0.040000</td>\n",
              "      <td>0.0</td>\n",
              "      <td>1.000000</td>\n",
              "      <td>0.000000</td>\n",
              "      <td>0.699115</td>\n",
              "      <td>1.0</td>\n",
              "    </tr>\n",
              "    <tr>\n",
              "      <th>2746</th>\n",
              "      <td>31908733</td>\n",
              "      <td>1.0</td>\n",
              "      <td>0.000000</td>\n",
              "      <td>1.000000</td>\n",
              "      <td>0.000000</td>\n",
              "      <td>1.000000</td>\n",
              "      <td>0.000000</td>\n",
              "      <td>1.0</td>\n",
              "      <td>0.25</td>\n",
              "      <td>1.0</td>\n",
              "      <td>0.0</td>\n",
              "      <td>0.5</td>\n",
              "      <td>0.0</td>\n",
              "      <td>0.0</td>\n",
              "      <td>0.5</td>\n",
              "      <td>0.5</td>\n",
              "      <td>1.0</td>\n",
              "      <td>No-Show</td>\n",
              "      <td>0.0</td>\n",
              "      <td>0.500</td>\n",
              "      <td>0.240000</td>\n",
              "      <td>0.0</td>\n",
              "      <td>0.909091</td>\n",
              "      <td>0.333333</td>\n",
              "      <td>0.150442</td>\n",
              "      <td>1.0</td>\n",
              "    </tr>\n",
              "    <tr>\n",
              "      <th>2747</th>\n",
              "      <td>41776403</td>\n",
              "      <td>1.0</td>\n",
              "      <td>0.461538</td>\n",
              "      <td>1.000000</td>\n",
              "      <td>0.666667</td>\n",
              "      <td>0.000000</td>\n",
              "      <td>1.000000</td>\n",
              "      <td>0.0</td>\n",
              "      <td>1.00</td>\n",
              "      <td>0.0</td>\n",
              "      <td>0.0</td>\n",
              "      <td>1.0</td>\n",
              "      <td>1.0</td>\n",
              "      <td>1.0</td>\n",
              "      <td>0.0</td>\n",
              "      <td>0.0</td>\n",
              "      <td>0.0</td>\n",
              "      <td>Check-In</td>\n",
              "      <td>0.0</td>\n",
              "      <td>0.500</td>\n",
              "      <td>0.840000</td>\n",
              "      <td>0.0</td>\n",
              "      <td>0.909091</td>\n",
              "      <td>0.000000</td>\n",
              "      <td>0.769912</td>\n",
              "      <td>1.0</td>\n",
              "    </tr>\n",
              "    <tr>\n",
              "      <th>2748</th>\n",
              "      <td>5961678</td>\n",
              "      <td>1.0</td>\n",
              "      <td>0.673077</td>\n",
              "      <td>0.666667</td>\n",
              "      <td>1.000000</td>\n",
              "      <td>0.666667</td>\n",
              "      <td>0.333333</td>\n",
              "      <td>0.5</td>\n",
              "      <td>0.75</td>\n",
              "      <td>0.0</td>\n",
              "      <td>0.5</td>\n",
              "      <td>1.0</td>\n",
              "      <td>0.0</td>\n",
              "      <td>0.0</td>\n",
              "      <td>0.5</td>\n",
              "      <td>1.0</td>\n",
              "      <td>1.0</td>\n",
              "      <td>Check-In</td>\n",
              "      <td>0.0</td>\n",
              "      <td>1.000</td>\n",
              "      <td>0.553333</td>\n",
              "      <td>0.0</td>\n",
              "      <td>0.909091</td>\n",
              "      <td>0.666667</td>\n",
              "      <td>0.809735</td>\n",
              "      <td>1.0</td>\n",
              "    </tr>\n",
              "  </tbody>\n",
              "</table>\n",
              "<p>2749 rows × 26 columns</p>\n",
              "</div>"
            ],
            "text/plain": [
              "      Reservation-id  Gender  ...  booked_before_n_days  isWeekend_trip\n",
              "0           45716350     1.0  ...              0.880531             0.0\n",
              "1           88857401     1.0  ...              0.792035             0.0\n",
              "2           16074440     0.0  ...              0.871681             0.0\n",
              "3           10992124     0.0  ...              0.473451             0.0\n",
              "4           15934351     0.0  ...              0.424779             0.0\n",
              "...              ...     ...  ...                   ...             ...\n",
              "2744        32194836     0.0  ...              0.181416             1.0\n",
              "2745        52215692     0.0  ...              0.699115             1.0\n",
              "2746        31908733     1.0  ...              0.150442             1.0\n",
              "2747        41776403     1.0  ...              0.769912             1.0\n",
              "2748         5961678     1.0  ...              0.809735             1.0\n",
              "\n",
              "[2749 rows x 26 columns]"
            ]
          },
          "metadata": {
            "tags": []
          },
          "execution_count": 85
        }
      ]
    },
    {
      "cell_type": "code",
      "metadata": {
        "id": "waKbx893xeXY"
      },
      "source": [
        "validation_bkp.to_csv('validation_scaled_cleaned.csv')"
      ],
      "execution_count": null,
      "outputs": []
    },
    {
      "cell_type": "code",
      "metadata": {
        "id": "YTci0ZqExeTd"
      },
      "source": [
        "test_bkp = test.copy()"
      ],
      "execution_count": null,
      "outputs": []
    },
    {
      "cell_type": "code",
      "metadata": {
        "id": "-fyckHZjxeRl",
        "colab": {
          "base_uri": "https://localhost:8080/"
        },
        "outputId": "b3f7442c-3822-4912-895a-a1dd04897d07"
      },
      "source": [
        "test_bkp.shape"
      ],
      "execution_count": null,
      "outputs": [
        {
          "output_type": "execute_result",
          "data": {
            "text/plain": [
              "(4318, 25)"
            ]
          },
          "metadata": {
            "tags": []
          },
          "execution_count": 88
        }
      ]
    },
    {
      "cell_type": "code",
      "metadata": {
        "id": "r5p_B3IlxePP",
        "colab": {
          "base_uri": "https://localhost:8080/"
        },
        "outputId": "2f357e63-7bec-423e-c6ad-d50087a131ff"
      },
      "source": [
        "validation_bkp.shape"
      ],
      "execution_count": null,
      "outputs": [
        {
          "output_type": "execute_result",
          "data": {
            "text/plain": [
              "(2749, 26)"
            ]
          },
          "metadata": {
            "tags": []
          },
          "execution_count": 89
        }
      ]
    },
    {
      "cell_type": "code",
      "metadata": {
        "id": "3Vsve6J6xeMl",
        "colab": {
          "base_uri": "https://localhost:8080/"
        },
        "outputId": "4167ddea-cc09-4c89-8ab4-75d767fa16f0"
      },
      "source": [
        "train_df_bkp.shape"
      ],
      "execution_count": null,
      "outputs": [
        {
          "output_type": "execute_result",
          "data": {
            "text/plain": [
              "(25925, 26)"
            ]
          },
          "metadata": {
            "tags": []
          },
          "execution_count": 91
        }
      ]
    },
    {
      "cell_type": "code",
      "metadata": {
        "id": "6Ss7BHrVxeCg"
      },
      "source": [
        "test_bkp[test_bkp.drop(['Reservation-id'],1).columns] = scaler.fit_transform(test_bkp[test_bkp.drop(['Reservation-id'],1).columns])"
      ],
      "execution_count": null,
      "outputs": []
    },
    {
      "cell_type": "code",
      "metadata": {
        "id": "rzs0mWPkxeAw",
        "colab": {
          "base_uri": "https://localhost:8080/"
        },
        "outputId": "96b62559-ea22-4275-e32a-f6c911a5f6a2"
      },
      "source": [
        "test_bkp.shape"
      ],
      "execution_count": null,
      "outputs": [
        {
          "output_type": "execute_result",
          "data": {
            "text/plain": [
              "(4318, 25)"
            ]
          },
          "metadata": {
            "tags": []
          },
          "execution_count": 94
        }
      ]
    },
    {
      "cell_type": "code",
      "metadata": {
        "id": "15kJ_xZOxd-l"
      },
      "source": [
        "test_bkp.to_csv('test_cleaned_scaled.csv')"
      ],
      "execution_count": null,
      "outputs": []
    },
    {
      "cell_type": "code",
      "metadata": {
        "id": "z8E7PLcnxd8a",
        "colab": {
          "base_uri": "https://localhost:8080/",
          "height": 361
        },
        "outputId": "beac3a10-0772-4fbb-d302-97a24d7f1287"
      },
      "source": [
        "g = sns.countplot(new_train['Reservation_Status'])\r\n",
        "# g.set_xticklabels(['Not Fraud','Fraud'])\r\n",
        "plt.show()"
      ],
      "execution_count": 41,
      "outputs": [
        {
          "output_type": "display_data",
          "data": {
            "image/png": "[encoded data removed]",
            "text/plain": [
              "<Figure size 576x396 with 1 Axes>"
            ]
          },
          "metadata": {
            "tags": []
          }
        }
      ]
    },
    {
      "cell_type": "code",
      "metadata": {
        "colab": {
          "base_uri": "https://localhost:8080/",
          "height": 709
        },
        "id": "Q90zd1guO7UE",
        "outputId": "d46ba2cd-0bf5-4368-84e4-4adc3d3ff414"
      },
      "source": [
        "#Visualization\r\n",
        "#Create a new figure and make the size (12,10)\r\n",
        "plt.figure(figsize=(12,10))\r\n",
        "sns.barplot(x=new_train['Income'], y=new_train['Meal_Type'],palette=sns.cubehelix_palette(len(new_train['Income'])))\r\n",
        "# Place the region names at a 90-degree angle.\r\n",
        "plt.xticks(rotation= 45)\r\n",
        "plt.xlabel('Region')\r\n",
        "plt.ylabel('Region Happiness Ratio')\r\n",
        "plt.title('Happiness rate for regions')\r\n",
        "plt.show()"
      ],
      "execution_count": 42,
      "outputs": [
        {
          "output_type": "display_data",
          "data": {
            "image/png": "[encoded data removed]",
            "text/plain": [
              "<Figure size 864x720 with 1 Axes>"
            ]
          },
          "metadata": {
            "tags": []
          }
        }
      ]
    },
    {
      "cell_type": "markdown",
      "metadata": {
        "id": "81BhkrgKp16m"
      },
      "source": [
        "## Start "
      ]
    },
    {
      "cell_type": "code",
      "metadata": {
        "id": "OOsx71B_xUgr"
      },
      "source": [
        "new_train = pd.read_csv('/content/train_cleaned_and_encoded.csv')"
      ],
      "execution_count": 4,
      "outputs": []
    },
    {
      "cell_type": "code",
      "metadata": {
        "id": "amqLjRdy9zHY"
      },
      "source": [
        "del new_train['Unnamed: 0']"
      ],
      "execution_count": 5,
      "outputs": []
    },
    {
      "cell_type": "code",
      "metadata": {
        "id": "fiJNZ1d3xjUG"
      },
      "source": [
        "from imblearn.over_sampling import RandomOverSampler\r\n",
        "ros = RandomOverSampler(random_state=42)\r\n",
        "x_ros, y_ros = ros.fit_resample(X, y)"
      ],
      "execution_count": 6,
      "outputs": []
    },
    {
      "cell_type": "code",
      "metadata": {
        "id": "QOFYy2tTb07T"
      },
      "source": [
        "X = new_train.drop(['Reservation_Status','Reservation-id'],1)\r\n",
        "y = new_train['Reservation_Status'].map({\"Check-In\":1,\"Canceled\":2,\"No-Show\":3})"
      ],
      "execution_count": 7,
      "outputs": []
    },
    {
      "cell_type": "code",
      "metadata": {
        "colab": {
          "base_uri": "https://localhost:8080/",
          "height": 422
        },
        "id": "QLv4ao_sFx8e",
        "outputId": "44b9b58b-d943-42f3-bc75-0524be6cec35"
      },
      "source": [
        "pd.DataFrame(x_ros,columns=X.columns)"
      ],
      "execution_count": 36,
      "outputs": [
        {
          "output_type": "execute_result",
          "data": {
            "text/html": [
              "<div>\n",
              "<style scoped>\n",
              "    .dataframe tbody tr th:only-of-type {\n",
              "        vertical-align: middle;\n",
              "    }\n",
              "\n",
              "    .dataframe tbody tr th {\n",
              "        vertical-align: top;\n",
              "    }\n",
              "\n",
              "    .dataframe thead th {\n",
              "        text-align: right;\n",
              "    }\n",
              "</style>\n",
              "<table border=\"1\" class=\"dataframe\">\n",
              "  <thead>\n",
              "    <tr style=\"text-align: right;\">\n",
              "      <th></th>\n",
              "      <th>Gender</th>\n",
              "      <th>Age</th>\n",
              "      <th>Ethnicity</th>\n",
              "      <th>Educational_Level</th>\n",
              "      <th>Income</th>\n",
              "      <th>Country_region</th>\n",
              "      <th>Hotel_Type</th>\n",
              "      <th>Adults</th>\n",
              "      <th>Children</th>\n",
              "      <th>Babies</th>\n",
              "      <th>Meal_Type</th>\n",
              "      <th>Visted_Previously</th>\n",
              "      <th>Previous_Cancellations</th>\n",
              "      <th>Deposit_type</th>\n",
              "      <th>Booking_channel</th>\n",
              "      <th>Required_Car_Parking</th>\n",
              "      <th>Use_Promotion</th>\n",
              "      <th>Discount_Rate</th>\n",
              "      <th>Room_Rate</th>\n",
              "      <th>Expected_checkin_Year</th>\n",
              "      <th>Expected_checkin_Month</th>\n",
              "      <th>expected_days_of_checkin</th>\n",
              "      <th>booked_before_n_days</th>\n",
              "      <th>isWeekend_trip</th>\n",
              "    </tr>\n",
              "  </thead>\n",
              "  <tbody>\n",
              "    <tr>\n",
              "      <th>0</th>\n",
              "      <td>0.0</td>\n",
              "      <td>0.423077</td>\n",
              "      <td>0.000000</td>\n",
              "      <td>0.000000</td>\n",
              "      <td>0.000000</td>\n",
              "      <td>0.000000</td>\n",
              "      <td>0.0</td>\n",
              "      <td>0.25</td>\n",
              "      <td>0.5</td>\n",
              "      <td>0.0</td>\n",
              "      <td>0.0</td>\n",
              "      <td>0.0</td>\n",
              "      <td>0.0</td>\n",
              "      <td>0.0</td>\n",
              "      <td>0.0</td>\n",
              "      <td>0.0</td>\n",
              "      <td>0.0</td>\n",
              "      <td>0.250</td>\n",
              "      <td>0.786667</td>\n",
              "      <td>0.0</td>\n",
              "      <td>0.545455</td>\n",
              "      <td>0.000000</td>\n",
              "      <td>0.201794</td>\n",
              "      <td>0.0</td>\n",
              "    </tr>\n",
              "    <tr>\n",
              "      <th>1</th>\n",
              "      <td>0.0</td>\n",
              "      <td>0.596154</td>\n",
              "      <td>0.000000</td>\n",
              "      <td>0.333333</td>\n",
              "      <td>0.333333</td>\n",
              "      <td>0.333333</td>\n",
              "      <td>0.0</td>\n",
              "      <td>0.50</td>\n",
              "      <td>1.0</td>\n",
              "      <td>0.0</td>\n",
              "      <td>0.0</td>\n",
              "      <td>0.0</td>\n",
              "      <td>0.0</td>\n",
              "      <td>0.5</td>\n",
              "      <td>0.0</td>\n",
              "      <td>0.0</td>\n",
              "      <td>1.0</td>\n",
              "      <td>0.000</td>\n",
              "      <td>0.566667</td>\n",
              "      <td>0.0</td>\n",
              "      <td>0.545455</td>\n",
              "      <td>0.000000</td>\n",
              "      <td>0.179372</td>\n",
              "      <td>0.0</td>\n",
              "    </tr>\n",
              "    <tr>\n",
              "      <th>2</th>\n",
              "      <td>0.0</td>\n",
              "      <td>0.461538</td>\n",
              "      <td>0.333333</td>\n",
              "      <td>0.000000</td>\n",
              "      <td>0.000000</td>\n",
              "      <td>0.333333</td>\n",
              "      <td>0.0</td>\n",
              "      <td>0.50</td>\n",
              "      <td>1.0</td>\n",
              "      <td>0.0</td>\n",
              "      <td>0.0</td>\n",
              "      <td>0.0</td>\n",
              "      <td>0.0</td>\n",
              "      <td>0.0</td>\n",
              "      <td>0.0</td>\n",
              "      <td>0.0</td>\n",
              "      <td>1.0</td>\n",
              "      <td>0.000</td>\n",
              "      <td>0.126667</td>\n",
              "      <td>0.0</td>\n",
              "      <td>0.545455</td>\n",
              "      <td>1.000000</td>\n",
              "      <td>0.031390</td>\n",
              "      <td>0.0</td>\n",
              "    </tr>\n",
              "    <tr>\n",
              "      <th>3</th>\n",
              "      <td>1.0</td>\n",
              "      <td>0.134615</td>\n",
              "      <td>0.666667</td>\n",
              "      <td>0.666667</td>\n",
              "      <td>0.666667</td>\n",
              "      <td>0.666667</td>\n",
              "      <td>0.5</td>\n",
              "      <td>0.75</td>\n",
              "      <td>1.0</td>\n",
              "      <td>0.0</td>\n",
              "      <td>0.0</td>\n",
              "      <td>0.0</td>\n",
              "      <td>0.0</td>\n",
              "      <td>0.5</td>\n",
              "      <td>0.5</td>\n",
              "      <td>0.0</td>\n",
              "      <td>0.0</td>\n",
              "      <td>0.125</td>\n",
              "      <td>0.293333</td>\n",
              "      <td>0.0</td>\n",
              "      <td>0.545455</td>\n",
              "      <td>0.000000</td>\n",
              "      <td>0.071749</td>\n",
              "      <td>0.0</td>\n",
              "    </tr>\n",
              "    <tr>\n",
              "      <th>4</th>\n",
              "      <td>0.0</td>\n",
              "      <td>0.846154</td>\n",
              "      <td>0.000000</td>\n",
              "      <td>1.000000</td>\n",
              "      <td>1.000000</td>\n",
              "      <td>0.333333</td>\n",
              "      <td>1.0</td>\n",
              "      <td>0.00</td>\n",
              "      <td>0.0</td>\n",
              "      <td>0.0</td>\n",
              "      <td>0.0</td>\n",
              "      <td>0.0</td>\n",
              "      <td>0.0</td>\n",
              "      <td>0.0</td>\n",
              "      <td>1.0</td>\n",
              "      <td>1.0</td>\n",
              "      <td>0.0</td>\n",
              "      <td>0.250</td>\n",
              "      <td>0.946667</td>\n",
              "      <td>0.0</td>\n",
              "      <td>0.545455</td>\n",
              "      <td>0.000000</td>\n",
              "      <td>0.076233</td>\n",
              "      <td>1.0</td>\n",
              "    </tr>\n",
              "    <tr>\n",
              "      <th>...</th>\n",
              "      <td>...</td>\n",
              "      <td>...</td>\n",
              "      <td>...</td>\n",
              "      <td>...</td>\n",
              "      <td>...</td>\n",
              "      <td>...</td>\n",
              "      <td>...</td>\n",
              "      <td>...</td>\n",
              "      <td>...</td>\n",
              "      <td>...</td>\n",
              "      <td>...</td>\n",
              "      <td>...</td>\n",
              "      <td>...</td>\n",
              "      <td>...</td>\n",
              "      <td>...</td>\n",
              "      <td>...</td>\n",
              "      <td>...</td>\n",
              "      <td>...</td>\n",
              "      <td>...</td>\n",
              "      <td>...</td>\n",
              "      <td>...</td>\n",
              "      <td>...</td>\n",
              "      <td>...</td>\n",
              "      <td>...</td>\n",
              "    </tr>\n",
              "    <tr>\n",
              "      <th>59107</th>\n",
              "      <td>0.0</td>\n",
              "      <td>0.519231</td>\n",
              "      <td>1.000000</td>\n",
              "      <td>0.000000</td>\n",
              "      <td>1.000000</td>\n",
              "      <td>0.666667</td>\n",
              "      <td>1.0</td>\n",
              "      <td>1.00</td>\n",
              "      <td>0.5</td>\n",
              "      <td>0.0</td>\n",
              "      <td>0.0</td>\n",
              "      <td>0.0</td>\n",
              "      <td>0.0</td>\n",
              "      <td>0.0</td>\n",
              "      <td>0.0</td>\n",
              "      <td>0.0</td>\n",
              "      <td>0.0</td>\n",
              "      <td>0.500</td>\n",
              "      <td>0.993333</td>\n",
              "      <td>0.5</td>\n",
              "      <td>0.636364</td>\n",
              "      <td>0.000000</td>\n",
              "      <td>0.242152</td>\n",
              "      <td>1.0</td>\n",
              "    </tr>\n",
              "    <tr>\n",
              "      <th>59108</th>\n",
              "      <td>1.0</td>\n",
              "      <td>0.653846</td>\n",
              "      <td>1.000000</td>\n",
              "      <td>1.000000</td>\n",
              "      <td>0.666667</td>\n",
              "      <td>0.333333</td>\n",
              "      <td>1.0</td>\n",
              "      <td>0.00</td>\n",
              "      <td>0.0</td>\n",
              "      <td>1.0</td>\n",
              "      <td>0.0</td>\n",
              "      <td>0.0</td>\n",
              "      <td>0.0</td>\n",
              "      <td>0.5</td>\n",
              "      <td>1.0</td>\n",
              "      <td>0.0</td>\n",
              "      <td>0.0</td>\n",
              "      <td>0.250</td>\n",
              "      <td>0.573333</td>\n",
              "      <td>0.0</td>\n",
              "      <td>0.909091</td>\n",
              "      <td>0.000000</td>\n",
              "      <td>0.968610</td>\n",
              "      <td>0.0</td>\n",
              "    </tr>\n",
              "    <tr>\n",
              "      <th>59109</th>\n",
              "      <td>0.0</td>\n",
              "      <td>0.192308</td>\n",
              "      <td>0.333333</td>\n",
              "      <td>0.333333</td>\n",
              "      <td>0.333333</td>\n",
              "      <td>0.333333</td>\n",
              "      <td>0.0</td>\n",
              "      <td>0.00</td>\n",
              "      <td>0.5</td>\n",
              "      <td>0.0</td>\n",
              "      <td>0.0</td>\n",
              "      <td>1.0</td>\n",
              "      <td>1.0</td>\n",
              "      <td>0.0</td>\n",
              "      <td>0.0</td>\n",
              "      <td>0.0</td>\n",
              "      <td>0.0</td>\n",
              "      <td>0.750</td>\n",
              "      <td>0.266667</td>\n",
              "      <td>0.5</td>\n",
              "      <td>0.636364</td>\n",
              "      <td>0.333333</td>\n",
              "      <td>0.452915</td>\n",
              "      <td>1.0</td>\n",
              "    </tr>\n",
              "    <tr>\n",
              "      <th>59110</th>\n",
              "      <td>0.0</td>\n",
              "      <td>0.365385</td>\n",
              "      <td>0.000000</td>\n",
              "      <td>0.000000</td>\n",
              "      <td>0.000000</td>\n",
              "      <td>0.666667</td>\n",
              "      <td>0.5</td>\n",
              "      <td>0.25</td>\n",
              "      <td>1.0</td>\n",
              "      <td>0.0</td>\n",
              "      <td>1.0</td>\n",
              "      <td>1.0</td>\n",
              "      <td>0.0</td>\n",
              "      <td>1.0</td>\n",
              "      <td>0.0</td>\n",
              "      <td>0.0</td>\n",
              "      <td>0.0</td>\n",
              "      <td>0.500</td>\n",
              "      <td>0.626667</td>\n",
              "      <td>1.0</td>\n",
              "      <td>0.000000</td>\n",
              "      <td>0.000000</td>\n",
              "      <td>0.811659</td>\n",
              "      <td>0.0</td>\n",
              "    </tr>\n",
              "    <tr>\n",
              "      <th>59111</th>\n",
              "      <td>0.0</td>\n",
              "      <td>0.019231</td>\n",
              "      <td>0.333333</td>\n",
              "      <td>0.000000</td>\n",
              "      <td>0.000000</td>\n",
              "      <td>0.333333</td>\n",
              "      <td>0.5</td>\n",
              "      <td>0.25</td>\n",
              "      <td>0.0</td>\n",
              "      <td>0.0</td>\n",
              "      <td>1.0</td>\n",
              "      <td>0.0</td>\n",
              "      <td>0.0</td>\n",
              "      <td>0.0</td>\n",
              "      <td>1.0</td>\n",
              "      <td>0.0</td>\n",
              "      <td>0.0</td>\n",
              "      <td>0.125</td>\n",
              "      <td>0.740000</td>\n",
              "      <td>0.5</td>\n",
              "      <td>0.545455</td>\n",
              "      <td>0.333333</td>\n",
              "      <td>0.798206</td>\n",
              "      <td>0.0</td>\n",
              "    </tr>\n",
              "  </tbody>\n",
              "</table>\n",
              "<p>59112 rows × 24 columns</p>\n",
              "</div>"
            ],
            "text/plain": [
              "       Gender       Age  ...  booked_before_n_days  isWeekend_trip\n",
              "0         0.0  0.423077  ...              0.201794             0.0\n",
              "1         0.0  0.596154  ...              0.179372             0.0\n",
              "2         0.0  0.461538  ...              0.031390             0.0\n",
              "3         1.0  0.134615  ...              0.071749             0.0\n",
              "4         0.0  0.846154  ...              0.076233             1.0\n",
              "...       ...       ...  ...                   ...             ...\n",
              "59107     0.0  0.519231  ...              0.242152             1.0\n",
              "59108     1.0  0.653846  ...              0.968610             0.0\n",
              "59109     0.0  0.192308  ...              0.452915             1.0\n",
              "59110     0.0  0.365385  ...              0.811659             0.0\n",
              "59111     0.0  0.019231  ...              0.798206             0.0\n",
              "\n",
              "[59112 rows x 24 columns]"
            ]
          },
          "metadata": {
            "tags": []
          },
          "execution_count": 36
        }
      ]
    },
    {
      "cell_type": "code",
      "metadata": {
        "colab": {
          "base_uri": "https://localhost:8080/"
        },
        "id": "sQEunsmpcTxc",
        "outputId": "4bb41280-7880-4de2-9509-18d3405ea35b"
      },
      "source": [
        "list(X.columns)"
      ],
      "execution_count": 7,
      "outputs": [
        {
          "output_type": "execute_result",
          "data": {
            "text/plain": [
              "['Gender',\n",
              " 'Age',\n",
              " 'Ethnicity',\n",
              " 'Educational_Level',\n",
              " 'Income',\n",
              " 'Country_region',\n",
              " 'Hotel_Type',\n",
              " 'Adults',\n",
              " 'Children',\n",
              " 'Babies',\n",
              " 'Meal_Type',\n",
              " 'Visted_Previously',\n",
              " 'Previous_Cancellations',\n",
              " 'Deposit_type',\n",
              " 'Booking_channel',\n",
              " 'Required_Car_Parking',\n",
              " 'Use_Promotion',\n",
              " 'Discount_Rate',\n",
              " 'Room_Rate',\n",
              " 'Expected_checkin_Year',\n",
              " 'Expected_checkin_Month',\n",
              " 'expected_days_of_checkin',\n",
              " 'booked_before_n_days',\n",
              " 'isWeekend_trip']"
            ]
          },
          "metadata": {
            "tags": []
          },
          "execution_count": 7
        }
      ]
    },
    {
      "cell_type": "code",
      "metadata": {
        "colab": {
          "base_uri": "https://localhost:8080/"
        },
        "id": "Omv3Se2VbBKt",
        "outputId": "6894c4cf-c58a-487a-98db-8254e51e45a3"
      },
      "source": [
        "train.isna().sum()"
      ],
      "execution_count": null,
      "outputs": [
        {
          "output_type": "execute_result",
          "data": {
            "text/plain": [
              "Reservation-id              0\n",
              "Gender                      0\n",
              "Age                         0\n",
              "Ethnicity                   0\n",
              "Educational_Level           0\n",
              "Income                      0\n",
              "Country_region              0\n",
              "Hotel_Type                  0\n",
              "Adults                      0\n",
              "Children                    0\n",
              "Babies                      0\n",
              "Meal_Type                   0\n",
              "Visted_Previously           0\n",
              "Previous_Cancellations      0\n",
              "Deposit_type                0\n",
              "Booking_channel             0\n",
              "Required_Car_Parking        0\n",
              "Reservation_Status          0\n",
              "Use_Promotion               0\n",
              "Discount_Rate               0\n",
              "Room_Rate                   0\n",
              "Expected_checkin_Year       0\n",
              "Expected_checkin_Month      0\n",
              "expected_days_of_checkin    0\n",
              "booked_before_n_days        0\n",
              "isWeekend_trip              0\n",
              "dtype: int64"
            ]
          },
          "metadata": {
            "tags": []
          },
          "execution_count": 233
        }
      ]
    },
    {
      "cell_type": "code",
      "metadata": {
        "id": "zqXwgScQbgtO"
      },
      "source": [
        "# validate = validation"
      ],
      "execution_count": null,
      "outputs": []
    },
    {
      "cell_type": "code",
      "metadata": {
        "id": "-7IsUETNeR3f"
      },
      "source": [
        "# validate = validate.drop(['Reservation-id'],1)"
      ],
      "execution_count": null,
      "outputs": []
    },
    {
      "cell_type": "code",
      "metadata": {
        "colab": {
          "base_uri": "https://localhost:8080/"
        },
        "id": "HaeXhVvve2tq",
        "outputId": "bc84f5ed-49bb-4ebd-c444-52d5011834c3"
      },
      "source": [
        "X.shape"
      ],
      "execution_count": 8,
      "outputs": [
        {
          "output_type": "execute_result",
          "data": {
            "text/plain": [
              "(25925, 24)"
            ]
          },
          "metadata": {
            "tags": []
          },
          "execution_count": 8
        }
      ]
    },
    {
      "cell_type": "code",
      "metadata": {
        "id": "Jh_roL0xx-Lm"
      },
      "source": [
        "validation=  pd.read_csv('/content/validation_scaled_cleaned.csv')"
      ],
      "execution_count": 12,
      "outputs": []
    },
    {
      "cell_type": "code",
      "metadata": {
        "id": "3o3Ihg8yyGSA"
      },
      "source": [
        "del validation['Unnamed: 0']"
      ],
      "execution_count": 13,
      "outputs": []
    },
    {
      "cell_type": "code",
      "metadata": {
        "id": "lkodJwpHeR5r"
      },
      "source": [
        "X_val = validation.drop(['Reservation_Status','Reservation-id'],1)\r\n",
        "y_val = validation['Reservation_Status'].map({\"Check-In\":1,\"Canceled\":2,\"No-Show\":3})"
      ],
      "execution_count": 14,
      "outputs": []
    },
    {
      "cell_type": "code",
      "metadata": {
        "colab": {
          "base_uri": "https://localhost:8080/"
        },
        "id": "Vg5z5k0Se2wF",
        "outputId": "8a94b66d-6041-42a6-e955-93b14a56bc42"
      },
      "source": [
        "X_val.shape"
      ],
      "execution_count": 15,
      "outputs": [
        {
          "output_type": "execute_result",
          "data": {
            "text/plain": [
              "(2749, 24)"
            ]
          },
          "metadata": {
            "tags": []
          },
          "execution_count": 15
        }
      ]
    },
    {
      "cell_type": "code",
      "metadata": {
        "id": "g6zg2xARfGT9"
      },
      "source": [
        "# y_val"
      ],
      "execution_count": null,
      "outputs": []
    },
    {
      "cell_type": "code",
      "metadata": {
        "id": "CfuH0GUUZqPz"
      },
      "source": [
        "import numpy as np\r\n",
        "import pandas as pd \r\n",
        "import os\r\n",
        "\r\n",
        "#Import sklearn classes \r\n",
        "from sklearn.model_selection import train_test_split,RepeatedKFold, cross_val_score,KFold, RepeatedStratifiedKFold\r\n",
        "from sklearn.metrics import accuracy_score, confusion_matrix\r\n",
        "from sklearn.tree import DecisionTreeClassifier,export_graphviz\r\n",
        "from sklearn.ensemble import RandomForestClassifier, GradientBoostingClassifier, BaggingClassifier\r\n",
        "from sklearn.dummy import DummyClassifier\r\n",
        "from sklearn.neighbors import KNeighborsClassifier\r\n",
        "from sklearn.preprocessing import StandardScaler\r\n",
        "from sklearn.decomposition import PCA\r\n",
        "# sklearn utility to compare algorithms\r\n",
        "from sklearn import model_selection"
      ],
      "execution_count": 16,
      "outputs": []
    },
    {
      "cell_type": "code",
      "metadata": {
        "colab": {
          "base_uri": "https://localhost:8080/"
        },
        "id": "Hy-x9Yf4nQkk",
        "outputId": "cdfaa3f7-c87a-45ef-d1a4-8764017be012"
      },
      "source": [
        "!pip install eli5"
      ],
      "execution_count": 14,
      "outputs": [
        {
          "output_type": "stream",
          "text": [
            "Collecting eli5\n",
            "\u001b[?25l  Downloading https://files.pythonhosted.org/packages/d1/54/04cab6e1c0ae535bec93f795d8403fdf6caf66fa5a6512263202dbb14ea6/eli5-0.11.0-py2.py3-none-any.whl (106kB)\n",
            "\r\u001b[K     |███                             | 10kB 22.7MB/s eta 0:00:01\r\u001b[K     |██████▏                         | 20kB 17.1MB/s eta 0:00:01\r\u001b[K     |█████████▎                      | 30kB 14.7MB/s eta 0:00:01\r\u001b[K     |████████████▍                   | 40kB 13.6MB/s eta 0:00:01\r\u001b[K     |███████████████▌                | 51kB 9.5MB/s eta 0:00:01\r\u001b[K     |██████████████████▌             | 61kB 11.0MB/s eta 0:00:01\r\u001b[K     |█████████████████████▋          | 71kB 9.9MB/s eta 0:00:01\r\u001b[K     |████████████████████████▊       | 81kB 10.9MB/s eta 0:00:01\r\u001b[K     |███████████████████████████▉    | 92kB 9.9MB/s eta 0:00:01\r\u001b[K     |███████████████████████████████ | 102kB 9.2MB/s eta 0:00:01\r\u001b[K     |████████████████████████████████| 112kB 9.2MB/s \n",
            "\u001b[?25hRequirement already satisfied: attrs>16.0.0 in /usr/local/lib/python3.7/dist-packages (from eli5) (20.3.0)\n",
            "Requirement already satisfied: tabulate>=0.7.7 in /usr/local/lib/python3.7/dist-packages (from eli5) (0.8.9)\n",
            "Requirement already satisfied: scipy in /usr/local/lib/python3.7/dist-packages (from eli5) (1.4.1)\n",
            "Requirement already satisfied: scikit-learn>=0.20 in /usr/local/lib/python3.7/dist-packages (from eli5) (0.22.2.post1)\n",
            "Requirement already satisfied: numpy>=1.9.0 in /usr/local/lib/python3.7/dist-packages (from eli5) (1.19.5)\n",
            "Requirement already satisfied: graphviz in /usr/local/lib/python3.7/dist-packages (from eli5) (0.10.1)\n",
            "Requirement already satisfied: six in /usr/local/lib/python3.7/dist-packages (from eli5) (1.15.0)\n",
            "Requirement already satisfied: jinja2 in /usr/local/lib/python3.7/dist-packages (from eli5) (2.11.3)\n",
            "Requirement already satisfied: joblib>=0.11 in /usr/local/lib/python3.7/dist-packages (from scikit-learn>=0.20->eli5) (1.0.1)\n",
            "Requirement already satisfied: MarkupSafe>=0.23 in /usr/local/lib/python3.7/dist-packages (from jinja2->eli5) (1.1.1)\n",
            "Installing collected packages: eli5\n",
            "Successfully installed eli5-0.11.0\n"
          ],
          "name": "stdout"
        }
      ]
    },
    {
      "cell_type": "code",
      "metadata": {
        "id": "LB4yQ0_yiiDQ"
      },
      "source": [
        "%matplotlib inline\r\n",
        "import matplotlib.pyplot as plt\r\n",
        "import seaborn as sns\r\n",
        "import graphviz \r\n",
        "\r\n",
        "import warnings  \r\n",
        "warnings.filterwarnings('ignore')\r\n",
        "\r\n",
        "from eli5 import explain_weights,show_weights\r\n",
        "from yellowbrick import ROCAUC\r\n",
        "from yellowbrick.classifier import ClassificationReport\r\n",
        "from sklearn.metrics import f1_score"
      ],
      "execution_count": 17,
      "outputs": []
    },
    {
      "cell_type": "code",
      "metadata": {
        "colab": {
          "base_uri": "https://localhost:8080/"
        },
        "id": "corpHGa5BKY6",
        "outputId": "e902a4db-e811-421f-96ac-227dca377c55"
      },
      "source": [
        "X.shape"
      ],
      "execution_count": 18,
      "outputs": [
        {
          "output_type": "execute_result",
          "data": {
            "text/plain": [
              "(25925, 24)"
            ]
          },
          "metadata": {
            "tags": []
          },
          "execution_count": 18
        }
      ]
    },
    {
      "cell_type": "code",
      "metadata": {
        "colab": {
          "base_uri": "https://localhost:8080/"
        },
        "id": "Y78fAP2WnOpt",
        "outputId": "d27182b2-8f97-409b-9c34-2710341d4159"
      },
      "source": [
        "pca=PCA(n_components=24)\r\n",
        "pca.fit(X)\r\n",
        "print('Variance explained by the principal components(in decreasing order): ',pca.explained_variance_ratio_)\r\n",
        "print('PCA singular values: ',pca.singular_values_)\r\n",
        "X1=pca.transform(X)\r\n",
        "print('Shape of transformed X: ',X1.shape)"
      ],
      "execution_count": 49,
      "outputs": [
        {
          "output_type": "stream",
          "text": [
            "Variance explained by the principal components(in decreasing order):  [0.07800622 0.07545656 0.072361   0.06845887 0.06148613 0.05860722\n",
            " 0.05771839 0.05012856 0.04802446 0.04603161 0.04153228 0.03930265\n",
            " 0.03524778 0.03463319 0.03259718 0.03078368 0.02614174 0.02598825\n",
            " 0.02562682 0.02485337 0.02386358 0.01936457 0.01237508 0.01141082]\n",
            "PCA singular values:  [81.90884594 80.55911737 78.88937163 76.73280117 72.72015265 70.99729038\n",
            " 70.45686634 65.66119864 64.26839304 62.92080623 59.76667169 58.14027735\n",
            " 55.05947403 54.57735242 52.94881308 51.45486795 47.41693457 47.27752614\n",
            " 46.94762187 46.23371683 45.30373319 40.81032747 32.6242249  31.32741939]\n",
            "Shape of transformed X:  (25925, 24)\n"
          ],
          "name": "stdout"
        }
      ]
    },
    {
      "cell_type": "code",
      "metadata": {
        "colab": {
          "base_uri": "https://localhost:8080/"
        },
        "id": "JDt1MfWqnwIv",
        "outputId": "bdf8d638-7cce-47f9-d1f9-e0c859b73c3e"
      },
      "source": [
        "dum=DummyClassifier(strategy='most_frequent')\r\n",
        "dum=dum.fit(X,y)\r\n",
        "\r\n",
        "#compute accuracy\r\n",
        "score=dum.score(X_val, y_val)\r\n",
        "f1 = f1_score(y_val,dum.predict(X_val),average='macro')\r\n",
        "print(\"Dummy Classifier Accuracy: %.2f%%\" % (score * 100.0))\r\n",
        "print(\"Dummy Classifier f1_score: {}\".format(f1))"
      ],
      "execution_count": 20,
      "outputs": [
        {
          "output_type": "stream",
          "text": [
            "Dummy Classifier Accuracy: 58.57%\n",
            "Dummy Classifier f1_score: 0.2462338456832607\n"
          ],
          "name": "stdout"
        }
      ]
    },
    {
      "cell_type": "code",
      "metadata": {
        "colab": {
          "base_uri": "https://localhost:8080/",
          "height": 424
        },
        "id": "MwAfe85voGtG",
        "outputId": "9981846d-77cc-4788-f83d-8a0258b43f4e"
      },
      "source": [
        "strategy = \"most_frequent\"\r\n",
        "CV_N_REPEATS=20\r\n",
        "BINS=10\r\n",
        "scores = cross_val_score(dum,X, y, \r\n",
        "                         cv=RepeatedKFold(n_repeats=CV_N_REPEATS), \r\n",
        "                         scoring=None) \r\n",
        "scores_dummy = scores.copy()\r\n",
        "\r\n",
        "score_line = \"Scores (Accuracy) mean={0:.2f} +/- {1:.2f} (1 s.d.)\".format(scores.mean(),scores.std())\r\n",
        "plt.figure(figsize=(7,7))\r\n",
        "fig, ax = plt.subplots()\r\n",
        "pd.Series(scores).hist(ax=ax, bins=BINS)\r\n",
        "ax.set_title(f\"RepeatedKFold ({len(scores)} folds) with DummyClassifier({strategy})\\n\" + score_line);\r\n",
        "ax.set_xlabel(\"Score\")\r\n",
        "ax.set_ylabel(\"Frequency\")"
      ],
      "execution_count": 21,
      "outputs": [
        {
          "output_type": "execute_result",
          "data": {
            "text/plain": [
              "Text(0, 0.5, 'Frequency')"
            ]
          },
          "metadata": {
            "tags": []
          },
          "execution_count": 21
        },
        {
          "output_type": "display_data",
          "data": {
            "text/plain": [
              "<Figure size 504x504 with 0 Axes>"
            ]
          },
          "metadata": {
            "tags": []
          }
        },
        {
          "output_type": "display_data",
          "data": {
            "image/png": "[encoded data removed]",
            "text/plain": [
              "<Figure size 576x396 with 1 Axes>"
            ]
          },
          "metadata": {
            "tags": []
          }
        }
      ]
    },
    {
      "cell_type": "code",
      "metadata": {
        "id": "ZYOtcgExoLTP"
      },
      "source": [
        "def plot_tree_graph(model,columns,class_names):\r\n",
        "    #This function plots the constructed decision tree\r\n",
        "    dot_data = export_graphviz(model,feature_names=columns,class_names=class_names) \r\n",
        "    graph = graphviz.Source(dot_data) \r\n",
        "    return graph\r\n",
        "\r\n",
        "\r\n",
        "def confusion_mat(y_pred,y_test):\r\n",
        "    plt.figure()\r\n",
        "    sns.set(font_scale=1.5)\r\n",
        "    cm = confusion_matrix(y_pred, y_test)\r\n",
        "    sns.heatmap(cm, annot=True, fmt='g')\r\n",
        "    plt.title('Confusion matrix', y=1.1)\r\n",
        "    plt.ylabel('Actual label')\r\n",
        "    plt.xlabel('Predicted label')\r\n",
        "    plt.show()"
      ],
      "execution_count": 22,
      "outputs": []
    },
    {
      "cell_type": "code",
      "metadata": {
        "colab": {
          "base_uri": "https://localhost:8080/",
          "height": 437
        },
        "id": "Zz6o5DGVoqx9",
        "outputId": "c767c863-2a90-4174-8809-cb609cba7003"
      },
      "source": [
        "knn=KNeighborsClassifier(n_neighbors=3,n_jobs=10,p=2) \r\n",
        "knn.fit(x_ros,y_ros)\r\n",
        "\r\n",
        "scores = cross_val_score(knn, X_val, y_val, cv=RepeatedStratifiedKFold(n_repeats=CV_N_REPEATS))\r\n",
        "print(f\"Accuracy mean={scores.mean():0.2f} +/- {scores.std():0.2f} (1 s.d.)\")\r\n",
        "y_pred_1 = knn.predict(X_val)\r\n",
        "print(f1_score(y_val,y_pred_1,average='macro'))\r\n",
        "confusion_mat(y_pred_1,y_val)"
      ],
      "execution_count": 59,
      "outputs": [
        {
          "output_type": "stream",
          "text": [
            "Accuracy mean=0.50 +/- 0.02 (1 s.d.)\n",
            "0.3533711606597014\n"
          ],
          "name": "stdout"
        },
        {
          "output_type": "display_data",
          "data": {
            "image/png": "[encoded data removed]",
            "text/plain": [
              "<Figure size 576x396 with 2 Axes>"
            ]
          },
          "metadata": {
            "tags": []
          }
        }
      ]
    },
    {
      "cell_type": "code",
      "metadata": {
        "colab": {
          "base_uri": "https://localhost:8080/"
        },
        "id": "lxpFlACzozQK",
        "outputId": "adf1cddd-bb4a-45ac-aa2d-4fe1224e48aa"
      },
      "source": [
        "for depth in [n for n in range(10,21,1)]:\r\n",
        "  dt=DecisionTreeClassifier(random_state=1, max_depth=depth)\r\n",
        "  dt=dt.fit(x_ros,y_ros)\r\n",
        "  dt_scores = cross_val_score(dt, X_val, y_val, cv=RepeatedStratifiedKFold(n_repeats=CV_N_REPEATS))\r\n",
        "  y_pred_dt = dt.predict(X_val)\r\n",
        "  print(depth,f\"Accuracy mean={dt_scores.mean():0.2f} +/- {dt_scores.std():0.2f} (1 s.d.)\",f1_score(y_val,y_pred_dt,average='macro'))"
      ],
      "execution_count": 40,
      "outputs": [
        {
          "output_type": "stream",
          "text": [
            "10 Accuracy mean=0.52 +/- 0.02 (1 s.d.) 0.28422487044378464\n",
            "11 Accuracy mean=0.50 +/- 0.02 (1 s.d.) 0.30577988838020304\n",
            "12 Accuracy mean=0.49 +/- 0.02 (1 s.d.) 0.3217069167572255\n",
            "13 Accuracy mean=0.47 +/- 0.02 (1 s.d.) 0.32969594257243895\n",
            "14 Accuracy mean=0.46 +/- 0.02 (1 s.d.) 0.33055658807803645\n",
            "15 Accuracy mean=0.45 +/- 0.02 (1 s.d.) 0.3362677760339523\n",
            "16 Accuracy mean=0.45 +/- 0.02 (1 s.d.) 0.33415724718785417\n",
            "17 Accuracy mean=0.45 +/- 0.02 (1 s.d.) 0.3261655108241443\n",
            "18 Accuracy mean=0.44 +/- 0.02 (1 s.d.) 0.3272718517428033\n",
            "19 Accuracy mean=0.43 +/- 0.02 (1 s.d.) 0.33161589247698786\n",
            "20 Accuracy mean=0.43 +/- 0.02 (1 s.d.) 0.32536872910551534\n"
          ],
          "name": "stdout"
        }
      ]
    },
    {
      "cell_type": "code",
      "metadata": {
        "id": "MYHi54U38s6m",
        "colab": {
          "base_uri": "https://localhost:8080/"
        },
        "outputId": "4b3b4711-e095-4d97-b882-268038156ef9"
      },
      "source": [
        "dt=DecisionTreeClassifier(random_state=1, max_depth=15)\r\n",
        "dt=dt.fit(x_ros,y_ros)\r\n",
        "dt_scores = cross_val_score(dt, X_val, y_val, cv=RepeatedStratifiedKFold(n_repeats=CV_N_REPEATS))\r\n",
        "y_pred_dt = dt.predict(X_val)\r\n",
        "print(depth,f\"Accuracy mean={dt_scores.mean():0.2f} +/- {dt_scores.std():0.2f} (1 s.d.)\",f1_score(y_val,y_pred_dt,average='macro'))"
      ],
      "execution_count": 54,
      "outputs": [
        {
          "output_type": "stream",
          "text": [
            "34 Accuracy mean=0.46 +/- 0.02 (1 s.d.) 0.3362677760339523\n"
          ],
          "name": "stdout"
        }
      ]
    },
    {
      "cell_type": "code",
      "metadata": {
        "id": "tmZeIw3K5wlZ"
      },
      "source": [
        "y_pred_dt2 = dt.predict(X_val)"
      ],
      "execution_count": null,
      "outputs": []
    },
    {
      "cell_type": "code",
      "metadata": {
        "colab": {
          "base_uri": "https://localhost:8080/"
        },
        "id": "NLfADkQv5nxC",
        "outputId": "73fbddb5-3b53-45c7-b015-2be3e5703034"
      },
      "source": [
        "f1_score(y_val,y_pred_dt2,average='macro')"
      ],
      "execution_count": null,
      "outputs": [
        {
          "output_type": "execute_result",
          "data": {
            "text/plain": [
              "0.35677223030936117"
            ]
          },
          "metadata": {
            "tags": []
          },
          "execution_count": 33
        }
      ]
    },
    {
      "cell_type": "code",
      "metadata": {
        "colab": {
          "base_uri": "https://localhost:8080/",
          "height": 403
        },
        "id": "Cw95pu49roeN",
        "outputId": "274568b5-c71c-4889-f21c-4e5e8225c34b"
      },
      "source": [
        "confusion_mat(y_pred_dt2, y_val)"
      ],
      "execution_count": null,
      "outputs": [
        {
          "output_type": "display_data",
          "data": {
            "image/png": "[encoded data removed]",
            "text/plain": [
              "<Figure size 576x396 with 2 Axes>"
            ]
          },
          "metadata": {
            "tags": []
          }
        }
      ]
    },
    {
      "cell_type": "code",
      "metadata": {
        "colab": {
          "base_uri": "https://localhost:8080/",
          "height": 34
        },
        "id": "Lv-8LwpVo-w5",
        "outputId": "0f3f4bf0-63a4-47a2-9af9-fed20bc26b4e"
      },
      "source": [
        "plt.figure()\r\n",
        "graph=plot_tree_graph(dt,X.columns,class_names=['1','2','3'])"
      ],
      "execution_count": null,
      "outputs": [
        {
          "output_type": "display_data",
          "data": {
            "text/plain": [
              "<Figure size 432x288 with 0 Axes>"
            ]
          },
          "metadata": {
            "tags": []
          }
        }
      ]
    },
    {
      "cell_type": "code",
      "metadata": {
        "colab": {
          "base_uri": "https://localhost:8080/"
        },
        "id": "KVBLbht5pCZH",
        "outputId": "da5e5c60-425b-4880-ca90-f500d324e8ae"
      },
      "source": [
        "bag=BaggingClassifier(n_estimators=20,oob_score=True,max_samples=10,max_features=10) \r\n",
        "bag=bag.fit(x_ros,y_ros)\r\n",
        "\r\n",
        "bag_scores = cross_val_score(bag, X_val, y_val, cv=RepeatedStratifiedKFold(n_repeats=CV_N_REPEATS))\r\n",
        "print(\"Accuracy mean={0:0.2f} +/- {1:0.2f} (1 s.d.)\".format(scores.mean(),scores.std()))\r\n",
        "print(\"Out of bag score: {0:0.2f}\".format(bag.oob_score_*100) );"
      ],
      "execution_count": 43,
      "outputs": [
        {
          "output_type": "stream",
          "text": [
            "Accuracy mean=0.51 +/- 0.01 (1 s.d.)\n",
            "Out of bag score: 34.59\n"
          ],
          "name": "stdout"
        }
      ]
    },
    {
      "cell_type": "code",
      "metadata": {
        "id": "Rs--XQE49ClX"
      },
      "source": [
        "from sklearn.metrics import roc_auc_score"
      ],
      "execution_count": null,
      "outputs": []
    },
    {
      "cell_type": "code",
      "metadata": {
        "colab": {
          "base_uri": "https://localhost:8080/"
        },
        "id": "B0bkdSf-p9d0",
        "outputId": "a0973861-7101-420c-f62f-4a3a4c60b170"
      },
      "source": [
        "sample_leaf_options = [10,20,30,25,35,40]\r\n",
        "\r\n",
        "for leaf_size in sample_leaf_options :\r\n",
        "    modelrf = RandomForestClassifier(n_estimators = 200, n_jobs = -1,random_state =50, min_samples_leaf = leaf_size)\r\n",
        "    modelrf.fit(x_ros,y_ros)\r\n",
        "    print(\"\\n Leaf size :\", leaf_size)\r\n",
        "    print (\"AUC - ROC : \", accuracy_score(y_val,modelrf.predict(X_val)))\r\n",
        "    print(f1_score(y_val,modelrf.predict(X_val),average='macro'))"
      ],
      "execution_count": 52,
      "outputs": [
        {
          "output_type": "stream",
          "text": [
            "\n",
            " Leaf size : 10\n",
            "AUC - ROC :  0.46234994543470354\n",
            "0.3352013539846263\n",
            "\n",
            " Leaf size : 20\n",
            "AUC - ROC :  0.4172426336849763\n",
            "0.3422119646653254\n",
            "\n",
            " Leaf size : 30\n",
            "AUC - ROC :  0.3903237540923972\n",
            "0.33906769978911333\n",
            "\n",
            " Leaf size : 25\n",
            "AUC - ROC :  0.39141506002182613\n",
            "0.3285954868257159\n",
            "\n",
            " Leaf size : 35\n",
            "AUC - ROC :  0.38050200072753726\n",
            "0.33225903630458836\n",
            "\n",
            " Leaf size : 40\n",
            "AUC - ROC :  0.3826846125863951\n",
            "0.3375958357592515\n"
          ],
          "name": "stdout"
        }
      ]
    },
    {
      "cell_type": "code",
      "metadata": {
        "colab": {
          "base_uri": "https://localhost:8080/",
          "height": 386
        },
        "id": "rcEFaGRhq7-A",
        "outputId": "4442bff0-1614-431e-a397-556e0b913d0d"
      },
      "source": [
        "feature_names=X.columns.values\r\n",
        "show_weights(modelrf,feature_names=feature_names)"
      ],
      "execution_count": 51,
      "outputs": [
        {
          "output_type": "execute_result",
          "data": {
            "text/html": [
              "\n",
              "    <style>\n",
              "    table.eli5-weights tr:hover {\n",
              "        filter: brightness(85%);\n",
              "    }\n",
              "</style>\n",
              "\n",
              "\n",
              "\n",
              "    \n",
              "\n",
              "    \n",
              "\n",
              "    \n",
              "\n",
              "    \n",
              "\n",
              "    \n",
              "\n",
              "    \n",
              "\n",
              "\n",
              "    \n",
              "\n",
              "    \n",
              "\n",
              "    \n",
              "\n",
              "    \n",
              "\n",
              "    \n",
              "\n",
              "    \n",
              "\n",
              "\n",
              "    \n",
              "\n",
              "    \n",
              "\n",
              "    \n",
              "\n",
              "    \n",
              "\n",
              "    \n",
              "        <table class=\"eli5-weights eli5-feature-importances\" style=\"border-collapse: collapse; border: none; margin-top: 0em; table-layout: auto;\">\n",
              "    <thead>\n",
              "    <tr style=\"border: none;\">\n",
              "        <th style=\"padding: 0 1em 0 0.5em; text-align: right; border: none;\">Weight</th>\n",
              "        <th style=\"padding: 0 0.5em 0 0.5em; text-align: left; border: none;\">Feature</th>\n",
              "    </tr>\n",
              "    </thead>\n",
              "    <tbody>\n",
              "    \n",
              "        <tr style=\"background-color: hsl(120, 100.00%, 80.00%); border: none;\">\n",
              "            <td style=\"padding: 0 1em 0 0.5em; text-align: right; border: none;\">\n",
              "                0.1291\n",
              "                \n",
              "                    &plusmn; 0.0207\n",
              "                \n",
              "            </td>\n",
              "            <td style=\"padding: 0 0.5em 0 0.5em; text-align: left; border: none;\">\n",
              "                booked_before_n_days\n",
              "            </td>\n",
              "        </tr>\n",
              "    \n",
              "        <tr style=\"background-color: hsl(120, 100.00%, 82.18%); border: none;\">\n",
              "            <td style=\"padding: 0 1em 0 0.5em; text-align: right; border: none;\">\n",
              "                0.1095\n",
              "                \n",
              "                    &plusmn; 0.0211\n",
              "                \n",
              "            </td>\n",
              "            <td style=\"padding: 0 0.5em 0 0.5em; text-align: left; border: none;\">\n",
              "                Room_Rate\n",
              "            </td>\n",
              "        </tr>\n",
              "    \n",
              "        <tr style=\"background-color: hsl(120, 100.00%, 83.47%); border: none;\">\n",
              "            <td style=\"padding: 0 1em 0 0.5em; text-align: right; border: none;\">\n",
              "                0.0984\n",
              "                \n",
              "                    &plusmn; 0.0190\n",
              "                \n",
              "            </td>\n",
              "            <td style=\"padding: 0 0.5em 0 0.5em; text-align: left; border: none;\">\n",
              "                Age\n",
              "            </td>\n",
              "        </tr>\n",
              "    \n",
              "        <tr style=\"background-color: hsl(120, 100.00%, 85.90%); border: none;\">\n",
              "            <td style=\"padding: 0 1em 0 0.5em; text-align: right; border: none;\">\n",
              "                0.0784\n",
              "                \n",
              "                    &plusmn; 0.0133\n",
              "                \n",
              "            </td>\n",
              "            <td style=\"padding: 0 0.5em 0 0.5em; text-align: left; border: none;\">\n",
              "                Meal_Type\n",
              "            </td>\n",
              "        </tr>\n",
              "    \n",
              "        <tr style=\"background-color: hsl(120, 100.00%, 86.30%); border: none;\">\n",
              "            <td style=\"padding: 0 1em 0 0.5em; text-align: right; border: none;\">\n",
              "                0.0752\n",
              "                \n",
              "                    &plusmn; 0.0199\n",
              "                \n",
              "            </td>\n",
              "            <td style=\"padding: 0 0.5em 0 0.5em; text-align: left; border: none;\">\n",
              "                Expected_checkin_Month\n",
              "            </td>\n",
              "        </tr>\n",
              "    \n",
              "        <tr style=\"background-color: hsl(120, 100.00%, 89.60%); border: none;\">\n",
              "            <td style=\"padding: 0 1em 0 0.5em; text-align: right; border: none;\">\n",
              "                0.0507\n",
              "                \n",
              "                    &plusmn; 0.0161\n",
              "                \n",
              "            </td>\n",
              "            <td style=\"padding: 0 0.5em 0 0.5em; text-align: left; border: none;\">\n",
              "                Discount_Rate\n",
              "            </td>\n",
              "        </tr>\n",
              "    \n",
              "        <tr style=\"background-color: hsl(120, 100.00%, 91.40%); border: none;\">\n",
              "            <td style=\"padding: 0 1em 0 0.5em; text-align: right; border: none;\">\n",
              "                0.0387\n",
              "                \n",
              "                    &plusmn; 0.0138\n",
              "                \n",
              "            </td>\n",
              "            <td style=\"padding: 0 0.5em 0 0.5em; text-align: left; border: none;\">\n",
              "                Income\n",
              "            </td>\n",
              "        </tr>\n",
              "    \n",
              "        <tr style=\"background-color: hsl(120, 100.00%, 91.49%); border: none;\">\n",
              "            <td style=\"padding: 0 1em 0 0.5em; text-align: right; border: none;\">\n",
              "                0.0381\n",
              "                \n",
              "                    &plusmn; 0.0133\n",
              "                \n",
              "            </td>\n",
              "            <td style=\"padding: 0 0.5em 0 0.5em; text-align: left; border: none;\">\n",
              "                Ethnicity\n",
              "            </td>\n",
              "        </tr>\n",
              "    \n",
              "        <tr style=\"background-color: hsl(120, 100.00%, 91.67%); border: none;\">\n",
              "            <td style=\"padding: 0 1em 0 0.5em; text-align: right; border: none;\">\n",
              "                0.0370\n",
              "                \n",
              "                    &plusmn; 0.0120\n",
              "                \n",
              "            </td>\n",
              "            <td style=\"padding: 0 0.5em 0 0.5em; text-align: left; border: none;\">\n",
              "                Country_region\n",
              "            </td>\n",
              "        </tr>\n",
              "    \n",
              "        <tr style=\"background-color: hsl(120, 100.00%, 91.75%); border: none;\">\n",
              "            <td style=\"padding: 0 1em 0 0.5em; text-align: right; border: none;\">\n",
              "                0.0365\n",
              "                \n",
              "                    &plusmn; 0.0132\n",
              "                \n",
              "            </td>\n",
              "            <td style=\"padding: 0 0.5em 0 0.5em; text-align: left; border: none;\">\n",
              "                Adults\n",
              "            </td>\n",
              "        </tr>\n",
              "    \n",
              "        <tr style=\"background-color: hsl(120, 100.00%, 91.84%); border: none;\">\n",
              "            <td style=\"padding: 0 1em 0 0.5em; text-align: right; border: none;\">\n",
              "                0.0359\n",
              "                \n",
              "                    &plusmn; 0.0124\n",
              "                \n",
              "            </td>\n",
              "            <td style=\"padding: 0 0.5em 0 0.5em; text-align: left; border: none;\">\n",
              "                Educational_Level\n",
              "            </td>\n",
              "        </tr>\n",
              "    \n",
              "        <tr style=\"background-color: hsl(120, 100.00%, 92.23%); border: none;\">\n",
              "            <td style=\"padding: 0 1em 0 0.5em; text-align: right; border: none;\">\n",
              "                0.0335\n",
              "                \n",
              "                    &plusmn; 0.0107\n",
              "                \n",
              "            </td>\n",
              "            <td style=\"padding: 0 0.5em 0 0.5em; text-align: left; border: none;\">\n",
              "                expected_days_of_checkin\n",
              "            </td>\n",
              "        </tr>\n",
              "    \n",
              "        <tr style=\"background-color: hsl(120, 100.00%, 92.50%); border: none;\">\n",
              "            <td style=\"padding: 0 1em 0 0.5em; text-align: right; border: none;\">\n",
              "                0.0318\n",
              "                \n",
              "                    &plusmn; 0.0133\n",
              "                \n",
              "            </td>\n",
              "            <td style=\"padding: 0 0.5em 0 0.5em; text-align: left; border: none;\">\n",
              "                Hotel_Type\n",
              "            </td>\n",
              "        </tr>\n",
              "    \n",
              "        <tr style=\"background-color: hsl(120, 100.00%, 92.84%); border: none;\">\n",
              "            <td style=\"padding: 0 1em 0 0.5em; text-align: right; border: none;\">\n",
              "                0.0297\n",
              "                \n",
              "                    &plusmn; 0.0138\n",
              "                \n",
              "            </td>\n",
              "            <td style=\"padding: 0 0.5em 0 0.5em; text-align: left; border: none;\">\n",
              "                Expected_checkin_Year\n",
              "            </td>\n",
              "        </tr>\n",
              "    \n",
              "        <tr style=\"background-color: hsl(120, 100.00%, 93.23%); border: none;\">\n",
              "            <td style=\"padding: 0 1em 0 0.5em; text-align: right; border: none;\">\n",
              "                0.0275\n",
              "                \n",
              "                    &plusmn; 0.0118\n",
              "                \n",
              "            </td>\n",
              "            <td style=\"padding: 0 0.5em 0 0.5em; text-align: left; border: none;\">\n",
              "                Children\n",
              "            </td>\n",
              "        </tr>\n",
              "    \n",
              "        <tr style=\"background-color: hsl(120, 100.00%, 93.35%); border: none;\">\n",
              "            <td style=\"padding: 0 1em 0 0.5em; text-align: right; border: none;\">\n",
              "                0.0268\n",
              "                \n",
              "                    &plusmn; 0.0093\n",
              "                \n",
              "            </td>\n",
              "            <td style=\"padding: 0 0.5em 0 0.5em; text-align: left; border: none;\">\n",
              "                Booking_channel\n",
              "            </td>\n",
              "        </tr>\n",
              "    \n",
              "        <tr style=\"background-color: hsl(120, 100.00%, 94.50%); border: none;\">\n",
              "            <td style=\"padding: 0 1em 0 0.5em; text-align: right; border: none;\">\n",
              "                0.0204\n",
              "                \n",
              "                    &plusmn; 0.0087\n",
              "                \n",
              "            </td>\n",
              "            <td style=\"padding: 0 0.5em 0 0.5em; text-align: left; border: none;\">\n",
              "                Gender\n",
              "            </td>\n",
              "        </tr>\n",
              "    \n",
              "        <tr style=\"background-color: hsl(120, 100.00%, 94.53%); border: none;\">\n",
              "            <td style=\"padding: 0 1em 0 0.5em; text-align: right; border: none;\">\n",
              "                0.0203\n",
              "                \n",
              "                    &plusmn; 0.0101\n",
              "                \n",
              "            </td>\n",
              "            <td style=\"padding: 0 0.5em 0 0.5em; text-align: left; border: none;\">\n",
              "                Deposit_type\n",
              "            </td>\n",
              "        </tr>\n",
              "    \n",
              "        <tr style=\"background-color: hsl(120, 100.00%, 95.18%); border: none;\">\n",
              "            <td style=\"padding: 0 1em 0 0.5em; text-align: right; border: none;\">\n",
              "                0.0169\n",
              "                \n",
              "                    &plusmn; 0.0148\n",
              "                \n",
              "            </td>\n",
              "            <td style=\"padding: 0 0.5em 0 0.5em; text-align: left; border: none;\">\n",
              "                isWeekend_trip\n",
              "            </td>\n",
              "        </tr>\n",
              "    \n",
              "        <tr style=\"background-color: hsl(120, 100.00%, 95.22%); border: none;\">\n",
              "            <td style=\"padding: 0 1em 0 0.5em; text-align: right; border: none;\">\n",
              "                0.0167\n",
              "                \n",
              "                    &plusmn; 0.0111\n",
              "                \n",
              "            </td>\n",
              "            <td style=\"padding: 0 0.5em 0 0.5em; text-align: left; border: none;\">\n",
              "                Babies\n",
              "            </td>\n",
              "        </tr>\n",
              "    \n",
              "    \n",
              "        \n",
              "            <tr style=\"background-color: hsl(120, 100.00%, 95.22%); border: none;\">\n",
              "                <td colspan=\"2\" style=\"padding: 0 0.5em 0 0.5em; text-align: center; border: none; white-space: nowrap;\">\n",
              "                    <i>&hellip; 4 more &hellip;</i>\n",
              "                </td>\n",
              "            </tr>\n",
              "        \n",
              "    \n",
              "    </tbody>\n",
              "</table>\n",
              "    \n",
              "\n",
              "    \n",
              "\n",
              "\n",
              "    \n",
              "\n",
              "    \n",
              "\n",
              "    \n",
              "\n",
              "    \n",
              "\n",
              "    \n",
              "\n",
              "    \n",
              "\n",
              "\n",
              "\n"
            ],
            "text/plain": [
              "<IPython.core.display.HTML object>"
            ]
          },
          "metadata": {
            "tags": []
          },
          "execution_count": 51
        }
      ]
    },
    {
      "cell_type": "code",
      "metadata": {
        "colab": {
          "base_uri": "https://localhost:8080/",
          "height": 454
        },
        "id": "bYwD2gEA_J6i",
        "outputId": "7f4b4119-a80d-4ede-d8cb-2da72654e879"
      },
      "source": [
        "modelgb = GradientBoostingClassifier(n_estimators=100,max_depth=32)\r\n",
        "modelgb.fit(x_ros,y_ros)\r\n",
        "print(depth)\r\n",
        "print(accuracy_score(y_val,modelgb.predict(X_val)))\r\n",
        "print(f1_score(y_val,modelgb.predict(X_val),average='macro'))\r\n",
        "confusion_mat(modelgb.predict(X_val),y_val)"
      ],
      "execution_count": 24,
      "outputs": [
        {
          "output_type": "stream",
          "text": [
            "20\n",
            "0.5150963986904329\n",
            "0.3125539470558259\n"
          ],
          "name": "stdout"
        },
        {
          "output_type": "display_data",
          "data": {
            "image/png": "[encoded data removed]",
            "text/plain": [
              "<Figure size 576x396 with 2 Axes>"
            ]
          },
          "metadata": {
            "tags": []
          }
        }
      ]
    },
    {
      "cell_type": "code",
      "metadata": {
        "id": "rSD7jVeJEfxX"
      },
      "source": [
        "from keras.layers import Dense,Dropout\r\n",
        "from keras.models import Sequential\r\n",
        "import tensorflow as tf"
      ],
      "execution_count": null,
      "outputs": []
    },
    {
      "cell_type": "code",
      "metadata": {
        "id": "V1Xi12WSVTLF"
      },
      "source": [
        "Reservation_Status_checkIn = list(train_df_bkp[train_df_bkp['Reservation_Status']=='Check-In'].index)"
      ],
      "execution_count": null,
      "outputs": []
    },
    {
      "cell_type": "code",
      "metadata": {
        "colab": {
          "base_uri": "https://localhost:8080/"
        },
        "id": "St_oXaXjWUUT",
        "outputId": "ee6d9a8a-99bd-429a-ea07-635f94045d33"
      },
      "source": [
        "len(Reservation_Status_checkIn)"
      ],
      "execution_count": null,
      "outputs": [
        {
          "output_type": "execute_result",
          "data": {
            "text/plain": [
              "19704"
            ]
          },
          "metadata": {
            "tags": []
          },
          "execution_count": 214
        }
      ]
    },
    {
      "cell_type": "code",
      "metadata": {
        "id": "-f0vxxnYW0eV"
      },
      "source": [
        "import random"
      ],
      "execution_count": null,
      "outputs": []
    },
    {
      "cell_type": "code",
      "metadata": {
        "id": "plDxTcR1W_yb"
      },
      "source": [
        "filtered_idx = random.sample(Reservation_Status_checkIn,6000)"
      ],
      "execution_count": null,
      "outputs": []
    },
    {
      "cell_type": "code",
      "metadata": {
        "id": "MmlHThS3XOqg"
      },
      "source": [
        "train_sliced = train_df_bkp.loc[filtered_idx]"
      ],
      "execution_count": null,
      "outputs": []
    },
    {
      "cell_type": "code",
      "metadata": {
        "id": "og1M6xDlVvZV"
      },
      "source": [
        "no_show = train_df_bkp[train_df_bkp['Reservation_Status']=='No-Show']"
      ],
      "execution_count": null,
      "outputs": []
    },
    {
      "cell_type": "code",
      "metadata": {
        "id": "BKp2_vefVzyc"
      },
      "source": [
        "canceled = train_df_bkp[train_df_bkp['Reservation_Status']=='Canceled']"
      ],
      "execution_count": null,
      "outputs": []
    },
    {
      "cell_type": "code",
      "metadata": {
        "id": "6qxFtYSuX_DC"
      },
      "source": [
        "new_train = pd.concat([train_sliced, no_show, canceled])"
      ],
      "execution_count": null,
      "outputs": []
    },
    {
      "cell_type": "code",
      "metadata": {
        "colab": {
          "base_uri": "https://localhost:8080/",
          "height": 438
        },
        "id": "Wdxnn1avYSO2",
        "outputId": "28920661-3e84-4306-cb21-881d47544970"
      },
      "source": [
        "new_train"
      ],
      "execution_count": null,
      "outputs": [
        {
          "output_type": "execute_result",
          "data": {
            "text/html": [
              "<div>\n",
              "<style scoped>\n",
              "    .dataframe tbody tr th:only-of-type {\n",
              "        vertical-align: middle;\n",
              "    }\n",
              "\n",
              "    .dataframe tbody tr th {\n",
              "        vertical-align: top;\n",
              "    }\n",
              "\n",
              "    .dataframe thead th {\n",
              "        text-align: right;\n",
              "    }\n",
              "</style>\n",
              "<table border=\"1\" class=\"dataframe\">\n",
              "  <thead>\n",
              "    <tr style=\"text-align: right;\">\n",
              "      <th></th>\n",
              "      <th>Reservation-id</th>\n",
              "      <th>Gender</th>\n",
              "      <th>Age</th>\n",
              "      <th>Ethnicity</th>\n",
              "      <th>Educational_Level</th>\n",
              "      <th>Income</th>\n",
              "      <th>Country_region</th>\n",
              "      <th>Hotel_Type</th>\n",
              "      <th>Adults</th>\n",
              "      <th>Children</th>\n",
              "      <th>Babies</th>\n",
              "      <th>Meal_Type</th>\n",
              "      <th>Visted_Previously</th>\n",
              "      <th>Previous_Cancellations</th>\n",
              "      <th>Deposit_type</th>\n",
              "      <th>Booking_channel</th>\n",
              "      <th>Required_Car_Parking</th>\n",
              "      <th>Reservation_Status</th>\n",
              "      <th>Use_Promotion</th>\n",
              "      <th>Discount_Rate</th>\n",
              "      <th>Room_Rate</th>\n",
              "      <th>Expected_checkin_Year</th>\n",
              "      <th>Expected_checkin_Month</th>\n",
              "      <th>expected_days_of_checkin</th>\n",
              "      <th>booked_before_n_days</th>\n",
              "      <th>isWeekend_trip</th>\n",
              "    </tr>\n",
              "  </thead>\n",
              "  <tbody>\n",
              "    <tr>\n",
              "      <th>7947</th>\n",
              "      <td>87484368</td>\n",
              "      <td>0.0</td>\n",
              "      <td>0.980769</td>\n",
              "      <td>0.000000</td>\n",
              "      <td>0.666667</td>\n",
              "      <td>0.333333</td>\n",
              "      <td>0.000000</td>\n",
              "      <td>1.0</td>\n",
              "      <td>0.00</td>\n",
              "      <td>0.5</td>\n",
              "      <td>0.5</td>\n",
              "      <td>0.0</td>\n",
              "      <td>0.0</td>\n",
              "      <td>0.0</td>\n",
              "      <td>0.5</td>\n",
              "      <td>0.0</td>\n",
              "      <td>0.0</td>\n",
              "      <td>Check-In</td>\n",
              "      <td>0.0</td>\n",
              "      <td>0.125</td>\n",
              "      <td>0.806667</td>\n",
              "      <td>0.5</td>\n",
              "      <td>0.545455</td>\n",
              "      <td>0.000000</td>\n",
              "      <td>0.282511</td>\n",
              "      <td>0.0</td>\n",
              "    </tr>\n",
              "    <tr>\n",
              "      <th>12353</th>\n",
              "      <td>33520896</td>\n",
              "      <td>0.0</td>\n",
              "      <td>0.192308</td>\n",
              "      <td>0.333333</td>\n",
              "      <td>0.666667</td>\n",
              "      <td>0.000000</td>\n",
              "      <td>1.000000</td>\n",
              "      <td>1.0</td>\n",
              "      <td>0.00</td>\n",
              "      <td>0.0</td>\n",
              "      <td>0.0</td>\n",
              "      <td>0.0</td>\n",
              "      <td>0.0</td>\n",
              "      <td>0.0</td>\n",
              "      <td>0.0</td>\n",
              "      <td>0.5</td>\n",
              "      <td>0.0</td>\n",
              "      <td>Check-In</td>\n",
              "      <td>1.0</td>\n",
              "      <td>0.000</td>\n",
              "      <td>0.280000</td>\n",
              "      <td>0.5</td>\n",
              "      <td>0.545455</td>\n",
              "      <td>0.666667</td>\n",
              "      <td>0.264574</td>\n",
              "      <td>0.0</td>\n",
              "    </tr>\n",
              "    <tr>\n",
              "      <th>11477</th>\n",
              "      <td>24016574</td>\n",
              "      <td>1.0</td>\n",
              "      <td>0.730769</td>\n",
              "      <td>1.000000</td>\n",
              "      <td>0.000000</td>\n",
              "      <td>1.000000</td>\n",
              "      <td>1.000000</td>\n",
              "      <td>0.0</td>\n",
              "      <td>1.00</td>\n",
              "      <td>0.0</td>\n",
              "      <td>0.0</td>\n",
              "      <td>0.0</td>\n",
              "      <td>0.0</td>\n",
              "      <td>0.0</td>\n",
              "      <td>0.5</td>\n",
              "      <td>0.5</td>\n",
              "      <td>0.0</td>\n",
              "      <td>Check-In</td>\n",
              "      <td>0.0</td>\n",
              "      <td>0.500</td>\n",
              "      <td>0.840000</td>\n",
              "      <td>1.0</td>\n",
              "      <td>0.000000</td>\n",
              "      <td>0.000000</td>\n",
              "      <td>0.484305</td>\n",
              "      <td>0.0</td>\n",
              "    </tr>\n",
              "    <tr>\n",
              "      <th>498</th>\n",
              "      <td>15332089</td>\n",
              "      <td>0.0</td>\n",
              "      <td>0.980769</td>\n",
              "      <td>0.666667</td>\n",
              "      <td>0.333333</td>\n",
              "      <td>0.000000</td>\n",
              "      <td>0.000000</td>\n",
              "      <td>0.5</td>\n",
              "      <td>0.50</td>\n",
              "      <td>0.0</td>\n",
              "      <td>0.0</td>\n",
              "      <td>0.0</td>\n",
              "      <td>0.0</td>\n",
              "      <td>0.0</td>\n",
              "      <td>0.5</td>\n",
              "      <td>0.5</td>\n",
              "      <td>1.0</td>\n",
              "      <td>Check-In</td>\n",
              "      <td>0.0</td>\n",
              "      <td>0.625</td>\n",
              "      <td>0.080000</td>\n",
              "      <td>0.0</td>\n",
              "      <td>0.545455</td>\n",
              "      <td>0.666667</td>\n",
              "      <td>0.031390</td>\n",
              "      <td>0.0</td>\n",
              "    </tr>\n",
              "    <tr>\n",
              "      <th>11156</th>\n",
              "      <td>50370289</td>\n",
              "      <td>0.0</td>\n",
              "      <td>0.750000</td>\n",
              "      <td>0.000000</td>\n",
              "      <td>1.000000</td>\n",
              "      <td>0.666667</td>\n",
              "      <td>0.000000</td>\n",
              "      <td>0.5</td>\n",
              "      <td>1.00</td>\n",
              "      <td>0.5</td>\n",
              "      <td>0.0</td>\n",
              "      <td>0.0</td>\n",
              "      <td>0.0</td>\n",
              "      <td>0.0</td>\n",
              "      <td>0.0</td>\n",
              "      <td>0.0</td>\n",
              "      <td>0.0</td>\n",
              "      <td>Check-In</td>\n",
              "      <td>0.0</td>\n",
              "      <td>0.125</td>\n",
              "      <td>0.426667</td>\n",
              "      <td>1.0</td>\n",
              "      <td>0.272727</td>\n",
              "      <td>0.666667</td>\n",
              "      <td>0.677130</td>\n",
              "      <td>1.0</td>\n",
              "    </tr>\n",
              "    <tr>\n",
              "      <th>...</th>\n",
              "      <td>...</td>\n",
              "      <td>...</td>\n",
              "      <td>...</td>\n",
              "      <td>...</td>\n",
              "      <td>...</td>\n",
              "      <td>...</td>\n",
              "      <td>...</td>\n",
              "      <td>...</td>\n",
              "      <td>...</td>\n",
              "      <td>...</td>\n",
              "      <td>...</td>\n",
              "      <td>...</td>\n",
              "      <td>...</td>\n",
              "      <td>...</td>\n",
              "      <td>...</td>\n",
              "      <td>...</td>\n",
              "      <td>...</td>\n",
              "      <td>...</td>\n",
              "      <td>...</td>\n",
              "      <td>...</td>\n",
              "      <td>...</td>\n",
              "      <td>...</td>\n",
              "      <td>...</td>\n",
              "      <td>...</td>\n",
              "      <td>...</td>\n",
              "      <td>...</td>\n",
              "    </tr>\n",
              "    <tr>\n",
              "      <th>27485</th>\n",
              "      <td>90330400</td>\n",
              "      <td>1.0</td>\n",
              "      <td>0.115385</td>\n",
              "      <td>1.000000</td>\n",
              "      <td>0.666667</td>\n",
              "      <td>0.333333</td>\n",
              "      <td>0.000000</td>\n",
              "      <td>1.0</td>\n",
              "      <td>0.50</td>\n",
              "      <td>0.0</td>\n",
              "      <td>0.0</td>\n",
              "      <td>1.0</td>\n",
              "      <td>0.0</td>\n",
              "      <td>0.0</td>\n",
              "      <td>1.0</td>\n",
              "      <td>0.0</td>\n",
              "      <td>0.0</td>\n",
              "      <td>Canceled</td>\n",
              "      <td>1.0</td>\n",
              "      <td>0.000</td>\n",
              "      <td>0.373333</td>\n",
              "      <td>0.5</td>\n",
              "      <td>0.636364</td>\n",
              "      <td>0.333333</td>\n",
              "      <td>0.147982</td>\n",
              "      <td>0.0</td>\n",
              "    </tr>\n",
              "    <tr>\n",
              "      <th>27486</th>\n",
              "      <td>15470478</td>\n",
              "      <td>1.0</td>\n",
              "      <td>0.500000</td>\n",
              "      <td>0.333333</td>\n",
              "      <td>0.666667</td>\n",
              "      <td>0.000000</td>\n",
              "      <td>1.000000</td>\n",
              "      <td>0.0</td>\n",
              "      <td>0.25</td>\n",
              "      <td>0.5</td>\n",
              "      <td>0.5</td>\n",
              "      <td>1.0</td>\n",
              "      <td>0.0</td>\n",
              "      <td>0.0</td>\n",
              "      <td>0.0</td>\n",
              "      <td>0.0</td>\n",
              "      <td>0.0</td>\n",
              "      <td>Canceled</td>\n",
              "      <td>0.0</td>\n",
              "      <td>0.250</td>\n",
              "      <td>0.160000</td>\n",
              "      <td>0.5</td>\n",
              "      <td>0.636364</td>\n",
              "      <td>0.000000</td>\n",
              "      <td>0.789238</td>\n",
              "      <td>0.0</td>\n",
              "    </tr>\n",
              "    <tr>\n",
              "      <th>27491</th>\n",
              "      <td>75845782</td>\n",
              "      <td>0.0</td>\n",
              "      <td>0.326923</td>\n",
              "      <td>0.333333</td>\n",
              "      <td>0.666667</td>\n",
              "      <td>1.000000</td>\n",
              "      <td>0.333333</td>\n",
              "      <td>0.5</td>\n",
              "      <td>0.25</td>\n",
              "      <td>0.5</td>\n",
              "      <td>0.5</td>\n",
              "      <td>0.0</td>\n",
              "      <td>0.0</td>\n",
              "      <td>0.0</td>\n",
              "      <td>1.0</td>\n",
              "      <td>0.0</td>\n",
              "      <td>1.0</td>\n",
              "      <td>Canceled</td>\n",
              "      <td>0.0</td>\n",
              "      <td>0.250</td>\n",
              "      <td>0.393333</td>\n",
              "      <td>0.5</td>\n",
              "      <td>0.636364</td>\n",
              "      <td>0.000000</td>\n",
              "      <td>0.040359</td>\n",
              "      <td>0.0</td>\n",
              "    </tr>\n",
              "    <tr>\n",
              "      <th>27493</th>\n",
              "      <td>88643756</td>\n",
              "      <td>1.0</td>\n",
              "      <td>0.865385</td>\n",
              "      <td>0.000000</td>\n",
              "      <td>0.000000</td>\n",
              "      <td>0.333333</td>\n",
              "      <td>0.333333</td>\n",
              "      <td>0.5</td>\n",
              "      <td>0.50</td>\n",
              "      <td>0.0</td>\n",
              "      <td>0.0</td>\n",
              "      <td>0.0</td>\n",
              "      <td>0.0</td>\n",
              "      <td>0.0</td>\n",
              "      <td>0.0</td>\n",
              "      <td>0.0</td>\n",
              "      <td>1.0</td>\n",
              "      <td>Canceled</td>\n",
              "      <td>1.0</td>\n",
              "      <td>0.000</td>\n",
              "      <td>0.880000</td>\n",
              "      <td>0.5</td>\n",
              "      <td>0.636364</td>\n",
              "      <td>0.000000</td>\n",
              "      <td>0.237668</td>\n",
              "      <td>0.0</td>\n",
              "    </tr>\n",
              "    <tr>\n",
              "      <th>27497</th>\n",
              "      <td>98041387</td>\n",
              "      <td>1.0</td>\n",
              "      <td>0.903846</td>\n",
              "      <td>0.666667</td>\n",
              "      <td>0.666667</td>\n",
              "      <td>1.000000</td>\n",
              "      <td>0.666667</td>\n",
              "      <td>0.5</td>\n",
              "      <td>0.50</td>\n",
              "      <td>0.5</td>\n",
              "      <td>0.0</td>\n",
              "      <td>0.5</td>\n",
              "      <td>0.0</td>\n",
              "      <td>0.0</td>\n",
              "      <td>0.0</td>\n",
              "      <td>0.0</td>\n",
              "      <td>1.0</td>\n",
              "      <td>Canceled</td>\n",
              "      <td>0.0</td>\n",
              "      <td>0.500</td>\n",
              "      <td>0.380000</td>\n",
              "      <td>0.5</td>\n",
              "      <td>0.636364</td>\n",
              "      <td>0.000000</td>\n",
              "      <td>0.457399</td>\n",
              "      <td>0.0</td>\n",
              "    </tr>\n",
              "  </tbody>\n",
              "</table>\n",
              "<p>15221 rows × 26 columns</p>\n",
              "</div>"
            ],
            "text/plain": [
              "       Reservation-id  Gender  ...  booked_before_n_days  isWeekend_trip\n",
              "7947         87484368     0.0  ...              0.282511             0.0\n",
              "12353        33520896     0.0  ...              0.264574             0.0\n",
              "11477        24016574     1.0  ...              0.484305             0.0\n",
              "498          15332089     0.0  ...              0.031390             0.0\n",
              "11156        50370289     0.0  ...              0.677130             1.0\n",
              "...               ...     ...  ...                   ...             ...\n",
              "27485        90330400     1.0  ...              0.147982             0.0\n",
              "27486        15470478     1.0  ...              0.789238             0.0\n",
              "27491        75845782     0.0  ...              0.040359             0.0\n",
              "27493        88643756     1.0  ...              0.237668             0.0\n",
              "27497        98041387     1.0  ...              0.457399             0.0\n",
              "\n",
              "[15221 rows x 26 columns]"
            ]
          },
          "metadata": {
            "tags": []
          },
          "execution_count": 225
        }
      ]
    },
    {
      "cell_type": "code",
      "metadata": {
        "id": "1pJRwo9mYYO4"
      },
      "source": [
        "new_train.to_csv('train_slised.csv')"
      ],
      "execution_count": null,
      "outputs": []
    },
    {
      "cell_type": "code",
      "metadata": {
        "id": "8M1_ImHPYnfb"
      },
      "source": [
        ""
      ],
      "execution_count": null,
      "outputs": []
    },
    {
      "cell_type": "code",
      "metadata": {
        "colab": {
          "base_uri": "https://localhost:8080/"
        },
        "id": "Sl5MzE4T_J-d",
        "outputId": "7a99dfd4-e90b-4d09-ab03-be543ac92205"
      },
      "source": [
        "from sklearn.ensemble import RandomForestClassifier\r\n",
        "from sklearn.model_selection import RandomizedSearchCV\r\n",
        "# Create param grid.   \r\n",
        "param_rf=[{'n_estimators' : list(range(10,150,15)),\r\n",
        "            'max_features' : list(range(6,32,5)),\r\n",
        "            'max_depth' : list(range(2,36,2)),\r\n",
        "           'min_samples_split':list(range(1,6,1)),\r\n",
        "           'min_samples_leaf':list(range(1,6,1)), \r\n",
        "           'min_weight_fraction_leaf':list(range(0,5,1))\r\n",
        "            }]\r\n",
        "# Create grid search object\r\n",
        "clfrfgs = RandomizedSearchCV(RandomForestClassifier(oob_score=True), param_distributions = param_rf, n_iter=50, cv = 5, refit=True,verbose=1, n_jobs=-1)\r\n",
        "# Fit on data\r\n",
        "best_clf = clfrfgs.fit(x_ros, y_ros)\r\n",
        "print(best_clf.best_params_)\r\n",
        "best_clf.best_score_"
      ],
      "execution_count": 60,
      "outputs": [
        {
          "output_type": "stream",
          "text": [
            "Fitting 5 folds for each of 50 candidates, totalling 250 fits\n"
          ],
          "name": "stdout"
        },
        {
          "output_type": "stream",
          "text": [
            "[Parallel(n_jobs=-1)]: Using backend LokyBackend with 2 concurrent workers.\n",
            "[Parallel(n_jobs=-1)]: Done  80 tasks      | elapsed:  1.1min\n",
            "[Parallel(n_jobs=-1)]: Done 247 out of 250 | elapsed:  2.6min remaining:    1.9s\n",
            "[Parallel(n_jobs=-1)]: Done 250 out of 250 | elapsed:  2.7min finished\n"
          ],
          "name": "stderr"
        },
        {
          "output_type": "stream",
          "text": [
            "{'n_estimators': 25, 'min_weight_fraction_leaf': 0, 'min_samples_split': 2, 'min_samples_leaf': 1, 'max_features': 11, 'max_depth': 24}\n"
          ],
          "name": "stdout"
        },
        {
          "output_type": "execute_result",
          "data": {
            "text/plain": [
              "0.880563876874876"
            ]
          },
          "metadata": {
            "tags": []
          },
          "execution_count": 60
        }
      ]
    },
    {
      "cell_type": "code",
      "metadata": {
        "colab": {
          "base_uri": "https://localhost:8080/"
        },
        "id": "TK0S1YTEKb2H",
        "outputId": "66eb9e00-3e4d-4319-fe0f-8f13a540ae9e"
      },
      "source": [
        "print(f1_score(y_val,best_clf.predict(X_val),average='macro'))"
      ],
      "execution_count": 62,
      "outputs": [
        {
          "output_type": "stream",
          "text": [
            "0.2764997304995424\n"
          ],
          "name": "stdout"
        }
      ]
    },
    {
      "cell_type": "code",
      "metadata": {
        "id": "_eqkcLcEtR0w"
      },
      "source": [
        "import re\r\n",
        "\r\n",
        "regex = re.compile(r\"\\[|\\]|<\", re.IGNORECASE)\r\n",
        "\r\n",
        "X.columns = [regex.sub(\"_\", col) if any(x in str(col) for x in set(('[', ']', '<'))) else col for col in X.columns.values]\r\n",
        "X_val.columns = [regex.sub(\"_\", col) if any(x in str(col) for x in set(('[', ']', '<'))) else col for col in X_val.columns.values]\r\n",
        "# X_test.columns = [regex.sub(\"_\", col) if any(x in str(col) for x in set(('[', ']', '<'))) else col for col in X_train.columns.values]"
      ],
      "execution_count": null,
      "outputs": []
    },
    {
      "cell_type": "code",
      "metadata": {
        "id": "whAD68ZnsTBa"
      },
      "source": [
        "from xgboost import XGBClassifier, plot_importance,to_graphviz\r\n",
        "\r\n",
        "# fit model on training data\r\n",
        "param = {'max_depth': 20, 'eta': 0.8,\"tree_method\":\"gpu_hist\", 'subsample':1,'learning_rate':0.01, 'n_estimators':1000,'reg_lambda':0.1}\r\n",
        "xgb = XGBClassifier(**param)\r\n",
        "xgb.fit(x_ros, y_ros)\r\n",
        "y_pred = xgb.predict(X_val)\r\n",
        "\r\n",
        "# evaluate predictions\r\n",
        "xgb_score = accuracy_score(y_val, y_pred)\r\n",
        "print(\"Accuracy of XGB Classifier: {0:0.2f}\".format(xgb_score * 100.0));\r\n",
        "\r\n",
        "#Plot the confusion matrix\r\n",
        "confusion_mat(y_pred, y_val)"
      ],
      "execution_count": null,
      "outputs": []
    },
    {
      "cell_type": "code",
      "metadata": {
        "colab": {
          "base_uri": "https://localhost:8080/"
        },
        "id": "hr-9mQs5C6mJ",
        "outputId": "b0f83fcf-227a-4b57-f03e-fc66846044e4"
      },
      "source": [
        "param_test1 = {\r\n",
        " 'max_depth':range(3,10,2),\r\n",
        " 'min_child_weight':range(1,6,2)\r\n",
        "}\r\n",
        "gsearch1 = GridSearchCV(estimator = XGBClassifier( learning_rate =0.1, n_estimators=140, max_depth=5,min_child_weight=1, gamma=0, subsample=0.8, colsample_bytree=0.8,objective= 'multi:softmax', nthread=4, scale_pos_weight=1, seed=27), \r\n",
        "param_grid = param_test1,n_jobs=4,iid=False, cv=5)\r\n",
        "gsearch1.fit(X,y)"
      ],
      "execution_count": null,
      "outputs": [
        {
          "output_type": "execute_result",
          "data": {
            "text/plain": [
              "GridSearchCV(cv=5, error_score=nan,\n",
              "             estimator=XGBClassifier(base_score=0.5, booster='gbtree',\n",
              "                                     colsample_bylevel=1, colsample_bynode=1,\n",
              "                                     colsample_bytree=0.8, gamma=0,\n",
              "                                     learning_rate=0.1, max_delta_step=0,\n",
              "                                     max_depth=5, min_child_weight=1,\n",
              "                                     missing=None, n_estimators=140, n_jobs=1,\n",
              "                                     nthread=4, objective='multi:softmax',\n",
              "                                     random_state=0, reg_alpha=0, reg_lambda=1,\n",
              "                                     scale_pos_weight=1, seed=27, silent=None,\n",
              "                                     subsample=0.8, verbosity=1),\n",
              "             iid=False, n_jobs=4,\n",
              "             param_grid={'max_depth': range(3, 10, 2),\n",
              "                         'min_child_weight': range(1, 6, 2)},\n",
              "             pre_dispatch='2*n_jobs', refit=True, return_train_score=False,\n",
              "             scoring=None, verbose=0)"
            ]
          },
          "metadata": {
            "tags": []
          },
          "execution_count": 264
        }
      ]
    },
    {
      "cell_type": "code",
      "metadata": {
        "colab": {
          "base_uri": "https://localhost:8080/"
        },
        "id": "jZ9s-oFhDFoe",
        "outputId": "3d66e02d-8e02-4423-8f9b-67c5b9704b1b"
      },
      "source": [
        "gsearch1.cv_results_"
      ],
      "execution_count": null,
      "outputs": [
        {
          "output_type": "execute_result",
          "data": {
            "text/plain": [
              "{'mean_fit_time': array([ 8.39844747,  8.54203639,  8.49334092, 15.14734159, 14.86953421,\n",
              "        14.79892206, 24.04347501, 23.22136726, 22.68376746, 34.89488144,\n",
              "        33.05191007, 26.47944875]),\n",
              " 'mean_score_time': array([0.10189571, 0.07393289, 0.09418178, 0.12909522, 0.13722134,\n",
              "        0.13777485, 0.1847888 , 0.20366883, 0.18431067, 0.28268566,\n",
              "        0.27234874, 0.19685125]),\n",
              " 'mean_test_score': array([0.39963987, 0.39816704, 0.39800354, 0.39366662, 0.39546705,\n",
              "        0.3919484 , 0.39039357, 0.39243906, 0.3908843 , 0.3911299 ,\n",
              "        0.39219356, 0.38793905]),\n",
              " 'param_max_depth': masked_array(data=[3, 3, 3, 5, 5, 5, 7, 7, 7, 9, 9, 9],\n",
              "              mask=[False, False, False, False, False, False, False, False,\n",
              "                    False, False, False, False],\n",
              "        fill_value='?',\n",
              "             dtype=object),\n",
              " 'param_min_child_weight': masked_array(data=[1, 3, 5, 1, 3, 5, 1, 3, 5, 1, 3, 5],\n",
              "              mask=[False, False, False, False, False, False, False, False,\n",
              "                    False, False, False, False],\n",
              "        fill_value='?',\n",
              "             dtype=object),\n",
              " 'params': [{'max_depth': 3, 'min_child_weight': 1},\n",
              "  {'max_depth': 3, 'min_child_weight': 3},\n",
              "  {'max_depth': 3, 'min_child_weight': 5},\n",
              "  {'max_depth': 5, 'min_child_weight': 1},\n",
              "  {'max_depth': 5, 'min_child_weight': 3},\n",
              "  {'max_depth': 5, 'min_child_weight': 5},\n",
              "  {'max_depth': 7, 'min_child_weight': 1},\n",
              "  {'max_depth': 7, 'min_child_weight': 3},\n",
              "  {'max_depth': 7, 'min_child_weight': 5},\n",
              "  {'max_depth': 9, 'min_child_weight': 1},\n",
              "  {'max_depth': 9, 'min_child_weight': 3},\n",
              "  {'max_depth': 9, 'min_child_weight': 5}],\n",
              " 'rank_test_score': array([ 1,  2,  3,  5,  4,  8, 11,  6, 10,  9,  7, 12], dtype=int32),\n",
              " 'split0_test_score': array([0.400818  , 0.39877301, 0.39672802, 0.39386503, 0.39263804,\n",
              "        0.39059305, 0.39059305, 0.39468303, 0.39386503, 0.39263804,\n",
              "        0.39468303, 0.38486708]),\n",
              " 'split1_test_score': array([0.41243863, 0.41325696, 0.41202946, 0.40139116, 0.40548282,\n",
              "        0.40343699, 0.39893617, 0.400982  , 0.400982  , 0.39934534,\n",
              "        0.40139116, 0.39607201]),\n",
              " 'split2_test_score': array([0.3997545 , 0.39934534, 0.39934534, 0.39689034, 0.40016367,\n",
              "        0.398527  , 0.3903437 , 0.3997545 , 0.3891162 , 0.39320786,\n",
              "        0.39116203, 0.38625205]),\n",
              " 'split3_test_score': array([0.40343699, 0.40261866, 0.40261866, 0.39566285, 0.39893617,\n",
              "        0.39320786, 0.39607201, 0.39157119, 0.39198036, 0.39116203,\n",
              "        0.38952537, 0.39075286]),\n",
              " 'split4_test_score': array([0.38175123, 0.37684124, 0.37929624, 0.38052373, 0.38011457,\n",
              "        0.37397709, 0.37602291, 0.37520458, 0.37847791, 0.37929624,\n",
              "        0.38420622, 0.38175123]),\n",
              " 'std_fit_time': array([1.05263376, 0.48792556, 0.19480864, 0.39730078, 0.40788426,\n",
              "        0.41685879, 0.25427129, 0.27198097, 0.29814987, 0.42529715,\n",
              "        0.43089627, 4.64772846]),\n",
              " 'std_score_time': array([0.0141329 , 0.01505635, 0.01689421, 0.00581244, 0.0270799 ,\n",
              "        0.02689639, 0.0357177 , 0.02662158, 0.02247759, 0.0487888 ,\n",
              "        0.03546805, 0.07768167]),\n",
              " 'std_test_score': array([0.00999631, 0.01186649, 0.01069034, 0.00702596, 0.0086961 ,\n",
              "        0.01001656, 0.00789657, 0.00926621, 0.00733614, 0.00654404,\n",
              "        0.00570569, 0.00499269])}"
            ]
          },
          "metadata": {
            "tags": []
          },
          "execution_count": 265
        }
      ]
    },
    {
      "cell_type": "code",
      "metadata": {
        "colab": {
          "base_uri": "https://localhost:8080/"
        },
        "id": "1EmpSmExDFrM",
        "outputId": "877f702e-f286-41ea-b231-42b58548c5c8"
      },
      "source": [
        "gsearch1.best_score_"
      ],
      "execution_count": null,
      "outputs": [
        {
          "output_type": "execute_result",
          "data": {
            "text/plain": [
              "0.3996398675944427"
            ]
          },
          "metadata": {
            "tags": []
          },
          "execution_count": 266
        }
      ]
    },
    {
      "cell_type": "code",
      "metadata": {
        "colab": {
          "base_uri": "https://localhost:8080/"
        },
        "id": "KvjEYuPODFwh",
        "outputId": "e71400ec-8133-4ae4-fc9f-5ab0c0502609"
      },
      "source": [
        "gsearch1.best_params_"
      ],
      "execution_count": null,
      "outputs": [
        {
          "output_type": "execute_result",
          "data": {
            "text/plain": [
              "{'max_depth': 3, 'min_child_weight': 1}"
            ]
          },
          "metadata": {
            "tags": []
          },
          "execution_count": 267
        }
      ]
    },
    {
      "cell_type": "code",
      "metadata": {
        "colab": {
          "base_uri": "https://localhost:8080/"
        },
        "id": "shDimwQjDFzD",
        "outputId": "3a4627b1-100c-4e21-c605-9ebd7afffc31"
      },
      "source": [
        "param_test2 = {\r\n",
        " 'max_depth':[3,5,7,9],\r\n",
        " 'min_child_weight':[1,3,5]\r\n",
        "}\r\n",
        "gsearch2 = GridSearchCV(estimator = XGBClassifier( learning_rate =0.1, n_estimators=140, max_depth=5,min_child_weight=1, gamma=0, subsample=0.8, colsample_bytree=0.8,objective= 'multi:softmax', nthread=4, scale_pos_weight=1, seed=27), \r\n",
        "param_grid = param_test2,n_jobs=4,iid=False, cv=5)\r\n",
        "gsearch2.fit(X,y)"
      ],
      "execution_count": null,
      "outputs": [
        {
          "output_type": "execute_result",
          "data": {
            "text/plain": [
              "GridSearchCV(cv=5, error_score=nan,\n",
              "             estimator=XGBClassifier(base_score=0.5, booster='gbtree',\n",
              "                                     colsample_bylevel=1, colsample_bynode=1,\n",
              "                                     colsample_bytree=0.8, gamma=0,\n",
              "                                     learning_rate=0.1, max_delta_step=0,\n",
              "                                     max_depth=5, min_child_weight=1,\n",
              "                                     missing=None, n_estimators=140, n_jobs=1,\n",
              "                                     nthread=4, objective='multi:softmax',\n",
              "                                     random_state=0, reg_alpha=0, reg_lambda=1,\n",
              "                                     scale_pos_weight=1, seed=27, silent=None,\n",
              "                                     subsample=0.8, verbosity=1),\n",
              "             iid=False, n_jobs=4,\n",
              "             param_grid={'max_depth': [3, 5, 7, 9],\n",
              "                         'min_child_weight': [1, 3, 5]},\n",
              "             pre_dispatch='2*n_jobs', refit=True, return_train_score=False,\n",
              "             scoring=None, verbose=0)"
            ]
          },
          "metadata": {
            "tags": []
          },
          "execution_count": 268
        }
      ]
    },
    {
      "cell_type": "code",
      "metadata": {
        "colab": {
          "base_uri": "https://localhost:8080/"
        },
        "id": "NLxDXd1NKUXq",
        "outputId": "59b5b22c-2241-4ded-8528-2c3253a99ea3"
      },
      "source": [
        "gsearch2.best_params_"
      ],
      "execution_count": null,
      "outputs": [
        {
          "output_type": "execute_result",
          "data": {
            "text/plain": [
              "{'max_depth': 3, 'min_child_weight': 1}"
            ]
          },
          "metadata": {
            "tags": []
          },
          "execution_count": 269
        }
      ]
    },
    {
      "cell_type": "code",
      "metadata": {
        "colab": {
          "base_uri": "https://localhost:8080/"
        },
        "id": "OkwRISr3Noxi",
        "outputId": "838ae125-d195-4abc-f997-8dec165eb845"
      },
      "source": [
        "gsearch2.best_score_"
      ],
      "execution_count": null,
      "outputs": [
        {
          "output_type": "execute_result",
          "data": {
            "text/plain": [
              "0.3996398675944427"
            ]
          },
          "metadata": {
            "tags": []
          },
          "execution_count": 270
        }
      ]
    },
    {
      "cell_type": "code",
      "metadata": {
        "colab": {
          "base_uri": "https://localhost:8080/"
        },
        "id": "YnqlPlHZKUVl",
        "outputId": "de9474f6-ea07-4e23-8ee8-69245668e5e1"
      },
      "source": [
        "param_test3 = {\r\n",
        " 'gamma':[i/10.0 for i in range(0,5)]\r\n",
        "}\r\n",
        "gsearch3 = GridSearchCV(estimator = XGBClassifier( learning_rate =0.1, n_estimators=140, max_depth=3,min_child_weight=1, gamma=0, subsample=0.8, colsample_bytree=0.8,objective= 'multi:softmax', nthread=4, scale_pos_weight=1,seed=27), \r\n",
        "param_grid = param_test3,n_jobs=4,iid=False, cv=5)\r\n",
        "gsearch3.fit(X,y)"
      ],
      "execution_count": null,
      "outputs": [
        {
          "output_type": "execute_result",
          "data": {
            "text/plain": [
              "GridSearchCV(cv=5, error_score=nan,\n",
              "             estimator=XGBClassifier(base_score=0.5, booster='gbtree',\n",
              "                                     colsample_bylevel=1, colsample_bynode=1,\n",
              "                                     colsample_bytree=0.8, gamma=0,\n",
              "                                     learning_rate=0.1, max_delta_step=0,\n",
              "                                     max_depth=3, min_child_weight=1,\n",
              "                                     missing=None, n_estimators=140, n_jobs=1,\n",
              "                                     nthread=4, objective='multi:softmax',\n",
              "                                     random_state=0, reg_alpha=0, reg_lambda=1,\n",
              "                                     scale_pos_weight=1, seed=27, silent=None,\n",
              "                                     subsample=0.8, verbosity=1),\n",
              "             iid=False, n_jobs=4,\n",
              "             param_grid={'gamma': [0.0, 0.1, 0.2, 0.3, 0.4]},\n",
              "             pre_dispatch='2*n_jobs', refit=True, return_train_score=False,\n",
              "             scoring=None, verbose=0)"
            ]
          },
          "metadata": {
            "tags": []
          },
          "execution_count": 271
        }
      ]
    },
    {
      "cell_type": "code",
      "metadata": {
        "colab": {
          "base_uri": "https://localhost:8080/"
        },
        "id": "V-Eg8rHcKUS_",
        "outputId": "7f161fc6-aa13-4394-cc9f-b849795385e6"
      },
      "source": [
        "gsearch3.best_score_"
      ],
      "execution_count": null,
      "outputs": [
        {
          "output_type": "execute_result",
          "data": {
            "text/plain": [
              "0.40070366391212237"
            ]
          },
          "metadata": {
            "tags": []
          },
          "execution_count": 272
        }
      ]
    },
    {
      "cell_type": "code",
      "metadata": {
        "colab": {
          "base_uri": "https://localhost:8080/"
        },
        "id": "REMGc7D8KUQc",
        "outputId": "59173dca-9907-4afa-867c-4020fab9133f"
      },
      "source": [
        "gsearch3.best_params_"
      ],
      "execution_count": null,
      "outputs": [
        {
          "output_type": "execute_result",
          "data": {
            "text/plain": [
              "{'gamma': 0.2}"
            ]
          },
          "metadata": {
            "tags": []
          },
          "execution_count": 273
        }
      ]
    },
    {
      "cell_type": "code",
      "metadata": {
        "colab": {
          "base_uri": "https://localhost:8080/"
        },
        "id": "arqxjP_HOGa-",
        "outputId": "edd55258-8054-413a-99e8-df966654157e"
      },
      "source": [
        "param_test4 = {\r\n",
        " 'subsample':[i/10.0 for i in range(6,10)],\r\n",
        " 'colsample_bytree':[i/10.0 for i in range(6,10)]\r\n",
        "}\r\n",
        "gsearch4 = GridSearchCV(estimator = XGBClassifier( learning_rate =0.1, n_estimators=140, max_depth=3,min_child_weight=1, gamma=0.2, subsample=0.8, colsample_bytree=0.8,objective= 'multi:softmax', nthread=4, scale_pos_weight=1,seed=27), \r\n",
        "param_grid = param_test4,n_jobs=4,iid=False, cv=5)\r\n",
        "gsearch4.fit(X,y)"
      ],
      "execution_count": null,
      "outputs": [
        {
          "output_type": "execute_result",
          "data": {
            "text/plain": [
              "GridSearchCV(cv=5, error_score=nan,\n",
              "             estimator=XGBClassifier(base_score=0.5, booster='gbtree',\n",
              "                                     colsample_bylevel=1, colsample_bynode=1,\n",
              "                                     colsample_bytree=0.8, gamma=0.2,\n",
              "                                     learning_rate=0.1, max_delta_step=0,\n",
              "                                     max_depth=3, min_child_weight=1,\n",
              "                                     missing=None, n_estimators=140, n_jobs=1,\n",
              "                                     nthread=4, objective='multi:softmax',\n",
              "                                     random_state=0, reg_alpha=0, reg_lambda=1,\n",
              "                                     scale_pos_weight=1, seed=27, silent=None,\n",
              "                                     subsample=0.8, verbosity=1),\n",
              "             iid=False, n_jobs=4,\n",
              "             param_grid={'colsample_bytree': [0.6, 0.7, 0.8, 0.9],\n",
              "                         'subsample': [0.6, 0.7, 0.8, 0.9]},\n",
              "             pre_dispatch='2*n_jobs', refit=True, return_train_score=False,\n",
              "             scoring=None, verbose=0)"
            ]
          },
          "metadata": {
            "tags": []
          },
          "execution_count": 274
        }
      ]
    },
    {
      "cell_type": "code",
      "metadata": {
        "colab": {
          "base_uri": "https://localhost:8080/"
        },
        "id": "jzjDD5aOOGYv",
        "outputId": "cad61afc-8cfc-4277-ac52-f2655162d346"
      },
      "source": [
        "gsearch4.best_score_"
      ],
      "execution_count": null,
      "outputs": [
        {
          "output_type": "execute_result",
          "data": {
            "text/plain": [
              "0.4036496540921551"
            ]
          },
          "metadata": {
            "tags": []
          },
          "execution_count": 275
        }
      ]
    },
    {
      "cell_type": "code",
      "metadata": {
        "colab": {
          "base_uri": "https://localhost:8080/"
        },
        "id": "pokCPf5TRVqI",
        "outputId": "10c8ec8d-9016-44fa-91ef-a4a20e51c8a7"
      },
      "source": [
        "gsearch4.best_params_"
      ],
      "execution_count": null,
      "outputs": [
        {
          "output_type": "execute_result",
          "data": {
            "text/plain": [
              "{'colsample_bytree': 0.6, 'subsample': 0.7}"
            ]
          },
          "metadata": {
            "tags": []
          },
          "execution_count": 276
        }
      ]
    },
    {
      "cell_type": "code",
      "metadata": {
        "colab": {
          "base_uri": "https://localhost:8080/"
        },
        "id": "ztDZZVcMRVth",
        "outputId": "c7751853-459c-48e9-833d-620de21ac633"
      },
      "source": [
        "param_test5 = {\r\n",
        " 'reg_alpha':[1e-5, 1e-2, 0.1, 1, 100]\r\n",
        "}\r\n",
        "gsearch5 = GridSearchCV(estimator = XGBClassifier( learning_rate =0.1, n_estimators=177, max_depth=3,\r\n",
        " min_child_weight=1, gamma=0.3, subsample=0.6, colsample_bytree=0.7,\r\n",
        " objective= 'multi:softmax', nthread=4, scale_pos_weight=1,seed=27), \r\n",
        " param_grid = param_test5,n_jobs=4,iid=False, cv=5)\r\n",
        "gsearch5.fit(X,y)"
      ],
      "execution_count": null,
      "outputs": [
        {
          "output_type": "execute_result",
          "data": {
            "text/plain": [
              "GridSearchCV(cv=5, error_score=nan,\n",
              "             estimator=XGBClassifier(base_score=0.5, booster='gbtree',\n",
              "                                     colsample_bylevel=1, colsample_bynode=1,\n",
              "                                     colsample_bytree=0.7, gamma=0.3,\n",
              "                                     learning_rate=0.1, max_delta_step=0,\n",
              "                                     max_depth=3, min_child_weight=1,\n",
              "                                     missing=None, n_estimators=177, n_jobs=1,\n",
              "                                     nthread=4, objective='multi:softmax',\n",
              "                                     random_state=0, reg_alpha=0, reg_lambda=1,\n",
              "                                     scale_pos_weight=1, seed=27, silent=None,\n",
              "                                     subsample=0.6, verbosity=1),\n",
              "             iid=False, n_jobs=4,\n",
              "             param_grid={'reg_alpha': [1e-05, 0.01, 0.1, 1, 100]},\n",
              "             pre_dispatch='2*n_jobs', refit=True, return_train_score=False,\n",
              "             scoring=None, verbose=0)"
            ]
          },
          "metadata": {
            "tags": []
          },
          "execution_count": 277
        }
      ]
    },
    {
      "cell_type": "code",
      "metadata": {
        "colab": {
          "base_uri": "https://localhost:8080/"
        },
        "id": "htHq2cZSRVwg",
        "outputId": "f13e6d20-995e-4585-da91-199d4d6aafaa"
      },
      "source": [
        "gsearch5.best_score_"
      ],
      "execution_count": null,
      "outputs": [
        {
          "output_type": "execute_result",
          "data": {
            "text/plain": [
              "0.42034202537661614"
            ]
          },
          "metadata": {
            "tags": []
          },
          "execution_count": 278
        }
      ]
    },
    {
      "cell_type": "code",
      "metadata": {
        "colab": {
          "base_uri": "https://localhost:8080/"
        },
        "id": "Noe6Auz2RVzm",
        "outputId": "26965464-b9d7-49b2-debb-0b3b38c9c457"
      },
      "source": [
        "gsearch5.best_params_"
      ],
      "execution_count": null,
      "outputs": [
        {
          "output_type": "execute_result",
          "data": {
            "text/plain": [
              "{'reg_alpha': 100}"
            ]
          },
          "metadata": {
            "tags": []
          },
          "execution_count": 279
        }
      ]
    },
    {
      "cell_type": "code",
      "metadata": {
        "colab": {
          "base_uri": "https://localhost:8080/"
        },
        "id": "JSScSNbpRV11",
        "outputId": "b9f034f9-ae90-439c-9b4d-79f86b97b21d"
      },
      "source": [
        "param_test6 = {\r\n",
        " 'learning_rate':[0.1, 0.01, 0.05, 0.02]\r\n",
        "}\r\n",
        "gsearch6 = GridSearchCV(estimator = XGBClassifier( learning_rate =0.1, n_estimators=177, max_depth=3,\r\n",
        " min_child_weight=1, gamma=0.2, subsample=0.6, colsample_bytree=0.7,reg_alpha=100,objective= 'multi:softmax', nthread=4, scale_pos_weight=1,seed=27), \r\n",
        " param_grid = param_test6,n_jobs=4,iid=False, cv=5)\r\n",
        "gsearch6.fit(X,y)"
      ],
      "execution_count": null,
      "outputs": [
        {
          "output_type": "execute_result",
          "data": {
            "text/plain": [
              "GridSearchCV(cv=5, error_score=nan,\n",
              "             estimator=XGBClassifier(base_score=0.5, booster='gbtree',\n",
              "                                     colsample_bylevel=1, colsample_bynode=1,\n",
              "                                     colsample_bytree=0.7, gamma=0.2,\n",
              "                                     learning_rate=0.1, max_delta_step=0,\n",
              "                                     max_depth=3, min_child_weight=1,\n",
              "                                     missing=None, n_estimators=177, n_jobs=1,\n",
              "                                     nthread=4, objective='multi:softmax',\n",
              "                                     random_state=0, reg_alpha=100,\n",
              "                                     reg_lambda=1, scale_pos_weight=1, seed=27,\n",
              "                                     silent=None, subsample=0.6, verbosity=1),\n",
              "             iid=False, n_jobs=4,\n",
              "             param_grid={'learning_rate': [0.1, 0.01, 0.05, 0.02]},\n",
              "             pre_dispatch='2*n_jobs', refit=True, return_train_score=False,\n",
              "             scoring=None, verbose=0)"
            ]
          },
          "metadata": {
            "tags": []
          },
          "execution_count": 281
        }
      ]
    },
    {
      "cell_type": "code",
      "metadata": {
        "colab": {
          "base_uri": "https://localhost:8080/"
        },
        "id": "S-h_fUqxRV43",
        "outputId": "c6d1555f-9edd-40e5-d69c-605f14ffaa1c"
      },
      "source": [
        "gsearch6.best_score_"
      ],
      "execution_count": null,
      "outputs": [
        {
          "output_type": "execute_result",
          "data": {
            "text/plain": [
              "0.46027317850317456"
            ]
          },
          "metadata": {
            "tags": []
          },
          "execution_count": 282
        }
      ]
    },
    {
      "cell_type": "code",
      "metadata": {
        "colab": {
          "base_uri": "https://localhost:8080/"
        },
        "id": "Ie-pa6QtOGT6",
        "outputId": "7fdd5eed-3fb7-4696-8a4b-099bceab5bb1"
      },
      "source": [
        "gsearch6.best_params_"
      ],
      "execution_count": null,
      "outputs": [
        {
          "output_type": "execute_result",
          "data": {
            "text/plain": [
              "{'learning_rate': 0.01}"
            ]
          },
          "metadata": {
            "tags": []
          },
          "execution_count": 283
        }
      ]
    },
    {
      "cell_type": "code",
      "metadata": {
        "id": "soxTqq_3aml5"
      },
      "source": [
        "gb_final = XGBClassifier( learning_rate =0.01,\r\n",
        "                         n_estimators=1000,\r\n",
        "                         max_depth=3,\r\n",
        "                         min_child_weight=1,\r\n",
        "                         gamma=0.2,\r\n",
        "                         subsample=0.6,\r\n",
        "                         colsample_bytree=0.7,\r\n",
        "                         reg_alpha=0.1, \r\n",
        "                         tree_method = \"gpu_hist\",\r\n",
        "                         nthread=4, \r\n",
        "                         scale_pos_weight=1,\r\n",
        "                         seed=27).fit(X,y)"
      ],
      "execution_count": null,
      "outputs": []
    },
    {
      "cell_type": "code",
      "metadata": {
        "colab": {
          "base_uri": "https://localhost:8080/"
        },
        "id": "Ydh2ZDagamjv",
        "outputId": "e15df589-e9f7-49f0-f489-1545841d1638"
      },
      "source": [
        "f1_score(y_val,xgb.predict(X_val),average='macro')"
      ],
      "execution_count": null,
      "outputs": [
        {
          "output_type": "execute_result",
          "data": {
            "text/plain": [
              "0.331473147234435"
            ]
          },
          "metadata": {
            "tags": []
          },
          "execution_count": 383
        }
      ]
    },
    {
      "cell_type": "code",
      "metadata": {
        "colab": {
          "base_uri": "https://localhost:8080/"
        },
        "id": "08F5NQvUwwiW",
        "outputId": "1751b4d3-c472-4c8c-f861-dbbbe2ec1fc9"
      },
      "source": [
        "f1_score(y_val,gb_final.predict(X_val),average='macro')"
      ],
      "execution_count": null,
      "outputs": [
        {
          "output_type": "execute_result",
          "data": {
            "text/plain": [
              "0.31104735805586203"
            ]
          },
          "metadata": {
            "tags": []
          },
          "execution_count": 382
        }
      ]
    },
    {
      "cell_type": "code",
      "metadata": {
        "id": "6d75vLvbamhQ"
      },
      "source": [
        "# gb_final.predict(X_test)"
      ],
      "execution_count": null,
      "outputs": []
    },
    {
      "cell_type": "code",
      "metadata": {
        "id": "pL0AuafcameX"
      },
      "source": [
        ""
      ],
      "execution_count": null,
      "outputs": []
    },
    {
      "cell_type": "code",
      "metadata": {
        "id": "SkLwkBZeOGQy"
      },
      "source": [
        ""
      ],
      "execution_count": null,
      "outputs": []
    },
    {
      "cell_type": "code",
      "metadata": {
        "id": "4wa5WdRvCsL-"
      },
      "source": [
        "# f1_score(y_val,y_pred,average='macro')"
      ],
      "execution_count": null,
      "outputs": []
    },
    {
      "cell_type": "code",
      "metadata": {
        "id": "LokvqUP-v-Xy"
      },
      "source": [
        "X.columns = [regex.sub(\"_\", col) if any(x in str(col) for x in set(('[', ']', '<'))) else col for col in X.columns.values]"
      ],
      "execution_count": null,
      "outputs": []
    },
    {
      "cell_type": "code",
      "metadata": {
        "colab": {
          "base_uri": "https://localhost:8080/",
          "height": 338
        },
        "id": "hZuN7l5_rRsC",
        "outputId": "80fdd319-5fd3-4020-8cbe-13b25a632838"
      },
      "source": [
        "from sklearn.ensemble import VotingClassifier\r\n",
        "\r\n",
        "ensemble_knn_rf_xgb=VotingClassifier(estimators= [('bag',bag),('Random Forest', dt)], voting='hard')\r\n",
        "ensemble_knn_rf_xgb.fit(X,y)\r\n",
        "\r\n",
        "#compute accuracy\r\n",
        "print('The ensembled model with all the 3 classifiers is:',ensemble_knn_rf_xgb.score(X_val,y_val))\r\n",
        "\r\n",
        "#make predictions\r\n",
        "y_pred = ensemble_knn_rf_xgb.predict(X_val)\r\n",
        "#Plot the confusion matrix\r\n",
        "confusion_mat(y_pred, y_val)"
      ],
      "execution_count": null,
      "outputs": [
        {
          "output_type": "stream",
          "text": [
            "The ensembled model with all the 3 classifiers is: 0.5754819934521644\n"
          ],
          "name": "stdout"
        },
        {
          "output_type": "display_data",
          "data": {
            "image/png": "[encoded data removed]",
            "text/plain": [
              "<Figure size 432x288 with 2 Axes>"
            ]
          },
          "metadata": {
            "tags": []
          }
        }
      ]
    },
    {
      "cell_type": "code",
      "metadata": {
        "id": "zg2lJCFtwsZR"
      },
      "source": [
        "from sklearn.metrics import f1_score"
      ],
      "execution_count": null,
      "outputs": []
    },
    {
      "cell_type": "code",
      "metadata": {
        "colab": {
          "base_uri": "https://localhost:8080/"
        },
        "id": "KQdcuu1Sl3A0",
        "outputId": "60b74d6d-f8a4-40e4-d96e-056698cb55d7"
      },
      "source": [
        ""
      ],
      "execution_count": null,
      "outputs": [
        {
          "output_type": "execute_result",
          "data": {
            "text/plain": [
              "array([1, 1, 1, ..., 1, 1, 1])"
            ]
          },
          "metadata": {
            "tags": []
          },
          "execution_count": 291
        }
      ]
    },
    {
      "cell_type": "code",
      "metadata": {
        "colab": {
          "base_uri": "https://localhost:8080/"
        },
        "id": "GD-xOykvv52v",
        "outputId": "c540158b-3d74-4e5d-8f03-ce7593ecffb2"
      },
      "source": [
        "f1_score(y_val, ensemble_knn_rf_xgb.predict(X_val),average='macro')"
      ],
      "execution_count": null,
      "outputs": [
        {
          "output_type": "execute_result",
          "data": {
            "text/plain": [
              "0.2681510589325095"
            ]
          },
          "metadata": {
            "tags": []
          },
          "execution_count": 292
        }
      ]
    },
    {
      "cell_type": "code",
      "metadata": {
        "id": "hyF6vq5QfZmC"
      },
      "source": [
        ""
      ],
      "execution_count": null,
      "outputs": []
    },
    {
      "cell_type": "markdown",
      "metadata": {
        "id": "BaPPsQHdfbJG"
      },
      "source": [
        "The best model so far is DT"
      ]
    },
    {
      "cell_type": "code",
      "metadata": {
        "colab": {
          "base_uri": "https://localhost:8080/"
        },
        "id": "fwt7apIBb2O2",
        "outputId": "5b84b195-7ae1-412e-cf32-381ef94e1f42"
      },
      "source": [
        "dt.score(X_val,y_val)"
      ],
      "execution_count": null,
      "outputs": [
        {
          "output_type": "execute_result",
          "data": {
            "text/plain": [
              "0.43979628955983996"
            ]
          },
          "metadata": {
            "tags": []
          },
          "execution_count": 35
        }
      ]
    },
    {
      "cell_type": "code",
      "metadata": {
        "colab": {
          "base_uri": "https://localhost:8080/"
        },
        "id": "Rz-4ybTPd2Sy",
        "outputId": "c8596ccb-5c5d-47f5-977e-d8f974ef077f"
      },
      "source": [
        "print(classification_report(y_val,dt.predict(X_val)))"
      ],
      "execution_count": null,
      "outputs": [
        {
          "output_type": "stream",
          "text": [
            "              precision    recall  f1-score   support\n",
            "\n",
            "           1       0.61      0.55      0.58      1610\n",
            "           2       0.31      0.34      0.32       741\n",
            "           3       0.16      0.19      0.17       398\n",
            "\n",
            "    accuracy                           0.44      2749\n",
            "   macro avg       0.36      0.36      0.36      2749\n",
            "weighted avg       0.46      0.44      0.45      2749\n",
            "\n"
          ],
          "name": "stdout"
        }
      ]
    },
    {
      "cell_type": "code",
      "metadata": {
        "colab": {
          "base_uri": "https://localhost:8080/"
        },
        "id": "yujAzsfajqMp",
        "outputId": "80bcce66-9065-4397-a6e1-93c28915f94e"
      },
      "source": [
        "dt"
      ],
      "execution_count": null,
      "outputs": [
        {
          "output_type": "execute_result",
          "data": {
            "text/plain": [
              "DecisionTreeClassifier(ccp_alpha=0.0, class_weight=None, criterion='gini',\n",
              "                       max_depth=28, max_features=None, max_leaf_nodes=None,\n",
              "                       min_impurity_decrease=0.0, min_impurity_split=None,\n",
              "                       min_samples_leaf=1, min_samples_split=2,\n",
              "                       min_weight_fraction_leaf=0.0, presort='deprecated',\n",
              "                       random_state=1, splitter='best')"
            ]
          },
          "metadata": {
            "tags": []
          },
          "execution_count": 298
        }
      ]
    },
    {
      "cell_type": "code",
      "metadata": {
        "id": "LlgXdojYejxO"
      },
      "source": [
        "import pickle"
      ],
      "execution_count": null,
      "outputs": []
    },
    {
      "cell_type": "code",
      "metadata": {
        "id": "BdFIP_yLestN"
      },
      "source": [
        "pickle.dump(dt, open('dt_with_36_f1_score', 'wb'))"
      ],
      "execution_count": null,
      "outputs": []
    },
    {
      "cell_type": "code",
      "metadata": {
        "id": "dbQvcf52e6zI"
      },
      "source": [
        "dt_with_36_f1_score = pickle.load(open('/content/dt_with_36_f1_score', 'rb'))"
      ],
      "execution_count": null,
      "outputs": []
    },
    {
      "cell_type": "code",
      "metadata": {
        "colab": {
          "base_uri": "https://localhost:8080/"
        },
        "id": "4PPu4EJLfDfN",
        "outputId": "8fabe016-9993-4255-fefe-22ab98f0b662"
      },
      "source": [
        "dt_with_36_f1_score.predict(X_val)"
      ],
      "execution_count": null,
      "outputs": [
        {
          "output_type": "execute_result",
          "data": {
            "text/plain": [
              "array([2, 2, 3, ..., 2, 2, 1])"
            ]
          },
          "metadata": {
            "tags": []
          },
          "execution_count": 42
        }
      ]
    },
    {
      "cell_type": "code",
      "metadata": {
        "id": "NJv3d7eb3-tP"
      },
      "source": [
        "test = pd.read_csv('/content/test_cleaned_scaled.csv')"
      ],
      "execution_count": null,
      "outputs": []
    },
    {
      "cell_type": "code",
      "metadata": {
        "colab": {
          "base_uri": "https://localhost:8080/",
          "height": 232
        },
        "id": "R3HUVVKu4bwO",
        "outputId": "b33fd3ff-0618-4c88-b774-4a485ebee5aa"
      },
      "source": [
        "test.head()"
      ],
      "execution_count": null,
      "outputs": [
        {
          "output_type": "execute_result",
          "data": {
            "text/html": [
              "<div>\n",
              "<style scoped>\n",
              "    .dataframe tbody tr th:only-of-type {\n",
              "        vertical-align: middle;\n",
              "    }\n",
              "\n",
              "    .dataframe tbody tr th {\n",
              "        vertical-align: top;\n",
              "    }\n",
              "\n",
              "    .dataframe thead th {\n",
              "        text-align: right;\n",
              "    }\n",
              "</style>\n",
              "<table border=\"1\" class=\"dataframe\">\n",
              "  <thead>\n",
              "    <tr style=\"text-align: right;\">\n",
              "      <th></th>\n",
              "      <th>Unnamed: 0</th>\n",
              "      <th>Reservation-id</th>\n",
              "      <th>Gender</th>\n",
              "      <th>Age</th>\n",
              "      <th>Ethnicity</th>\n",
              "      <th>Educational_Level</th>\n",
              "      <th>Income</th>\n",
              "      <th>Country_region</th>\n",
              "      <th>Hotel_Type</th>\n",
              "      <th>Adults</th>\n",
              "      <th>Children</th>\n",
              "      <th>Babies</th>\n",
              "      <th>Meal_Type</th>\n",
              "      <th>Visted_Previously</th>\n",
              "      <th>Previous_Cancellations</th>\n",
              "      <th>Deposit_type</th>\n",
              "      <th>Booking_channel</th>\n",
              "      <th>Required_Car_Parking</th>\n",
              "      <th>Use_Promotion</th>\n",
              "      <th>Discount_Rate</th>\n",
              "      <th>Room_Rate</th>\n",
              "      <th>Expected_checkin_Year</th>\n",
              "      <th>Expected_checkin_Month</th>\n",
              "      <th>expected_days_of_checkin</th>\n",
              "      <th>booked_before_n_days</th>\n",
              "      <th>isWeekend_trip</th>\n",
              "    </tr>\n",
              "  </thead>\n",
              "  <tbody>\n",
              "    <tr>\n",
              "      <th>0</th>\n",
              "      <td>0</td>\n",
              "      <td>62931593</td>\n",
              "      <td>0.0</td>\n",
              "      <td>0.653846</td>\n",
              "      <td>0.000000</td>\n",
              "      <td>0.000000</td>\n",
              "      <td>1.0</td>\n",
              "      <td>0.666667</td>\n",
              "      <td>0.0</td>\n",
              "      <td>0.50</td>\n",
              "      <td>1.0</td>\n",
              "      <td>0.0</td>\n",
              "      <td>1.0</td>\n",
              "      <td>0.0</td>\n",
              "      <td>0.0</td>\n",
              "      <td>0.0</td>\n",
              "      <td>1.0</td>\n",
              "      <td>0.0</td>\n",
              "      <td>0.0</td>\n",
              "      <td>0.250</td>\n",
              "      <td>0.353333</td>\n",
              "      <td>0.0</td>\n",
              "      <td>0.909091</td>\n",
              "      <td>0.000000</td>\n",
              "      <td>0.110619</td>\n",
              "      <td>1.0</td>\n",
              "    </tr>\n",
              "    <tr>\n",
              "      <th>1</th>\n",
              "      <td>1</td>\n",
              "      <td>70586099</td>\n",
              "      <td>0.0</td>\n",
              "      <td>0.557692</td>\n",
              "      <td>0.000000</td>\n",
              "      <td>0.000000</td>\n",
              "      <td>1.0</td>\n",
              "      <td>0.333333</td>\n",
              "      <td>0.5</td>\n",
              "      <td>0.25</td>\n",
              "      <td>0.0</td>\n",
              "      <td>0.0</td>\n",
              "      <td>0.5</td>\n",
              "      <td>0.0</td>\n",
              "      <td>0.0</td>\n",
              "      <td>0.0</td>\n",
              "      <td>0.0</td>\n",
              "      <td>1.0</td>\n",
              "      <td>1.0</td>\n",
              "      <td>0.000</td>\n",
              "      <td>0.733333</td>\n",
              "      <td>0.0</td>\n",
              "      <td>0.909091</td>\n",
              "      <td>0.000000</td>\n",
              "      <td>0.477876</td>\n",
              "      <td>1.0</td>\n",
              "    </tr>\n",
              "    <tr>\n",
              "      <th>2</th>\n",
              "      <td>2</td>\n",
              "      <td>4230648</td>\n",
              "      <td>0.0</td>\n",
              "      <td>0.192308</td>\n",
              "      <td>1.000000</td>\n",
              "      <td>0.000000</td>\n",
              "      <td>0.0</td>\n",
              "      <td>0.333333</td>\n",
              "      <td>0.0</td>\n",
              "      <td>0.25</td>\n",
              "      <td>0.5</td>\n",
              "      <td>0.0</td>\n",
              "      <td>0.0</td>\n",
              "      <td>0.0</td>\n",
              "      <td>0.0</td>\n",
              "      <td>0.0</td>\n",
              "      <td>0.5</td>\n",
              "      <td>1.0</td>\n",
              "      <td>0.0</td>\n",
              "      <td>0.125</td>\n",
              "      <td>0.113333</td>\n",
              "      <td>1.0</td>\n",
              "      <td>0.272727</td>\n",
              "      <td>0.666667</td>\n",
              "      <td>0.106195</td>\n",
              "      <td>1.0</td>\n",
              "    </tr>\n",
              "    <tr>\n",
              "      <th>3</th>\n",
              "      <td>3</td>\n",
              "      <td>25192322</td>\n",
              "      <td>0.0</td>\n",
              "      <td>0.903846</td>\n",
              "      <td>0.333333</td>\n",
              "      <td>1.000000</td>\n",
              "      <td>1.0</td>\n",
              "      <td>0.666667</td>\n",
              "      <td>0.5</td>\n",
              "      <td>0.00</td>\n",
              "      <td>1.0</td>\n",
              "      <td>1.0</td>\n",
              "      <td>0.5</td>\n",
              "      <td>0.0</td>\n",
              "      <td>0.0</td>\n",
              "      <td>0.0</td>\n",
              "      <td>0.0</td>\n",
              "      <td>0.0</td>\n",
              "      <td>0.0</td>\n",
              "      <td>0.250</td>\n",
              "      <td>0.046667</td>\n",
              "      <td>0.0</td>\n",
              "      <td>0.909091</td>\n",
              "      <td>0.333333</td>\n",
              "      <td>0.823009</td>\n",
              "      <td>1.0</td>\n",
              "    </tr>\n",
              "    <tr>\n",
              "      <th>4</th>\n",
              "      <td>4</td>\n",
              "      <td>80931528</td>\n",
              "      <td>1.0</td>\n",
              "      <td>0.519231</td>\n",
              "      <td>0.666667</td>\n",
              "      <td>0.666667</td>\n",
              "      <td>1.0</td>\n",
              "      <td>0.666667</td>\n",
              "      <td>0.0</td>\n",
              "      <td>0.50</td>\n",
              "      <td>0.0</td>\n",
              "      <td>0.0</td>\n",
              "      <td>0.0</td>\n",
              "      <td>0.0</td>\n",
              "      <td>0.0</td>\n",
              "      <td>0.5</td>\n",
              "      <td>0.5</td>\n",
              "      <td>1.0</td>\n",
              "      <td>1.0</td>\n",
              "      <td>0.000</td>\n",
              "      <td>0.126667</td>\n",
              "      <td>0.0</td>\n",
              "      <td>0.909091</td>\n",
              "      <td>0.333333</td>\n",
              "      <td>0.097345</td>\n",
              "      <td>1.0</td>\n",
              "    </tr>\n",
              "  </tbody>\n",
              "</table>\n",
              "</div>"
            ],
            "text/plain": [
              "   Unnamed: 0  Reservation-id  ...  booked_before_n_days  isWeekend_trip\n",
              "0           0        62931593  ...              0.110619             1.0\n",
              "1           1        70586099  ...              0.477876             1.0\n",
              "2           2         4230648  ...              0.106195             1.0\n",
              "3           3        25192322  ...              0.823009             1.0\n",
              "4           4        80931528  ...              0.097345             1.0\n",
              "\n",
              "[5 rows x 26 columns]"
            ]
          },
          "metadata": {
            "tags": []
          },
          "execution_count": 77
        }
      ]
    },
    {
      "cell_type": "code",
      "metadata": {
        "colab": {
          "base_uri": "https://localhost:8080/"
        },
        "id": "tQEhv-AB4rqM",
        "outputId": "300e84d6-4957-41be-e4de-693aea9f16c6"
      },
      "source": [
        "dt.n_features_"
      ],
      "execution_count": null,
      "outputs": [
        {
          "output_type": "execute_result",
          "data": {
            "text/plain": [
              "25"
            ]
          },
          "metadata": {
            "tags": []
          },
          "execution_count": 79
        }
      ]
    },
    {
      "cell_type": "code",
      "metadata": {
        "colab": {
          "base_uri": "https://localhost:8080/"
        },
        "id": "2cNyhnar4wPz",
        "outputId": "fdf57914-44e9-4ec1-9b8a-c07c90cba6f5"
      },
      "source": [
        "X.columns"
      ],
      "execution_count": null,
      "outputs": [
        {
          "output_type": "execute_result",
          "data": {
            "text/plain": [
              "Index(['Reservation-id', 'Gender', 'Age', 'Ethnicity', 'Educational_Level',\n",
              "       'Income', 'Country_region', 'Hotel_Type', 'Adults', 'Children',\n",
              "       'Babies', 'Meal_Type', 'Visted_Previously', 'Previous_Cancellations',\n",
              "       'Deposit_type', 'Booking_channel', 'Required_Car_Parking',\n",
              "       'Use_Promotion', 'Discount_Rate', 'Room_Rate', 'Expected_checkin_Year',\n",
              "       'Expected_checkin_Month', 'expected_days_of_checkin',\n",
              "       'booked_before_n_days', 'isWeekend_trip'],\n",
              "      dtype='object')"
            ]
          },
          "metadata": {
            "tags": []
          },
          "execution_count": 81
        }
      ]
    },
    {
      "cell_type": "code",
      "metadata": {
        "id": "0XKgueCl_DCg"
      },
      "source": [
        "test = pd.read_csv('/content/test_cleaned_scaled.csv')"
      ],
      "execution_count": null,
      "outputs": []
    },
    {
      "cell_type": "code",
      "metadata": {
        "colab": {
          "base_uri": "https://localhost:8080/",
          "height": 232
        },
        "id": "4AiGXOTr_Wq6",
        "outputId": "df984e28-5cdc-4d94-ce1d-f876edc24324"
      },
      "source": [
        "test.head()"
      ],
      "execution_count": null,
      "outputs": [
        {
          "output_type": "execute_result",
          "data": {
            "text/html": [
              "<div>\n",
              "<style scoped>\n",
              "    .dataframe tbody tr th:only-of-type {\n",
              "        vertical-align: middle;\n",
              "    }\n",
              "\n",
              "    .dataframe tbody tr th {\n",
              "        vertical-align: top;\n",
              "    }\n",
              "\n",
              "    .dataframe thead th {\n",
              "        text-align: right;\n",
              "    }\n",
              "</style>\n",
              "<table border=\"1\" class=\"dataframe\">\n",
              "  <thead>\n",
              "    <tr style=\"text-align: right;\">\n",
              "      <th></th>\n",
              "      <th>Unnamed: 0</th>\n",
              "      <th>Reservation-id</th>\n",
              "      <th>Gender</th>\n",
              "      <th>Age</th>\n",
              "      <th>Ethnicity</th>\n",
              "      <th>Educational_Level</th>\n",
              "      <th>Income</th>\n",
              "      <th>Country_region</th>\n",
              "      <th>Hotel_Type</th>\n",
              "      <th>Adults</th>\n",
              "      <th>Children</th>\n",
              "      <th>Babies</th>\n",
              "      <th>Meal_Type</th>\n",
              "      <th>Visted_Previously</th>\n",
              "      <th>Previous_Cancellations</th>\n",
              "      <th>Deposit_type</th>\n",
              "      <th>Booking_channel</th>\n",
              "      <th>Required_Car_Parking</th>\n",
              "      <th>Use_Promotion</th>\n",
              "      <th>Discount_Rate</th>\n",
              "      <th>Room_Rate</th>\n",
              "      <th>Expected_checkin_Year</th>\n",
              "      <th>Expected_checkin_Month</th>\n",
              "      <th>expected_days_of_checkin</th>\n",
              "      <th>booked_before_n_days</th>\n",
              "      <th>isWeekend_trip</th>\n",
              "    </tr>\n",
              "  </thead>\n",
              "  <tbody>\n",
              "    <tr>\n",
              "      <th>0</th>\n",
              "      <td>0</td>\n",
              "      <td>62931593</td>\n",
              "      <td>0.0</td>\n",
              "      <td>0.653846</td>\n",
              "      <td>0.000000</td>\n",
              "      <td>0.000000</td>\n",
              "      <td>1.0</td>\n",
              "      <td>0.666667</td>\n",
              "      <td>0.0</td>\n",
              "      <td>0.50</td>\n",
              "      <td>1.0</td>\n",
              "      <td>0.0</td>\n",
              "      <td>1.0</td>\n",
              "      <td>0.0</td>\n",
              "      <td>0.0</td>\n",
              "      <td>0.0</td>\n",
              "      <td>1.0</td>\n",
              "      <td>0.0</td>\n",
              "      <td>0.0</td>\n",
              "      <td>0.250</td>\n",
              "      <td>0.353333</td>\n",
              "      <td>0.0</td>\n",
              "      <td>0.909091</td>\n",
              "      <td>0.000000</td>\n",
              "      <td>0.110619</td>\n",
              "      <td>1.0</td>\n",
              "    </tr>\n",
              "    <tr>\n",
              "      <th>1</th>\n",
              "      <td>1</td>\n",
              "      <td>70586099</td>\n",
              "      <td>0.0</td>\n",
              "      <td>0.557692</td>\n",
              "      <td>0.000000</td>\n",
              "      <td>0.000000</td>\n",
              "      <td>1.0</td>\n",
              "      <td>0.333333</td>\n",
              "      <td>0.5</td>\n",
              "      <td>0.25</td>\n",
              "      <td>0.0</td>\n",
              "      <td>0.0</td>\n",
              "      <td>0.5</td>\n",
              "      <td>0.0</td>\n",
              "      <td>0.0</td>\n",
              "      <td>0.0</td>\n",
              "      <td>0.0</td>\n",
              "      <td>1.0</td>\n",
              "      <td>1.0</td>\n",
              "      <td>0.000</td>\n",
              "      <td>0.733333</td>\n",
              "      <td>0.0</td>\n",
              "      <td>0.909091</td>\n",
              "      <td>0.000000</td>\n",
              "      <td>0.477876</td>\n",
              "      <td>1.0</td>\n",
              "    </tr>\n",
              "    <tr>\n",
              "      <th>2</th>\n",
              "      <td>2</td>\n",
              "      <td>4230648</td>\n",
              "      <td>0.0</td>\n",
              "      <td>0.192308</td>\n",
              "      <td>1.000000</td>\n",
              "      <td>0.000000</td>\n",
              "      <td>0.0</td>\n",
              "      <td>0.333333</td>\n",
              "      <td>0.0</td>\n",
              "      <td>0.25</td>\n",
              "      <td>0.5</td>\n",
              "      <td>0.0</td>\n",
              "      <td>0.0</td>\n",
              "      <td>0.0</td>\n",
              "      <td>0.0</td>\n",
              "      <td>0.0</td>\n",
              "      <td>0.5</td>\n",
              "      <td>1.0</td>\n",
              "      <td>0.0</td>\n",
              "      <td>0.125</td>\n",
              "      <td>0.113333</td>\n",
              "      <td>1.0</td>\n",
              "      <td>0.272727</td>\n",
              "      <td>0.666667</td>\n",
              "      <td>0.106195</td>\n",
              "      <td>1.0</td>\n",
              "    </tr>\n",
              "    <tr>\n",
              "      <th>3</th>\n",
              "      <td>3</td>\n",
              "      <td>25192322</td>\n",
              "      <td>0.0</td>\n",
              "      <td>0.903846</td>\n",
              "      <td>0.333333</td>\n",
              "      <td>1.000000</td>\n",
              "      <td>1.0</td>\n",
              "      <td>0.666667</td>\n",
              "      <td>0.5</td>\n",
              "      <td>0.00</td>\n",
              "      <td>1.0</td>\n",
              "      <td>1.0</td>\n",
              "      <td>0.5</td>\n",
              "      <td>0.0</td>\n",
              "      <td>0.0</td>\n",
              "      <td>0.0</td>\n",
              "      <td>0.0</td>\n",
              "      <td>0.0</td>\n",
              "      <td>0.0</td>\n",
              "      <td>0.250</td>\n",
              "      <td>0.046667</td>\n",
              "      <td>0.0</td>\n",
              "      <td>0.909091</td>\n",
              "      <td>0.333333</td>\n",
              "      <td>0.823009</td>\n",
              "      <td>1.0</td>\n",
              "    </tr>\n",
              "    <tr>\n",
              "      <th>4</th>\n",
              "      <td>4</td>\n",
              "      <td>80931528</td>\n",
              "      <td>1.0</td>\n",
              "      <td>0.519231</td>\n",
              "      <td>0.666667</td>\n",
              "      <td>0.666667</td>\n",
              "      <td>1.0</td>\n",
              "      <td>0.666667</td>\n",
              "      <td>0.0</td>\n",
              "      <td>0.50</td>\n",
              "      <td>0.0</td>\n",
              "      <td>0.0</td>\n",
              "      <td>0.0</td>\n",
              "      <td>0.0</td>\n",
              "      <td>0.0</td>\n",
              "      <td>0.5</td>\n",
              "      <td>0.5</td>\n",
              "      <td>1.0</td>\n",
              "      <td>1.0</td>\n",
              "      <td>0.000</td>\n",
              "      <td>0.126667</td>\n",
              "      <td>0.0</td>\n",
              "      <td>0.909091</td>\n",
              "      <td>0.333333</td>\n",
              "      <td>0.097345</td>\n",
              "      <td>1.0</td>\n",
              "    </tr>\n",
              "  </tbody>\n",
              "</table>\n",
              "</div>"
            ],
            "text/plain": [
              "   Unnamed: 0  Reservation-id  ...  booked_before_n_days  isWeekend_trip\n",
              "0           0        62931593  ...              0.110619             1.0\n",
              "1           1        70586099  ...              0.477876             1.0\n",
              "2           2         4230648  ...              0.106195             1.0\n",
              "3           3        25192322  ...              0.823009             1.0\n",
              "4           4        80931528  ...              0.097345             1.0\n",
              "\n",
              "[5 rows x 26 columns]"
            ]
          },
          "metadata": {
            "tags": []
          },
          "execution_count": 47
        }
      ]
    },
    {
      "cell_type": "code",
      "metadata": {
        "id": "rHq0KjSu_NsK"
      },
      "source": [
        "test = test.drop(['Reservation-id','Unnamed: 0'],1)"
      ],
      "execution_count": null,
      "outputs": []
    },
    {
      "cell_type": "code",
      "metadata": {
        "id": "iXUUdNKGTCDo"
      },
      "source": [
        "dt_predictions = dt.predict(test)"
      ],
      "execution_count": null,
      "outputs": []
    },
    {
      "cell_type": "code",
      "metadata": {
        "id": "erBHJvYiTo9P"
      },
      "source": [
        "pd.DataFrame({\"Reservation-id\":test['Reservation-id'],\"Reservation_Status\":dt_predictions}).to_csv('submission3.csv')"
      ],
      "execution_count": null,
      "outputs": []
    },
    {
      "cell_type": "markdown",
      "metadata": {
        "id": "SJfDEyRSwGu2"
      },
      "source": [
        "# Ensemble Learning\r\n",
        "\r\n"
      ]
    },
    {
      "cell_type": "code",
      "metadata": {
        "id": "qLgLdbgSBd6o"
      },
      "source": [
        "import pandas as pd\r\n",
        "import numpy as np\r\n",
        "from sklearn.impute import SimpleImputer\r\n",
        "from sklearn.preprocessing import MinMaxScaler"
      ],
      "execution_count": null,
      "outputs": []
    },
    {
      "cell_type": "code",
      "metadata": {
        "colab": {
          "base_uri": "https://localhost:8080/",
          "height": 215
        },
        "id": "fMpB1cmGwYUF",
        "outputId": "410087e1-b04f-40e7-8b21-05323afc4ca1"
      },
      "source": [
        "train.head()"
      ],
      "execution_count": null,
      "outputs": [
        {
          "output_type": "execute_result",
          "data": {
            "text/html": [
              "<div>\n",
              "<style scoped>\n",
              "    .dataframe tbody tr th:only-of-type {\n",
              "        vertical-align: middle;\n",
              "    }\n",
              "\n",
              "    .dataframe tbody tr th {\n",
              "        vertical-align: top;\n",
              "    }\n",
              "\n",
              "    .dataframe thead th {\n",
              "        text-align: right;\n",
              "    }\n",
              "</style>\n",
              "<table border=\"1\" class=\"dataframe\">\n",
              "  <thead>\n",
              "    <tr style=\"text-align: right;\">\n",
              "      <th></th>\n",
              "      <th>Gender</th>\n",
              "      <th>Age</th>\n",
              "      <th>Ethnicity</th>\n",
              "      <th>Educational_Level</th>\n",
              "      <th>Income</th>\n",
              "      <th>Country_region</th>\n",
              "      <th>Hotel_Type</th>\n",
              "      <th>Adults</th>\n",
              "      <th>Children</th>\n",
              "      <th>Babies</th>\n",
              "      <th>Meal_Type</th>\n",
              "      <th>Visted_Previously</th>\n",
              "      <th>Previous_Cancellations</th>\n",
              "      <th>Deposit_type</th>\n",
              "      <th>Booking_channel</th>\n",
              "      <th>Required_Car_Parking</th>\n",
              "      <th>Reservation_Status</th>\n",
              "      <th>Use_Promotion</th>\n",
              "      <th>Discount_Rate</th>\n",
              "      <th>Room_Rate</th>\n",
              "      <th>Expected_checkin_Year</th>\n",
              "      <th>Expected_checkin_Month</th>\n",
              "      <th>expected_days_of_checkin</th>\n",
              "      <th>booked_before_n_days</th>\n",
              "    </tr>\n",
              "  </thead>\n",
              "  <tbody>\n",
              "    <tr>\n",
              "      <th>0</th>\n",
              "      <td>0</td>\n",
              "      <td>40</td>\n",
              "      <td>0</td>\n",
              "      <td>0</td>\n",
              "      <td>0</td>\n",
              "      <td>0</td>\n",
              "      <td>0</td>\n",
              "      <td>2</td>\n",
              "      <td>2</td>\n",
              "      <td>0</td>\n",
              "      <td>0</td>\n",
              "      <td>0</td>\n",
              "      <td>0</td>\n",
              "      <td>0</td>\n",
              "      <td>0</td>\n",
              "      <td>0</td>\n",
              "      <td>Check-In</td>\n",
              "      <td>0</td>\n",
              "      <td>10</td>\n",
              "      <td>218</td>\n",
              "      <td>-1.241242</td>\n",
              "      <td>7</td>\n",
              "      <td>1</td>\n",
              "      <td>41</td>\n",
              "    </tr>\n",
              "    <tr>\n",
              "      <th>1</th>\n",
              "      <td>0</td>\n",
              "      <td>49</td>\n",
              "      <td>0</td>\n",
              "      <td>1</td>\n",
              "      <td>1</td>\n",
              "      <td>1</td>\n",
              "      <td>0</td>\n",
              "      <td>3</td>\n",
              "      <td>3</td>\n",
              "      <td>0</td>\n",
              "      <td>0</td>\n",
              "      <td>0</td>\n",
              "      <td>0</td>\n",
              "      <td>1</td>\n",
              "      <td>0</td>\n",
              "      <td>0</td>\n",
              "      <td>Check-In</td>\n",
              "      <td>1</td>\n",
              "      <td>0</td>\n",
              "      <td>185</td>\n",
              "      <td>-1.241242</td>\n",
              "      <td>7</td>\n",
              "      <td>1</td>\n",
              "      <td>36</td>\n",
              "    </tr>\n",
              "    <tr>\n",
              "      <th>2</th>\n",
              "      <td>0</td>\n",
              "      <td>42</td>\n",
              "      <td>1</td>\n",
              "      <td>0</td>\n",
              "      <td>0</td>\n",
              "      <td>1</td>\n",
              "      <td>0</td>\n",
              "      <td>3</td>\n",
              "      <td>3</td>\n",
              "      <td>0</td>\n",
              "      <td>0</td>\n",
              "      <td>0</td>\n",
              "      <td>0</td>\n",
              "      <td>0</td>\n",
              "      <td>0</td>\n",
              "      <td>0</td>\n",
              "      <td>Check-In</td>\n",
              "      <td>1</td>\n",
              "      <td>0</td>\n",
              "      <td>119</td>\n",
              "      <td>-1.241242</td>\n",
              "      <td>7</td>\n",
              "      <td>4</td>\n",
              "      <td>3</td>\n",
              "    </tr>\n",
              "    <tr>\n",
              "      <th>3</th>\n",
              "      <td>1</td>\n",
              "      <td>25</td>\n",
              "      <td>2</td>\n",
              "      <td>2</td>\n",
              "      <td>2</td>\n",
              "      <td>2</td>\n",
              "      <td>1</td>\n",
              "      <td>4</td>\n",
              "      <td>3</td>\n",
              "      <td>0</td>\n",
              "      <td>0</td>\n",
              "      <td>0</td>\n",
              "      <td>0</td>\n",
              "      <td>1</td>\n",
              "      <td>1</td>\n",
              "      <td>0</td>\n",
              "      <td>Check-In</td>\n",
              "      <td>0</td>\n",
              "      <td>5</td>\n",
              "      <td>144</td>\n",
              "      <td>-1.241242</td>\n",
              "      <td>7</td>\n",
              "      <td>1</td>\n",
              "      <td>12</td>\n",
              "    </tr>\n",
              "    <tr>\n",
              "      <th>4</th>\n",
              "      <td>0</td>\n",
              "      <td>62</td>\n",
              "      <td>0</td>\n",
              "      <td>3</td>\n",
              "      <td>3</td>\n",
              "      <td>1</td>\n",
              "      <td>2</td>\n",
              "      <td>1</td>\n",
              "      <td>1</td>\n",
              "      <td>0</td>\n",
              "      <td>0</td>\n",
              "      <td>0</td>\n",
              "      <td>0</td>\n",
              "      <td>0</td>\n",
              "      <td>2</td>\n",
              "      <td>1</td>\n",
              "      <td>Check-In</td>\n",
              "      <td>0</td>\n",
              "      <td>10</td>\n",
              "      <td>242</td>\n",
              "      <td>-1.241242</td>\n",
              "      <td>7</td>\n",
              "      <td>1</td>\n",
              "      <td>13</td>\n",
              "    </tr>\n",
              "  </tbody>\n",
              "</table>\n",
              "</div>"
            ],
            "text/plain": [
              "   Gender  Age  ...  expected_days_of_checkin  booked_before_n_days\n",
              "0       0   40  ...                         1                    41\n",
              "1       0   49  ...                         1                    36\n",
              "2       0   42  ...                         4                     3\n",
              "3       1   25  ...                         1                    12\n",
              "4       0   62  ...                         1                    13\n",
              "\n",
              "[5 rows x 24 columns]"
            ]
          },
          "metadata": {
            "tags": []
          },
          "execution_count": 308
        }
      ]
    },
    {
      "cell_type": "code",
      "metadata": {
        "id": "I54uTQzIwqS2"
      },
      "source": [
        "train.Expected_checkin_Year = scaler.inverse_transform(train.Expected_checkin_Year)"
      ],
      "execution_count": null,
      "outputs": []
    },
    {
      "cell_type": "code",
      "metadata": {
        "colab": {
          "base_uri": "https://localhost:8080/"
        },
        "id": "_nvL2Qomw9Aq",
        "outputId": "9c12dabe-25a7-47fd-fff3-8cf010d916a2"
      },
      "source": [
        "train.shape"
      ],
      "execution_count": null,
      "outputs": [
        {
          "output_type": "execute_result",
          "data": {
            "text/plain": [
              "(25925, 24)"
            ]
          },
          "metadata": {
            "tags": []
          },
          "execution_count": 360
        }
      ]
    },
    {
      "cell_type": "code",
      "metadata": {
        "colab": {
          "base_uri": "https://localhost:8080/"
        },
        "id": "_i6GEHZk9kux",
        "outputId": "d994cfef-38e2-4980-b6d5-37bd4427dcf4"
      },
      "source": [
        "list(train.columns)"
      ],
      "execution_count": null,
      "outputs": [
        {
          "output_type": "execute_result",
          "data": {
            "text/plain": [
              "['Gender',\n",
              " 'Age',\n",
              " 'Ethnicity',\n",
              " 'Educational_Level',\n",
              " 'Income',\n",
              " 'Country_region',\n",
              " 'Hotel_Type',\n",
              " 'Adults',\n",
              " 'Children',\n",
              " 'Babies',\n",
              " 'Meal_Type',\n",
              " 'Visted_Previously',\n",
              " 'Previous_Cancellations',\n",
              " 'Deposit_type',\n",
              " 'Booking_channel',\n",
              " 'Required_Car_Parking',\n",
              " 'Reservation_Status',\n",
              " 'Use_Promotion',\n",
              " 'Discount_Rate',\n",
              " 'Room_Rate',\n",
              " 'Expected_checkin_Year',\n",
              " 'Expected_checkin_Month',\n",
              " 'expected_days_of_checkin',\n",
              " 'booked_before_n_days']"
            ]
          },
          "metadata": {
            "tags": []
          },
          "execution_count": 363
        }
      ]
    },
    {
      "cell_type": "code",
      "metadata": {
        "colab": {
          "base_uri": "https://localhost:8080/"
        },
        "id": "Q_1Gnx_59qs7",
        "outputId": "71161732-1b6a-416a-ccf5-7c0c9683dc01"
      },
      "source": [
        "list(validation.columns)"
      ],
      "execution_count": null,
      "outputs": [
        {
          "output_type": "execute_result",
          "data": {
            "text/plain": [
              "['Reservation-id',\n",
              " 'Gender',\n",
              " 'Age',\n",
              " 'Ethnicity',\n",
              " 'Educational_Level',\n",
              " 'Income',\n",
              " 'Country_region',\n",
              " 'Hotel_Type',\n",
              " 'Adults',\n",
              " 'Children',\n",
              " 'Babies',\n",
              " 'Meal_Type',\n",
              " 'Visted_Previously',\n",
              " 'Previous_Cancellations',\n",
              " 'Deposit_type',\n",
              " 'Booking_channel',\n",
              " 'Required_Car_Parking',\n",
              " 'Reservation_Status',\n",
              " 'Use_Promotion',\n",
              " 'Discount_Rate',\n",
              " 'Room_Rate',\n",
              " 'Expected_checkin_Year',\n",
              " 'Expected_checkin_Month',\n",
              " 'expected_days_of_checkin',\n",
              " 'booked_before_n_days',\n",
              " 'isWeekend_trip']"
            ]
          },
          "metadata": {
            "tags": []
          },
          "execution_count": 364
        }
      ]
    },
    {
      "cell_type": "code",
      "metadata": {
        "colab": {
          "base_uri": "https://localhost:8080/"
        },
        "id": "X-egbxqQ9Ioe",
        "outputId": "ed2150b6-d06b-4da4-faff-0237be28c9c3"
      },
      "source": [
        "validation.shape"
      ],
      "execution_count": null,
      "outputs": [
        {
          "output_type": "execute_result",
          "data": {
            "text/plain": [
              "(2749, 26)"
            ]
          },
          "metadata": {
            "tags": []
          },
          "execution_count": 359
        }
      ]
    },
    {
      "cell_type": "code",
      "metadata": {
        "id": "Tzp8xUuZxGoq"
      },
      "source": [
        "train.Expected_checkin_Year = train.Expected_checkin_Year.apply(lambda yr:np.mod(yr,2000))"
      ],
      "execution_count": null,
      "outputs": []
    },
    {
      "cell_type": "code",
      "metadata": {
        "id": "01Ig8azPxi_X"
      },
      "source": [
        "validation.Expected_checkin_Year = validation.Expected_checkin_Year.apply(lambda yr:np.mod(yr,2000))"
      ],
      "execution_count": null,
      "outputs": []
    },
    {
      "cell_type": "code",
      "metadata": {
        "id": "fkBTRdcVx6oi"
      },
      "source": [
        "values_train = train.drop(['Reservation_Status'],1).values"
      ],
      "execution_count": null,
      "outputs": []
    },
    {
      "cell_type": "code",
      "metadata": {
        "id": "oLBTSSdS1rfL"
      },
      "source": [
        "values_validate = validation.drop(['Reservation_Status','Reservation-id','isWeekend_trip'],1).values"
      ],
      "execution_count": null,
      "outputs": []
    },
    {
      "cell_type": "code",
      "metadata": {
        "id": "9Nj_-QPRym6a"
      },
      "source": [
        "imputer = SimpleImputer()"
      ],
      "execution_count": null,
      "outputs": []
    },
    {
      "cell_type": "code",
      "metadata": {
        "colab": {
          "base_uri": "https://localhost:8080/"
        },
        "id": "b5WjhuO76P2X",
        "outputId": "dbb15cb0-053b-4616-80b9-0f814258f712"
      },
      "source": [
        "values_validate.shape"
      ],
      "execution_count": null,
      "outputs": [
        {
          "output_type": "execute_result",
          "data": {
            "text/plain": [
              "(2749, 23)"
            ]
          },
          "metadata": {
            "tags": []
          },
          "execution_count": 367
        }
      ]
    },
    {
      "cell_type": "code",
      "metadata": {
        "colab": {
          "base_uri": "https://localhost:8080/"
        },
        "id": "7wI_7Ps06TLL",
        "outputId": "c66df274-9dae-463d-9764-951bc90a471b"
      },
      "source": [
        "values_train.shape"
      ],
      "execution_count": null,
      "outputs": [
        {
          "output_type": "execute_result",
          "data": {
            "text/plain": [
              "(25925, 23)"
            ]
          },
          "metadata": {
            "tags": []
          },
          "execution_count": 362
        }
      ]
    },
    {
      "cell_type": "code",
      "metadata": {
        "id": "u4Q7GSGLyqtt"
      },
      "source": [
        "imputedData_train = imputer.fit_transform(values_train)"
      ],
      "execution_count": null,
      "outputs": []
    },
    {
      "cell_type": "code",
      "metadata": {
        "id": "AgOnIAwq1_Rp"
      },
      "source": [
        "imputedData_validation = imputer.fit_transform(values_validate)"
      ],
      "execution_count": null,
      "outputs": []
    },
    {
      "cell_type": "code",
      "metadata": {
        "colab": {
          "base_uri": "https://localhost:8080/"
        },
        "id": "To-wThokyu_T",
        "outputId": "70083c12-a3d3-4b95-9920-5dc2bb0ed177"
      },
      "source": [
        "imputedData_train"
      ],
      "execution_count": null,
      "outputs": [
        {
          "output_type": "execute_result",
          "data": {
            "text/plain": [
              "array([[ 0., 40.,  0., ...,  7.,  1., 41.],\n",
              "       [ 0., 49.,  0., ...,  7.,  1., 36.],\n",
              "       [ 0., 42.,  1., ...,  7.,  4.,  3.],\n",
              "       ...,\n",
              "       [ 0., 49.,  0., ...,  9.,  1.,  9.],\n",
              "       [ 1., 65.,  2., ...,  8.,  1., 98.],\n",
              "       [ 0., 48.,  1., ...,  8.,  1., 65.]])"
            ]
          },
          "metadata": {
            "tags": []
          },
          "execution_count": 322
        }
      ]
    },
    {
      "cell_type": "code",
      "metadata": {
        "colab": {
          "base_uri": "https://localhost:8080/"
        },
        "id": "tvcGIv0n6ilG",
        "outputId": "45126931-a0cb-4cc1-ff2c-ae0150652e68"
      },
      "source": [
        "imputedData_validation"
      ],
      "execution_count": null,
      "outputs": [
        {
          "output_type": "execute_result",
          "data": {
            "text/plain": [
              "array([[  1.,  56.,   1., ...,   2., 195.,   0.],\n",
              "       [  1.,  60.,   0., ...,   4., 175.,   0.],\n",
              "       [  0.,  58.,   3., ...,   1., 193.,   0.],\n",
              "       ...,\n",
              "       [  1.,  18.,   3., ...,   2.,  30.,   1.],\n",
              "       [  1.,  42.,   3., ...,   1., 170.,   1.],\n",
              "       [  1.,  53.,   2., ...,   3., 179.,   1.]])"
            ]
          },
          "metadata": {
            "tags": []
          },
          "execution_count": 347
        }
      ]
    },
    {
      "cell_type": "code",
      "metadata": {
        "id": "jFzhJiX4zAMr"
      },
      "source": [
        "scaler2 = MinMaxScaler(feature_range=(0, 1))"
      ],
      "execution_count": null,
      "outputs": []
    },
    {
      "cell_type": "code",
      "metadata": {
        "id": "6L1eqwrazGiv"
      },
      "source": [
        "normalizedData_train = scaler2.fit_transform(imputedData_train)"
      ],
      "execution_count": null,
      "outputs": []
    },
    {
      "cell_type": "code",
      "metadata": {
        "id": "LHRowCdu6n-w"
      },
      "source": [
        "normalizedData_validation = scaler2.fit_transform(imputedData_validation)"
      ],
      "execution_count": null,
      "outputs": []
    },
    {
      "cell_type": "code",
      "metadata": {
        "id": "yRhT9GUvzNkM"
      },
      "source": [
        "from sklearn import model_selection\r\n",
        "from sklearn.ensemble import BaggingClassifier\r\n",
        "from sklearn.tree import DecisionTreeClassifier"
      ],
      "execution_count": null,
      "outputs": []
    },
    {
      "cell_type": "code",
      "metadata": {
        "id": "nraIHz3CzmQd"
      },
      "source": [
        "y_stk = train['Reservation_Status'].map({\"Check-In\":1,\"Canceled\":2,\"No-Show\":3})"
      ],
      "execution_count": null,
      "outputs": []
    },
    {
      "cell_type": "code",
      "metadata": {
        "id": "zTEOv5zZ60BO"
      },
      "source": [
        "y_stk_val = validation['Reservation_Status'].map({\"Check-In\":1,\"Canceled\":2,\"No-Show\":3})"
      ],
      "execution_count": null,
      "outputs": []
    },
    {
      "cell_type": "code",
      "metadata": {
        "id": "Il-Dcm2i6yNH"
      },
      "source": [
        "y_stk_val = np.array(y_stk_val)"
      ],
      "execution_count": null,
      "outputs": []
    },
    {
      "cell_type": "code",
      "metadata": {
        "id": "cRUK0GlbzzF7"
      },
      "source": [
        "y_stk = np.array(y_stk)"
      ],
      "execution_count": null,
      "outputs": []
    },
    {
      "cell_type": "code",
      "metadata": {
        "id": "qQ5QZuH0zSgp"
      },
      "source": [
        "X_stk = normalizedData_train"
      ],
      "execution_count": null,
      "outputs": []
    },
    {
      "cell_type": "code",
      "metadata": {
        "id": "vSwcD-0q7CAl"
      },
      "source": [
        "X_stk_val = normalizedData_validation"
      ],
      "execution_count": null,
      "outputs": []
    },
    {
      "cell_type": "code",
      "metadata": {
        "colab": {
          "base_uri": "https://localhost:8080/"
        },
        "id": "SxI-9B1kz_oJ",
        "outputId": "53069b94-621b-4b99-8fef-c9007241596a"
      },
      "source": [
        "kfold = model_selection.KFold(n_splits=10, random_state=7)\r\n",
        "cart = DecisionTreeClassifier()\r\n",
        "num_trees = 200\r\n",
        "model_bagg = BaggingClassifier(base_estimator=cart, n_jobs =10,n_estimators=num_trees, random_state=7)\r\n",
        "results = model_selection.cross_val_score(model_bagg, X, y, cv=kfold)\r\n",
        "print(results.mean())"
      ],
      "execution_count": null,
      "outputs": [
        {
          "output_type": "stream",
          "text": [
            "0.3399635732476149\n"
          ],
          "name": "stdout"
        }
      ]
    },
    {
      "cell_type": "code",
      "metadata": {
        "colab": {
          "base_uri": "https://localhost:8080/"
        },
        "id": "qI2jQLCkFgmp",
        "outputId": "a4c52b4a-3d18-414b-e744-21e81c53dc24"
      },
      "source": [
        "model_bagg.fit(X,y)"
      ],
      "execution_count": null,
      "outputs": [
        {
          "output_type": "execute_result",
          "data": {
            "text/plain": [
              "BaggingClassifier(base_estimator=DecisionTreeClassifier(ccp_alpha=0.0,\n",
              "                                                        class_weight=None,\n",
              "                                                        criterion='gini',\n",
              "                                                        max_depth=None,\n",
              "                                                        max_features=None,\n",
              "                                                        max_leaf_nodes=None,\n",
              "                                                        min_impurity_decrease=0.0,\n",
              "                                                        min_impurity_split=None,\n",
              "                                                        min_samples_leaf=1,\n",
              "                                                        min_samples_split=2,\n",
              "                                                        min_weight_fraction_leaf=0.0,\n",
              "                                                        presort='deprecated',\n",
              "                                                        random_state=None,\n",
              "                                                        splitter='best'),\n",
              "                  bootstrap=True, bootstrap_features=False, max_features=1.0,\n",
              "                  max_samples=1.0, n_estimators=200, n_jobs=10, oob_score=False,\n",
              "                  random_state=7, verbose=0, warm_start=False)"
            ]
          },
          "metadata": {
            "tags": []
          },
          "execution_count": 301
        }
      ]
    },
    {
      "cell_type": "code",
      "metadata": {
        "id": "XeAQhSO_FgqA"
      },
      "source": [
        "predicted_bagg= model_bagg.predict(X_val)"
      ],
      "execution_count": null,
      "outputs": []
    },
    {
      "cell_type": "code",
      "metadata": {
        "colab": {
          "base_uri": "https://localhost:8080/"
        },
        "id": "df2bIXn6FguS",
        "outputId": "3930f894-59ed-4983-87e4-58ccb6b58d75"
      },
      "source": [
        "f1_score(y_val,predicted_bagg,average='macro')"
      ],
      "execution_count": null,
      "outputs": [
        {
          "output_type": "execute_result",
          "data": {
            "text/plain": [
              "0.31616949596859295"
            ]
          },
          "metadata": {
            "tags": []
          },
          "execution_count": 304
        }
      ]
    },
    {
      "cell_type": "code",
      "metadata": {
        "colab": {
          "base_uri": "https://localhost:8080/"
        },
        "id": "aXqwe5Qw0ANN",
        "outputId": "3e7befbd-1ec9-49a4-e441-dc3bef4c5023"
      },
      "source": [
        "from sklearn.ensemble import AdaBoostClassifier\r\n",
        "seed = 7\r\n",
        "num_trees = 100\r\n",
        "kfold = model_selection.KFold(n_splits=20, random_state=seed)\r\n",
        "model_ada = AdaBoostClassifier(n_estimators=num_trees,learning_rate =0.01, random_state=seed)\r\n",
        "results = model_selection.cross_val_score(model_ada, X, y, cv=kfold)\r\n",
        "print(results.mean())"
      ],
      "execution_count": null,
      "outputs": [
        {
          "output_type": "stream",
          "text": [
            "0.27622214734229755\n"
          ],
          "name": "stdout"
        }
      ]
    },
    {
      "cell_type": "code",
      "metadata": {
        "colab": {
          "base_uri": "https://localhost:8080/"
        },
        "id": "EDEDf4iOB_IV",
        "outputId": "ac837895-5738-440f-8662-29cc15124ce9"
      },
      "source": [
        "model_ada.fit(X,y)"
      ],
      "execution_count": null,
      "outputs": [
        {
          "output_type": "execute_result",
          "data": {
            "text/plain": [
              "AdaBoostClassifier(algorithm='SAMME.R', base_estimator=None, learning_rate=0.01,\n",
              "                   n_estimators=100, random_state=7)"
            ]
          },
          "metadata": {
            "tags": []
          },
          "execution_count": 306
        }
      ]
    },
    {
      "cell_type": "code",
      "metadata": {
        "id": "oq5Zbw7wD8Q3"
      },
      "source": [
        "predicted_ada = model_ada.predict(X_val)"
      ],
      "execution_count": null,
      "outputs": []
    },
    {
      "cell_type": "code",
      "metadata": {
        "colab": {
          "base_uri": "https://localhost:8080/"
        },
        "id": "6iDwzXSgEFH9",
        "outputId": "90504416-f6b8-4a1b-ab66-e67f0e1b3bff"
      },
      "source": [
        "f1_score(y_val,predicted_ada,average='macro')"
      ],
      "execution_count": null,
      "outputs": [
        {
          "output_type": "execute_result",
          "data": {
            "text/plain": [
              "0.2462338456832607"
            ]
          },
          "metadata": {
            "tags": []
          },
          "execution_count": 309
        }
      ]
    },
    {
      "cell_type": "code",
      "metadata": {
        "colab": {
          "base_uri": "https://localhost:8080/"
        },
        "id": "98G6dJev0iIz",
        "outputId": "8b856436-2dd7-4bac-e490-532ad904597b"
      },
      "source": [
        "from sklearn.linear_model import LogisticRegression\r\n",
        "from sklearn.tree import DecisionTreeClassifier\r\n",
        "from sklearn.svm import SVC\r\n",
        "from sklearn.ensemble import VotingClassifier\r\n",
        "\r\n",
        "kfold = model_selection.KFold(n_splits=10, random_state=seed)\r\n",
        "# create the sub models\r\n",
        "estimators = []\r\n",
        "model1 = LogisticRegression()\r\n",
        "estimators.append(('logistic', model1))\r\n",
        "model2 = DecisionTreeClassifier(max_depth=30)\r\n",
        "estimators.append(('cart', model2))\r\n",
        "model3 = SVC()\r\n",
        "estimators.append(('svm', model3))\r\n",
        "# create the ensemble model\r\n",
        "ensemble = VotingClassifier(estimators)\r\n",
        "results = model_selection.cross_val_score(ensemble, X, y, cv=kfold)\r\n",
        "print(results.mean())"
      ],
      "execution_count": null,
      "outputs": [
        {
          "output_type": "stream",
          "text": [
            "0.49091653027823245\n"
          ],
          "name": "stdout"
        }
      ]
    },
    {
      "cell_type": "code",
      "metadata": {
        "colab": {
          "base_uri": "https://localhost:8080/"
        },
        "id": "vzGI73p30-vp",
        "outputId": "548368f9-f085-44ca-8427-3de7c6ca2277"
      },
      "source": [
        "ensemble.fit(X,y)"
      ],
      "execution_count": null,
      "outputs": [
        {
          "output_type": "execute_result",
          "data": {
            "text/plain": [
              "VotingClassifier(estimators=[('logistic',\n",
              "                              LogisticRegression(C=1.0, class_weight=None,\n",
              "                                                 dual=False, fit_intercept=True,\n",
              "                                                 intercept_scaling=1,\n",
              "                                                 l1_ratio=None, max_iter=100,\n",
              "                                                 multi_class='auto',\n",
              "                                                 n_jobs=None, penalty='l2',\n",
              "                                                 random_state=None,\n",
              "                                                 solver='lbfgs', tol=0.0001,\n",
              "                                                 verbose=0, warm_start=False)),\n",
              "                             ('cart',\n",
              "                              DecisionTreeClassifier(ccp_alpha=0.0,\n",
              "                                                     class_weight=None,\n",
              "                                                     criterion...\n",
              "                                                     presort='deprecated',\n",
              "                                                     random_state=None,\n",
              "                                                     splitter='best')),\n",
              "                             ('svm',\n",
              "                              SVC(C=1.0, break_ties=False, cache_size=200,\n",
              "                                  class_weight=None, coef0=0.0,\n",
              "                                  decision_function_shape='ovr', degree=3,\n",
              "                                  gamma='scale', kernel='rbf', max_iter=-1,\n",
              "                                  probability=False, random_state=None,\n",
              "                                  shrinking=True, tol=0.001, verbose=False))],\n",
              "                 flatten_transform=True, n_jobs=None, voting='hard',\n",
              "                 weights=None)"
            ]
          },
          "metadata": {
            "tags": []
          },
          "execution_count": 311
        }
      ]
    },
    {
      "cell_type": "code",
      "metadata": {
        "colab": {
          "base_uri": "https://localhost:8080/"
        },
        "id": "vFoTfTp3841B",
        "outputId": "7d8bea05-b3dc-4a01-d22d-1937f94178cd"
      },
      "source": [
        "X_stk_val"
      ],
      "execution_count": null,
      "outputs": [
        {
          "output_type": "execute_result",
          "data": {
            "text/plain": [
              "array([[1.        , 0.73076923, 0.33333333, ..., 0.63636364, 0.33333333,\n",
              "        0.88053097],\n",
              "       [1.        , 0.80769231, 0.        , ..., 0.63636364, 1.        ,\n",
              "        0.7920354 ],\n",
              "       [0.        , 0.76923077, 1.        , ..., 0.72727273, 0.        ,\n",
              "        0.87168142],\n",
              "       ...,\n",
              "       [1.        , 0.        , 1.        , ..., 0.90909091, 0.33333333,\n",
              "        0.15044248],\n",
              "       [1.        , 0.46153846, 1.        , ..., 0.90909091, 0.        ,\n",
              "        0.7699115 ],\n",
              "       [1.        , 0.67307692, 0.66666667, ..., 0.90909091, 0.66666667,\n",
              "        0.80973451]])"
            ]
          },
          "metadata": {
            "tags": []
          },
          "execution_count": 408
        }
      ]
    },
    {
      "cell_type": "code",
      "metadata": {
        "id": "iObCJjkp7Os-"
      },
      "source": [
        "predicted_ens = ensemble.predict(X_val)"
      ],
      "execution_count": null,
      "outputs": []
    },
    {
      "cell_type": "code",
      "metadata": {
        "colab": {
          "base_uri": "https://localhost:8080/"
        },
        "id": "XjoJsY2T820m",
        "outputId": "c29e16f0-596f-409c-df8a-1dea42fba242"
      },
      "source": [
        "ensemble.score(X_val,y_val)"
      ],
      "execution_count": null,
      "outputs": [
        {
          "output_type": "execute_result",
          "data": {
            "text/plain": [
              "0.5856675154601674"
            ]
          },
          "metadata": {
            "tags": []
          },
          "execution_count": 313
        }
      ]
    },
    {
      "cell_type": "code",
      "metadata": {
        "colab": {
          "base_uri": "https://localhost:8080/"
        },
        "id": "MgSRE5sU-WLY",
        "outputId": "ca9a7e0b-ac3b-4e71-b925-44e8e9b8ee77"
      },
      "source": [
        "y_stk_val.shape"
      ],
      "execution_count": null,
      "outputs": [
        {
          "output_type": "execute_result",
          "data": {
            "text/plain": [
              "(2749,)"
            ]
          },
          "metadata": {
            "tags": []
          },
          "execution_count": 411
        }
      ]
    },
    {
      "cell_type": "code",
      "metadata": {
        "colab": {
          "base_uri": "https://localhost:8080/"
        },
        "id": "hhWdi_G3-X3a",
        "outputId": "44223901-e491-4cf8-a240-394b973dd7b6"
      },
      "source": [
        "predicted_ens.shape"
      ],
      "execution_count": null,
      "outputs": [
        {
          "output_type": "execute_result",
          "data": {
            "text/plain": [
              "(2749,)"
            ]
          },
          "metadata": {
            "tags": []
          },
          "execution_count": 412
        }
      ]
    },
    {
      "cell_type": "code",
      "metadata": {
        "colab": {
          "base_uri": "https://localhost:8080/"
        },
        "id": "2EU4n9mO-Hty",
        "outputId": "bf43f2d9-4b8f-4b69-a72d-f7c2f9b66002"
      },
      "source": [
        "f1_score(y_val,predicted_ens,average='macro')"
      ],
      "execution_count": null,
      "outputs": [
        {
          "output_type": "execute_result",
          "data": {
            "text/plain": [
              "0.2462338456832607"
            ]
          },
          "metadata": {
            "tags": []
          },
          "execution_count": 314
        }
      ]
    },
    {
      "cell_type": "code",
      "metadata": {
        "colab": {
          "base_uri": "https://localhost:8080/"
        },
        "id": "dNLulKLU-SDb",
        "outputId": "b30c3262-ea14-42ef-e6ec-5ae981363a60"
      },
      "source": [
        "results"
      ],
      "execution_count": null,
      "outputs": [
        {
          "output_type": "execute_result",
          "data": {
            "text/plain": [
              "array([1.        , 1.        , 1.        , 1.        , 0.74315465,\n",
              "       0.58680556, 0.57060185, 0.5632716 , 0.57368827, 0.5625    ])"
            ]
          },
          "metadata": {
            "tags": []
          },
          "execution_count": 414
        }
      ]
    },
    {
      "cell_type": "code",
      "metadata": {
        "id": "2q4FZ_lzBnIh"
      },
      "source": [
        ""
      ],
      "execution_count": null,
      "outputs": []
    },
    {
      "cell_type": "code",
      "metadata": {
        "id": "o_6H967hBnFO"
      },
      "source": [
        ""
      ],
      "execution_count": null,
      "outputs": []
    },
    {
      "cell_type": "code",
      "metadata": {
        "id": "HIjt_-SBBm_1"
      },
      "source": [
        ""
      ],
      "execution_count": null,
      "outputs": []
    },
    {
      "cell_type": "code",
      "metadata": {
        "id": "ert0PPnWBmwK"
      },
      "source": [
        "from sklearn.datasets import make_blobs\r\n",
        "from sklearn.naive_bayes import GaussianNB"
      ],
      "execution_count": null,
      "outputs": []
    },
    {
      "cell_type": "code",
      "metadata": {
        "colab": {
          "base_uri": "https://localhost:8080/"
        },
        "id": "KxWQbpK0Bq8E",
        "outputId": "a009600e-eca2-4fb2-e727-f0543b7d87d0"
      },
      "source": [
        "model = GaussianNB()\r\n",
        "model.fit(X,y)"
      ],
      "execution_count": null,
      "outputs": [
        {
          "output_type": "execute_result",
          "data": {
            "text/plain": [
              "GaussianNB(priors=None, var_smoothing=1e-09)"
            ]
          },
          "metadata": {
            "tags": []
          },
          "execution_count": 59
        }
      ]
    },
    {
      "cell_type": "code",
      "metadata": {
        "colab": {
          "base_uri": "https://localhost:8080/"
        },
        "id": "Xedi4Cd6BvtD",
        "outputId": "b6cffed5-74c8-4058-ae0d-0f693f789186"
      },
      "source": [
        "model.score(X_val,y_val)"
      ],
      "execution_count": null,
      "outputs": [
        {
          "output_type": "execute_result",
          "data": {
            "text/plain": [
              "0.5853037468170244"
            ]
          },
          "metadata": {
            "tags": []
          },
          "execution_count": 60
        }
      ]
    },
    {
      "cell_type": "code",
      "metadata": {
        "colab": {
          "base_uri": "https://localhost:8080/"
        },
        "id": "Rx516V_xB4-f",
        "outputId": "41a23c24-c95f-4fe5-92c9-91c4c9df2534"
      },
      "source": [
        "f1_score(y_val,model.predict(X_val),average='macro')"
      ],
      "execution_count": null,
      "outputs": [
        {
          "output_type": "execute_result",
          "data": {
            "text/plain": [
              "0.24699339435409817"
            ]
          },
          "metadata": {
            "tags": []
          },
          "execution_count": 61
        }
      ]
    },
    {
      "cell_type": "code",
      "metadata": {
        "id": "i9Rf0eR3COxo"
      },
      "source": [
        ""
      ],
      "execution_count": null,
      "outputs": []
    },
    {
      "cell_type": "code",
      "metadata": {
        "id": "Sk3bIP4cC50L"
      },
      "source": [
        ""
      ],
      "execution_count": null,
      "outputs": []
    },
    {
      "cell_type": "code",
      "metadata": {
        "colab": {
          "base_uri": "https://localhost:8080/",
          "height": 690
        },
        "id": "T8G8eN2ZC5xC",
        "outputId": "b7bd3452-3d51-4ce7-b5f8-0e9b2bcf128c"
      },
      "source": [
        "# use mlp for prediction on multi-label classification\r\n",
        "from numpy import asarray\r\n",
        "from sklearn.datasets import make_multilabel_classification\r\n",
        "from keras.models import Sequential\r\n",
        "from keras.layers import Dense\r\n",
        "\r\n",
        "def get_model(n_inputs, n_outputs):\r\n",
        "\tmodel = Sequential()\r\n",
        "\tmodel.add(Dense(20, input_dim=n_inputs, kernel_initializer='he_uniform', activation='relu'))\r\n",
        "\tmodel.add(Dense(n_outputs, activation='sigmoid'))\r\n",
        "\tmodel.compile(loss='binary_crossentropy', optimizer='adam')\r\n",
        "\treturn model\r\n",
        "\r\n",
        "n_inputs, n_outputs = X.shape[0], 3\r\n",
        "# get model\r\n",
        "model = get_model(n_inputs, n_outputs)\r\n",
        "# fit the model on all data\r\n",
        "model.fit(np.array(X).reshape(1,-1), np.array(y).reshape(1,-1), verbose=0, epochs=100)"
      ],
      "execution_count": null,
      "outputs": [
        {
          "output_type": "error",
          "ename": "ValueError",
          "evalue": "ignored",
          "traceback": [
            "\u001b[0;31m---------------------------------------------------------------------------\u001b[0m",
            "\u001b[0;31mValueError\u001b[0m                                Traceback (most recent call last)",
            "\u001b[0;32m<ipython-input-71-67cdd1924ef8>\u001b[0m in \u001b[0;36m<module>\u001b[0;34m()\u001b[0m\n\u001b[1;32m     16\u001b[0m \u001b[0mmodel\u001b[0m \u001b[0;34m=\u001b[0m \u001b[0mget_model\u001b[0m\u001b[0;34m(\u001b[0m\u001b[0mn_inputs\u001b[0m\u001b[0;34m,\u001b[0m \u001b[0mn_outputs\u001b[0m\u001b[0;34m)\u001b[0m\u001b[0;34m\u001b[0m\u001b[0;34m\u001b[0m\u001b[0m\n\u001b[1;32m     17\u001b[0m \u001b[0;31m# fit the model on all data\u001b[0m\u001b[0;34m\u001b[0m\u001b[0;34m\u001b[0m\u001b[0;34m\u001b[0m\u001b[0m\n\u001b[0;32m---> 18\u001b[0;31m \u001b[0mmodel\u001b[0m\u001b[0;34m.\u001b[0m\u001b[0mfit\u001b[0m\u001b[0;34m(\u001b[0m\u001b[0mnp\u001b[0m\u001b[0;34m.\u001b[0m\u001b[0marray\u001b[0m\u001b[0;34m(\u001b[0m\u001b[0mX\u001b[0m\u001b[0;34m)\u001b[0m\u001b[0;34m.\u001b[0m\u001b[0mreshape\u001b[0m\u001b[0;34m(\u001b[0m\u001b[0;36m1\u001b[0m\u001b[0;34m,\u001b[0m\u001b[0;34m-\u001b[0m\u001b[0;36m1\u001b[0m\u001b[0;34m)\u001b[0m\u001b[0;34m,\u001b[0m \u001b[0mnp\u001b[0m\u001b[0;34m.\u001b[0m\u001b[0marray\u001b[0m\u001b[0;34m(\u001b[0m\u001b[0my\u001b[0m\u001b[0;34m)\u001b[0m\u001b[0;34m.\u001b[0m\u001b[0mreshape\u001b[0m\u001b[0;34m(\u001b[0m\u001b[0;36m1\u001b[0m\u001b[0;34m,\u001b[0m\u001b[0;34m-\u001b[0m\u001b[0;36m1\u001b[0m\u001b[0;34m)\u001b[0m\u001b[0;34m,\u001b[0m \u001b[0mverbose\u001b[0m\u001b[0;34m=\u001b[0m\u001b[0;36m0\u001b[0m\u001b[0;34m,\u001b[0m \u001b[0mepochs\u001b[0m\u001b[0;34m=\u001b[0m\u001b[0;36m100\u001b[0m\u001b[0;34m)\u001b[0m\u001b[0;34m\u001b[0m\u001b[0;34m\u001b[0m\u001b[0m\n\u001b[0m",
            "\u001b[0;32m/usr/local/lib/python3.7/dist-packages/tensorflow/python/keras/engine/training.py\u001b[0m in \u001b[0;36mfit\u001b[0;34m(self, x, y, batch_size, epochs, verbose, callbacks, validation_split, validation_data, shuffle, class_weight, sample_weight, initial_epoch, steps_per_epoch, validation_steps, validation_batch_size, validation_freq, max_queue_size, workers, use_multiprocessing)\u001b[0m\n\u001b[1;32m   1098\u001b[0m                 _r=1):\n\u001b[1;32m   1099\u001b[0m               \u001b[0mcallbacks\u001b[0m\u001b[0;34m.\u001b[0m\u001b[0mon_train_batch_begin\u001b[0m\u001b[0;34m(\u001b[0m\u001b[0mstep\u001b[0m\u001b[0;34m)\u001b[0m\u001b[0;34m\u001b[0m\u001b[0;34m\u001b[0m\u001b[0m\n\u001b[0;32m-> 1100\u001b[0;31m               \u001b[0mtmp_logs\u001b[0m \u001b[0;34m=\u001b[0m \u001b[0mself\u001b[0m\u001b[0;34m.\u001b[0m\u001b[0mtrain_function\u001b[0m\u001b[0;34m(\u001b[0m\u001b[0miterator\u001b[0m\u001b[0;34m)\u001b[0m\u001b[0;34m\u001b[0m\u001b[0;34m\u001b[0m\u001b[0m\n\u001b[0m\u001b[1;32m   1101\u001b[0m               \u001b[0;32mif\u001b[0m \u001b[0mdata_handler\u001b[0m\u001b[0;34m.\u001b[0m\u001b[0mshould_sync\u001b[0m\u001b[0;34m:\u001b[0m\u001b[0;34m\u001b[0m\u001b[0;34m\u001b[0m\u001b[0m\n\u001b[1;32m   1102\u001b[0m                 \u001b[0mcontext\u001b[0m\u001b[0;34m.\u001b[0m\u001b[0masync_wait\u001b[0m\u001b[0;34m(\u001b[0m\u001b[0;34m)\u001b[0m\u001b[0;34m\u001b[0m\u001b[0;34m\u001b[0m\u001b[0m\n",
            "\u001b[0;32m/usr/local/lib/python3.7/dist-packages/tensorflow/python/eager/def_function.py\u001b[0m in \u001b[0;36m__call__\u001b[0;34m(self, *args, **kwds)\u001b[0m\n\u001b[1;32m    826\u001b[0m     \u001b[0mtracing_count\u001b[0m \u001b[0;34m=\u001b[0m \u001b[0mself\u001b[0m\u001b[0;34m.\u001b[0m\u001b[0mexperimental_get_tracing_count\u001b[0m\u001b[0;34m(\u001b[0m\u001b[0;34m)\u001b[0m\u001b[0;34m\u001b[0m\u001b[0;34m\u001b[0m\u001b[0m\n\u001b[1;32m    827\u001b[0m     \u001b[0;32mwith\u001b[0m \u001b[0mtrace\u001b[0m\u001b[0;34m.\u001b[0m\u001b[0mTrace\u001b[0m\u001b[0;34m(\u001b[0m\u001b[0mself\u001b[0m\u001b[0;34m.\u001b[0m\u001b[0m_name\u001b[0m\u001b[0;34m)\u001b[0m \u001b[0;32mas\u001b[0m \u001b[0mtm\u001b[0m\u001b[0;34m:\u001b[0m\u001b[0;34m\u001b[0m\u001b[0;34m\u001b[0m\u001b[0m\n\u001b[0;32m--> 828\u001b[0;31m       \u001b[0mresult\u001b[0m \u001b[0;34m=\u001b[0m \u001b[0mself\u001b[0m\u001b[0;34m.\u001b[0m\u001b[0m_call\u001b[0m\u001b[0;34m(\u001b[0m\u001b[0;34m*\u001b[0m\u001b[0margs\u001b[0m\u001b[0;34m,\u001b[0m \u001b[0;34m**\u001b[0m\u001b[0mkwds\u001b[0m\u001b[0;34m)\u001b[0m\u001b[0;34m\u001b[0m\u001b[0;34m\u001b[0m\u001b[0m\n\u001b[0m\u001b[1;32m    829\u001b[0m       \u001b[0mcompiler\u001b[0m \u001b[0;34m=\u001b[0m \u001b[0;34m\"xla\"\u001b[0m \u001b[0;32mif\u001b[0m \u001b[0mself\u001b[0m\u001b[0;34m.\u001b[0m\u001b[0m_experimental_compile\u001b[0m \u001b[0;32melse\u001b[0m \u001b[0;34m\"nonXla\"\u001b[0m\u001b[0;34m\u001b[0m\u001b[0;34m\u001b[0m\u001b[0m\n\u001b[1;32m    830\u001b[0m       \u001b[0mnew_tracing_count\u001b[0m \u001b[0;34m=\u001b[0m \u001b[0mself\u001b[0m\u001b[0;34m.\u001b[0m\u001b[0mexperimental_get_tracing_count\u001b[0m\u001b[0;34m(\u001b[0m\u001b[0;34m)\u001b[0m\u001b[0;34m\u001b[0m\u001b[0;34m\u001b[0m\u001b[0m\n",
            "\u001b[0;32m/usr/local/lib/python3.7/dist-packages/tensorflow/python/eager/def_function.py\u001b[0m in \u001b[0;36m_call\u001b[0;34m(self, *args, **kwds)\u001b[0m\n\u001b[1;32m    869\u001b[0m       \u001b[0;31m# This is the first call of __call__, so we have to initialize.\u001b[0m\u001b[0;34m\u001b[0m\u001b[0;34m\u001b[0m\u001b[0;34m\u001b[0m\u001b[0m\n\u001b[1;32m    870\u001b[0m       \u001b[0minitializers\u001b[0m \u001b[0;34m=\u001b[0m \u001b[0;34m[\u001b[0m\u001b[0;34m]\u001b[0m\u001b[0;34m\u001b[0m\u001b[0;34m\u001b[0m\u001b[0m\n\u001b[0;32m--> 871\u001b[0;31m       \u001b[0mself\u001b[0m\u001b[0;34m.\u001b[0m\u001b[0m_initialize\u001b[0m\u001b[0;34m(\u001b[0m\u001b[0margs\u001b[0m\u001b[0;34m,\u001b[0m \u001b[0mkwds\u001b[0m\u001b[0;34m,\u001b[0m \u001b[0madd_initializers_to\u001b[0m\u001b[0;34m=\u001b[0m\u001b[0minitializers\u001b[0m\u001b[0;34m)\u001b[0m\u001b[0;34m\u001b[0m\u001b[0;34m\u001b[0m\u001b[0m\n\u001b[0m\u001b[1;32m    872\u001b[0m     \u001b[0;32mfinally\u001b[0m\u001b[0;34m:\u001b[0m\u001b[0;34m\u001b[0m\u001b[0;34m\u001b[0m\u001b[0m\n\u001b[1;32m    873\u001b[0m       \u001b[0;31m# At this point we know that the initialization is complete (or less\u001b[0m\u001b[0;34m\u001b[0m\u001b[0;34m\u001b[0m\u001b[0;34m\u001b[0m\u001b[0m\n",
            "\u001b[0;32m/usr/local/lib/python3.7/dist-packages/tensorflow/python/eager/def_function.py\u001b[0m in \u001b[0;36m_initialize\u001b[0;34m(self, args, kwds, add_initializers_to)\u001b[0m\n\u001b[1;32m    724\u001b[0m     self._concrete_stateful_fn = (\n\u001b[1;32m    725\u001b[0m         self._stateful_fn._get_concrete_function_internal_garbage_collected(  # pylint: disable=protected-access\n\u001b[0;32m--> 726\u001b[0;31m             *args, **kwds))\n\u001b[0m\u001b[1;32m    727\u001b[0m \u001b[0;34m\u001b[0m\u001b[0m\n\u001b[1;32m    728\u001b[0m     \u001b[0;32mdef\u001b[0m \u001b[0minvalid_creator_scope\u001b[0m\u001b[0;34m(\u001b[0m\u001b[0;34m*\u001b[0m\u001b[0munused_args\u001b[0m\u001b[0;34m,\u001b[0m \u001b[0;34m**\u001b[0m\u001b[0munused_kwds\u001b[0m\u001b[0;34m)\u001b[0m\u001b[0;34m:\u001b[0m\u001b[0;34m\u001b[0m\u001b[0;34m\u001b[0m\u001b[0m\n",
            "\u001b[0;32m/usr/local/lib/python3.7/dist-packages/tensorflow/python/eager/function.py\u001b[0m in \u001b[0;36m_get_concrete_function_internal_garbage_collected\u001b[0;34m(self, *args, **kwargs)\u001b[0m\n\u001b[1;32m   2967\u001b[0m       \u001b[0margs\u001b[0m\u001b[0;34m,\u001b[0m \u001b[0mkwargs\u001b[0m \u001b[0;34m=\u001b[0m \u001b[0;32mNone\u001b[0m\u001b[0;34m,\u001b[0m \u001b[0;32mNone\u001b[0m\u001b[0;34m\u001b[0m\u001b[0;34m\u001b[0m\u001b[0m\n\u001b[1;32m   2968\u001b[0m     \u001b[0;32mwith\u001b[0m \u001b[0mself\u001b[0m\u001b[0;34m.\u001b[0m\u001b[0m_lock\u001b[0m\u001b[0;34m:\u001b[0m\u001b[0;34m\u001b[0m\u001b[0;34m\u001b[0m\u001b[0m\n\u001b[0;32m-> 2969\u001b[0;31m       \u001b[0mgraph_function\u001b[0m\u001b[0;34m,\u001b[0m \u001b[0m_\u001b[0m \u001b[0;34m=\u001b[0m \u001b[0mself\u001b[0m\u001b[0;34m.\u001b[0m\u001b[0m_maybe_define_function\u001b[0m\u001b[0;34m(\u001b[0m\u001b[0margs\u001b[0m\u001b[0;34m,\u001b[0m \u001b[0mkwargs\u001b[0m\u001b[0;34m)\u001b[0m\u001b[0;34m\u001b[0m\u001b[0;34m\u001b[0m\u001b[0m\n\u001b[0m\u001b[1;32m   2970\u001b[0m     \u001b[0;32mreturn\u001b[0m \u001b[0mgraph_function\u001b[0m\u001b[0;34m\u001b[0m\u001b[0;34m\u001b[0m\u001b[0m\n\u001b[1;32m   2971\u001b[0m \u001b[0;34m\u001b[0m\u001b[0m\n",
            "\u001b[0;32m/usr/local/lib/python3.7/dist-packages/tensorflow/python/eager/function.py\u001b[0m in \u001b[0;36m_maybe_define_function\u001b[0;34m(self, args, kwargs)\u001b[0m\n\u001b[1;32m   3359\u001b[0m \u001b[0;34m\u001b[0m\u001b[0m\n\u001b[1;32m   3360\u001b[0m           \u001b[0mself\u001b[0m\u001b[0;34m.\u001b[0m\u001b[0m_function_cache\u001b[0m\u001b[0;34m.\u001b[0m\u001b[0mmissed\u001b[0m\u001b[0;34m.\u001b[0m\u001b[0madd\u001b[0m\u001b[0;34m(\u001b[0m\u001b[0mcall_context_key\u001b[0m\u001b[0;34m)\u001b[0m\u001b[0;34m\u001b[0m\u001b[0;34m\u001b[0m\u001b[0m\n\u001b[0;32m-> 3361\u001b[0;31m           \u001b[0mgraph_function\u001b[0m \u001b[0;34m=\u001b[0m \u001b[0mself\u001b[0m\u001b[0;34m.\u001b[0m\u001b[0m_create_graph_function\u001b[0m\u001b[0;34m(\u001b[0m\u001b[0margs\u001b[0m\u001b[0;34m,\u001b[0m \u001b[0mkwargs\u001b[0m\u001b[0;34m)\u001b[0m\u001b[0;34m\u001b[0m\u001b[0;34m\u001b[0m\u001b[0m\n\u001b[0m\u001b[1;32m   3362\u001b[0m           \u001b[0mself\u001b[0m\u001b[0;34m.\u001b[0m\u001b[0m_function_cache\u001b[0m\u001b[0;34m.\u001b[0m\u001b[0mprimary\u001b[0m\u001b[0;34m[\u001b[0m\u001b[0mcache_key\u001b[0m\u001b[0;34m]\u001b[0m \u001b[0;34m=\u001b[0m \u001b[0mgraph_function\u001b[0m\u001b[0;34m\u001b[0m\u001b[0;34m\u001b[0m\u001b[0m\n\u001b[1;32m   3363\u001b[0m \u001b[0;34m\u001b[0m\u001b[0m\n",
            "\u001b[0;32m/usr/local/lib/python3.7/dist-packages/tensorflow/python/eager/function.py\u001b[0m in \u001b[0;36m_create_graph_function\u001b[0;34m(self, args, kwargs, override_flat_arg_shapes)\u001b[0m\n\u001b[1;32m   3204\u001b[0m             \u001b[0marg_names\u001b[0m\u001b[0;34m=\u001b[0m\u001b[0marg_names\u001b[0m\u001b[0;34m,\u001b[0m\u001b[0;34m\u001b[0m\u001b[0;34m\u001b[0m\u001b[0m\n\u001b[1;32m   3205\u001b[0m             \u001b[0moverride_flat_arg_shapes\u001b[0m\u001b[0;34m=\u001b[0m\u001b[0moverride_flat_arg_shapes\u001b[0m\u001b[0;34m,\u001b[0m\u001b[0;34m\u001b[0m\u001b[0;34m\u001b[0m\u001b[0m\n\u001b[0;32m-> 3206\u001b[0;31m             capture_by_value=self._capture_by_value),\n\u001b[0m\u001b[1;32m   3207\u001b[0m         \u001b[0mself\u001b[0m\u001b[0;34m.\u001b[0m\u001b[0m_function_attributes\u001b[0m\u001b[0;34m,\u001b[0m\u001b[0;34m\u001b[0m\u001b[0;34m\u001b[0m\u001b[0m\n\u001b[1;32m   3208\u001b[0m         \u001b[0mfunction_spec\u001b[0m\u001b[0;34m=\u001b[0m\u001b[0mself\u001b[0m\u001b[0;34m.\u001b[0m\u001b[0mfunction_spec\u001b[0m\u001b[0;34m,\u001b[0m\u001b[0;34m\u001b[0m\u001b[0;34m\u001b[0m\u001b[0m\n",
            "\u001b[0;32m/usr/local/lib/python3.7/dist-packages/tensorflow/python/framework/func_graph.py\u001b[0m in \u001b[0;36mfunc_graph_from_py_func\u001b[0;34m(name, python_func, args, kwargs, signature, func_graph, autograph, autograph_options, add_control_dependencies, arg_names, op_return_value, collections, capture_by_value, override_flat_arg_shapes)\u001b[0m\n\u001b[1;32m    988\u001b[0m         \u001b[0m_\u001b[0m\u001b[0;34m,\u001b[0m \u001b[0moriginal_func\u001b[0m \u001b[0;34m=\u001b[0m \u001b[0mtf_decorator\u001b[0m\u001b[0;34m.\u001b[0m\u001b[0munwrap\u001b[0m\u001b[0;34m(\u001b[0m\u001b[0mpython_func\u001b[0m\u001b[0;34m)\u001b[0m\u001b[0;34m\u001b[0m\u001b[0;34m\u001b[0m\u001b[0m\n\u001b[1;32m    989\u001b[0m \u001b[0;34m\u001b[0m\u001b[0m\n\u001b[0;32m--> 990\u001b[0;31m       \u001b[0mfunc_outputs\u001b[0m \u001b[0;34m=\u001b[0m \u001b[0mpython_func\u001b[0m\u001b[0;34m(\u001b[0m\u001b[0;34m*\u001b[0m\u001b[0mfunc_args\u001b[0m\u001b[0;34m,\u001b[0m \u001b[0;34m**\u001b[0m\u001b[0mfunc_kwargs\u001b[0m\u001b[0;34m)\u001b[0m\u001b[0;34m\u001b[0m\u001b[0;34m\u001b[0m\u001b[0m\n\u001b[0m\u001b[1;32m    991\u001b[0m \u001b[0;34m\u001b[0m\u001b[0m\n\u001b[1;32m    992\u001b[0m       \u001b[0;31m# invariant: `func_outputs` contains only Tensors, CompositeTensors,\u001b[0m\u001b[0;34m\u001b[0m\u001b[0;34m\u001b[0m\u001b[0;34m\u001b[0m\u001b[0m\n",
            "\u001b[0;32m/usr/local/lib/python3.7/dist-packages/tensorflow/python/eager/def_function.py\u001b[0m in \u001b[0;36mwrapped_fn\u001b[0;34m(*args, **kwds)\u001b[0m\n\u001b[1;32m    632\u001b[0m             \u001b[0mxla_context\u001b[0m\u001b[0;34m.\u001b[0m\u001b[0mExit\u001b[0m\u001b[0;34m(\u001b[0m\u001b[0;34m)\u001b[0m\u001b[0;34m\u001b[0m\u001b[0;34m\u001b[0m\u001b[0m\n\u001b[1;32m    633\u001b[0m         \u001b[0;32melse\u001b[0m\u001b[0;34m:\u001b[0m\u001b[0;34m\u001b[0m\u001b[0;34m\u001b[0m\u001b[0m\n\u001b[0;32m--> 634\u001b[0;31m           \u001b[0mout\u001b[0m \u001b[0;34m=\u001b[0m \u001b[0mweak_wrapped_fn\u001b[0m\u001b[0;34m(\u001b[0m\u001b[0;34m)\u001b[0m\u001b[0;34m.\u001b[0m\u001b[0m__wrapped__\u001b[0m\u001b[0;34m(\u001b[0m\u001b[0;34m*\u001b[0m\u001b[0margs\u001b[0m\u001b[0;34m,\u001b[0m \u001b[0;34m**\u001b[0m\u001b[0mkwds\u001b[0m\u001b[0;34m)\u001b[0m\u001b[0;34m\u001b[0m\u001b[0;34m\u001b[0m\u001b[0m\n\u001b[0m\u001b[1;32m    635\u001b[0m         \u001b[0;32mreturn\u001b[0m \u001b[0mout\u001b[0m\u001b[0;34m\u001b[0m\u001b[0;34m\u001b[0m\u001b[0m\n\u001b[1;32m    636\u001b[0m \u001b[0;34m\u001b[0m\u001b[0m\n",
            "\u001b[0;32m/usr/local/lib/python3.7/dist-packages/tensorflow/python/framework/func_graph.py\u001b[0m in \u001b[0;36mwrapper\u001b[0;34m(*args, **kwargs)\u001b[0m\n\u001b[1;32m    975\u001b[0m           \u001b[0;32mexcept\u001b[0m \u001b[0mException\u001b[0m \u001b[0;32mas\u001b[0m \u001b[0me\u001b[0m\u001b[0;34m:\u001b[0m  \u001b[0;31m# pylint:disable=broad-except\u001b[0m\u001b[0;34m\u001b[0m\u001b[0;34m\u001b[0m\u001b[0m\n\u001b[1;32m    976\u001b[0m             \u001b[0;32mif\u001b[0m \u001b[0mhasattr\u001b[0m\u001b[0;34m(\u001b[0m\u001b[0me\u001b[0m\u001b[0;34m,\u001b[0m \u001b[0;34m\"ag_error_metadata\"\u001b[0m\u001b[0;34m)\u001b[0m\u001b[0;34m:\u001b[0m\u001b[0;34m\u001b[0m\u001b[0;34m\u001b[0m\u001b[0m\n\u001b[0;32m--> 977\u001b[0;31m               \u001b[0;32mraise\u001b[0m \u001b[0me\u001b[0m\u001b[0;34m.\u001b[0m\u001b[0mag_error_metadata\u001b[0m\u001b[0;34m.\u001b[0m\u001b[0mto_exception\u001b[0m\u001b[0;34m(\u001b[0m\u001b[0me\u001b[0m\u001b[0;34m)\u001b[0m\u001b[0;34m\u001b[0m\u001b[0;34m\u001b[0m\u001b[0m\n\u001b[0m\u001b[1;32m    978\u001b[0m             \u001b[0;32melse\u001b[0m\u001b[0;34m:\u001b[0m\u001b[0;34m\u001b[0m\u001b[0;34m\u001b[0m\u001b[0m\n\u001b[1;32m    979\u001b[0m               \u001b[0;32mraise\u001b[0m\u001b[0;34m\u001b[0m\u001b[0;34m\u001b[0m\u001b[0m\n",
            "\u001b[0;31mValueError\u001b[0m: in user code:\n\n    /usr/local/lib/python3.7/dist-packages/tensorflow/python/keras/engine/training.py:805 train_function  *\n        return step_function(self, iterator)\n    /usr/local/lib/python3.7/dist-packages/tensorflow/python/keras/engine/training.py:795 step_function  **\n        outputs = model.distribute_strategy.run(run_step, args=(data,))\n    /usr/local/lib/python3.7/dist-packages/tensorflow/python/distribute/distribute_lib.py:1259 run\n        return self._extended.call_for_each_replica(fn, args=args, kwargs=kwargs)\n    /usr/local/lib/python3.7/dist-packages/tensorflow/python/distribute/distribute_lib.py:2730 call_for_each_replica\n        return self._call_for_each_replica(fn, args, kwargs)\n    /usr/local/lib/python3.7/dist-packages/tensorflow/python/distribute/distribute_lib.py:3417 _call_for_each_replica\n        return fn(*args, **kwargs)\n    /usr/local/lib/python3.7/dist-packages/tensorflow/python/keras/engine/training.py:788 run_step  **\n        outputs = model.train_step(data)\n    /usr/local/lib/python3.7/dist-packages/tensorflow/python/keras/engine/training.py:754 train_step\n        y_pred = self(x, training=True)\n    /usr/local/lib/python3.7/dist-packages/tensorflow/python/keras/engine/base_layer.py:998 __call__\n        input_spec.assert_input_compatibility(self.input_spec, inputs, self.name)\n    /usr/local/lib/python3.7/dist-packages/tensorflow/python/keras/engine/input_spec.py:259 assert_input_compatibility\n        ' but received input with shape ' + display_shape(x.shape))\n\n    ValueError: Input 0 of layer sequential_5 is incompatible with the layer: expected axis -1 of input shape to have value 15221 but received input with shape (None, 365304)\n"
          ]
        }
      ]
    },
    {
      "cell_type": "code",
      "metadata": {
        "colab": {
          "base_uri": "https://localhost:8080/"
        },
        "id": "zh_s6ECGC5tP",
        "outputId": "bfc8eb17-b11a-4260-fa37-91c118659782"
      },
      "source": [
        "y.shape"
      ],
      "execution_count": null,
      "outputs": [
        {
          "output_type": "execute_result",
          "data": {
            "text/plain": [
              "(15221,)"
            ]
          },
          "metadata": {
            "tags": []
          },
          "execution_count": 65
        }
      ]
    },
    {
      "cell_type": "code",
      "metadata": {
        "id": "uHHv8_POC5p8"
      },
      "source": [
        ""
      ],
      "execution_count": null,
      "outputs": []
    }
  ]
}